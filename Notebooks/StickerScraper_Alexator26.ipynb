{
 "cells": [
  {
   "cell_type": "code",
   "id": "initial_id",
   "metadata": {
    "collapsed": true,
    "ExecuteTime": {
     "end_time": "2025-02-06T18:47:41.878484Z",
     "start_time": "2025-02-06T18:47:39.372011Z"
    }
   },
   "source": [
    "import pandas as pd\n",
    "\n",
    "# Path to the folder containing the Parquet files\n",
    "folder_path = '../data/images/Alexator26Sticker/'\n",
    "\n",
    "# List of known filenames\n",
    "parquet_files = [f'{folder_path}{str(i).zfill(4)}.parquet' for i in range(6)]\n",
    "\n",
    "# Read all Parquet files into a list of DataFrames\n",
    "dataframes = [pd.read_parquet(file) for file in parquet_files]\n",
    "\n",
    "# Concatenate all DataFrames into one\n",
    "alexsticker_df = pd.concat(dataframes, ignore_index=True)"
   ],
   "outputs": [],
   "execution_count": 19
  },
  {
   "metadata": {
    "ExecuteTime": {
     "end_time": "2025-02-06T18:47:49.389912Z",
     "start_time": "2025-02-06T18:47:49.336876Z"
    }
   },
   "cell_type": "code",
   "source": "alexsticker_df.head()",
   "id": "b03d33955e43cf3a",
   "outputs": [
    {
     "data": {
      "text/plain": [
       "                                      original_image  \\\n",
       "0  {'bytes': b'\\x89PNG\\r\\n\\x1a\\n\\x00\\x00\\x00\\rIHD...   \n",
       "1  {'bytes': b'\\x89PNG\\r\\n\\x1a\\n\\x00\\x00\\x00\\rIHD...   \n",
       "2  {'bytes': b'\\x89PNG\\r\\n\\x1a\\n\\x00\\x00\\x00\\rIHD...   \n",
       "3  {'bytes': b'\\x89PNG\\r\\n\\x1a\\n\\x00\\x00\\x00\\rIHD...   \n",
       "4  {'bytes': b'\\x89PNG\\r\\n\\x1a\\n\\x00\\x00\\x00\\rIHD...   \n",
       "\n",
       "                                 edit_prompt  \\\n",
       "0  Change this image into a sticker version.   \n",
       "1         Change the graphic into a sticker.   \n",
       "2          Reimagine the image as a sticker.   \n",
       "3     Adapt the picture to become a sticker.   \n",
       "4     Process the image to become a sticker.   \n",
       "\n",
       "                                   cartoonized_image  \n",
       "0  {'bytes': b'\\x89PNG\\r\\n\\x1a\\n\\x00\\x00\\x00\\rIHD...  \n",
       "1  {'bytes': b'\\x89PNG\\r\\n\\x1a\\n\\x00\\x00\\x00\\rIHD...  \n",
       "2  {'bytes': b'\\x89PNG\\r\\n\\x1a\\n\\x00\\x00\\x00\\rIHD...  \n",
       "3  {'bytes': b'\\x89PNG\\r\\n\\x1a\\n\\x00\\x00\\x00\\rIHD...  \n",
       "4  {'bytes': b'\\x89PNG\\r\\n\\x1a\\n\\x00\\x00\\x00\\rIHD...  "
      ],
      "text/html": [
       "<div>\n",
       "<style scoped>\n",
       "    .dataframe tbody tr th:only-of-type {\n",
       "        vertical-align: middle;\n",
       "    }\n",
       "\n",
       "    .dataframe tbody tr th {\n",
       "        vertical-align: top;\n",
       "    }\n",
       "\n",
       "    .dataframe thead th {\n",
       "        text-align: right;\n",
       "    }\n",
       "</style>\n",
       "<table border=\"1\" class=\"dataframe\">\n",
       "  <thead>\n",
       "    <tr style=\"text-align: right;\">\n",
       "      <th></th>\n",
       "      <th>original_image</th>\n",
       "      <th>edit_prompt</th>\n",
       "      <th>cartoonized_image</th>\n",
       "    </tr>\n",
       "  </thead>\n",
       "  <tbody>\n",
       "    <tr>\n",
       "      <th>0</th>\n",
       "      <td>{'bytes': b'\\x89PNG\\r\\n\\x1a\\n\\x00\\x00\\x00\\rIHD...</td>\n",
       "      <td>Change this image into a sticker version.</td>\n",
       "      <td>{'bytes': b'\\x89PNG\\r\\n\\x1a\\n\\x00\\x00\\x00\\rIHD...</td>\n",
       "    </tr>\n",
       "    <tr>\n",
       "      <th>1</th>\n",
       "      <td>{'bytes': b'\\x89PNG\\r\\n\\x1a\\n\\x00\\x00\\x00\\rIHD...</td>\n",
       "      <td>Change the graphic into a sticker.</td>\n",
       "      <td>{'bytes': b'\\x89PNG\\r\\n\\x1a\\n\\x00\\x00\\x00\\rIHD...</td>\n",
       "    </tr>\n",
       "    <tr>\n",
       "      <th>2</th>\n",
       "      <td>{'bytes': b'\\x89PNG\\r\\n\\x1a\\n\\x00\\x00\\x00\\rIHD...</td>\n",
       "      <td>Reimagine the image as a sticker.</td>\n",
       "      <td>{'bytes': b'\\x89PNG\\r\\n\\x1a\\n\\x00\\x00\\x00\\rIHD...</td>\n",
       "    </tr>\n",
       "    <tr>\n",
       "      <th>3</th>\n",
       "      <td>{'bytes': b'\\x89PNG\\r\\n\\x1a\\n\\x00\\x00\\x00\\rIHD...</td>\n",
       "      <td>Adapt the picture to become a sticker.</td>\n",
       "      <td>{'bytes': b'\\x89PNG\\r\\n\\x1a\\n\\x00\\x00\\x00\\rIHD...</td>\n",
       "    </tr>\n",
       "    <tr>\n",
       "      <th>4</th>\n",
       "      <td>{'bytes': b'\\x89PNG\\r\\n\\x1a\\n\\x00\\x00\\x00\\rIHD...</td>\n",
       "      <td>Process the image to become a sticker.</td>\n",
       "      <td>{'bytes': b'\\x89PNG\\r\\n\\x1a\\n\\x00\\x00\\x00\\rIHD...</td>\n",
       "    </tr>\n",
       "  </tbody>\n",
       "</table>\n",
       "</div>"
      ]
     },
     "execution_count": 20,
     "metadata": {},
     "output_type": "execute_result"
    }
   ],
   "execution_count": 20
  },
  {
   "metadata": {
    "ExecuteTime": {
     "end_time": "2025-02-06T18:58:15.724338Z",
     "start_time": "2025-02-06T18:53:38.377427Z"
    }
   },
   "cell_type": "code",
   "source": [
    "from tqdm import tqdm\n",
    "from PIL import Image\n",
    "from io import BytesIO\n",
    "import os\n",
    "\n",
    "# Loop through the 'cartoonized_image' column in the DataFrame with tqdm\n",
    "for idx, row in tqdm(alexsticker_df.iterrows(), total=len(alexsticker_df), desc=\"Processing Images\"):\n",
    "    # Get the byte data from the 'cartoonized_image' column\n",
    "    image_bytes = row['cartoonized_image']['bytes']\n",
    "    # Create a BytesIO object from the byte data\n",
    "    image = Image.open(BytesIO(image_bytes))\n",
    "    # Save the image as a PNG file\n",
    "    image.save(f'{folder_path}cartoonized_image_{idx}.png')\n"
   ],
   "id": "ad7a3a1efd946c80",
   "outputs": [
    {
     "name": "stderr",
     "output_type": "stream",
     "text": [
      "Processing Images: 100%|██████████| 4331/4331 [04:37<00:00, 15.62it/s]\n"
     ]
    }
   ],
   "execution_count": 22
  },
  {
   "metadata": {},
   "cell_type": "code",
   "outputs": [],
   "execution_count": null,
   "source": "",
   "id": "49a2719ba9046131"
  }
 ],
 "metadata": {
  "kernelspec": {
   "display_name": "Python 3",
   "language": "python",
   "name": "python3"
  },
  "language_info": {
   "codemirror_mode": {
    "name": "ipython",
    "version": 2
   },
   "file_extension": ".py",
   "mimetype": "text/x-python",
   "name": "python",
   "nbconvert_exporter": "python",
   "pygments_lexer": "ipython2",
   "version": "2.7.6"
  }
 },
 "nbformat": 4,
 "nbformat_minor": 5
}
