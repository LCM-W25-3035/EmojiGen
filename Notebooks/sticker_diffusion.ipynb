{
 "cells": [
  {
   "cell_type": "code",
   "execution_count": 9,
   "metadata": {},
   "outputs": [],
   "source": [
    "import torch\n",
    "import torch.nn as nn\n",
    "import torch.optim as optim\n",
    "from torchvision import transforms, datasets\n",
    "from diffusers import UNet2DModel, DDPMScheduler\n",
    "from PIL import Image\n",
    "import pandas as pd\n",
    "import os"
   ]
  },
  {
   "cell_type": "code",
   "execution_count": 10,
   "metadata": {},
   "outputs": [
    {
     "name": "stdout",
     "output_type": "stream",
     "text": [
      "Using device: cpu\n"
     ]
    }
   ],
   "source": [
    "device = torch.device(\"cuda\" if torch.cuda.is_available() else \"cpu\")\n",
    "print(f\"Using device: {device}\")"
   ]
  },
  {
   "cell_type": "code",
   "execution_count": 15,
   "metadata": {},
   "outputs": [
    {
     "data": {
      "text/html": [
       "<div>\n",
       "<style scoped>\n",
       "    .dataframe tbody tr th:only-of-type {\n",
       "        vertical-align: middle;\n",
       "    }\n",
       "\n",
       "    .dataframe tbody tr th {\n",
       "        vertical-align: top;\n",
       "    }\n",
       "\n",
       "    .dataframe thead th {\n",
       "        text-align: right;\n",
       "    }\n",
       "</style>\n",
       "<table border=\"1\" class=\"dataframe\">\n",
       "  <thead>\n",
       "    <tr style=\"text-align: right;\">\n",
       "      <th></th>\n",
       "      <th>combined_embedding</th>\n",
       "      <th>image_path</th>\n",
       "    </tr>\n",
       "  </thead>\n",
       "  <tbody>\n",
       "    <tr>\n",
       "      <th>0</th>\n",
       "      <td>[0.05615041, 0.06784809, -0.03342954, 0.037553...</td>\n",
       "      <td>../data/tensor_images/AlexatorStickers\\cartoon...</td>\n",
       "    </tr>\n",
       "    <tr>\n",
       "      <th>1</th>\n",
       "      <td>[-0.124234326, 0.07463956, -0.011985385, 0.004...</td>\n",
       "      <td>../data/tensor_images/AlexatorStickers\\cartoon...</td>\n",
       "    </tr>\n",
       "    <tr>\n",
       "      <th>2</th>\n",
       "      <td>[0.0, 0.0, 0.0, 0.0, 0.0, 0.0, 0.0, 0.0, 0.0, ...</td>\n",
       "      <td>../data/tensor_images/AlexatorStickers\\cartoon...</td>\n",
       "    </tr>\n",
       "    <tr>\n",
       "      <th>3</th>\n",
       "      <td>[-0.06495428, -0.04292713, 0.013164402, 0.0220...</td>\n",
       "      <td>../data/tensor_images/AlexatorStickers\\cartoon...</td>\n",
       "    </tr>\n",
       "    <tr>\n",
       "      <th>4</th>\n",
       "      <td>[0.027918205, 0.075559475, 0.03622711, -0.0181...</td>\n",
       "      <td>../data/tensor_images/AlexatorStickers\\cartoon...</td>\n",
       "    </tr>\n",
       "  </tbody>\n",
       "</table>\n",
       "</div>"
      ],
      "text/plain": [
       "                                  combined_embedding  \\\n",
       "0  [0.05615041, 0.06784809, -0.03342954, 0.037553...   \n",
       "1  [-0.124234326, 0.07463956, -0.011985385, 0.004...   \n",
       "2  [0.0, 0.0, 0.0, 0.0, 0.0, 0.0, 0.0, 0.0, 0.0, ...   \n",
       "3  [-0.06495428, -0.04292713, 0.013164402, 0.0220...   \n",
       "4  [0.027918205, 0.075559475, 0.03622711, -0.0181...   \n",
       "\n",
       "                                          image_path  \n",
       "0  ../data/tensor_images/AlexatorStickers\\cartoon...  \n",
       "1  ../data/tensor_images/AlexatorStickers\\cartoon...  \n",
       "2  ../data/tensor_images/AlexatorStickers\\cartoon...  \n",
       "3  ../data/tensor_images/AlexatorStickers\\cartoon...  \n",
       "4  ../data/tensor_images/AlexatorStickers\\cartoon...  "
      ]
     },
     "execution_count": 15,
     "metadata": {},
     "output_type": "execute_result"
    }
   ],
   "source": [
    "df = pd.read_parquet(\"../data/processed_sticker_dataset.parquet\")\n",
    "df.head()"
   ]
  },
  {
   "cell_type": "code",
   "execution_count": null,
   "metadata": {},
   "outputs": [],
   "source": [
    "\n",
    "# Define transformation\n",
    "data_transform = transforms.Compose([\n",
    "    transforms.Resize((64, 64)),  #resize images\n",
    "    transforms.ToTensor(),    #converting images into PyTorch\n",
    "    transforms.Normalize([0.5], [0.5])  #normalizing pixel values\n",
    "])\n",
    "\n",
    "class StickerDataset(torch.utils.data.Dataset):\n",
    "    def __init__(self, df, transform=None):\n",
    "        self.df = df        #storing the dataframe containing image\n",
    "        self.transform = transform  #storing transformation\n",
    "\n",
    "    def __len__(self):      \n",
    "        return len(self.df)     #returns the total number of images in dataset\n",
    "\n",
    "    def __getitem__(self, idx):\n",
    "        img_path = self.df.iloc[idx][\"image_path\"]  #fetching the row at index idx from dataframe df and retrieving the file path of that image\n",
    "        image = Image.open(img_path).convert(\"RGB\")  #opening the image file using open method from pillow library\n",
    "        if self.transform:\n",
    "            image = self.transform(image)\n",
    "        return image, 0  # Dummy label\n",
    "\n",
    "# Create DataLoader\n",
    "dataset = StickerDataset(df, transform=data_transform)\n",
    "dataloader = torch.utils.data.DataLoader(dataset, batch_size=16, shuffle=True)"
   ]
  }
 ],
 "metadata": {
  "kernelspec": {
   "display_name": "Python 3",
   "language": "python",
   "name": "python3"
  },
  "language_info": {
   "codemirror_mode": {
    "name": "ipython",
    "version": 3
   },
   "file_extension": ".py",
   "mimetype": "text/x-python",
   "name": "python",
   "nbconvert_exporter": "python",
   "pygments_lexer": "ipython3",
   "version": "3.11.7"
  }
 },
 "nbformat": 4,
 "nbformat_minor": 2
}
