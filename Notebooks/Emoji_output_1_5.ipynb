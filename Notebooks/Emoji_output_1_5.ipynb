{
 "cells": [
  {
   "cell_type": "code",
   "execution_count": null,
   "id": "b9a94478",
   "metadata": {},
   "outputs": [
    {
     "data": {
      "application/vnd.jupyter.widget-view+json": {
       "model_id": "4272446fb1684c17b62acaba3ef298bc",
       "version_major": 2,
       "version_minor": 0
      },
      "text/plain": [
       "Loading pipeline components...:   0%|          | 0/7 [00:00<?, ?it/s]"
      ]
     },
     "metadata": {},
     "output_type": "display_data"
    }
   ],
   "source": [
    "# import torch\n",
    "# from diffusers import StableDiffusionPipeline\n",
    "# from peft import PeftModel, LoraConfig\n",
    "# from PIL import Image\n",
    "# import os\n",
    "\n",
    "# # Set device to CUDA (GPU)\n",
    "# device = torch.device('cuda' if torch.cuda.is_available() else 'cpu')\n",
    "\n",
    "# # Load the base Stable Diffusion pipeline\n",
    "# model_id = \"sd-legacy/stable-diffusion-v1-5\"\n",
    "# pipe = StableDiffusionPipeline.from_pretrained(\n",
    "#     model_id,\n",
    "#     torch_dtype=torch.float16  # Use float16 for faster inference on GPU\n",
    "# ).to(device)\n",
    "\n",
    "# # Enable attention slicing to save memory (optional but recommended)\n",
    "# pipe.enable_attention_slicing()\n",
    "\n",
    "# # Disable NSFW safety checker (if needed)\n",
    "# if pipe.safety_checker is not None:\n",
    "#     pipe.safety_checker = lambda images, clip_input, **kwargs: (images, [False] * len(images))\n",
    "\n",
    "# # Load LoRA weights (make sure the directory is correct)\n",
    "# final_model_dir = \"../evaluation/emoji_diffusion_qlora/final_model\"\n",
    "# pipe.unet = PeftModel.from_pretrained(pipe.unet, final_model_dir)"
   ]
  },
  {
   "cell_type": "code",
   "execution_count": null,
   "id": "b7d32772",
   "metadata": {},
   "outputs": [],
   "source": [
    "import torch\n",
    "from diffusers import StableDiffusionPipeline\n",
    "from peft import PeftModel, LoraConfig\n",
    "from PIL import Image\n",
    "import os\n",
    "\n",
    "# Set device to CUDA (GPU)\n",
    "device = torch.device('cuda' if torch.cuda.is_available() else 'cpu')\n",
    "\n",
    "# Load the base Stable Diffusion pipeline\n",
    "model_id = \"sd-legacy/stable-diffusion-v1-5\"\n",
    "pipe = StableDiffusionPipeline.from_pretrained(\n",
    "    model_id,\n",
    "    torch_dtype=torch.float16  # Use float16 for faster inference on GPU\n",
    ").to(device)\n",
    "\n",
    "# Enable attention slicing to save memory (optional but recommended)\n",
    "pipe.enable_attention_slicing()\n",
    "\n",
    "# Disable NSFW safety checker (if needed)\n",
    "if pipe.safety_checker is not None:\n",
    "    pipe.safety_checker = lambda images, clip_input, **kwargs: (images, [False] * len(images))\n",
    "\n",
    "# Load LoRA weights (make sure the directory is correct)\n",
    "final_model_dir = \"../evaluation/lora_google_emoji_diffusion/final_model\"\n",
    "pipe.unet = PeftModel.from_pretrained(pipe.unet, final_model_dir)"
   ]
  },
  {
   "cell_type": "code",
   "execution_count": 11,
   "id": "95b3bcb3",
   "metadata": {},
   "outputs": [
    {
     "data": {
      "application/vnd.jupyter.widget-view+json": {
       "model_id": "c3c61fe158a64913a22c0df02e81d748",
       "version_major": 2,
       "version_minor": 0
      },
      "text/plain": [
       "  0%|          | 0/50 [00:00<?, ?it/s]"
      ]
     },
     "metadata": {},
     "output_type": "display_data"
    },
    {
     "name": "stdout",
     "output_type": "stream",
     "text": [
      "✅ Image saved at: outputs/monkey.png\n"
     ]
    }
   ],
   "source": [
    "# Inference parameters\n",
    "prompt = \"naughty\"\n",
    "num_inference_steps = 50\n",
    "guidance_scale = 7.5\n",
    "\n",
    "# Generate the image\n",
    "with torch.inference_mode():\n",
    "    result = pipe(\n",
    "        prompt=prompt,\n",
    "        num_inference_steps=num_inference_steps,\n",
    "        guidance_scale=guidance_scale,\n",
    "        height=256,\n",
    "        width=256\n",
    "    )\n",
    "    image = result.images[0]\n",
    "\n",
    "# Save the image\n",
    "output_path = \"outputs/monkey.png\"\n",
    "os.makedirs(os.path.dirname(output_path), exist_ok=True)\n",
    "image.save(output_path)\n",
    "print(f\"✅ Image saved at: {output_path}\")\n",
    "\n",
    "# Optionally display the image\n",
    "image.show()"
   ]
  }
 ],
 "metadata": {
  "kernelspec": {
   "display_name": "myvenv",
   "language": "python",
   "name": "python3"
  },
  "language_info": {
   "codemirror_mode": {
    "name": "ipython",
    "version": 3
   },
   "file_extension": ".py",
   "mimetype": "text/x-python",
   "name": "python",
   "nbconvert_exporter": "python",
   "pygments_lexer": "ipython3",
   "version": "3.13.2"
  }
 },
 "nbformat": 4,
 "nbformat_minor": 5
}
