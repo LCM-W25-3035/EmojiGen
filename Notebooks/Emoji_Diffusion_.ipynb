{
 "cells": [
  {
   "cell_type": "code",
   "execution_count": 1,
   "metadata": {},
   "outputs": [
    {
     "name": "stdout",
     "output_type": "stream",
     "text": [
      "Using device: cuda\n"
     ]
    },
    {
     "data": {
      "text/plain": [
       "0"
      ]
     },
     "execution_count": 1,
     "metadata": {},
     "output_type": "execute_result"
    }
   ],
   "source": [
    "import torch\n",
    "import torch.nn as nn\n",
    "import torch.nn.functional as F\n",
    "from torch.optim import AdamW\n",
    "from diffusers import UNet2DConditionModel, AutoencoderKL\n",
    "from peft import LoraConfig, get_peft_model, PeftModel\n",
    "from torch.utils.data import DataLoader, Dataset\n",
    "import pandas as pd\n",
    "import matplotlib.pyplot as plt\n",
    "from tqdm import tqdm\n",
    "import gc\n",
    "from transformers import CLIPTokenizer, CLIPTextModel\n",
    "from PIL import Image\n",
    "import numpy as np\n",
    "\n",
    "# Enable cuDNN optimization for faster training\n",
    "torch.backends.cudnn.benchmark = True\n",
    "torch.set_float32_matmul_precision(\"high\")\n",
    "\n",
    "# Ensure PyTorch uses GPU if available\n",
    "device = torch.device(\"cuda\" if torch.cuda.is_available() else \"cpu\")\n",
    "print(f\"Using device: {device}\")\n",
    "\n",
    "# Free GPU memory\n",
    "torch.cuda.empty_cache()\n",
    "gc.collect()"
   ]
  },
  {
   "cell_type": "code",
   "execution_count": 2,
   "metadata": {},
   "outputs": [],
   "source": [
    "\n",
    "\n",
    "# Dataset Class\n",
    "class EmojiDataset(Dataset):\n",
    "    def __init__(self, parquet_file):\n",
    "        self.data = pd.read_parquet(parquet_file)\n",
    "\n",
    "    def __len__(self):\n",
    "        return len(self.data)\n",
    "\n",
    "    def __getitem__(self, idx):\n",
    "        image_path = self.data.iloc[idx][\"image_path\"]\n",
    "        image_tensor = torch.load(image_path).float()  # No manual normalization\n",
    "        text_embedding = torch.tensor(self.data.iloc[idx][\"combined_embedding\"], dtype=torch.float32)\n",
    "        return image_tensor, text_embedding\n",
    "\n",
    "# Load Dataset\n",
    "parquet_file = \"../data/processed_emoji_dataset.parquet\"\n",
    "dataset = EmojiDataset(parquet_file)\n",
    "batch_size = 32  \n",
    "train_dataloader = DataLoader(dataset, batch_size=batch_size, shuffle=True)"
   ]
  },
  {
   "cell_type": "code",
   "execution_count": 3,
   "metadata": {},
   "outputs": [
    {
     "name": "stdout",
     "output_type": "stream",
     "text": [
      "trainable params: 207,488 || all params: 866,118,212 || trainable%: 0.0240\n"
     ]
    }
   ],
   "source": [
    "\n",
    "\n",
    "# Load Stable Diffusion 2 Base Model\n",
    "vae = AutoencoderKL.from_pretrained(\"stabilityai/stable-diffusion-2-base\", subfolder=\"vae\").to(device, dtype=torch.float16)\n",
    "unet = UNet2DConditionModel.from_pretrained(\"stabilityai/stable-diffusion-2-base\", subfolder=\"unet\").to(device, dtype=torch.float16)\n",
    "\n",
    "# Apply LoRA to UNet\n",
    "lora_config = LoraConfig(\n",
    "    r=1,  # LoRA rank\n",
    "    lora_alpha=8,  # Scaling factor\n",
    "    target_modules=[\"to_q\", \"to_k\", \"to_v\", \"proj_out\", \"proj_in\"],  \n",
    "    lora_dropout=0.1,  # Dropout for regularization\n",
    "    bias=\"none\"\n",
    ")\n",
    "\n",
    "unet = get_peft_model(unet, lora_config)\n",
    "unet.print_trainable_parameters()\n",
    "\n",
    "# Enable memory optimization\n",
    "unet.enable_gradient_checkpointing()\n",
    "\n",
    "class EmbeddingProjector(nn.Module):\n",
    "    def __init__(self, input_dim=512, output_dim=1024):  # Change output to 1280\n",
    "        super().__init__()\n",
    "        self.fc = nn.Linear(input_dim, output_dim)\n",
    "\n",
    "    def forward(self, x):\n",
    "        return self.fc(x)\n",
    "\n",
    "embedding_projector = EmbeddingProjector().to(device, dtype=torch.float16)\n",
    "\n",
    "# Freeze VAE\n",
    "for param in vae.parameters():\n",
    "    param.requires_grad = False  \n",
    "\n",
    "# Define optimizer\n",
    "optimizer = AdamW(filter(lambda p: p.requires_grad, unet.parameters()), lr=0.001)\n",
    "scaler = torch.amp.GradScaler()"
   ]
  },
  {
   "cell_type": "code",
   "execution_count": 4,
   "metadata": {},
   "outputs": [
    {
     "name": "stderr",
     "output_type": "stream",
     "text": [
      "Epoch 1/30: 100%|██████████| 85/85 [01:25<00:00,  1.01s/it, loss=1.01] \n"
     ]
    },
    {
     "name": "stdout",
     "output_type": "stream",
     "text": [
      "Epoch 1/30, Loss: 1.0192\n"
     ]
    },
    {
     "name": "stderr",
     "output_type": "stream",
     "text": [
      "Epoch 2/30: 100%|██████████| 85/85 [01:20<00:00,  1.06it/s, loss=1.02] \n"
     ]
    },
    {
     "name": "stdout",
     "output_type": "stream",
     "text": [
      "Epoch 2/30, Loss: 1.0038\n"
     ]
    },
    {
     "name": "stderr",
     "output_type": "stream",
     "text": [
      "Epoch 3/30: 100%|██████████| 85/85 [01:13<00:00,  1.16it/s, loss=1.01] \n"
     ]
    },
    {
     "name": "stdout",
     "output_type": "stream",
     "text": [
      "Epoch 3/30, Loss: 0.9992\n"
     ]
    },
    {
     "name": "stderr",
     "output_type": "stream",
     "text": [
      "Epoch 4/30: 100%|██████████| 85/85 [01:13<00:00,  1.15it/s, loss=0.993]\n"
     ]
    },
    {
     "name": "stdout",
     "output_type": "stream",
     "text": [
      "Epoch 4/30, Loss: 1.0045\n"
     ]
    },
    {
     "name": "stderr",
     "output_type": "stream",
     "text": [
      "Epoch 5/30: 100%|██████████| 85/85 [01:08<00:00,  1.23it/s, loss=1.01] \n"
     ]
    },
    {
     "name": "stdout",
     "output_type": "stream",
     "text": [
      "Epoch 5/30, Loss: 1.0002\n"
     ]
    },
    {
     "name": "stderr",
     "output_type": "stream",
     "text": [
      "Epoch 6/30: 100%|██████████| 85/85 [01:44<00:00,  1.23s/it, loss=0.974]\n"
     ]
    },
    {
     "name": "stdout",
     "output_type": "stream",
     "text": [
      "Epoch 6/30, Loss: 0.9950\n"
     ]
    },
    {
     "name": "stderr",
     "output_type": "stream",
     "text": [
      "Epoch 7/30: 100%|██████████| 85/85 [01:47<00:00,  1.27s/it, loss=1.01] \n"
     ]
    },
    {
     "name": "stdout",
     "output_type": "stream",
     "text": [
      "Epoch 7/30, Loss: 0.9963\n"
     ]
    },
    {
     "name": "stderr",
     "output_type": "stream",
     "text": [
      "Epoch 8/30: 100%|██████████| 85/85 [01:34<00:00,  1.11s/it, loss=1.02] \n"
     ]
    },
    {
     "name": "stdout",
     "output_type": "stream",
     "text": [
      "Epoch 8/30, Loss: 0.9996\n"
     ]
    },
    {
     "name": "stderr",
     "output_type": "stream",
     "text": [
      "Epoch 9/30: 100%|██████████| 85/85 [01:42<00:00,  1.21s/it, loss=0.977]\n"
     ]
    },
    {
     "name": "stdout",
     "output_type": "stream",
     "text": [
      "Epoch 9/30, Loss: 0.9990\n"
     ]
    },
    {
     "name": "stderr",
     "output_type": "stream",
     "text": [
      "Epoch 10/30: 100%|██████████| 85/85 [01:43<00:00,  1.21s/it, loss=0.987]\n"
     ]
    },
    {
     "name": "stdout",
     "output_type": "stream",
     "text": [
      "Epoch 10/30, Loss: 0.9999\n"
     ]
    },
    {
     "name": "stderr",
     "output_type": "stream",
     "text": [
      "Epoch 11/30: 100%|██████████| 85/85 [01:58<00:00,  1.40s/it, loss=0.978]\n"
     ]
    },
    {
     "name": "stdout",
     "output_type": "stream",
     "text": [
      "Epoch 11/30, Loss: 1.0007\n"
     ]
    },
    {
     "name": "stderr",
     "output_type": "stream",
     "text": [
      "Epoch 12/30: 100%|██████████| 85/85 [03:26<00:00,  2.42s/it, loss=0.994]\n"
     ]
    },
    {
     "name": "stdout",
     "output_type": "stream",
     "text": [
      "Epoch 12/30, Loss: 0.9972\n"
     ]
    },
    {
     "name": "stderr",
     "output_type": "stream",
     "text": [
      "Epoch 13/30: 100%|██████████| 85/85 [02:44<00:00,  1.93s/it, loss=1.01] \n"
     ]
    },
    {
     "name": "stdout",
     "output_type": "stream",
     "text": [
      "Epoch 13/30, Loss: 0.9998\n"
     ]
    },
    {
     "name": "stderr",
     "output_type": "stream",
     "text": [
      "Epoch 14/30: 100%|██████████| 85/85 [01:17<00:00,  1.10it/s, loss=1.01] \n"
     ]
    },
    {
     "name": "stdout",
     "output_type": "stream",
     "text": [
      "Epoch 14/30, Loss: 1.0015\n"
     ]
    },
    {
     "name": "stderr",
     "output_type": "stream",
     "text": [
      "Epoch 15/30: 100%|██████████| 85/85 [01:30<00:00,  1.06s/it, loss=0.972]\n"
     ]
    },
    {
     "name": "stdout",
     "output_type": "stream",
     "text": [
      "Epoch 15/30, Loss: 0.9993\n"
     ]
    },
    {
     "name": "stderr",
     "output_type": "stream",
     "text": [
      "Epoch 16/30: 100%|██████████| 85/85 [02:16<00:00,  1.61s/it, loss=0.984]\n"
     ]
    },
    {
     "name": "stdout",
     "output_type": "stream",
     "text": [
      "Epoch 16/30, Loss: 0.9983\n"
     ]
    },
    {
     "name": "stderr",
     "output_type": "stream",
     "text": [
      "Epoch 17/30: 100%|██████████| 85/85 [02:28<00:00,  1.75s/it, loss=1.03] \n"
     ]
    },
    {
     "name": "stdout",
     "output_type": "stream",
     "text": [
      "Epoch 17/30, Loss: 0.9990\n"
     ]
    },
    {
     "name": "stderr",
     "output_type": "stream",
     "text": [
      "Epoch 18/30: 100%|██████████| 85/85 [03:28<00:00,  2.46s/it, loss=1.01] \n"
     ]
    },
    {
     "name": "stdout",
     "output_type": "stream",
     "text": [
      "Epoch 18/30, Loss: 1.0001\n"
     ]
    },
    {
     "name": "stderr",
     "output_type": "stream",
     "text": [
      "Epoch 19/30: 100%|██████████| 85/85 [03:27<00:00,  2.44s/it, loss=1.01] \n"
     ]
    },
    {
     "name": "stdout",
     "output_type": "stream",
     "text": [
      "Epoch 19/30, Loss: 1.0030\n"
     ]
    },
    {
     "name": "stderr",
     "output_type": "stream",
     "text": [
      "Epoch 20/30: 100%|██████████| 85/85 [03:53<00:00,  2.75s/it, loss=1.02] \n"
     ]
    },
    {
     "name": "stdout",
     "output_type": "stream",
     "text": [
      "Epoch 20/30, Loss: 1.0005\n"
     ]
    },
    {
     "name": "stderr",
     "output_type": "stream",
     "text": [
      "Epoch 21/30: 100%|██████████| 85/85 [03:07<00:00,  2.21s/it, loss=1.01] \n"
     ]
    },
    {
     "name": "stdout",
     "output_type": "stream",
     "text": [
      "Epoch 21/30, Loss: 1.0013\n"
     ]
    },
    {
     "name": "stderr",
     "output_type": "stream",
     "text": [
      "Epoch 22/30: 100%|██████████| 85/85 [02:53<00:00,  2.04s/it, loss=0.991]\n"
     ]
    },
    {
     "name": "stdout",
     "output_type": "stream",
     "text": [
      "Epoch 22/30, Loss: 0.9972\n"
     ]
    },
    {
     "name": "stderr",
     "output_type": "stream",
     "text": [
      "Epoch 23/30: 100%|██████████| 85/85 [01:19<00:00,  1.07it/s, loss=0.979]\n"
     ]
    },
    {
     "name": "stdout",
     "output_type": "stream",
     "text": [
      "Epoch 23/30, Loss: 0.9999\n"
     ]
    },
    {
     "name": "stderr",
     "output_type": "stream",
     "text": [
      "Epoch 24/30: 100%|██████████| 85/85 [01:24<00:00,  1.00it/s, loss=0.995]\n"
     ]
    },
    {
     "name": "stdout",
     "output_type": "stream",
     "text": [
      "Epoch 24/30, Loss: 1.0009\n"
     ]
    },
    {
     "name": "stderr",
     "output_type": "stream",
     "text": [
      "Epoch 25/30: 100%|██████████| 85/85 [01:28<00:00,  1.04s/it, loss=0.999]\n"
     ]
    },
    {
     "name": "stdout",
     "output_type": "stream",
     "text": [
      "Epoch 25/30, Loss: 1.0015\n"
     ]
    },
    {
     "name": "stderr",
     "output_type": "stream",
     "text": [
      "Epoch 26/30: 100%|██████████| 85/85 [02:44<00:00,  1.94s/it, loss=1.04] \n"
     ]
    },
    {
     "name": "stdout",
     "output_type": "stream",
     "text": [
      "Epoch 26/30, Loss: 1.0005\n"
     ]
    },
    {
     "name": "stderr",
     "output_type": "stream",
     "text": [
      "Epoch 27/30: 100%|██████████| 85/85 [03:25<00:00,  2.42s/it, loss=1.02] \n"
     ]
    },
    {
     "name": "stdout",
     "output_type": "stream",
     "text": [
      "Epoch 27/30, Loss: 0.9982\n"
     ]
    },
    {
     "name": "stderr",
     "output_type": "stream",
     "text": [
      "Epoch 28/30: 100%|██████████| 85/85 [03:11<00:00,  2.25s/it, loss=0.999]\n"
     ]
    },
    {
     "name": "stdout",
     "output_type": "stream",
     "text": [
      "Epoch 28/30, Loss: 1.0027\n"
     ]
    },
    {
     "name": "stderr",
     "output_type": "stream",
     "text": [
      "Epoch 29/30: 100%|██████████| 85/85 [03:11<00:00,  2.26s/it, loss=0.996]\n"
     ]
    },
    {
     "name": "stdout",
     "output_type": "stream",
     "text": [
      "Epoch 29/30, Loss: 0.9996\n"
     ]
    },
    {
     "name": "stderr",
     "output_type": "stream",
     "text": [
      "Epoch 30/30: 100%|██████████| 85/85 [03:16<00:00,  2.32s/it, loss=1]    "
     ]
    },
    {
     "name": "stdout",
     "output_type": "stream",
     "text": [
      "Epoch 30/30, Loss: 0.9982\n"
     ]
    },
    {
     "name": "stderr",
     "output_type": "stream",
     "text": [
      "\n"
     ]
    }
   ],
   "source": [
    "\n",
    "\n",
    "# Training Loop\n",
    "num_epochs = 30\n",
    "losses = []\n",
    "for epoch in range(num_epochs):\n",
    "    epoch_loss = 0\n",
    "    progress_bar = tqdm(train_dataloader, desc=f\"Epoch {epoch+1}/{num_epochs}\")\n",
    "    \n",
    "    for images, embeddings in progress_bar:\n",
    "        images = images.to(device, dtype=torch.float16, non_blocking=True)\n",
    "        embeddings = embeddings.to(device, dtype=torch.float16, non_blocking=True)\n",
    "        optimizer.zero_grad()\n",
    "\n",
    "        # Project CLIP embeddings\n",
    "        with torch.no_grad():\n",
    "            projected_embeddings = embedding_projector(embeddings).unsqueeze(1)\n",
    "        \n",
    "        with torch.no_grad():\n",
    "            latents = vae.encode(images).latent_dist.sample() * 0.18215\n",
    "        latents = latents.to(torch.float16)\n",
    "\n",
    "        # Generate noise\n",
    "        noise = torch.randn_like(latents, dtype=torch.float16)\n",
    "        timesteps = torch.randint(0, 1000, (latents.shape[0],), device=device).long()\n",
    "\n",
    "        # Forward pass\n",
    "        with torch.amp.autocast(\"cuda\"):\n",
    "            noise_pred = unet(latents, timesteps, encoder_hidden_states=projected_embeddings).sample\n",
    "            loss = F.mse_loss(noise_pred, noise)\n",
    "\n",
    "        # Backpropagation\n",
    "        scaler.scale(loss).backward()\n",
    "        scaler.unscale_(optimizer)\n",
    "        scaler.step(optimizer)\n",
    "        scaler.update()\n",
    "\n",
    "        epoch_loss += loss.item()\n",
    "        progress_bar.set_postfix(loss=loss.item())\n",
    "\n",
    "    avg_epoch_loss = epoch_loss / len(train_dataloader)\n",
    "    losses.append(avg_epoch_loss)\n",
    "    print(f\"Epoch {epoch+1}/{num_epochs}, Loss: {avg_epoch_loss:.4f}\")\n"
   ]
  },
  {
   "cell_type": "code",
   "execution_count": 8,
   "metadata": {},
   "outputs": [
    {
     "name": "stdout",
     "output_type": "stream",
     "text": [
      "Model saved successfully!\n"
     ]
    }
   ],
   "source": [
    "\n",
    "# Save Model\n",
    "torch.save({\n",
    "    \"unet\": unet.state_dict(),\n",
    "    \"embedding_projector\": embedding_projector.state_dict()\n",
    "}, \"emoji_generator.pth\")\n",
    "print(\"Model saved successfully!\")"
   ]
  },
  {
   "cell_type": "code",
   "execution_count": 9,
   "metadata": {},
   "outputs": [
    {
     "name": "stdout",
     "output_type": "stream",
     "text": [
      "LoRA adapters saved successfully!\n"
     ]
    },
    {
     "data": {
      "image/png": "[encoded data removed]",
      "text/plain": [
       "<Figure size 640x480 with 1 Axes>"
      ]
     },
     "metadata": {},
     "output_type": "display_data"
    }
   ],
   "source": [
    "# Save LoRA Weights\n",
    "unet.save_pretrained(\"lora_emoji_unet\")\n",
    "torch.save(embedding_projector.state_dict(), \"embedding_projector.pth\")\n",
    "print(\"LoRA adapters saved successfully!\")\n",
    "\n",
    "# Plot Loss Curve\n",
    "plt.plot(range(1, num_epochs + 1), losses, marker=\"o\", linestyle=\"-\")\n",
    "plt.xlabel(\"Epochs\")\n",
    "plt.ylabel(\"Loss\")\n",
    "plt.title(\"Training Loss Curve\")\n",
    "plt.grid()\n",
    "plt.show()"
   ]
  },
  {
   "cell_type": "code",
   "execution_count": 10,
   "metadata": {},
   "outputs": [
    {
     "name": "stderr",
     "output_type": "stream",
     "text": [
      "c:\\Study\\College\\Project\\myvenv\\Lib\\site-packages\\peft\\tuners\\tuners_utils.py:167: UserWarning: Already found a `peft_config` attribute in the model. This will lead to having multiple adapters in the model. Make sure to know what you are doing!\n",
      "  warnings.warn(\n",
      "c:\\Study\\College\\Project\\myvenv\\Lib\\site-packages\\peft\\peft_model.py:569: UserWarning: Found missing adapter keys while loading the checkpoint: ['base_model.model.base_model.model.down_blocks.0.attentions.0.proj_in.lora_A.default.weight', 'base_model.model.base_model.model.down_blocks.0.attentions.0.proj_in.lora_B.default.weight', 'base_model.model.base_model.model.down_blocks.0.attentions.0.transformer_blocks.0.attn1.to_q.lora_A.default.weight', 'base_model.model.base_model.model.down_blocks.0.attentions.0.transformer_blocks.0.attn1.to_q.lora_B.default.weight', 'base_model.model.base_model.model.down_blocks.0.attentions.0.transformer_blocks.0.attn1.to_k.lora_A.default.weight', 'base_model.model.base_model.model.down_blocks.0.attentions.0.transformer_blocks.0.attn1.to_k.lora_B.default.weight', 'base_model.model.base_model.model.down_blocks.0.attentions.0.transformer_blocks.0.attn1.to_v.lora_A.default.weight', 'base_model.model.base_model.model.down_blocks.0.attentions.0.transformer_blocks.0.attn1.to_v.lora_B.default.weight', 'base_model.model.base_model.model.down_blocks.0.attentions.0.transformer_blocks.0.attn2.to_q.lora_A.default.weight', 'base_model.model.base_model.model.down_blocks.0.attentions.0.transformer_blocks.0.attn2.to_q.lora_B.default.weight', 'base_model.model.base_model.model.down_blocks.0.attentions.0.transformer_blocks.0.attn2.to_k.lora_A.default.weight', 'base_model.model.base_model.model.down_blocks.0.attentions.0.transformer_blocks.0.attn2.to_k.lora_B.default.weight', 'base_model.model.base_model.model.down_blocks.0.attentions.0.transformer_blocks.0.attn2.to_v.lora_A.default.weight', 'base_model.model.base_model.model.down_blocks.0.attentions.0.transformer_blocks.0.attn2.to_v.lora_B.default.weight', 'base_model.model.base_model.model.down_blocks.0.attentions.0.proj_out.lora_A.default.weight', 'base_model.model.base_model.model.down_blocks.0.attentions.0.proj_out.lora_B.default.weight', 'base_model.model.base_model.model.down_blocks.0.attentions.1.proj_in.lora_A.default.weight', 'base_model.model.base_model.model.down_blocks.0.attentions.1.proj_in.lora_B.default.weight', 'base_model.model.base_model.model.down_blocks.0.attentions.1.transformer_blocks.0.attn1.to_q.lora_A.default.weight', 'base_model.model.base_model.model.down_blocks.0.attentions.1.transformer_blocks.0.attn1.to_q.lora_B.default.weight', 'base_model.model.base_model.model.down_blocks.0.attentions.1.transformer_blocks.0.attn1.to_k.lora_A.default.weight', 'base_model.model.base_model.model.down_blocks.0.attentions.1.transformer_blocks.0.attn1.to_k.lora_B.default.weight', 'base_model.model.base_model.model.down_blocks.0.attentions.1.transformer_blocks.0.attn1.to_v.lora_A.default.weight', 'base_model.model.base_model.model.down_blocks.0.attentions.1.transformer_blocks.0.attn1.to_v.lora_B.default.weight', 'base_model.model.base_model.model.down_blocks.0.attentions.1.transformer_blocks.0.attn2.to_q.lora_A.default.weight', 'base_model.model.base_model.model.down_blocks.0.attentions.1.transformer_blocks.0.attn2.to_q.lora_B.default.weight', 'base_model.model.base_model.model.down_blocks.0.attentions.1.transformer_blocks.0.attn2.to_k.lora_A.default.weight', 'base_model.model.base_model.model.down_blocks.0.attentions.1.transformer_blocks.0.attn2.to_k.lora_B.default.weight', 'base_model.model.base_model.model.down_blocks.0.attentions.1.transformer_blocks.0.attn2.to_v.lora_A.default.weight', 'base_model.model.base_model.model.down_blocks.0.attentions.1.transformer_blocks.0.attn2.to_v.lora_B.default.weight', 'base_model.model.base_model.model.down_blocks.0.attentions.1.proj_out.lora_A.default.weight', 'base_model.model.base_model.model.down_blocks.0.attentions.1.proj_out.lora_B.default.weight', 'base_model.model.base_model.model.down_blocks.1.attentions.0.proj_in.lora_A.default.weight', 'base_model.model.base_model.model.down_blocks.1.attentions.0.proj_in.lora_B.default.weight', 'base_model.model.base_model.model.down_blocks.1.attentions.0.transformer_blocks.0.attn1.to_q.lora_A.default.weight', 'base_model.model.base_model.model.down_blocks.1.attentions.0.transformer_blocks.0.attn1.to_q.lora_B.default.weight', 'base_model.model.base_model.model.down_blocks.1.attentions.0.transformer_blocks.0.attn1.to_k.lora_A.default.weight', 'base_model.model.base_model.model.down_blocks.1.attentions.0.transformer_blocks.0.attn1.to_k.lora_B.default.weight', 'base_model.model.base_model.model.down_blocks.1.attentions.0.transformer_blocks.0.attn1.to_v.lora_A.default.weight', 'base_model.model.base_model.model.down_blocks.1.attentions.0.transformer_blocks.0.attn1.to_v.lora_B.default.weight', 'base_model.model.base_model.model.down_blocks.1.attentions.0.transformer_blocks.0.attn2.to_q.lora_A.default.weight', 'base_model.model.base_model.model.down_blocks.1.attentions.0.transformer_blocks.0.attn2.to_q.lora_B.default.weight', 'base_model.model.base_model.model.down_blocks.1.attentions.0.transformer_blocks.0.attn2.to_k.lora_A.default.weight', 'base_model.model.base_model.model.down_blocks.1.attentions.0.transformer_blocks.0.attn2.to_k.lora_B.default.weight', 'base_model.model.base_model.model.down_blocks.1.attentions.0.transformer_blocks.0.attn2.to_v.lora_A.default.weight', 'base_model.model.base_model.model.down_blocks.1.attentions.0.transformer_blocks.0.attn2.to_v.lora_B.default.weight', 'base_model.model.base_model.model.down_blocks.1.attentions.0.proj_out.lora_A.default.weight', 'base_model.model.base_model.model.down_blocks.1.attentions.0.proj_out.lora_B.default.weight', 'base_model.model.base_model.model.down_blocks.1.attentions.1.proj_in.lora_A.default.weight', 'base_model.model.base_model.model.down_blocks.1.attentions.1.proj_in.lora_B.default.weight', 'base_model.model.base_model.model.down_blocks.1.attentions.1.transformer_blocks.0.attn1.to_q.lora_A.default.weight', 'base_model.model.base_model.model.down_blocks.1.attentions.1.transformer_blocks.0.attn1.to_q.lora_B.default.weight', 'base_model.model.base_model.model.down_blocks.1.attentions.1.transformer_blocks.0.attn1.to_k.lora_A.default.weight', 'base_model.model.base_model.model.down_blocks.1.attentions.1.transformer_blocks.0.attn1.to_k.lora_B.default.weight', 'base_model.model.base_model.model.down_blocks.1.attentions.1.transformer_blocks.0.attn1.to_v.lora_A.default.weight', 'base_model.model.base_model.model.down_blocks.1.attentions.1.transformer_blocks.0.attn1.to_v.lora_B.default.weight', 'base_model.model.base_model.model.down_blocks.1.attentions.1.transformer_blocks.0.attn2.to_q.lora_A.default.weight', 'base_model.model.base_model.model.down_blocks.1.attentions.1.transformer_blocks.0.attn2.to_q.lora_B.default.weight', 'base_model.model.base_model.model.down_blocks.1.attentions.1.transformer_blocks.0.attn2.to_k.lora_A.default.weight', 'base_model.model.base_model.model.down_blocks.1.attentions.1.transformer_blocks.0.attn2.to_k.lora_B.default.weight', 'base_model.model.base_model.model.down_blocks.1.attentions.1.transformer_blocks.0.attn2.to_v.lora_A.default.weight', 'base_model.model.base_model.model.down_blocks.1.attentions.1.transformer_blocks.0.attn2.to_v.lora_B.default.weight', 'base_model.model.base_model.model.down_blocks.1.attentions.1.proj_out.lora_A.default.weight', 'base_model.model.base_model.model.down_blocks.1.attentions.1.proj_out.lora_B.default.weight', 'base_model.model.base_model.model.down_blocks.2.attentions.0.proj_in.lora_A.default.weight', 'base_model.model.base_model.model.down_blocks.2.attentions.0.proj_in.lora_B.default.weight', 'base_model.model.base_model.model.down_blocks.2.attentions.0.transformer_blocks.0.attn1.to_q.lora_A.default.weight', 'base_model.model.base_model.model.down_blocks.2.attentions.0.transformer_blocks.0.attn1.to_q.lora_B.default.weight', 'base_model.model.base_model.model.down_blocks.2.attentions.0.transformer_blocks.0.attn1.to_k.lora_A.default.weight', 'base_model.model.base_model.model.down_blocks.2.attentions.0.transformer_blocks.0.attn1.to_k.lora_B.default.weight', 'base_model.model.base_model.model.down_blocks.2.attentions.0.transformer_blocks.0.attn1.to_v.lora_A.default.weight', 'base_model.model.base_model.model.down_blocks.2.attentions.0.transformer_blocks.0.attn1.to_v.lora_B.default.weight', 'base_model.model.base_model.model.down_blocks.2.attentions.0.transformer_blocks.0.attn2.to_q.lora_A.default.weight', 'base_model.model.base_model.model.down_blocks.2.attentions.0.transformer_blocks.0.attn2.to_q.lora_B.default.weight', 'base_model.model.base_model.model.down_blocks.2.attentions.0.transformer_blocks.0.attn2.to_k.lora_A.default.weight', 'base_model.model.base_model.model.down_blocks.2.attentions.0.transformer_blocks.0.attn2.to_k.lora_B.default.weight', 'base_model.model.base_model.model.down_blocks.2.attentions.0.transformer_blocks.0.attn2.to_v.lora_A.default.weight', 'base_model.model.base_model.model.down_blocks.2.attentions.0.transformer_blocks.0.attn2.to_v.lora_B.default.weight', 'base_model.model.base_model.model.down_blocks.2.attentions.0.proj_out.lora_A.default.weight', 'base_model.model.base_model.model.down_blocks.2.attentions.0.proj_out.lora_B.default.weight', 'base_model.model.base_model.model.down_blocks.2.attentions.1.proj_in.lora_A.default.weight', 'base_model.model.base_model.model.down_blocks.2.attentions.1.proj_in.lora_B.default.weight', 'base_model.model.base_model.model.down_blocks.2.attentions.1.transformer_blocks.0.attn1.to_q.lora_A.default.weight', 'base_model.model.base_model.model.down_blocks.2.attentions.1.transformer_blocks.0.attn1.to_q.lora_B.default.weight', 'base_model.model.base_model.model.down_blocks.2.attentions.1.transformer_blocks.0.attn1.to_k.lora_A.default.weight', 'base_model.model.base_model.model.down_blocks.2.attentions.1.transformer_blocks.0.attn1.to_k.lora_B.default.weight', 'base_model.model.base_model.model.down_blocks.2.attentions.1.transformer_blocks.0.attn1.to_v.lora_A.default.weight', 'base_model.model.base_model.model.down_blocks.2.attentions.1.transformer_blocks.0.attn1.to_v.lora_B.default.weight', 'base_model.model.base_model.model.down_blocks.2.attentions.1.transformer_blocks.0.attn2.to_q.lora_A.default.weight', 'base_model.model.base_model.model.down_blocks.2.attentions.1.transformer_blocks.0.attn2.to_q.lora_B.default.weight', 'base_model.model.base_model.model.down_blocks.2.attentions.1.transformer_blocks.0.attn2.to_k.lora_A.default.weight', 'base_model.model.base_model.model.down_blocks.2.attentions.1.transformer_blocks.0.attn2.to_k.lora_B.default.weight', 'base_model.model.base_model.model.down_blocks.2.attentions.1.transformer_blocks.0.attn2.to_v.lora_A.default.weight', 'base_model.model.base_model.model.down_blocks.2.attentions.1.transformer_blocks.0.attn2.to_v.lora_B.default.weight', 'base_model.model.base_model.model.down_blocks.2.attentions.1.proj_out.lora_A.default.weight', 'base_model.model.base_model.model.down_blocks.2.attentions.1.proj_out.lora_B.default.weight', 'base_model.model.base_model.model.up_blocks.1.attentions.0.proj_in.lora_A.default.weight', 'base_model.model.base_model.model.up_blocks.1.attentions.0.proj_in.lora_B.default.weight', 'base_model.model.base_model.model.up_blocks.1.attentions.0.transformer_blocks.0.attn1.to_q.lora_A.default.weight', 'base_model.model.base_model.model.up_blocks.1.attentions.0.transformer_blocks.0.attn1.to_q.lora_B.default.weight', 'base_model.model.base_model.model.up_blocks.1.attentions.0.transformer_blocks.0.attn1.to_k.lora_A.default.weight', 'base_model.model.base_model.model.up_blocks.1.attentions.0.transformer_blocks.0.attn1.to_k.lora_B.default.weight', 'base_model.model.base_model.model.up_blocks.1.attentions.0.transformer_blocks.0.attn1.to_v.lora_A.default.weight', 'base_model.model.base_model.model.up_blocks.1.attentions.0.transformer_blocks.0.attn1.to_v.lora_B.default.weight', 'base_model.model.base_model.model.up_blocks.1.attentions.0.transformer_blocks.0.attn2.to_q.lora_A.default.weight', 'base_model.model.base_model.model.up_blocks.1.attentions.0.transformer_blocks.0.attn2.to_q.lora_B.default.weight', 'base_model.model.base_model.model.up_blocks.1.attentions.0.transformer_blocks.0.attn2.to_k.lora_A.default.weight', 'base_model.model.base_model.model.up_blocks.1.attentions.0.transformer_blocks.0.attn2.to_k.lora_B.default.weight', 'base_model.model.base_model.model.up_blocks.1.attentions.0.transformer_blocks.0.attn2.to_v.lora_A.default.weight', 'base_model.model.base_model.model.up_blocks.1.attentions.0.transformer_blocks.0.attn2.to_v.lora_B.default.weight', 'base_model.model.base_model.model.up_blocks.1.attentions.0.proj_out.lora_A.default.weight', 'base_model.model.base_model.model.up_blocks.1.attentions.0.proj_out.lora_B.default.weight', 'base_model.model.base_model.model.up_blocks.1.attentions.1.proj_in.lora_A.default.weight', 'base_model.model.base_model.model.up_blocks.1.attentions.1.proj_in.lora_B.default.weight', 'base_model.model.base_model.model.up_blocks.1.attentions.1.transformer_blocks.0.attn1.to_q.lora_A.default.weight', 'base_model.model.base_model.model.up_blocks.1.attentions.1.transformer_blocks.0.attn1.to_q.lora_B.default.weight', 'base_model.model.base_model.model.up_blocks.1.attentions.1.transformer_blocks.0.attn1.to_k.lora_A.default.weight', 'base_model.model.base_model.model.up_blocks.1.attentions.1.transformer_blocks.0.attn1.to_k.lora_B.default.weight', 'base_model.model.base_model.model.up_blocks.1.attentions.1.transformer_blocks.0.attn1.to_v.lora_A.default.weight', 'base_model.model.base_model.model.up_blocks.1.attentions.1.transformer_blocks.0.attn1.to_v.lora_B.default.weight', 'base_model.model.base_model.model.up_blocks.1.attentions.1.transformer_blocks.0.attn2.to_q.lora_A.default.weight', 'base_model.model.base_model.model.up_blocks.1.attentions.1.transformer_blocks.0.attn2.to_q.lora_B.default.weight', 'base_model.model.base_model.model.up_blocks.1.attentions.1.transformer_blocks.0.attn2.to_k.lora_A.default.weight', 'base_model.model.base_model.model.up_blocks.1.attentions.1.transformer_blocks.0.attn2.to_k.lora_B.default.weight', 'base_model.model.base_model.model.up_blocks.1.attentions.1.transformer_blocks.0.attn2.to_v.lora_A.default.weight', 'base_model.model.base_model.model.up_blocks.1.attentions.1.transformer_blocks.0.attn2.to_v.lora_B.default.weight', 'base_model.model.base_model.model.up_blocks.1.attentions.1.proj_out.lora_A.default.weight', 'base_model.model.base_model.model.up_blocks.1.attentions.1.proj_out.lora_B.default.weight', 'base_model.model.base_model.model.up_blocks.1.attentions.2.proj_in.lora_A.default.weight', 'base_model.model.base_model.model.up_blocks.1.attentions.2.proj_in.lora_B.default.weight', 'base_model.model.base_model.model.up_blocks.1.attentions.2.transformer_blocks.0.attn1.to_q.lora_A.default.weight', 'base_model.model.base_model.model.up_blocks.1.attentions.2.transformer_blocks.0.attn1.to_q.lora_B.default.weight', 'base_model.model.base_model.model.up_blocks.1.attentions.2.transformer_blocks.0.attn1.to_k.lora_A.default.weight', 'base_model.model.base_model.model.up_blocks.1.attentions.2.transformer_blocks.0.attn1.to_k.lora_B.default.weight', 'base_model.model.base_model.model.up_blocks.1.attentions.2.transformer_blocks.0.attn1.to_v.lora_A.default.weight', 'base_model.model.base_model.model.up_blocks.1.attentions.2.transformer_blocks.0.attn1.to_v.lora_B.default.weight', 'base_model.model.base_model.model.up_blocks.1.attentions.2.transformer_blocks.0.attn2.to_q.lora_A.default.weight', 'base_model.model.base_model.model.up_blocks.1.attentions.2.transformer_blocks.0.attn2.to_q.lora_B.default.weight', 'base_model.model.base_model.model.up_blocks.1.attentions.2.transformer_blocks.0.attn2.to_k.lora_A.default.weight', 'base_model.model.base_model.model.up_blocks.1.attentions.2.transformer_blocks.0.attn2.to_k.lora_B.default.weight', 'base_model.model.base_model.model.up_blocks.1.attentions.2.transformer_blocks.0.attn2.to_v.lora_A.default.weight', 'base_model.model.base_model.model.up_blocks.1.attentions.2.transformer_blocks.0.attn2.to_v.lora_B.default.weight', 'base_model.model.base_model.model.up_blocks.1.attentions.2.proj_out.lora_A.default.weight', 'base_model.model.base_model.model.up_blocks.1.attentions.2.proj_out.lora_B.default.weight', 'base_model.model.base_model.model.up_blocks.2.attentions.0.proj_in.lora_A.default.weight', 'base_model.model.base_model.model.up_blocks.2.attentions.0.proj_in.lora_B.default.weight', 'base_model.model.base_model.model.up_blocks.2.attentions.0.transformer_blocks.0.attn1.to_q.lora_A.default.weight', 'base_model.model.base_model.model.up_blocks.2.attentions.0.transformer_blocks.0.attn1.to_q.lora_B.default.weight', 'base_model.model.base_model.model.up_blocks.2.attentions.0.transformer_blocks.0.attn1.to_k.lora_A.default.weight', 'base_model.model.base_model.model.up_blocks.2.attentions.0.transformer_blocks.0.attn1.to_k.lora_B.default.weight', 'base_model.model.base_model.model.up_blocks.2.attentions.0.transformer_blocks.0.attn1.to_v.lora_A.default.weight', 'base_model.model.base_model.model.up_blocks.2.attentions.0.transformer_blocks.0.attn1.to_v.lora_B.default.weight', 'base_model.model.base_model.model.up_blocks.2.attentions.0.transformer_blocks.0.attn2.to_q.lora_A.default.weight', 'base_model.model.base_model.model.up_blocks.2.attentions.0.transformer_blocks.0.attn2.to_q.lora_B.default.weight', 'base_model.model.base_model.model.up_blocks.2.attentions.0.transformer_blocks.0.attn2.to_k.lora_A.default.weight', 'base_model.model.base_model.model.up_blocks.2.attentions.0.transformer_blocks.0.attn2.to_k.lora_B.default.weight', 'base_model.model.base_model.model.up_blocks.2.attentions.0.transformer_blocks.0.attn2.to_v.lora_A.default.weight', 'base_model.model.base_model.model.up_blocks.2.attentions.0.transformer_blocks.0.attn2.to_v.lora_B.default.weight', 'base_model.model.base_model.model.up_blocks.2.attentions.0.proj_out.lora_A.default.weight', 'base_model.model.base_model.model.up_blocks.2.attentions.0.proj_out.lora_B.default.weight', 'base_model.model.base_model.model.up_blocks.2.attentions.1.proj_in.lora_A.default.weight', 'base_model.model.base_model.model.up_blocks.2.attentions.1.proj_in.lora_B.default.weight', 'base_model.model.base_model.model.up_blocks.2.attentions.1.transformer_blocks.0.attn1.to_q.lora_A.default.weight', 'base_model.model.base_model.model.up_blocks.2.attentions.1.transformer_blocks.0.attn1.to_q.lora_B.default.weight', 'base_model.model.base_model.model.up_blocks.2.attentions.1.transformer_blocks.0.attn1.to_k.lora_A.default.weight', 'base_model.model.base_model.model.up_blocks.2.attentions.1.transformer_blocks.0.attn1.to_k.lora_B.default.weight', 'base_model.model.base_model.model.up_blocks.2.attentions.1.transformer_blocks.0.attn1.to_v.lora_A.default.weight', 'base_model.model.base_model.model.up_blocks.2.attentions.1.transformer_blocks.0.attn1.to_v.lora_B.default.weight', 'base_model.model.base_model.model.up_blocks.2.attentions.1.transformer_blocks.0.attn2.to_q.lora_A.default.weight', 'base_model.model.base_model.model.up_blocks.2.attentions.1.transformer_blocks.0.attn2.to_q.lora_B.default.weight', 'base_model.model.base_model.model.up_blocks.2.attentions.1.transformer_blocks.0.attn2.to_k.lora_A.default.weight', 'base_model.model.base_model.model.up_blocks.2.attentions.1.transformer_blocks.0.attn2.to_k.lora_B.default.weight', 'base_model.model.base_model.model.up_blocks.2.attentions.1.transformer_blocks.0.attn2.to_v.lora_A.default.weight', 'base_model.model.base_model.model.up_blocks.2.attentions.1.transformer_blocks.0.attn2.to_v.lora_B.default.weight', 'base_model.model.base_model.model.up_blocks.2.attentions.1.proj_out.lora_A.default.weight', 'base_model.model.base_model.model.up_blocks.2.attentions.1.proj_out.lora_B.default.weight', 'base_model.model.base_model.model.up_blocks.2.attentions.2.proj_in.lora_A.default.weight', 'base_model.model.base_model.model.up_blocks.2.attentions.2.proj_in.lora_B.default.weight', 'base_model.model.base_model.model.up_blocks.2.attentions.2.transformer_blocks.0.attn1.to_q.lora_A.default.weight', 'base_model.model.base_model.model.up_blocks.2.attentions.2.transformer_blocks.0.attn1.to_q.lora_B.default.weight', 'base_model.model.base_model.model.up_blocks.2.attentions.2.transformer_blocks.0.attn1.to_k.lora_A.default.weight', 'base_model.model.base_model.model.up_blocks.2.attentions.2.transformer_blocks.0.attn1.to_k.lora_B.default.weight', 'base_model.model.base_model.model.up_blocks.2.attentions.2.transformer_blocks.0.attn1.to_v.lora_A.default.weight', 'base_model.model.base_model.model.up_blocks.2.attentions.2.transformer_blocks.0.attn1.to_v.lora_B.default.weight', 'base_model.model.base_model.model.up_blocks.2.attentions.2.transformer_blocks.0.attn2.to_q.lora_A.default.weight', 'base_model.model.base_model.model.up_blocks.2.attentions.2.transformer_blocks.0.attn2.to_q.lora_B.default.weight', 'base_model.model.base_model.model.up_blocks.2.attentions.2.transformer_blocks.0.attn2.to_k.lora_A.default.weight', 'base_model.model.base_model.model.up_blocks.2.attentions.2.transformer_blocks.0.attn2.to_k.lora_B.default.weight', 'base_model.model.base_model.model.up_blocks.2.attentions.2.transformer_blocks.0.attn2.to_v.lora_A.default.weight', 'base_model.model.base_model.model.up_blocks.2.attentions.2.transformer_blocks.0.attn2.to_v.lora_B.default.weight', 'base_model.model.base_model.model.up_blocks.2.attentions.2.proj_out.lora_A.default.weight', 'base_model.model.base_model.model.up_blocks.2.attentions.2.proj_out.lora_B.default.weight', 'base_model.model.base_model.model.up_blocks.3.attentions.0.proj_in.lora_A.default.weight', 'base_model.model.base_model.model.up_blocks.3.attentions.0.proj_in.lora_B.default.weight', 'base_model.model.base_model.model.up_blocks.3.attentions.0.transformer_blocks.0.attn1.to_q.lora_A.default.weight', 'base_model.model.base_model.model.up_blocks.3.attentions.0.transformer_blocks.0.attn1.to_q.lora_B.default.weight', 'base_model.model.base_model.model.up_blocks.3.attentions.0.transformer_blocks.0.attn1.to_k.lora_A.default.weight', 'base_model.model.base_model.model.up_blocks.3.attentions.0.transformer_blocks.0.attn1.to_k.lora_B.default.weight', 'base_model.model.base_model.model.up_blocks.3.attentions.0.transformer_blocks.0.attn1.to_v.lora_A.default.weight', 'base_model.model.base_model.model.up_blocks.3.attentions.0.transformer_blocks.0.attn1.to_v.lora_B.default.weight', 'base_model.model.base_model.model.up_blocks.3.attentions.0.transformer_blocks.0.attn2.to_q.lora_A.default.weight', 'base_model.model.base_model.model.up_blocks.3.attentions.0.transformer_blocks.0.attn2.to_q.lora_B.default.weight', 'base_model.model.base_model.model.up_blocks.3.attentions.0.transformer_blocks.0.attn2.to_k.lora_A.default.weight', 'base_model.model.base_model.model.up_blocks.3.attentions.0.transformer_blocks.0.attn2.to_k.lora_B.default.weight', 'base_model.model.base_model.model.up_blocks.3.attentions.0.transformer_blocks.0.attn2.to_v.lora_A.default.weight', 'base_model.model.base_model.model.up_blocks.3.attentions.0.transformer_blocks.0.attn2.to_v.lora_B.default.weight', 'base_model.model.base_model.model.up_blocks.3.attentions.0.proj_out.lora_A.default.weight', 'base_model.model.base_model.model.up_blocks.3.attentions.0.proj_out.lora_B.default.weight', 'base_model.model.base_model.model.up_blocks.3.attentions.1.proj_in.lora_A.default.weight', 'base_model.model.base_model.model.up_blocks.3.attentions.1.proj_in.lora_B.default.weight', 'base_model.model.base_model.model.up_blocks.3.attentions.1.transformer_blocks.0.attn1.to_q.lora_A.default.weight', 'base_model.model.base_model.model.up_blocks.3.attentions.1.transformer_blocks.0.attn1.to_q.lora_B.default.weight', 'base_model.model.base_model.model.up_blocks.3.attentions.1.transformer_blocks.0.attn1.to_k.lora_A.default.weight', 'base_model.model.base_model.model.up_blocks.3.attentions.1.transformer_blocks.0.attn1.to_k.lora_B.default.weight', 'base_model.model.base_model.model.up_blocks.3.attentions.1.transformer_blocks.0.attn1.to_v.lora_A.default.weight', 'base_model.model.base_model.model.up_blocks.3.attentions.1.transformer_blocks.0.attn1.to_v.lora_B.default.weight', 'base_model.model.base_model.model.up_blocks.3.attentions.1.transformer_blocks.0.attn2.to_q.lora_A.default.weight', 'base_model.model.base_model.model.up_blocks.3.attentions.1.transformer_blocks.0.attn2.to_q.lora_B.default.weight', 'base_model.model.base_model.model.up_blocks.3.attentions.1.transformer_blocks.0.attn2.to_k.lora_A.default.weight', 'base_model.model.base_model.model.up_blocks.3.attentions.1.transformer_blocks.0.attn2.to_k.lora_B.default.weight', 'base_model.model.base_model.model.up_blocks.3.attentions.1.transformer_blocks.0.attn2.to_v.lora_A.default.weight', 'base_model.model.base_model.model.up_blocks.3.attentions.1.transformer_blocks.0.attn2.to_v.lora_B.default.weight', 'base_model.model.base_model.model.up_blocks.3.attentions.1.proj_out.lora_A.default.weight', 'base_model.model.base_model.model.up_blocks.3.attentions.1.proj_out.lora_B.default.weight', 'base_model.model.base_model.model.up_blocks.3.attentions.2.proj_in.lora_A.default.weight', 'base_model.model.base_model.model.up_blocks.3.attentions.2.proj_in.lora_B.default.weight', 'base_model.model.base_model.model.up_blocks.3.attentions.2.transformer_blocks.0.attn1.to_q.lora_A.default.weight', 'base_model.model.base_model.model.up_blocks.3.attentions.2.transformer_blocks.0.attn1.to_q.lora_B.default.weight', 'base_model.model.base_model.model.up_blocks.3.attentions.2.transformer_blocks.0.attn1.to_k.lora_A.default.weight', 'base_model.model.base_model.model.up_blocks.3.attentions.2.transformer_blocks.0.attn1.to_k.lora_B.default.weight', 'base_model.model.base_model.model.up_blocks.3.attentions.2.transformer_blocks.0.attn1.to_v.lora_A.default.weight', 'base_model.model.base_model.model.up_blocks.3.attentions.2.transformer_blocks.0.attn1.to_v.lora_B.default.weight', 'base_model.model.base_model.model.up_blocks.3.attentions.2.transformer_blocks.0.attn2.to_q.lora_A.default.weight', 'base_model.model.base_model.model.up_blocks.3.attentions.2.transformer_blocks.0.attn2.to_q.lora_B.default.weight', 'base_model.model.base_model.model.up_blocks.3.attentions.2.transformer_blocks.0.attn2.to_k.lora_A.default.weight', 'base_model.model.base_model.model.up_blocks.3.attentions.2.transformer_blocks.0.attn2.to_k.lora_B.default.weight', 'base_model.model.base_model.model.up_blocks.3.attentions.2.transformer_blocks.0.attn2.to_v.lora_A.default.weight', 'base_model.model.base_model.model.up_blocks.3.attentions.2.transformer_blocks.0.attn2.to_v.lora_B.default.weight', 'base_model.model.base_model.model.up_blocks.3.attentions.2.proj_out.lora_A.default.weight', 'base_model.model.base_model.model.up_blocks.3.attentions.2.proj_out.lora_B.default.weight', 'base_model.model.base_model.model.mid_block.attentions.0.proj_in.lora_A.default.weight', 'base_model.model.base_model.model.mid_block.attentions.0.proj_in.lora_B.default.weight', 'base_model.model.base_model.model.mid_block.attentions.0.transformer_blocks.0.attn1.to_q.lora_A.default.weight', 'base_model.model.base_model.model.mid_block.attentions.0.transformer_blocks.0.attn1.to_q.lora_B.default.weight', 'base_model.model.base_model.model.mid_block.attentions.0.transformer_blocks.0.attn1.to_k.lora_A.default.weight', 'base_model.model.base_model.model.mid_block.attentions.0.transformer_blocks.0.attn1.to_k.lora_B.default.weight', 'base_model.model.base_model.model.mid_block.attentions.0.transformer_blocks.0.attn1.to_v.lora_A.default.weight', 'base_model.model.base_model.model.mid_block.attentions.0.transformer_blocks.0.attn1.to_v.lora_B.default.weight', 'base_model.model.base_model.model.mid_block.attentions.0.transformer_blocks.0.attn2.to_q.lora_A.default.weight', 'base_model.model.base_model.model.mid_block.attentions.0.transformer_blocks.0.attn2.to_q.lora_B.default.weight', 'base_model.model.base_model.model.mid_block.attentions.0.transformer_blocks.0.attn2.to_k.lora_A.default.weight', 'base_model.model.base_model.model.mid_block.attentions.0.transformer_blocks.0.attn2.to_k.lora_B.default.weight', 'base_model.model.base_model.model.mid_block.attentions.0.transformer_blocks.0.attn2.to_v.lora_A.default.weight', 'base_model.model.base_model.model.mid_block.attentions.0.transformer_blocks.0.attn2.to_v.lora_B.default.weight', 'base_model.model.base_model.model.mid_block.attentions.0.proj_out.lora_A.default.weight', 'base_model.model.base_model.model.mid_block.attentions.0.proj_out.lora_B.default.weight'].\n",
      "  warnings.warn(warn_message)\n"
     ]
    },
    {
     "data": {
      "text/plain": [
       "EmbeddingProjector(\n",
       "  (fc): Linear(in_features=512, out_features=1024, bias=True)\n",
       ")"
      ]
     },
     "execution_count": 10,
     "metadata": {},
     "output_type": "execute_result"
    }
   ],
   "source": [
    "# Load Model for Inference\n",
    "unet = PeftModel.from_pretrained(unet, \"lora_emoji_unet\").to(device).to(torch.float16)\n",
    "embedding_projector.load_state_dict(torch.load(\"embedding_projector.pth\"))\n",
    "unet.eval()\n",
    "embedding_projector.eval()"
   ]
  },
  {
   "cell_type": "code",
   "execution_count": 11,
   "metadata": {},
   "outputs": [],
   "source": [
    "# Load CLIP Model\n",
    "tokenizer = CLIPTokenizer.from_pretrained(\"openai/clip-vit-base-patch32\")\n",
    "text_encoder = CLIPTextModel.from_pretrained(\"openai/clip-vit-base-patch32\").to(device)\n",
    "\n",
    "# Text Processing\n",
    "text_description = \"Smiling face\"\n",
    "tokens = tokenizer(text_description, return_tensors=\"pt\").to(device)\n",
    "text_embedding = text_encoder(**tokens).last_hidden_state[:, 0, :]  # Use CLS token\n",
    "text_embedding = text_embedding.to(torch.float16)\n",
    "projected_embedding = embedding_projector(text_embedding).unsqueeze(0).to(torch.float16)\n",
    "\n",
    "# Generate Noise\n",
    "latents = torch.randn(1, 4, 64, 64, device=device, dtype=torch.float16)\n",
    "timesteps = torch.tensor([500], device=device).long()"
   ]
  },
  {
   "cell_type": "code",
   "execution_count": 12,
   "metadata": {},
   "outputs": [],
   "source": [
    "\n",
    "\n",
    "# Generate Emoji\n",
    "with torch.no_grad():\n",
    "    denoised_latents = unet(latents, timesteps, encoder_hidden_states=projected_embedding).sample\n",
    "\n",
    "denoised_latents = denoised_latents / 0.18215\n",
    "\n",
    "with torch.no_grad():\n",
    "    decoded_image = vae.decode(denoised_latents).sample\n",
    "\n",
    "decoded_image = (decoded_image.clamp(-1, 1) + 1) / 2\n",
    "emoji_image = Image.fromarray((decoded_image.squeeze(0).permute(1, 2, 0).cpu().numpy() * 255).astype(np.uint8))\n",
    "emoji_image.show()\n"
   ]
  },
  {
   "cell_type": "code",
   "execution_count": null,
   "metadata": {},
   "outputs": [],
   "source": [
    "import torch\n",
    "import torch.nn as nn\n",
    "import torch.nn.functional as F\n",
    "from torch.optim import AdamW\n",
    "from diffusers import UNet2DConditionModel, AutoencoderKL\n",
    "from peft import LoraConfig, get_peft_model\n",
    "from torch.utils.data import DataLoader, Dataset\n",
    "import pandas as pd\n",
    "import matplotlib.pyplot as plt\n",
    "from tqdm import tqdm\n",
    "import gc\n",
    "from transformers import CLIPTokenizer, CLIPTextModel\n",
    "from PIL import Image\n",
    "import numpy as np\n",
    "from transformers import CLIPTokenizer, CLIPTextModel\n",
    "from peft import LoraConfig, PeftModel"
   ]
  },
  {
   "cell_type": "markdown",
   "metadata": {},
   "source": [
    "### Prompt(GPT 4o): Fine tunning Stable Difussion model using Lora ."
   ]
  },
  {
   "cell_type": "code",
   "execution_count": null,
   "metadata": {},
   "outputs": [
    {
     "name": "stdout",
     "output_type": "stream",
     "text": [
      "Using device: cuda\n"
     ]
    },
    {
     "data": {
      "text/plain": [
       "0"
      ]
     },
     "execution_count": 2,
     "metadata": {},
     "output_type": "execute_result"
    }
   ],
   "source": [
    "# Enable cuDNN optimization for faster training\n",
    "torch.backends.cudnn.benchmark = True\n",
    "torch.set_float32_matmul_precision(\"high\")\n",
    "\n",
    "# Ensure PyTorch uses GPU if available\n",
    "device = torch.device(\"cuda\" if torch.cuda.is_available() else \"cpu\")\n",
    "print(f\"Using device: {device}\")\n",
    "\n",
    "# Free GPU memory\n",
    "torch.cuda.empty_cache()\n",
    "gc.collect()"
   ]
  },
  {
   "cell_type": "code",
   "execution_count": null,
   "metadata": {},
   "outputs": [],
   "source": [
    "# Dataset Class\n",
    "class EmojiDataset(Dataset):\n",
    "    def __init__(self, parquet_file):\n",
    "        self.data = pd.read_parquet(parquet_file)\n",
    "\n",
    "    def __len__(self):\n",
    "        return len(self.data)\n",
    "\n",
    "    def __getitem__(self, idx):\n",
    "        image_path = self.data.iloc[idx][\"image_path\"]\n",
    "        image_tensor = torch.load(image_path).float() / 127.5 - 1  # Normalize to [-1,1]\n",
    "        text_embedding = torch.tensor(self.data.iloc[idx][\"combined_embedding\"], dtype=torch.float32)\n",
    "        return image_tensor, text_embedding"
   ]
  },
  {
   "cell_type": "code",
   "execution_count": null,
   "metadata": {},
   "outputs": [
    {
     "name": "stdout",
     "output_type": "stream",
     "text": [
      "FrozenDict({'sample_size': 64, 'in_channels': 4, 'out_channels': 4, 'center_input_sample': False, 'flip_sin_to_cos': True, 'freq_shift': 0, 'down_block_types': ['CrossAttnDownBlock2D', 'CrossAttnDownBlock2D', 'CrossAttnDownBlock2D', 'DownBlock2D'], 'mid_block_type': 'UNetMidBlock2DCrossAttn', 'up_block_types': ['UpBlock2D', 'CrossAttnUpBlock2D', 'CrossAttnUpBlock2D', 'CrossAttnUpBlock2D'], 'only_cross_attention': False, 'block_out_channels': [320, 640, 1280, 1280], 'layers_per_block': 2, 'downsample_padding': 1, 'mid_block_scale_factor': 1, 'dropout': 0.0, 'act_fn': 'silu', 'norm_num_groups': 32, 'norm_eps': 1e-05, 'cross_attention_dim': 1024, 'transformer_layers_per_block': 1, 'reverse_transformer_layers_per_block': None, 'encoder_hid_dim': None, 'encoder_hid_dim_type': None, 'attention_head_dim': [5, 10, 20, 20], 'num_attention_heads': None, 'dual_cross_attention': False, 'use_linear_projection': True, 'class_embed_type': None, 'addition_embed_type': None, 'addition_time_embed_dim': None, 'num_class_embeds': None, 'upcast_attention': False, 'resnet_time_scale_shift': 'default', 'resnet_skip_time_act': False, 'resnet_out_scale_factor': 1.0, 'time_embedding_type': 'positional', 'time_embedding_dim': None, 'time_embedding_act_fn': None, 'timestep_post_act': None, 'time_cond_proj_dim': None, 'conv_in_kernel': 3, 'conv_out_kernel': 3, 'projection_class_embeddings_input_dim': None, 'attention_type': 'default', 'class_embeddings_concat': False, 'mid_block_only_cross_attention': None, 'cross_attention_norm': None, 'addition_embed_type_num_heads': 64, '_use_default_values': ['mid_block_only_cross_attention', 'conv_in_kernel', 'time_cond_proj_dim', 'resnet_time_scale_shift', 'addition_embed_type', 'mid_block_type', 'num_attention_heads', 'num_class_embeds', 'timestep_post_act', 'time_embedding_dim', 'conv_out_kernel', 'attention_type', 'reverse_transformer_layers_per_block', 'resnet_out_scale_factor', 'class_embeddings_concat', 'resnet_skip_time_act', 'encoder_hid_dim', 'only_cross_attention', 'encoder_hid_dim_type', 'cross_attention_norm', 'time_embedding_act_fn', 'upcast_attention', 'addition_embed_type_num_heads', 'dropout', 'time_embedding_type', 'transformer_layers_per_block', 'addition_time_embed_dim', 'class_embed_type', 'projection_class_embeddings_input_dim'], '_class_name': 'UNet2DConditionModel', '_diffusers_version': '0.8.0', '_name_or_path': 'stabilityai/stable-diffusion-2-base'})\n"
     ]
    }
   ],
   "source": [
    "# Load Dataset\n",
    "parquet_file = \"../data/processed_emoji_dataset.parquet\"\n",
    "dataset = EmojiDataset(parquet_file)\n",
    "batch_size = 32  \n",
    "train_dataloader = DataLoader(dataset, batch_size=batch_size, shuffle=True)\n",
    "\n",
    "# Load Stable Diffusion 2 Base Model (Trained on 256x256 images)\n",
    "vae = AutoencoderKL.from_pretrained(\"stabilityai/stable-diffusion-2-base\", subfolder=\"vae\").to(device, dtype=torch.float16)\n",
    "unet = UNet2DConditionModel.from_pretrained(\"stabilityai/stable-diffusion-2-base\", subfolder=\"unet\").to(device, dtype=torch.float16)\n",
    "\n",
    "print(unet.config) "
   ]
  },
  {
   "cell_type": "code",
   "execution_count": null,
   "metadata": {},
   "outputs": [
    {
     "name": "stdout",
     "output_type": "stream",
     "text": [
      "trainable params: 207,488 || all params: 866,118,212 || trainable%: 0.0240\n"
     ]
    }
   ],
   "source": [
    "\n",
    "# Apply LoRA to UNet\n",
    "lora_config = LoraConfig(\n",
    "    r=1,  # LoRA rank\n",
    "    lora_alpha=8,  # Scaling factor\n",
    "    target_modules=[\"to_q\", \"to_k\", \"to_v\", \"proj_out\", \"proj_in\"],  \n",
    "    lora_dropout=0.1,  # Dropout for regularization\n",
    "    bias=\"none\"\n",
    ")\n",
    "\n",
    "unet = get_peft_model(unet, lora_config)\n",
    "unet.print_trainable_parameters()  # Print trainable parameters (should be very small)"
   ]
  },
  {
   "cell_type": "code",
   "execution_count": null,
   "metadata": {},
   "outputs": [],
   "source": [
    "# Enable memory optimization\n",
    "unet.enable_gradient_checkpointing()\n",
    "\n",
    "# Embedding Projector (CLIP 512 → UNet 768)\n",
    "class EmbeddingProjector(nn.Module):\n",
    "    def __init__(self, input_dim=512, output_dim=1024):  # Changed to 768\n",
    "        super().__init__()\n",
    "        self.fc = nn.Linear(input_dim, output_dim)\n",
    "\n",
    "    def forward(self, x):\n",
    "        return self.fc(x)\n",
    "\n",
    "embedding_projector = EmbeddingProjector().to(device, dtype=torch.float16)\n",
    "\n",
    "# Freeze VAE\n",
    "for param in vae.parameters():\n",
    "    param.requires_grad = False  \n",
    "\n",
    "# Define optimizer\n",
    "optimizer = AdamW(filter(lambda p: p.requires_grad, unet.parameters()), lr=0.001)\n",
    "scaler = torch.amp.GradScaler()"
   ]
  },
  {
   "cell_type": "code",
   "execution_count": null,
   "metadata": {},
   "outputs": [
    {
     "name": "stderr",
     "output_type": "stream",
     "text": [
      "Epoch 1/5:   0%|          | 0/85 [00:00<?, ?it/s]\n"
     ]
    },
    {
     "ename": "FileNotFoundError",
     "evalue": "[Errno 2] No such file or directory: '../data/tensor_images/OpenMojiEmoji\\\\1f468-1f468-1f467-1f467.pt'",
     "output_type": "error",
     "traceback": [
      "\u001b[1;31m---------------------------------------------------------------------------\u001b[0m",
      "\u001b[1;31mFileNotFoundError\u001b[0m                         Traceback (most recent call last)",
      "Cell \u001b[1;32mIn[7], line 8\u001b[0m\n\u001b[0;32m      5\u001b[0m epoch_loss \u001b[38;5;241m=\u001b[39m \u001b[38;5;241m0\u001b[39m\n\u001b[0;32m      6\u001b[0m progress_bar \u001b[38;5;241m=\u001b[39m tqdm(train_dataloader, desc\u001b[38;5;241m=\u001b[39m\u001b[38;5;124mf\u001b[39m\u001b[38;5;124m\"\u001b[39m\u001b[38;5;124mEpoch \u001b[39m\u001b[38;5;132;01m{\u001b[39;00mepoch\u001b[38;5;241m+\u001b[39m\u001b[38;5;241m1\u001b[39m\u001b[38;5;132;01m}\u001b[39;00m\u001b[38;5;124m/\u001b[39m\u001b[38;5;132;01m{\u001b[39;00mnum_epochs\u001b[38;5;132;01m}\u001b[39;00m\u001b[38;5;124m\"\u001b[39m)\n\u001b[1;32m----> 8\u001b[0m \u001b[43m\u001b[49m\u001b[38;5;28;43;01mfor\u001b[39;49;00m\u001b[43m \u001b[49m\u001b[43mimages\u001b[49m\u001b[43m,\u001b[49m\u001b[43m \u001b[49m\u001b[43membeddings\u001b[49m\u001b[43m \u001b[49m\u001b[38;5;129;43;01min\u001b[39;49;00m\u001b[43m \u001b[49m\u001b[43mprogress_bar\u001b[49m\u001b[43m:\u001b[49m\n\u001b[0;32m      9\u001b[0m \u001b[43m    \u001b[49m\u001b[43mimages\u001b[49m\u001b[43m \u001b[49m\u001b[38;5;241;43m=\u001b[39;49m\u001b[43m \u001b[49m\u001b[43mimages\u001b[49m\u001b[38;5;241;43m.\u001b[39;49m\u001b[43mto\u001b[49m\u001b[43m(\u001b[49m\u001b[43mdevice\u001b[49m\u001b[43m,\u001b[49m\u001b[43m \u001b[49m\u001b[43mdtype\u001b[49m\u001b[38;5;241;43m=\u001b[39;49m\u001b[43mtorch\u001b[49m\u001b[38;5;241;43m.\u001b[39;49m\u001b[43mfloat16\u001b[49m\u001b[43m,\u001b[49m\u001b[43m \u001b[49m\u001b[43mnon_blocking\u001b[49m\u001b[38;5;241;43m=\u001b[39;49m\u001b[38;5;28;43;01mTrue\u001b[39;49;00m\u001b[43m)\u001b[49m\n\u001b[0;32m     10\u001b[0m \u001b[43m    \u001b[49m\u001b[43membeddings\u001b[49m\u001b[43m \u001b[49m\u001b[38;5;241;43m=\u001b[39;49m\u001b[43m \u001b[49m\u001b[43membeddings\u001b[49m\u001b[38;5;241;43m.\u001b[39;49m\u001b[43mto\u001b[49m\u001b[43m(\u001b[49m\u001b[43mdevice\u001b[49m\u001b[43m,\u001b[49m\u001b[43m \u001b[49m\u001b[43mdtype\u001b[49m\u001b[38;5;241;43m=\u001b[39;49m\u001b[43mtorch\u001b[49m\u001b[38;5;241;43m.\u001b[39;49m\u001b[43mfloat16\u001b[49m\u001b[43m,\u001b[49m\u001b[43m \u001b[49m\u001b[43mnon_blocking\u001b[49m\u001b[38;5;241;43m=\u001b[39;49m\u001b[38;5;28;43;01mTrue\u001b[39;49;00m\u001b[43m)\u001b[49m\n",
      "File \u001b[1;32mc:\\Study\\College\\Project\\myvenv\\Lib\\site-packages\\tqdm\\std.py:1181\u001b[0m, in \u001b[0;36mtqdm.__iter__\u001b[1;34m(self)\u001b[0m\n\u001b[0;32m   1178\u001b[0m time \u001b[38;5;241m=\u001b[39m \u001b[38;5;28mself\u001b[39m\u001b[38;5;241m.\u001b[39m_time\n\u001b[0;32m   1180\u001b[0m \u001b[38;5;28;01mtry\u001b[39;00m:\n\u001b[1;32m-> 1181\u001b[0m \u001b[43m    \u001b[49m\u001b[38;5;28;43;01mfor\u001b[39;49;00m\u001b[43m \u001b[49m\u001b[43mobj\u001b[49m\u001b[43m \u001b[49m\u001b[38;5;129;43;01min\u001b[39;49;00m\u001b[43m \u001b[49m\u001b[43miterable\u001b[49m\u001b[43m:\u001b[49m\n\u001b[0;32m   1182\u001b[0m \u001b[43m        \u001b[49m\u001b[38;5;28;43;01myield\u001b[39;49;00m\u001b[43m \u001b[49m\u001b[43mobj\u001b[49m\n\u001b[0;32m   1183\u001b[0m \u001b[43m        \u001b[49m\u001b[38;5;66;43;03m# Update and possibly print the progressbar.\u001b[39;49;00m\n\u001b[0;32m   1184\u001b[0m \u001b[43m        \u001b[49m\u001b[38;5;66;43;03m# Note: does not call self.update(1) for speed optimisation.\u001b[39;49;00m\n",
      "File \u001b[1;32mc:\\Study\\College\\Project\\myvenv\\Lib\\site-packages\\torch\\utils\\data\\dataloader.py:708\u001b[0m, in \u001b[0;36m_BaseDataLoaderIter.__next__\u001b[1;34m(self)\u001b[0m\n\u001b[0;32m    705\u001b[0m \u001b[38;5;28;01mif\u001b[39;00m \u001b[38;5;28mself\u001b[39m\u001b[38;5;241m.\u001b[39m_sampler_iter \u001b[38;5;129;01mis\u001b[39;00m \u001b[38;5;28;01mNone\u001b[39;00m:\n\u001b[0;32m    706\u001b[0m     \u001b[38;5;66;03m# TODO(https://github.com/pytorch/pytorch/issues/76750)\u001b[39;00m\n\u001b[0;32m    707\u001b[0m     \u001b[38;5;28mself\u001b[39m\u001b[38;5;241m.\u001b[39m_reset()  \u001b[38;5;66;03m# type: ignore[call-arg]\u001b[39;00m\n\u001b[1;32m--> 708\u001b[0m data \u001b[38;5;241m=\u001b[39m \u001b[38;5;28;43mself\u001b[39;49m\u001b[38;5;241;43m.\u001b[39;49m\u001b[43m_next_data\u001b[49m\u001b[43m(\u001b[49m\u001b[43m)\u001b[49m\n\u001b[0;32m    709\u001b[0m \u001b[38;5;28mself\u001b[39m\u001b[38;5;241m.\u001b[39m_num_yielded \u001b[38;5;241m+\u001b[39m\u001b[38;5;241m=\u001b[39m \u001b[38;5;241m1\u001b[39m\n\u001b[0;32m    710\u001b[0m \u001b[38;5;28;01mif\u001b[39;00m (\n\u001b[0;32m    711\u001b[0m     \u001b[38;5;28mself\u001b[39m\u001b[38;5;241m.\u001b[39m_dataset_kind \u001b[38;5;241m==\u001b[39m _DatasetKind\u001b[38;5;241m.\u001b[39mIterable\n\u001b[0;32m    712\u001b[0m     \u001b[38;5;129;01mand\u001b[39;00m \u001b[38;5;28mself\u001b[39m\u001b[38;5;241m.\u001b[39m_IterableDataset_len_called \u001b[38;5;129;01mis\u001b[39;00m \u001b[38;5;129;01mnot\u001b[39;00m \u001b[38;5;28;01mNone\u001b[39;00m\n\u001b[0;32m    713\u001b[0m     \u001b[38;5;129;01mand\u001b[39;00m \u001b[38;5;28mself\u001b[39m\u001b[38;5;241m.\u001b[39m_num_yielded \u001b[38;5;241m>\u001b[39m \u001b[38;5;28mself\u001b[39m\u001b[38;5;241m.\u001b[39m_IterableDataset_len_called\n\u001b[0;32m    714\u001b[0m ):\n",
      "File \u001b[1;32mc:\\Study\\College\\Project\\myvenv\\Lib\\site-packages\\torch\\utils\\data\\dataloader.py:764\u001b[0m, in \u001b[0;36m_SingleProcessDataLoaderIter._next_data\u001b[1;34m(self)\u001b[0m\n\u001b[0;32m    762\u001b[0m \u001b[38;5;28;01mdef\u001b[39;00m\u001b[38;5;250m \u001b[39m\u001b[38;5;21m_next_data\u001b[39m(\u001b[38;5;28mself\u001b[39m):\n\u001b[0;32m    763\u001b[0m     index \u001b[38;5;241m=\u001b[39m \u001b[38;5;28mself\u001b[39m\u001b[38;5;241m.\u001b[39m_next_index()  \u001b[38;5;66;03m# may raise StopIteration\u001b[39;00m\n\u001b[1;32m--> 764\u001b[0m     data \u001b[38;5;241m=\u001b[39m \u001b[38;5;28;43mself\u001b[39;49m\u001b[38;5;241;43m.\u001b[39;49m\u001b[43m_dataset_fetcher\u001b[49m\u001b[38;5;241;43m.\u001b[39;49m\u001b[43mfetch\u001b[49m\u001b[43m(\u001b[49m\u001b[43mindex\u001b[49m\u001b[43m)\u001b[49m  \u001b[38;5;66;03m# may raise StopIteration\u001b[39;00m\n\u001b[0;32m    765\u001b[0m     \u001b[38;5;28;01mif\u001b[39;00m \u001b[38;5;28mself\u001b[39m\u001b[38;5;241m.\u001b[39m_pin_memory:\n\u001b[0;32m    766\u001b[0m         data \u001b[38;5;241m=\u001b[39m _utils\u001b[38;5;241m.\u001b[39mpin_memory\u001b[38;5;241m.\u001b[39mpin_memory(data, \u001b[38;5;28mself\u001b[39m\u001b[38;5;241m.\u001b[39m_pin_memory_device)\n",
      "File \u001b[1;32mc:\\Study\\College\\Project\\myvenv\\Lib\\site-packages\\torch\\utils\\data\\_utils\\fetch.py:52\u001b[0m, in \u001b[0;36m_MapDatasetFetcher.fetch\u001b[1;34m(self, possibly_batched_index)\u001b[0m\n\u001b[0;32m     50\u001b[0m         data \u001b[38;5;241m=\u001b[39m \u001b[38;5;28mself\u001b[39m\u001b[38;5;241m.\u001b[39mdataset\u001b[38;5;241m.\u001b[39m__getitems__(possibly_batched_index)\n\u001b[0;32m     51\u001b[0m     \u001b[38;5;28;01melse\u001b[39;00m:\n\u001b[1;32m---> 52\u001b[0m         data \u001b[38;5;241m=\u001b[39m [\u001b[38;5;28;43mself\u001b[39;49m\u001b[38;5;241;43m.\u001b[39;49m\u001b[43mdataset\u001b[49m\u001b[43m[\u001b[49m\u001b[43midx\u001b[49m\u001b[43m]\u001b[49m \u001b[38;5;28;01mfor\u001b[39;00m idx \u001b[38;5;129;01min\u001b[39;00m possibly_batched_index]\n\u001b[0;32m     53\u001b[0m \u001b[38;5;28;01melse\u001b[39;00m:\n\u001b[0;32m     54\u001b[0m     data \u001b[38;5;241m=\u001b[39m \u001b[38;5;28mself\u001b[39m\u001b[38;5;241m.\u001b[39mdataset[possibly_batched_index]\n",
      "Cell \u001b[1;32mIn[3], line 11\u001b[0m, in \u001b[0;36mEmojiDataset.__getitem__\u001b[1;34m(self, idx)\u001b[0m\n\u001b[0;32m      9\u001b[0m \u001b[38;5;28;01mdef\u001b[39;00m\u001b[38;5;250m \u001b[39m\u001b[38;5;21m__getitem__\u001b[39m(\u001b[38;5;28mself\u001b[39m, idx):\n\u001b[0;32m     10\u001b[0m     image_path \u001b[38;5;241m=\u001b[39m \u001b[38;5;28mself\u001b[39m\u001b[38;5;241m.\u001b[39mdata\u001b[38;5;241m.\u001b[39miloc[idx][\u001b[38;5;124m\"\u001b[39m\u001b[38;5;124mimage_path\u001b[39m\u001b[38;5;124m\"\u001b[39m]\n\u001b[1;32m---> 11\u001b[0m     image_tensor \u001b[38;5;241m=\u001b[39m \u001b[43mtorch\u001b[49m\u001b[38;5;241;43m.\u001b[39;49m\u001b[43mload\u001b[49m\u001b[43m(\u001b[49m\u001b[43mimage_path\u001b[49m\u001b[43m)\u001b[49m\u001b[38;5;241m.\u001b[39mfloat() \u001b[38;5;241m/\u001b[39m \u001b[38;5;241m127.5\u001b[39m \u001b[38;5;241m-\u001b[39m \u001b[38;5;241m1\u001b[39m  \u001b[38;5;66;03m# Normalize to [-1,1]\u001b[39;00m\n\u001b[0;32m     12\u001b[0m     text_embedding \u001b[38;5;241m=\u001b[39m torch\u001b[38;5;241m.\u001b[39mtensor(\u001b[38;5;28mself\u001b[39m\u001b[38;5;241m.\u001b[39mdata\u001b[38;5;241m.\u001b[39miloc[idx][\u001b[38;5;124m\"\u001b[39m\u001b[38;5;124mcombined_embedding\u001b[39m\u001b[38;5;124m\"\u001b[39m], dtype\u001b[38;5;241m=\u001b[39mtorch\u001b[38;5;241m.\u001b[39mfloat32)\n\u001b[0;32m     13\u001b[0m     \u001b[38;5;28;01mreturn\u001b[39;00m image_tensor, text_embedding\n",
      "File \u001b[1;32mc:\\Study\\College\\Project\\myvenv\\Lib\\site-packages\\torch\\serialization.py:1425\u001b[0m, in \u001b[0;36mload\u001b[1;34m(f, map_location, pickle_module, weights_only, mmap, **pickle_load_args)\u001b[0m\n\u001b[0;32m   1422\u001b[0m \u001b[38;5;28;01mif\u001b[39;00m \u001b[38;5;124m\"\u001b[39m\u001b[38;5;124mencoding\u001b[39m\u001b[38;5;124m\"\u001b[39m \u001b[38;5;129;01mnot\u001b[39;00m \u001b[38;5;129;01min\u001b[39;00m pickle_load_args\u001b[38;5;241m.\u001b[39mkeys():\n\u001b[0;32m   1423\u001b[0m     pickle_load_args[\u001b[38;5;124m\"\u001b[39m\u001b[38;5;124mencoding\u001b[39m\u001b[38;5;124m\"\u001b[39m] \u001b[38;5;241m=\u001b[39m \u001b[38;5;124m\"\u001b[39m\u001b[38;5;124mutf-8\u001b[39m\u001b[38;5;124m\"\u001b[39m\n\u001b[1;32m-> 1425\u001b[0m \u001b[38;5;28;01mwith\u001b[39;00m \u001b[43m_open_file_like\u001b[49m\u001b[43m(\u001b[49m\u001b[43mf\u001b[49m\u001b[43m,\u001b[49m\u001b[43m \u001b[49m\u001b[38;5;124;43m\"\u001b[39;49m\u001b[38;5;124;43mrb\u001b[39;49m\u001b[38;5;124;43m\"\u001b[39;49m\u001b[43m)\u001b[49m \u001b[38;5;28;01mas\u001b[39;00m opened_file:\n\u001b[0;32m   1426\u001b[0m     \u001b[38;5;28;01mif\u001b[39;00m _is_zipfile(opened_file):\n\u001b[0;32m   1427\u001b[0m         \u001b[38;5;66;03m# The zipfile reader is going to advance the current file position.\u001b[39;00m\n\u001b[0;32m   1428\u001b[0m         \u001b[38;5;66;03m# If we want to actually tail call to torch.jit.load, we need to\u001b[39;00m\n\u001b[0;32m   1429\u001b[0m         \u001b[38;5;66;03m# reset back to the original position.\u001b[39;00m\n\u001b[0;32m   1430\u001b[0m         orig_position \u001b[38;5;241m=\u001b[39m opened_file\u001b[38;5;241m.\u001b[39mtell()\n",
      "File \u001b[1;32mc:\\Study\\College\\Project\\myvenv\\Lib\\site-packages\\torch\\serialization.py:751\u001b[0m, in \u001b[0;36m_open_file_like\u001b[1;34m(name_or_buffer, mode)\u001b[0m\n\u001b[0;32m    749\u001b[0m \u001b[38;5;28;01mdef\u001b[39;00m\u001b[38;5;250m \u001b[39m\u001b[38;5;21m_open_file_like\u001b[39m(name_or_buffer, mode):\n\u001b[0;32m    750\u001b[0m     \u001b[38;5;28;01mif\u001b[39;00m _is_path(name_or_buffer):\n\u001b[1;32m--> 751\u001b[0m         \u001b[38;5;28;01mreturn\u001b[39;00m \u001b[43m_open_file\u001b[49m\u001b[43m(\u001b[49m\u001b[43mname_or_buffer\u001b[49m\u001b[43m,\u001b[49m\u001b[43m \u001b[49m\u001b[43mmode\u001b[49m\u001b[43m)\u001b[49m\n\u001b[0;32m    752\u001b[0m     \u001b[38;5;28;01melse\u001b[39;00m:\n\u001b[0;32m    753\u001b[0m         \u001b[38;5;28;01mif\u001b[39;00m \u001b[38;5;124m\"\u001b[39m\u001b[38;5;124mw\u001b[39m\u001b[38;5;124m\"\u001b[39m \u001b[38;5;129;01min\u001b[39;00m mode:\n",
      "File \u001b[1;32mc:\\Study\\College\\Project\\myvenv\\Lib\\site-packages\\torch\\serialization.py:732\u001b[0m, in \u001b[0;36m_open_file.__init__\u001b[1;34m(self, name, mode)\u001b[0m\n\u001b[0;32m    731\u001b[0m \u001b[38;5;28;01mdef\u001b[39;00m\u001b[38;5;250m \u001b[39m\u001b[38;5;21m__init__\u001b[39m(\u001b[38;5;28mself\u001b[39m, name, mode):\n\u001b[1;32m--> 732\u001b[0m     \u001b[38;5;28msuper\u001b[39m()\u001b[38;5;241m.\u001b[39m\u001b[38;5;21m__init__\u001b[39m(\u001b[38;5;28;43mopen\u001b[39;49m\u001b[43m(\u001b[49m\u001b[43mname\u001b[49m\u001b[43m,\u001b[49m\u001b[43m \u001b[49m\u001b[43mmode\u001b[49m\u001b[43m)\u001b[49m)\n",
      "\u001b[1;31mFileNotFoundError\u001b[0m: [Errno 2] No such file or directory: '../data/tensor_images/OpenMojiEmoji\\\\1f468-1f468-1f467-1f467.pt'"
     ]
    }
   ],
   "source": [
    "# Training Loop\n",
    "num_epochs = 5\n",
    "losses = []\n",
    "for epoch in range(num_epochs):\n",
    "    epoch_loss = 0\n",
    "    progress_bar = tqdm(train_dataloader, desc=f\"Epoch {epoch+1}/{num_epochs}\")\n",
    "    \n",
    "    for images, embeddings in progress_bar:\n",
    "        images = images.to(device, dtype=torch.float16, non_blocking=True)\n",
    "        embeddings = embeddings.to(device, dtype=torch.float16, non_blocking=True)\n",
    "        optimizer.zero_grad()\n",
    "\n",
    "        # Project CLIP embeddings\n",
    "        with torch.no_grad():\n",
    "            projected_embeddings = embedding_projector(embeddings).unsqueeze(1)\n",
    "        \n",
    "        with torch.no_grad():\n",
    "            latents = vae.encode(images).latent_dist.sample() * 0.18215\n",
    "\n",
    "        # Convert latents to bfloat16 to save memory\n",
    "        latents = latents.to(torch.float16)\n",
    "\n",
    "        # Generate noise\n",
    "        noise = torch.randn_like(latents, dtype=torch.float16)\n",
    "        timesteps = torch.randint(0, 1000, (latents.shape[0],), device=device).long()\n",
    "\n",
    "        # Forward pass\n",
    "        with torch.amp.autocast(\"cuda\"):\n",
    "            noise_pred = unet(latents, timesteps, encoder_hidden_states=projected_embeddings).sample\n",
    "            loss = F.mse_loss(noise_pred, noise)\n",
    "\n",
    "        # Backpropagation\n",
    "        scaler.scale(loss).backward()\n",
    "        scaler.unscale_(optimizer)  # Avoid NaN issues\n",
    "        scaler.step(optimizer)\n",
    "        scaler.update()\n",
    "\n",
    "        epoch_loss += loss.item()\n",
    "        progress_bar.set_postfix(loss=loss.item())\n",
    "\n",
    "    avg_epoch_loss = epoch_loss / len(train_dataloader)\n",
    "    losses.append(avg_epoch_loss)\n",
    "    print(f\"Epoch {epoch+1}/{num_epochs}, Loss: {avg_epoch_loss:.4f}\")\n"
   ]
  },
  {
   "cell_type": "code",
   "execution_count": null,
   "metadata": {},
   "outputs": [],
   "source": [
    "\n",
    "# Save Model\n",
    "torch.save({\n",
    "    \"unet\": unet.state_dict(),\n",
    "    \"embedding_projector\": embedding_projector.state_dict()\n",
    "}, \"emoji_generator.pth\")\n",
    "print(\"Model saved successfully!\")\n",
    "\n",
    "# Save LoRA Weights\n",
    "unet.save_pretrained(\"lora_emoji_unet\")\n",
    "torch.save(embedding_projector.state_dict(), \"embedding_projector.pth\")\n",
    "print(\"LoRA adapters saved successfully!\")\n"
   ]
  },
  {
   "cell_type": "code",
   "execution_count": null,
   "metadata": {},
   "outputs": [],
   "source": [
    "\n",
    "# Plot Loss Curve\n",
    "plt.plot(range(1, num_epochs + 1), losses, marker=\"o\", linestyle=\"-\")\n",
    "plt.xlabel(\"Epochs\")\n",
    "plt.ylabel(\"Loss\")\n",
    "plt.title(\"Training Loss Curve\")\n",
    "plt.grid()\n",
    "plt.show()\n"
   ]
  },
  {
   "cell_type": "code",
   "execution_count": null,
   "metadata": {},
   "outputs": [],
   "source": [
    "unet = PeftModel.from_pretrained(unet, \"lora_emoji_unet\").to(device).to(torch.float16)\n",
    "embedding_projector.load_state_dict(torch.load(\"embedding_projector.pth\"))\n",
    "unet.eval()\n",
    "embedding_projector.eval()\n"
   ]
  },
  {
   "cell_type": "code",
   "execution_count": null,
   "metadata": {},
   "outputs": [],
   "source": [
    "\n",
    "# Assuming the necessary models are already loaded\n",
    "tokenizer = CLIPTokenizer.from_pretrained(\"openai/clip-vit-base-patch32\")\n",
    "text_encoder = CLIPTextModel.from_pretrained(\"openai/clip-vit-base-patch32\")\n",
    "text_encoder = text_encoder.to(device)"
   ]
  },
  {
   "cell_type": "code",
   "execution_count": null,
   "metadata": {},
   "outputs": [],
   "source": [
    "# Define your text prompt\n",
    "text_description = \"Smiling face\"  # This is where we specify \"dog\"\n",
    "\n",
    "# Tokenize and encode the text prompt\n",
    "tokens = tokenizer(text_description, return_tensors=\"pt\").to(device)\n",
    "text_embedding = text_encoder(**tokens).last_hidden_state.mean(dim=1)  # Aggregate token embeddings\n",
    "text_embedding = text_embedding.to(torch.float16)  # Ensure it's float16 for compatibility with UNet"
   ]
  },
  {
   "cell_type": "code",
   "execution_count": null,
   "metadata": {},
   "outputs": [],
   "source": [
    "# Project the embedding to match UNet’s expected format\n",
    "projected_embedding = embedding_projector(text_embedding).unsqueeze(0).to(torch.float16)  # Ensure float16\n",
    "\n",
    "# Generate noise in latent space (fixed size 96x96)\n",
    "latents = torch.randn(1, 4, 96, 96).to(device).to(torch.float16)  # Ensure latents are in float16\n",
    "timesteps = torch.tensor([500], device=device).long()\n",
    "torch.cuda.empty_cache()\n",
    "gc.collect()\n",
    "\n",
    "# Generate noise in latent space (smaller size)\n",
    "latents = torch.randn(1, 4, 64, 64, device=device, dtype=torch.float16)\n",
    "timesteps = torch.tensor([500], device=device).long()"
   ]
  },
  {
   "cell_type": "code",
   "execution_count": null,
   "metadata": {},
   "outputs": [],
   "source": [
    "# Generate Emoji\n",
    "with torch.no_grad():\n",
    "    denoised_latents = unet(latents, timesteps, encoder_hidden_states=projected_embedding).sample\n",
    "\n",
    "# Move to CPU and Decode\n",
    "denoised_latents = denoised_latents / 0.18215\n",
    "\n",
    "with torch.no_grad():\n",
    "    decoded_image = vae.decode(denoised_latents).sample"
   ]
  },
  {
   "cell_type": "code",
   "execution_count": null,
   "metadata": {},
   "outputs": [],
   "source": [
    "\n",
    "\n",
    "# Post-process Image\n",
    "decoded_image = (decoded_image.clamp(-1, 1) + 1) / 2\n",
    "decoded_image = decoded_image.squeeze(0).permute(1, 2, 0).cpu().numpy()\n",
    "decoded_image = (decoded_image * 255).astype(np.uint8)\n",
    "emoji_image = Image.fromarray(decoded_image)\n",
    "\n",
    "# Display the image\n",
    "emoji_image.show()\n"
   ]
  },
  {
   "cell_type": "code",
   "execution_count": null,
   "metadata": {},
   "outputs": [],
   "source": []
  }
 ],
 "metadata": {
  "kernelspec": {
   "display_name": "myvenv",
   "language": "python",
   "name": "python3"
  },
  "language_info": {
   "codemirror_mode": {
    "name": "ipython",
    "version": 3
   },
   "file_extension": ".py",
   "mimetype": "text/x-python",
   "name": "python",
   "nbconvert_exporter": "python",
   "pygments_lexer": "ipython3",
   "version": "3.13.2"
  }
 },
 "nbformat": 4,
 "nbformat_minor": 2
}
