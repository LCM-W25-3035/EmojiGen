{
 "cells": [
  {
   "cell_type": "code",
   "execution_count": 2,
   "metadata": {},
   "outputs": [],
   "source": [
    "import os\n",
    "import torch\n",
    "import pandas as pd\n",
    "import torch.nn as nn\n",
    "import torch.optim as optim\n",
    "import numpy as np\n",
    "import torchvision.transforms as transforms\n",
    "import torchvision.datasets as datasets\n",
    "import matplotlib.pyplot as plt\n",
    "from torch.utils.data import DataLoader, Dataset\n",
    "from tqdm import tqdm\n",
    "from sklearn.model_selection import train_test_split"
   ]
  },
  {
   "cell_type": "code",
   "execution_count": 5,
   "metadata": {},
   "outputs": [
    {
     "name": "stdout",
     "output_type": "stream",
     "text": [
      "Using device: cuda\n"
     ]
    }
   ],
   "source": [
    "device = torch.device(\"cuda\" if torch.cuda.is_available() else \"cpu\")\n",
    "print(f\"Using device: {device}\")"
   ]
  },
  {
   "cell_type": "code",
   "execution_count": 3,
   "metadata": {},
   "outputs": [],
   "source": [
    "# Load dataset\n",
    "df = pd.read_parquet(\"../data/processed_emoji_dataset.parquet\")\n",
    "df[\"combined_embedding\"] = df[\"combined_embedding\"].apply(lambda x: np.array(x, dtype=np.float32))"
   ]
  },
  {
   "cell_type": "code",
   "execution_count": 4,
   "metadata": {},
   "outputs": [],
   "source": [
    "# Split dataset into training (80%) and validation (20%)\n",
    "train_df, val_df = train_test_split(df, test_size=0.2, random_state=42)"
   ]
  },
  {
   "cell_type": "code",
   "execution_count": 5,
   "metadata": {},
   "outputs": [],
   "source": [
    "class EmojiDataset(Dataset):\n",
    "    def __init__(self, dataframe):\n",
    "        self.dataframe = dataframe\n",
    "\n",
    "    def __len__(self):\n",
    "        return len(self.dataframe)\n",
    "\n",
    "    def __getitem__(self, idx):\n",
    "        text_embedding = torch.tensor(self.dataframe.iloc[idx][\"combined_embedding\"]).float()\n",
    "        image_tensor = torch.load(self.dataframe.iloc[idx][\"image_path\"]).float()\n",
    "        return text_embedding, image_tensor"
   ]
  },
  {
   "cell_type": "code",
   "execution_count": 6,
   "metadata": {},
   "outputs": [
    {
     "name": "stdout",
     "output_type": "stream",
     "text": [
      "Datasets loaded successfully!\n"
     ]
    }
   ],
   "source": [
    "# Create DataLoaders\n",
    "train_dataset = EmojiDataset(train_df)\n",
    "val_dataset = EmojiDataset(val_df)\n",
    "\n",
    "train_loader = DataLoader(train_dataset, batch_size=64, shuffle=True)\n",
    "val_loader = DataLoader(val_dataset, batch_size=64, shuffle=False)\n",
    "\n",
    "print(\"Datasets loaded successfully!\")"
   ]
  },
  {
   "cell_type": "code",
   "execution_count": 7,
   "metadata": {},
   "outputs": [],
   "source": [
    "class UNet(nn.Module):\n",
    "    def __init__(self):\n",
    "        super(UNet, self).__init__()\n",
    "\n",
    "        def conv_block(in_channels, out_channels):\n",
    "            return nn.Sequential(\n",
    "                nn.Conv2d(in_channels, out_channels, kernel_size=3, padding=1),\n",
    "                nn.ReLU(),\n",
    "                nn.Conv2d(out_channels, out_channels, kernel_size=3, padding=1),\n",
    "                nn.ReLU()\n",
    "            )\n",
    "\n",
    "        self.encoder1 = conv_block(3, 64)\n",
    "        self.pool1 = nn.MaxPool2d(2)\n",
    "        self.encoder2 = conv_block(64, 128)\n",
    "        self.pool2 = nn.MaxPool2d(2)\n",
    "        self.bottleneck = conv_block(128, 256)\n",
    "        self.up2 = nn.ConvTranspose2d(256, 128, kernel_size=2, stride=2)\n",
    "        self.decoder2 = conv_block(128 + 128, 128)\n",
    "        self.up1 = nn.ConvTranspose2d(128, 64, kernel_size=2, stride=2)\n",
    "        self.decoder1 = conv_block(64 + 64, 64)\n",
    "        self.final_conv = nn.Conv2d(64, 3, kernel_size=1)\n",
    "\n",
    "    def forward(self, x):\n",
    "        enc1 = self.encoder1(x)\n",
    "        x = self.pool1(enc1)\n",
    "        enc2 = self.encoder2(x)\n",
    "        x = self.pool2(enc2)\n",
    "        x = self.bottleneck(x)\n",
    "        x = self.up2(x)\n",
    "        x = torch.cat([x, enc2], dim=1)\n",
    "        x = self.decoder2(x)\n",
    "        x = self.up1(x)\n",
    "        x = torch.cat([x, enc1], dim=1)\n",
    "        x = self.decoder1(x)\n",
    "        return self.final_conv(x)"
   ]
  },
  {
   "cell_type": "code",
   "execution_count": 8,
   "metadata": {},
   "outputs": [],
   "source": [
    "class DiffusionModel:\n",
    "    def __init__(self, timesteps=1000):\n",
    "        self.timesteps = timesteps\n",
    "        self.beta = torch.linspace(1e-4, 0.02, timesteps).to(device)\n",
    "        self.alpha = 1.0 - self.beta\n",
    "        self.alpha_bar = torch.cumprod(self.alpha, dim=0)\n",
    "\n",
    "    def add_noise(self, images, t):\n",
    "        noise = torch.randn_like(images)\n",
    "        alpha_bar_t = self.alpha_bar[t].view(-1, 1, 1, 1)\n",
    "        noisy_images = torch.sqrt(alpha_bar_t) * images + torch.sqrt(1 - alpha_bar_t) * noise\n",
    "        return noisy_images, noise\n",
    "    \n",
    "    def sample(self, model, shape):\n",
    "        x = torch.randn(shape).to(device)\n",
    "        for t in reversed(range(self.timesteps)):\n",
    "            with torch.no_grad():\n",
    "                noise_pred = model(x)\n",
    "                beta_t = self.beta[t].view(1, 1, 1, 1)\n",
    "                alpha_t = self.alpha[t].view(1, 1, 1, 1)\n",
    "                alpha_bar_t = self.alpha_bar[t].view(1, 1, 1, 1)\n",
    "\n",
    "                if t > 0:\n",
    "                    z = torch.randn_like(x)  \n",
    "                else:\n",
    "                    z = 0  # No noise at final step\n",
    "\n",
    "                x = (1 / torch.sqrt(alpha_t)) * (x - ((1 - alpha_t) / torch.sqrt(1 - alpha_bar_t)) * noise_pred) + torch.sqrt(beta_t) * z\n",
    "        return x"
   ]
  },
  {
   "cell_type": "code",
   "execution_count": 9,
   "metadata": {},
   "outputs": [
    {
     "data": {
      "image/png": "[encoded data removed]",
      "text/plain": [
       "<Figure size 1500x300 with 5 Axes>"
      ]
     },
     "metadata": {},
     "output_type": "display_data"
    }
   ],
   "source": [
    "# Select a real image from the dataset\n",
    "_, real_image = train_dataset[11]  # Get an image (ignore text embedding)\n",
    "real_image = real_image.unsqueeze(0).to(device)  # Add batch dim & move to GPU\n",
    "\n",
    "# Define timesteps to visualize\n",
    "timesteps = [0, 100, 500, 900, 999]  # 0 (original), 999 (maximum noise)\n",
    "noisy_images = []\n",
    "\n",
    "# Apply noise using the DiffusionModel class\n",
    "diffusion = DiffusionModel(timesteps=1000)  # Ensure it matches your training setup\n",
    "\n",
    "for t in timesteps:\n",
    "    t_tensor = torch.tensor([t], dtype=torch.long, device=device)  # Convert t to tensor\n",
    "    xt, _ = diffusion.add_noise(real_image, t_tensor)\n",
    "\n",
    "    # Convert to CPU & normalize for visualization\n",
    "    img_np = xt.cpu().squeeze(0).permute(1, 2, 0).numpy()\n",
    "\n",
    "    # Normalize image to [0,1] to prevent display issues\n",
    "    img_min, img_max = img_np.min(), img_np.max()\n",
    "    if img_max > img_min:  # Avoid division by zero\n",
    "        img_np = (img_np - img_min) / (img_max - img_min)\n",
    "    \n",
    "    noisy_images.append(img_np)\n",
    "\n",
    "# Plot the images\n",
    "fig, axes = plt.subplots(1, len(timesteps), figsize=(15, 3))\n",
    "\n",
    "for i, ax in enumerate(axes):\n",
    "    ax.imshow(noisy_images[i])\n",
    "    ax.set_title(f\"t = {timesteps[i]}\")\n",
    "    ax.axis(\"off\")\n",
    "\n",
    "plt.tight_layout()\n",
    "plt.show()"
   ]
  },
  {
   "cell_type": "code",
   "execution_count": 10,
   "metadata": {},
   "outputs": [
    {
     "name": "stderr",
     "output_type": "stream",
     "text": [
      "c:\\Study\\College\\Project\\myvenv\\Lib\\site-packages\\torch\\optim\\lr_scheduler.py:62: UserWarning: The verbose parameter is deprecated. Please use get_last_lr() to access the learning rate.\n",
      "  warnings.warn(\n"
     ]
    }
   ],
   "source": [
    "# Initialize Model, Diffusion, and Optimizer\n",
    "model = UNet().to(device)\n",
    "diffusion = DiffusionModel()\n",
    "optimizer = optim.Adam(model.parameters(), lr=1e-4)\n",
    "scheduler = optim.lr_scheduler.ReduceLROnPlateau(optimizer, mode=\"min\", factor=0.5, patience=5, verbose=True)\n",
    "loss_fn = nn.L1Loss()"
   ]
  },
  {
   "cell_type": "code",
   "execution_count": 11,
   "metadata": {},
   "outputs": [
    {
     "name": "stderr",
     "output_type": "stream",
     "text": [
      "Epoch [1/200]: 100%|██████████| 157/157 [00:07<00:00, 19.89it/s, train_loss=0.222]\n"
     ]
    },
    {
     "name": "stdout",
     "output_type": "stream",
     "text": [
      "Epoch [1/200] - Train Loss: 0.5105, Val Loss: 0.2876\n",
      " Best model saved at epoch 1\n"
     ]
    },
    {
     "name": "stderr",
     "output_type": "stream",
     "text": [
      "Epoch [2/200]: 100%|██████████| 157/157 [00:07<00:00, 21.29it/s, train_loss=0.283]\n"
     ]
    },
    {
     "name": "stdout",
     "output_type": "stream",
     "text": [
      "Epoch [2/200] - Train Loss: 0.2707, Val Loss: 0.2682\n",
      " Best model saved at epoch 2\n"
     ]
    },
    {
     "name": "stderr",
     "output_type": "stream",
     "text": [
      "Epoch [3/200]: 100%|██████████| 157/157 [00:07<00:00, 21.49it/s, train_loss=0.292]\n"
     ]
    },
    {
     "name": "stdout",
     "output_type": "stream",
     "text": [
      "Epoch [3/200] - Train Loss: 0.2546, Val Loss: 0.2497\n",
      " Best model saved at epoch 3\n"
     ]
    },
    {
     "name": "stderr",
     "output_type": "stream",
     "text": [
      "Epoch [4/200]: 100%|██████████| 157/157 [00:07<00:00, 21.47it/s, train_loss=0.23] \n"
     ]
    },
    {
     "name": "stdout",
     "output_type": "stream",
     "text": [
      "Epoch [4/200] - Train Loss: 0.2382, Val Loss: 0.2356\n",
      " Best model saved at epoch 4\n"
     ]
    },
    {
     "name": "stderr",
     "output_type": "stream",
     "text": [
      "Epoch [5/200]: 100%|██████████| 157/157 [00:07<00:00, 21.32it/s, train_loss=0.255]\n"
     ]
    },
    {
     "name": "stdout",
     "output_type": "stream",
     "text": [
      "Epoch [5/200] - Train Loss: 0.2250, Val Loss: 0.2180\n",
      " Best model saved at epoch 5\n"
     ]
    },
    {
     "name": "stderr",
     "output_type": "stream",
     "text": [
      "Epoch [6/200]: 100%|██████████| 157/157 [00:07<00:00, 21.11it/s, train_loss=0.201]\n"
     ]
    },
    {
     "name": "stdout",
     "output_type": "stream",
     "text": [
      "Epoch [6/200] - Train Loss: 0.2152, Val Loss: 0.2019\n",
      " Best model saved at epoch 6\n"
     ]
    },
    {
     "name": "stderr",
     "output_type": "stream",
     "text": [
      "Epoch [7/200]: 100%|██████████| 157/157 [00:07<00:00, 21.06it/s, train_loss=0.177]\n"
     ]
    },
    {
     "name": "stdout",
     "output_type": "stream",
     "text": [
      "Epoch [7/200] - Train Loss: 0.2003, Val Loss: 0.1972\n",
      " Best model saved at epoch 7\n"
     ]
    },
    {
     "name": "stderr",
     "output_type": "stream",
     "text": [
      "Epoch [8/200]: 100%|██████████| 157/157 [00:07<00:00, 21.08it/s, train_loss=0.154]\n"
     ]
    },
    {
     "name": "stdout",
     "output_type": "stream",
     "text": [
      "Epoch [8/200] - Train Loss: 0.1929, Val Loss: 0.1828\n",
      " Best model saved at epoch 8\n"
     ]
    },
    {
     "name": "stderr",
     "output_type": "stream",
     "text": [
      "Epoch [9/200]: 100%|██████████| 157/157 [00:07<00:00, 21.25it/s, train_loss=0.162]\n"
     ]
    },
    {
     "name": "stdout",
     "output_type": "stream",
     "text": [
      "Epoch [9/200] - Train Loss: 0.1839, Val Loss: 0.1844\n"
     ]
    },
    {
     "name": "stderr",
     "output_type": "stream",
     "text": [
      "Epoch [10/200]: 100%|██████████| 157/157 [00:07<00:00, 21.27it/s, train_loss=0.133]\n"
     ]
    },
    {
     "name": "stdout",
     "output_type": "stream",
     "text": [
      "Epoch [10/200] - Train Loss: 0.1812, Val Loss: 0.1796\n",
      " Best model saved at epoch 10\n"
     ]
    },
    {
     "name": "stderr",
     "output_type": "stream",
     "text": [
      "Epoch [11/200]: 100%|██████████| 157/157 [00:07<00:00, 21.25it/s, train_loss=0.167]\n"
     ]
    },
    {
     "name": "stdout",
     "output_type": "stream",
     "text": [
      "Epoch [11/200] - Train Loss: 0.1750, Val Loss: 0.1728\n",
      " Best model saved at epoch 11\n"
     ]
    },
    {
     "name": "stderr",
     "output_type": "stream",
     "text": [
      "Epoch [12/200]: 100%|██████████| 157/157 [00:07<00:00, 21.11it/s, train_loss=0.243]\n"
     ]
    },
    {
     "name": "stdout",
     "output_type": "stream",
     "text": [
      "Epoch [12/200] - Train Loss: 0.1719, Val Loss: 0.1696\n",
      " Best model saved at epoch 12\n"
     ]
    },
    {
     "name": "stderr",
     "output_type": "stream",
     "text": [
      "Epoch [13/200]: 100%|██████████| 157/157 [00:07<00:00, 21.24it/s, train_loss=0.179]\n"
     ]
    },
    {
     "name": "stdout",
     "output_type": "stream",
     "text": [
      "Epoch [13/200] - Train Loss: 0.1682, Val Loss: 0.1626\n",
      " Best model saved at epoch 13\n"
     ]
    },
    {
     "name": "stderr",
     "output_type": "stream",
     "text": [
      "Epoch [14/200]: 100%|██████████| 157/157 [00:07<00:00, 21.17it/s, train_loss=0.181]\n"
     ]
    },
    {
     "name": "stdout",
     "output_type": "stream",
     "text": [
      "Epoch [14/200] - Train Loss: 0.1647, Val Loss: 0.1636\n"
     ]
    },
    {
     "name": "stderr",
     "output_type": "stream",
     "text": [
      "Epoch [15/200]: 100%|██████████| 157/157 [00:07<00:00, 21.23it/s, train_loss=0.173]\n"
     ]
    },
    {
     "name": "stdout",
     "output_type": "stream",
     "text": [
      "Epoch [15/200] - Train Loss: 0.1618, Val Loss: 0.1588\n",
      " Best model saved at epoch 15\n"
     ]
    },
    {
     "name": "stderr",
     "output_type": "stream",
     "text": [
      "Epoch [16/200]: 100%|██████████| 157/157 [00:07<00:00, 21.14it/s, train_loss=0.154]\n"
     ]
    },
    {
     "name": "stdout",
     "output_type": "stream",
     "text": [
      "Epoch [16/200] - Train Loss: 0.1628, Val Loss: 0.1632\n"
     ]
    },
    {
     "name": "stderr",
     "output_type": "stream",
     "text": [
      "Epoch [17/200]: 100%|██████████| 157/157 [00:07<00:00, 21.21it/s, train_loss=0.121]\n"
     ]
    },
    {
     "name": "stdout",
     "output_type": "stream",
     "text": [
      "Epoch [17/200] - Train Loss: 0.1590, Val Loss: 0.1561\n",
      " Best model saved at epoch 17\n"
     ]
    },
    {
     "name": "stderr",
     "output_type": "stream",
     "text": [
      "Epoch [18/200]: 100%|██████████| 157/157 [00:07<00:00, 21.24it/s, train_loss=0.149]\n"
     ]
    },
    {
     "name": "stdout",
     "output_type": "stream",
     "text": [
      "Epoch [18/200] - Train Loss: 0.1596, Val Loss: 0.1598\n"
     ]
    },
    {
     "name": "stderr",
     "output_type": "stream",
     "text": [
      "Epoch [19/200]: 100%|██████████| 157/157 [00:07<00:00, 21.39it/s, train_loss=0.193]\n"
     ]
    },
    {
     "name": "stdout",
     "output_type": "stream",
     "text": [
      "Epoch [19/200] - Train Loss: 0.1538, Val Loss: 0.1534\n",
      " Best model saved at epoch 19\n"
     ]
    },
    {
     "name": "stderr",
     "output_type": "stream",
     "text": [
      "Epoch [20/200]: 100%|██████████| 157/157 [00:07<00:00, 21.48it/s, train_loss=0.15] \n"
     ]
    },
    {
     "name": "stdout",
     "output_type": "stream",
     "text": [
      "Epoch [20/200] - Train Loss: 0.1530, Val Loss: 0.1540\n"
     ]
    },
    {
     "name": "stderr",
     "output_type": "stream",
     "text": [
      "Epoch [21/200]: 100%|██████████| 157/157 [00:07<00:00, 21.52it/s, train_loss=0.137]\n"
     ]
    },
    {
     "name": "stdout",
     "output_type": "stream",
     "text": [
      "Epoch [21/200] - Train Loss: 0.1538, Val Loss: 0.1541\n"
     ]
    },
    {
     "name": "stderr",
     "output_type": "stream",
     "text": [
      "Epoch [22/200]: 100%|██████████| 157/157 [00:07<00:00, 21.54it/s, train_loss=0.158]\n"
     ]
    },
    {
     "name": "stdout",
     "output_type": "stream",
     "text": [
      "Epoch [22/200] - Train Loss: 0.1528, Val Loss: 0.1521\n",
      " Best model saved at epoch 22\n"
     ]
    },
    {
     "name": "stderr",
     "output_type": "stream",
     "text": [
      "Epoch [23/200]: 100%|██████████| 157/157 [00:07<00:00, 21.55it/s, train_loss=0.134]\n"
     ]
    },
    {
     "name": "stdout",
     "output_type": "stream",
     "text": [
      "Epoch [23/200] - Train Loss: 0.1483, Val Loss: 0.1517\n",
      " Best model saved at epoch 23\n"
     ]
    },
    {
     "name": "stderr",
     "output_type": "stream",
     "text": [
      "Epoch [24/200]: 100%|██████████| 157/157 [00:07<00:00, 21.52it/s, train_loss=0.139]\n"
     ]
    },
    {
     "name": "stdout",
     "output_type": "stream",
     "text": [
      "Epoch [24/200] - Train Loss: 0.1474, Val Loss: 0.1543\n"
     ]
    },
    {
     "name": "stderr",
     "output_type": "stream",
     "text": [
      "Epoch [25/200]: 100%|██████████| 157/157 [00:07<00:00, 21.55it/s, train_loss=0.147]\n"
     ]
    },
    {
     "name": "stdout",
     "output_type": "stream",
     "text": [
      "Epoch [25/200] - Train Loss: 0.1492, Val Loss: 0.1556\n"
     ]
    },
    {
     "name": "stderr",
     "output_type": "stream",
     "text": [
      "Epoch [26/200]: 100%|██████████| 157/157 [00:07<00:00, 21.44it/s, train_loss=0.147]\n"
     ]
    },
    {
     "name": "stdout",
     "output_type": "stream",
     "text": [
      "Epoch [26/200] - Train Loss: 0.1498, Val Loss: 0.1476\n",
      " Best model saved at epoch 26\n"
     ]
    },
    {
     "name": "stderr",
     "output_type": "stream",
     "text": [
      "Epoch [27/200]: 100%|██████████| 157/157 [00:07<00:00, 21.41it/s, train_loss=0.147]\n"
     ]
    },
    {
     "name": "stdout",
     "output_type": "stream",
     "text": [
      "Epoch [27/200] - Train Loss: 0.1453, Val Loss: 0.1500\n"
     ]
    },
    {
     "name": "stderr",
     "output_type": "stream",
     "text": [
      "Epoch [28/200]: 100%|██████████| 157/157 [00:07<00:00, 21.50it/s, train_loss=0.146]\n"
     ]
    },
    {
     "name": "stdout",
     "output_type": "stream",
     "text": [
      "Epoch [28/200] - Train Loss: 0.1461, Val Loss: 0.1441\n",
      " Best model saved at epoch 28\n"
     ]
    },
    {
     "name": "stderr",
     "output_type": "stream",
     "text": [
      "Epoch [29/200]: 100%|██████████| 157/157 [00:07<00:00, 21.40it/s, train_loss=0.145]\n"
     ]
    },
    {
     "name": "stdout",
     "output_type": "stream",
     "text": [
      "Epoch [29/200] - Train Loss: 0.1439, Val Loss: 0.1395\n",
      " Best model saved at epoch 29\n"
     ]
    },
    {
     "name": "stderr",
     "output_type": "stream",
     "text": [
      "Epoch [30/200]: 100%|██████████| 157/157 [00:07<00:00, 21.42it/s, train_loss=0.133]\n"
     ]
    },
    {
     "name": "stdout",
     "output_type": "stream",
     "text": [
      "Epoch [30/200] - Train Loss: 0.1414, Val Loss: 0.1478\n"
     ]
    },
    {
     "name": "stderr",
     "output_type": "stream",
     "text": [
      "Epoch [31/200]: 100%|██████████| 157/157 [00:07<00:00, 21.46it/s, train_loss=0.141]\n"
     ]
    },
    {
     "name": "stdout",
     "output_type": "stream",
     "text": [
      "Epoch [31/200] - Train Loss: 0.1433, Val Loss: 0.1457\n"
     ]
    },
    {
     "name": "stderr",
     "output_type": "stream",
     "text": [
      "Epoch [32/200]: 100%|██████████| 157/157 [00:07<00:00, 21.33it/s, train_loss=0.114]\n"
     ]
    },
    {
     "name": "stdout",
     "output_type": "stream",
     "text": [
      "Epoch [32/200] - Train Loss: 0.1445, Val Loss: 0.1397\n"
     ]
    },
    {
     "name": "stderr",
     "output_type": "stream",
     "text": [
      "Epoch [33/200]: 100%|██████████| 157/157 [00:07<00:00, 21.30it/s, train_loss=0.126]\n"
     ]
    },
    {
     "name": "stdout",
     "output_type": "stream",
     "text": [
      "Epoch [33/200] - Train Loss: 0.1403, Val Loss: 0.1401\n"
     ]
    },
    {
     "name": "stderr",
     "output_type": "stream",
     "text": [
      "Epoch [34/200]: 100%|██████████| 157/157 [00:07<00:00, 21.17it/s, train_loss=0.109]\n"
     ]
    },
    {
     "name": "stdout",
     "output_type": "stream",
     "text": [
      "Epoch [34/200] - Train Loss: 0.1405, Val Loss: 0.1415\n"
     ]
    },
    {
     "name": "stderr",
     "output_type": "stream",
     "text": [
      "Epoch [35/200]: 100%|██████████| 157/157 [00:07<00:00, 21.23it/s, train_loss=0.132]\n"
     ]
    },
    {
     "name": "stdout",
     "output_type": "stream",
     "text": [
      "Epoch [35/200] - Train Loss: 0.1379, Val Loss: 0.1389\n",
      " Best model saved at epoch 35\n"
     ]
    },
    {
     "name": "stderr",
     "output_type": "stream",
     "text": [
      "Epoch [36/200]: 100%|██████████| 157/157 [00:07<00:00, 21.18it/s, train_loss=0.176]\n"
     ]
    },
    {
     "name": "stdout",
     "output_type": "stream",
     "text": [
      "Epoch [36/200] - Train Loss: 0.1387, Val Loss: 0.1350\n",
      " Best model saved at epoch 36\n"
     ]
    },
    {
     "name": "stderr",
     "output_type": "stream",
     "text": [
      "Epoch [37/200]: 100%|██████████| 157/157 [00:07<00:00, 21.37it/s, train_loss=0.107]\n"
     ]
    },
    {
     "name": "stdout",
     "output_type": "stream",
     "text": [
      "Epoch [37/200] - Train Loss: 0.1363, Val Loss: 0.1383\n"
     ]
    },
    {
     "name": "stderr",
     "output_type": "stream",
     "text": [
      "Epoch [38/200]: 100%|██████████| 157/157 [00:07<00:00, 21.32it/s, train_loss=0.209]\n"
     ]
    },
    {
     "name": "stdout",
     "output_type": "stream",
     "text": [
      "Epoch [38/200] - Train Loss: 0.1377, Val Loss: 0.1352\n"
     ]
    },
    {
     "name": "stderr",
     "output_type": "stream",
     "text": [
      "Epoch [39/200]: 100%|██████████| 157/157 [00:07<00:00, 20.82it/s, train_loss=0.144]\n"
     ]
    },
    {
     "name": "stdout",
     "output_type": "stream",
     "text": [
      "Epoch [39/200] - Train Loss: 0.1395, Val Loss: 0.1323\n",
      " Best model saved at epoch 39\n"
     ]
    },
    {
     "name": "stderr",
     "output_type": "stream",
     "text": [
      "Epoch [40/200]: 100%|██████████| 157/157 [00:07<00:00, 21.32it/s, train_loss=0.13] \n"
     ]
    },
    {
     "name": "stdout",
     "output_type": "stream",
     "text": [
      "Epoch [40/200] - Train Loss: 0.1315, Val Loss: 0.1410\n"
     ]
    },
    {
     "name": "stderr",
     "output_type": "stream",
     "text": [
      "Epoch [41/200]: 100%|██████████| 157/157 [00:07<00:00, 21.31it/s, train_loss=0.111]\n"
     ]
    },
    {
     "name": "stdout",
     "output_type": "stream",
     "text": [
      "Epoch [41/200] - Train Loss: 0.1361, Val Loss: 0.1390\n"
     ]
    },
    {
     "name": "stderr",
     "output_type": "stream",
     "text": [
      "Epoch [42/200]: 100%|██████████| 157/157 [00:07<00:00, 21.38it/s, train_loss=0.15] \n"
     ]
    },
    {
     "name": "stdout",
     "output_type": "stream",
     "text": [
      "Epoch [42/200] - Train Loss: 0.1344, Val Loss: 0.1322\n",
      " Best model saved at epoch 42\n"
     ]
    },
    {
     "name": "stderr",
     "output_type": "stream",
     "text": [
      "Epoch [43/200]: 100%|██████████| 157/157 [00:07<00:00, 21.29it/s, train_loss=0.139] \n"
     ]
    },
    {
     "name": "stdout",
     "output_type": "stream",
     "text": [
      "Epoch [43/200] - Train Loss: 0.1339, Val Loss: 0.1278\n",
      " Best model saved at epoch 43\n"
     ]
    },
    {
     "name": "stderr",
     "output_type": "stream",
     "text": [
      "Epoch [44/200]: 100%|██████████| 157/157 [00:07<00:00, 21.29it/s, train_loss=0.152] \n"
     ]
    },
    {
     "name": "stdout",
     "output_type": "stream",
     "text": [
      "Epoch [44/200] - Train Loss: 0.1329, Val Loss: 0.1316\n"
     ]
    },
    {
     "name": "stderr",
     "output_type": "stream",
     "text": [
      "Epoch [45/200]: 100%|██████████| 157/157 [00:07<00:00, 21.39it/s, train_loss=0.151]\n"
     ]
    },
    {
     "name": "stdout",
     "output_type": "stream",
     "text": [
      "Epoch [45/200] - Train Loss: 0.1310, Val Loss: 0.1349\n"
     ]
    },
    {
     "name": "stderr",
     "output_type": "stream",
     "text": [
      "Epoch [46/200]: 100%|██████████| 157/157 [00:07<00:00, 21.36it/s, train_loss=0.122]\n"
     ]
    },
    {
     "name": "stdout",
     "output_type": "stream",
     "text": [
      "Epoch [46/200] - Train Loss: 0.1282, Val Loss: 0.1272\n",
      " Best model saved at epoch 46\n"
     ]
    },
    {
     "name": "stderr",
     "output_type": "stream",
     "text": [
      "Epoch [47/200]: 100%|██████████| 157/157 [00:07<00:00, 21.39it/s, train_loss=0.127] \n"
     ]
    },
    {
     "name": "stdout",
     "output_type": "stream",
     "text": [
      "Epoch [47/200] - Train Loss: 0.1328, Val Loss: 0.1324\n"
     ]
    },
    {
     "name": "stderr",
     "output_type": "stream",
     "text": [
      "Epoch [48/200]: 100%|██████████| 157/157 [00:07<00:00, 21.16it/s, train_loss=0.187] \n"
     ]
    },
    {
     "name": "stdout",
     "output_type": "stream",
     "text": [
      "Epoch [48/200] - Train Loss: 0.1308, Val Loss: 0.1297\n"
     ]
    },
    {
     "name": "stderr",
     "output_type": "stream",
     "text": [
      "Epoch [49/200]: 100%|██████████| 157/157 [00:07<00:00, 21.27it/s, train_loss=0.0914]\n"
     ]
    },
    {
     "name": "stdout",
     "output_type": "stream",
     "text": [
      "Epoch [49/200] - Train Loss: 0.1295, Val Loss: 0.1336\n"
     ]
    },
    {
     "name": "stderr",
     "output_type": "stream",
     "text": [
      "Epoch [50/200]: 100%|██████████| 157/157 [00:07<00:00, 21.33it/s, train_loss=0.125] \n"
     ]
    },
    {
     "name": "stdout",
     "output_type": "stream",
     "text": [
      "Epoch [50/200] - Train Loss: 0.1303, Val Loss: 0.1246\n",
      " Best model saved at epoch 50\n"
     ]
    },
    {
     "name": "stderr",
     "output_type": "stream",
     "text": [
      "Epoch [51/200]: 100%|██████████| 157/157 [00:07<00:00, 21.21it/s, train_loss=0.121] \n"
     ]
    },
    {
     "name": "stdout",
     "output_type": "stream",
     "text": [
      "Epoch [51/200] - Train Loss: 0.1285, Val Loss: 0.1387\n"
     ]
    },
    {
     "name": "stderr",
     "output_type": "stream",
     "text": [
      "Epoch [52/200]: 100%|██████████| 157/157 [00:07<00:00, 21.17it/s, train_loss=0.101] \n"
     ]
    },
    {
     "name": "stdout",
     "output_type": "stream",
     "text": [
      "Epoch [52/200] - Train Loss: 0.1285, Val Loss: 0.1338\n"
     ]
    },
    {
     "name": "stderr",
     "output_type": "stream",
     "text": [
      "Epoch [53/200]: 100%|██████████| 157/157 [00:07<00:00, 21.20it/s, train_loss=0.149] \n"
     ]
    },
    {
     "name": "stdout",
     "output_type": "stream",
     "text": [
      "Epoch [53/200] - Train Loss: 0.1290, Val Loss: 0.1308\n"
     ]
    },
    {
     "name": "stderr",
     "output_type": "stream",
     "text": [
      "Epoch [54/200]: 100%|██████████| 157/157 [00:07<00:00, 21.36it/s, train_loss=0.154]\n"
     ]
    },
    {
     "name": "stdout",
     "output_type": "stream",
     "text": [
      "Epoch [54/200] - Train Loss: 0.1257, Val Loss: 0.1259\n"
     ]
    },
    {
     "name": "stderr",
     "output_type": "stream",
     "text": [
      "Epoch [55/200]: 100%|██████████| 157/157 [00:07<00:00, 21.28it/s, train_loss=0.171]\n"
     ]
    },
    {
     "name": "stdout",
     "output_type": "stream",
     "text": [
      "Epoch [55/200] - Train Loss: 0.1256, Val Loss: 0.1217\n",
      " Best model saved at epoch 55\n"
     ]
    },
    {
     "name": "stderr",
     "output_type": "stream",
     "text": [
      "Epoch [56/200]: 100%|██████████| 157/157 [00:07<00:00, 21.26it/s, train_loss=0.128]\n"
     ]
    },
    {
     "name": "stdout",
     "output_type": "stream",
     "text": [
      "Epoch [56/200] - Train Loss: 0.1255, Val Loss: 0.1279\n"
     ]
    },
    {
     "name": "stderr",
     "output_type": "stream",
     "text": [
      "Epoch [57/200]: 100%|██████████| 157/157 [00:07<00:00, 21.43it/s, train_loss=0.121] \n"
     ]
    },
    {
     "name": "stdout",
     "output_type": "stream",
     "text": [
      "Epoch [57/200] - Train Loss: 0.1268, Val Loss: 0.1231\n"
     ]
    },
    {
     "name": "stderr",
     "output_type": "stream",
     "text": [
      "Epoch [58/200]: 100%|██████████| 157/157 [00:07<00:00, 21.26it/s, train_loss=0.145]\n"
     ]
    },
    {
     "name": "stdout",
     "output_type": "stream",
     "text": [
      "Epoch [58/200] - Train Loss: 0.1274, Val Loss: 0.1283\n"
     ]
    },
    {
     "name": "stderr",
     "output_type": "stream",
     "text": [
      "Epoch [59/200]: 100%|██████████| 157/157 [00:07<00:00, 21.41it/s, train_loss=0.135] \n"
     ]
    },
    {
     "name": "stdout",
     "output_type": "stream",
     "text": [
      "Epoch [59/200] - Train Loss: 0.1252, Val Loss: 0.1246\n"
     ]
    },
    {
     "name": "stderr",
     "output_type": "stream",
     "text": [
      "Epoch [60/200]: 100%|██████████| 157/157 [00:07<00:00, 21.41it/s, train_loss=0.0962]\n"
     ]
    },
    {
     "name": "stdout",
     "output_type": "stream",
     "text": [
      "Epoch [60/200] - Train Loss: 0.1233, Val Loss: 0.1266\n"
     ]
    },
    {
     "name": "stderr",
     "output_type": "stream",
     "text": [
      "Epoch [61/200]: 100%|██████████| 157/157 [00:07<00:00, 21.31it/s, train_loss=0.114] \n"
     ]
    },
    {
     "name": "stdout",
     "output_type": "stream",
     "text": [
      "Epoch [61/200] - Train Loss: 0.1245, Val Loss: 0.1255\n"
     ]
    },
    {
     "name": "stderr",
     "output_type": "stream",
     "text": [
      "Epoch [62/200]: 100%|██████████| 157/157 [00:07<00:00, 21.20it/s, train_loss=0.114]\n"
     ]
    },
    {
     "name": "stdout",
     "output_type": "stream",
     "text": [
      "Epoch [62/200] - Train Loss: 0.1225, Val Loss: 0.1228\n"
     ]
    },
    {
     "name": "stderr",
     "output_type": "stream",
     "text": [
      "Epoch [63/200]: 100%|██████████| 157/157 [00:07<00:00, 21.32it/s, train_loss=0.129] \n"
     ]
    },
    {
     "name": "stdout",
     "output_type": "stream",
     "text": [
      "Epoch [63/200] - Train Loss: 0.1206, Val Loss: 0.1228\n"
     ]
    },
    {
     "name": "stderr",
     "output_type": "stream",
     "text": [
      "Epoch [64/200]: 100%|██████████| 157/157 [00:07<00:00, 21.06it/s, train_loss=0.12]  \n"
     ]
    },
    {
     "name": "stdout",
     "output_type": "stream",
     "text": [
      "Epoch [64/200] - Train Loss: 0.1223, Val Loss: 0.1214\n",
      " Best model saved at epoch 64\n"
     ]
    },
    {
     "name": "stderr",
     "output_type": "stream",
     "text": [
      "Epoch [65/200]: 100%|██████████| 157/157 [00:07<00:00, 21.38it/s, train_loss=0.159] \n"
     ]
    },
    {
     "name": "stdout",
     "output_type": "stream",
     "text": [
      "Epoch [65/200] - Train Loss: 0.1216, Val Loss: 0.1221\n"
     ]
    },
    {
     "name": "stderr",
     "output_type": "stream",
     "text": [
      "Epoch [66/200]: 100%|██████████| 157/157 [00:07<00:00, 21.46it/s, train_loss=0.147] \n"
     ]
    },
    {
     "name": "stdout",
     "output_type": "stream",
     "text": [
      "Epoch [66/200] - Train Loss: 0.1227, Val Loss: 0.1213\n",
      " Best model saved at epoch 66\n"
     ]
    },
    {
     "name": "stderr",
     "output_type": "stream",
     "text": [
      "Epoch [67/200]: 100%|██████████| 157/157 [00:07<00:00, 21.33it/s, train_loss=0.119] \n"
     ]
    },
    {
     "name": "stdout",
     "output_type": "stream",
     "text": [
      "Epoch [67/200] - Train Loss: 0.1224, Val Loss: 0.1263\n"
     ]
    },
    {
     "name": "stderr",
     "output_type": "stream",
     "text": [
      "Epoch [68/200]: 100%|██████████| 157/157 [00:07<00:00, 21.23it/s, train_loss=0.103] \n"
     ]
    },
    {
     "name": "stdout",
     "output_type": "stream",
     "text": [
      "Epoch [68/200] - Train Loss: 0.1239, Val Loss: 0.1224\n"
     ]
    },
    {
     "name": "stderr",
     "output_type": "stream",
     "text": [
      "Epoch [69/200]: 100%|██████████| 157/157 [00:07<00:00, 21.25it/s, train_loss=0.117] \n"
     ]
    },
    {
     "name": "stdout",
     "output_type": "stream",
     "text": [
      "Epoch [69/200] - Train Loss: 0.1195, Val Loss: 0.1188\n",
      " Best model saved at epoch 69\n"
     ]
    },
    {
     "name": "stderr",
     "output_type": "stream",
     "text": [
      "Epoch [70/200]: 100%|██████████| 157/157 [00:07<00:00, 21.32it/s, train_loss=0.121] \n"
     ]
    },
    {
     "name": "stdout",
     "output_type": "stream",
     "text": [
      "Epoch [70/200] - Train Loss: 0.1213, Val Loss: 0.1264\n"
     ]
    },
    {
     "name": "stderr",
     "output_type": "stream",
     "text": [
      "Epoch [71/200]: 100%|██████████| 157/157 [00:07<00:00, 21.42it/s, train_loss=0.106] \n"
     ]
    },
    {
     "name": "stdout",
     "output_type": "stream",
     "text": [
      "Epoch [71/200] - Train Loss: 0.1193, Val Loss: 0.1176\n",
      " Best model saved at epoch 71\n"
     ]
    },
    {
     "name": "stderr",
     "output_type": "stream",
     "text": [
      "Epoch [72/200]: 100%|██████████| 157/157 [00:07<00:00, 21.30it/s, train_loss=0.161] \n"
     ]
    },
    {
     "name": "stdout",
     "output_type": "stream",
     "text": [
      "Epoch [72/200] - Train Loss: 0.1206, Val Loss: 0.1172\n",
      " Best model saved at epoch 72\n"
     ]
    },
    {
     "name": "stderr",
     "output_type": "stream",
     "text": [
      "Epoch [73/200]: 100%|██████████| 157/157 [00:07<00:00, 21.40it/s, train_loss=0.102] \n"
     ]
    },
    {
     "name": "stdout",
     "output_type": "stream",
     "text": [
      "Epoch [73/200] - Train Loss: 0.1189, Val Loss: 0.1201\n"
     ]
    },
    {
     "name": "stderr",
     "output_type": "stream",
     "text": [
      "Epoch [74/200]: 100%|██████████| 157/157 [00:07<00:00, 21.37it/s, train_loss=0.115] \n"
     ]
    },
    {
     "name": "stdout",
     "output_type": "stream",
     "text": [
      "Epoch [74/200] - Train Loss: 0.1191, Val Loss: 0.1179\n"
     ]
    },
    {
     "name": "stderr",
     "output_type": "stream",
     "text": [
      "Epoch [75/200]: 100%|██████████| 157/157 [00:07<00:00, 21.31it/s, train_loss=0.101] \n"
     ]
    },
    {
     "name": "stdout",
     "output_type": "stream",
     "text": [
      "Epoch [75/200] - Train Loss: 0.1195, Val Loss: 0.1222\n"
     ]
    },
    {
     "name": "stderr",
     "output_type": "stream",
     "text": [
      "Epoch [76/200]: 100%|██████████| 157/157 [00:07<00:00, 20.95it/s, train_loss=0.108] \n"
     ]
    },
    {
     "name": "stdout",
     "output_type": "stream",
     "text": [
      "Epoch [76/200] - Train Loss: 0.1176, Val Loss: 0.1234\n"
     ]
    },
    {
     "name": "stderr",
     "output_type": "stream",
     "text": [
      "Epoch [77/200]: 100%|██████████| 157/157 [00:07<00:00, 21.43it/s, train_loss=0.1]   \n"
     ]
    },
    {
     "name": "stdout",
     "output_type": "stream",
     "text": [
      "Epoch [77/200] - Train Loss: 0.1172, Val Loss: 0.1175\n"
     ]
    },
    {
     "name": "stderr",
     "output_type": "stream",
     "text": [
      "Epoch [78/200]: 100%|██████████| 157/157 [00:07<00:00, 21.27it/s, train_loss=0.113] \n"
     ]
    },
    {
     "name": "stdout",
     "output_type": "stream",
     "text": [
      "Epoch [78/200] - Train Loss: 0.1183, Val Loss: 0.1175\n"
     ]
    },
    {
     "name": "stderr",
     "output_type": "stream",
     "text": [
      "Epoch [79/200]: 100%|██████████| 157/157 [00:07<00:00, 21.46it/s, train_loss=0.107] \n"
     ]
    },
    {
     "name": "stdout",
     "output_type": "stream",
     "text": [
      "Epoch [79/200] - Train Loss: 0.1180, Val Loss: 0.1186\n"
     ]
    },
    {
     "name": "stderr",
     "output_type": "stream",
     "text": [
      "Epoch [80/200]: 100%|██████████| 157/157 [00:07<00:00, 21.48it/s, train_loss=0.101] \n"
     ]
    },
    {
     "name": "stdout",
     "output_type": "stream",
     "text": [
      "Epoch [80/200] - Train Loss: 0.1167, Val Loss: 0.1200\n"
     ]
    },
    {
     "name": "stderr",
     "output_type": "stream",
     "text": [
      "Epoch [81/200]: 100%|██████████| 157/157 [00:07<00:00, 21.41it/s, train_loss=0.11]  \n"
     ]
    },
    {
     "name": "stdout",
     "output_type": "stream",
     "text": [
      "Epoch [81/200] - Train Loss: 0.1170, Val Loss: 0.1142\n",
      " Best model saved at epoch 81\n"
     ]
    },
    {
     "name": "stderr",
     "output_type": "stream",
     "text": [
      "Epoch [82/200]: 100%|██████████| 157/157 [00:07<00:00, 21.38it/s, train_loss=0.118] \n"
     ]
    },
    {
     "name": "stdout",
     "output_type": "stream",
     "text": [
      "Epoch [82/200] - Train Loss: 0.1158, Val Loss: 0.1189\n"
     ]
    },
    {
     "name": "stderr",
     "output_type": "stream",
     "text": [
      "Epoch [83/200]: 100%|██████████| 157/157 [00:07<00:00, 21.37it/s, train_loss=0.0803]\n"
     ]
    },
    {
     "name": "stdout",
     "output_type": "stream",
     "text": [
      "Epoch [83/200] - Train Loss: 0.1164, Val Loss: 0.1203\n"
     ]
    },
    {
     "name": "stderr",
     "output_type": "stream",
     "text": [
      "Epoch [84/200]: 100%|██████████| 157/157 [00:07<00:00, 21.48it/s, train_loss=0.0908]\n"
     ]
    },
    {
     "name": "stdout",
     "output_type": "stream",
     "text": [
      "Epoch [84/200] - Train Loss: 0.1166, Val Loss: 0.1183\n"
     ]
    },
    {
     "name": "stderr",
     "output_type": "stream",
     "text": [
      "Epoch [85/200]: 100%|██████████| 157/157 [00:07<00:00, 21.25it/s, train_loss=0.148] \n"
     ]
    },
    {
     "name": "stdout",
     "output_type": "stream",
     "text": [
      "Epoch [85/200] - Train Loss: 0.1177, Val Loss: 0.1164\n"
     ]
    },
    {
     "name": "stderr",
     "output_type": "stream",
     "text": [
      "Epoch [86/200]: 100%|██████████| 157/157 [00:07<00:00, 21.39it/s, train_loss=0.101] \n"
     ]
    },
    {
     "name": "stdout",
     "output_type": "stream",
     "text": [
      "Epoch [86/200] - Train Loss: 0.1175, Val Loss: 0.1139\n",
      " Best model saved at epoch 86\n"
     ]
    },
    {
     "name": "stderr",
     "output_type": "stream",
     "text": [
      "Epoch [87/200]: 100%|██████████| 157/157 [00:07<00:00, 21.18it/s, train_loss=0.118] \n"
     ]
    },
    {
     "name": "stdout",
     "output_type": "stream",
     "text": [
      "Epoch [87/200] - Train Loss: 0.1160, Val Loss: 0.1166\n"
     ]
    },
    {
     "name": "stderr",
     "output_type": "stream",
     "text": [
      "Epoch [88/200]: 100%|██████████| 157/157 [00:07<00:00, 21.49it/s, train_loss=0.12]  \n"
     ]
    },
    {
     "name": "stdout",
     "output_type": "stream",
     "text": [
      "Epoch [88/200] - Train Loss: 0.1167, Val Loss: 0.1143\n"
     ]
    },
    {
     "name": "stderr",
     "output_type": "stream",
     "text": [
      "Epoch [89/200]: 100%|██████████| 157/157 [00:07<00:00, 21.32it/s, train_loss=0.0937]\n"
     ]
    },
    {
     "name": "stdout",
     "output_type": "stream",
     "text": [
      "Epoch [89/200] - Train Loss: 0.1175, Val Loss: 0.1121\n",
      " Best model saved at epoch 89\n"
     ]
    },
    {
     "name": "stderr",
     "output_type": "stream",
     "text": [
      "Epoch [90/200]: 100%|██████████| 157/157 [00:07<00:00, 21.23it/s, train_loss=0.122] \n"
     ]
    },
    {
     "name": "stdout",
     "output_type": "stream",
     "text": [
      "Epoch [90/200] - Train Loss: 0.1163, Val Loss: 0.1146\n"
     ]
    },
    {
     "name": "stderr",
     "output_type": "stream",
     "text": [
      "Epoch [91/200]: 100%|██████████| 157/157 [00:07<00:00, 21.17it/s, train_loss=0.118] \n"
     ]
    },
    {
     "name": "stdout",
     "output_type": "stream",
     "text": [
      "Epoch [91/200] - Train Loss: 0.1169, Val Loss: 0.1145\n"
     ]
    },
    {
     "name": "stderr",
     "output_type": "stream",
     "text": [
      "Epoch [92/200]: 100%|██████████| 157/157 [00:07<00:00, 21.10it/s, train_loss=0.089] \n"
     ]
    },
    {
     "name": "stdout",
     "output_type": "stream",
     "text": [
      "Epoch [92/200] - Train Loss: 0.1147, Val Loss: 0.1151\n"
     ]
    },
    {
     "name": "stderr",
     "output_type": "stream",
     "text": [
      "Epoch [93/200]: 100%|██████████| 157/157 [00:07<00:00, 21.20it/s, train_loss=0.136] \n"
     ]
    },
    {
     "name": "stdout",
     "output_type": "stream",
     "text": [
      "Epoch [93/200] - Train Loss: 0.1157, Val Loss: 0.1152\n"
     ]
    },
    {
     "name": "stderr",
     "output_type": "stream",
     "text": [
      "Epoch [94/200]: 100%|██████████| 157/157 [00:07<00:00, 21.41it/s, train_loss=0.144] \n"
     ]
    },
    {
     "name": "stdout",
     "output_type": "stream",
     "text": [
      "Epoch [94/200] - Train Loss: 0.1149, Val Loss: 0.1192\n"
     ]
    },
    {
     "name": "stderr",
     "output_type": "stream",
     "text": [
      "Epoch [95/200]: 100%|██████████| 157/157 [00:07<00:00, 21.34it/s, train_loss=0.14]  \n"
     ]
    },
    {
     "name": "stdout",
     "output_type": "stream",
     "text": [
      "Epoch [95/200] - Train Loss: 0.1133, Val Loss: 0.1176\n"
     ]
    },
    {
     "name": "stderr",
     "output_type": "stream",
     "text": [
      "Epoch [96/200]: 100%|██████████| 157/157 [00:07<00:00, 21.14it/s, train_loss=0.102] \n"
     ]
    },
    {
     "name": "stdout",
     "output_type": "stream",
     "text": [
      "Epoch [96/200] - Train Loss: 0.1147, Val Loss: 0.1096\n",
      " Best model saved at epoch 96\n"
     ]
    },
    {
     "name": "stderr",
     "output_type": "stream",
     "text": [
      "Epoch [97/200]: 100%|██████████| 157/157 [00:07<00:00, 21.07it/s, train_loss=0.137] \n"
     ]
    },
    {
     "name": "stdout",
     "output_type": "stream",
     "text": [
      "Epoch [97/200] - Train Loss: 0.1161, Val Loss: 0.1137\n"
     ]
    },
    {
     "name": "stderr",
     "output_type": "stream",
     "text": [
      "Epoch [98/200]: 100%|██████████| 157/157 [00:07<00:00, 21.16it/s, train_loss=0.146] \n"
     ]
    },
    {
     "name": "stdout",
     "output_type": "stream",
     "text": [
      "Epoch [98/200] - Train Loss: 0.1126, Val Loss: 0.1102\n"
     ]
    },
    {
     "name": "stderr",
     "output_type": "stream",
     "text": [
      "Epoch [99/200]: 100%|██████████| 157/157 [00:07<00:00, 21.17it/s, train_loss=0.13]  \n"
     ]
    },
    {
     "name": "stdout",
     "output_type": "stream",
     "text": [
      "Epoch [99/200] - Train Loss: 0.1148, Val Loss: 0.1191\n"
     ]
    },
    {
     "name": "stderr",
     "output_type": "stream",
     "text": [
      "Epoch [100/200]: 100%|██████████| 157/157 [00:07<00:00, 21.35it/s, train_loss=0.156] \n"
     ]
    },
    {
     "name": "stdout",
     "output_type": "stream",
     "text": [
      "Epoch [100/200] - Train Loss: 0.1131, Val Loss: 0.1106\n"
     ]
    },
    {
     "name": "stderr",
     "output_type": "stream",
     "text": [
      "Epoch [101/200]: 100%|██████████| 157/157 [00:07<00:00, 21.26it/s, train_loss=0.109] \n"
     ]
    },
    {
     "name": "stdout",
     "output_type": "stream",
     "text": [
      "Epoch [101/200] - Train Loss: 0.1139, Val Loss: 0.1165\n"
     ]
    },
    {
     "name": "stderr",
     "output_type": "stream",
     "text": [
      "Epoch [102/200]: 100%|██████████| 157/157 [00:07<00:00, 21.10it/s, train_loss=0.107] \n"
     ]
    },
    {
     "name": "stdout",
     "output_type": "stream",
     "text": [
      "Epoch [102/200] - Train Loss: 0.1130, Val Loss: 0.1148\n"
     ]
    },
    {
     "name": "stderr",
     "output_type": "stream",
     "text": [
      "Epoch [103/200]: 100%|██████████| 157/157 [00:07<00:00, 21.36it/s, train_loss=0.165] \n"
     ]
    },
    {
     "name": "stdout",
     "output_type": "stream",
     "text": [
      "Epoch [103/200] - Train Loss: 0.1147, Val Loss: 0.1155\n"
     ]
    },
    {
     "name": "stderr",
     "output_type": "stream",
     "text": [
      "Epoch [104/200]: 100%|██████████| 157/157 [00:07<00:00, 21.49it/s, train_loss=0.124] \n"
     ]
    },
    {
     "name": "stdout",
     "output_type": "stream",
     "text": [
      "Epoch [104/200] - Train Loss: 0.1139, Val Loss: 0.1128\n"
     ]
    },
    {
     "name": "stderr",
     "output_type": "stream",
     "text": [
      "Epoch [105/200]: 100%|██████████| 157/157 [00:07<00:00, 21.37it/s, train_loss=0.106] \n"
     ]
    },
    {
     "name": "stdout",
     "output_type": "stream",
     "text": [
      "Epoch [105/200] - Train Loss: 0.1118, Val Loss: 0.1142\n"
     ]
    },
    {
     "name": "stderr",
     "output_type": "stream",
     "text": [
      "Epoch [106/200]: 100%|██████████| 157/157 [00:07<00:00, 21.55it/s, train_loss=0.143] \n"
     ]
    },
    {
     "name": "stdout",
     "output_type": "stream",
     "text": [
      "Epoch [106/200] - Train Loss: 0.1136, Val Loss: 0.1111\n"
     ]
    },
    {
     "name": "stderr",
     "output_type": "stream",
     "text": [
      "Epoch [107/200]: 100%|██████████| 157/157 [00:07<00:00, 21.62it/s, train_loss=0.112] \n"
     ]
    },
    {
     "name": "stdout",
     "output_type": "stream",
     "text": [
      "Epoch [107/200] - Train Loss: 0.1150, Val Loss: 0.1110\n"
     ]
    },
    {
     "name": "stderr",
     "output_type": "stream",
     "text": [
      "Epoch [108/200]: 100%|██████████| 157/157 [00:07<00:00, 21.45it/s, train_loss=0.145] \n"
     ]
    },
    {
     "name": "stdout",
     "output_type": "stream",
     "text": [
      "Epoch [108/200] - Train Loss: 0.1143, Val Loss: 0.1097\n"
     ]
    },
    {
     "name": "stderr",
     "output_type": "stream",
     "text": [
      "Epoch [109/200]: 100%|██████████| 157/157 [00:07<00:00, 21.72it/s, train_loss=0.111] \n"
     ]
    },
    {
     "name": "stdout",
     "output_type": "stream",
     "text": [
      "Epoch [109/200] - Train Loss: 0.1135, Val Loss: 0.1144\n"
     ]
    },
    {
     "name": "stderr",
     "output_type": "stream",
     "text": [
      "Epoch [110/200]: 100%|██████████| 157/157 [00:07<00:00, 21.48it/s, train_loss=0.12]  \n"
     ]
    },
    {
     "name": "stdout",
     "output_type": "stream",
     "text": [
      "Epoch [110/200] - Train Loss: 0.1134, Val Loss: 0.1150\n"
     ]
    },
    {
     "name": "stderr",
     "output_type": "stream",
     "text": [
      "Epoch [111/200]: 100%|██████████| 157/157 [00:07<00:00, 21.49it/s, train_loss=0.0808]\n"
     ]
    },
    {
     "name": "stdout",
     "output_type": "stream",
     "text": [
      "Epoch [111/200] - Train Loss: 0.1131, Val Loss: 0.1105\n"
     ]
    },
    {
     "name": "stderr",
     "output_type": "stream",
     "text": [
      "Epoch [112/200]: 100%|██████████| 157/157 [00:07<00:00, 21.40it/s, train_loss=0.112] \n"
     ]
    },
    {
     "name": "stdout",
     "output_type": "stream",
     "text": [
      "Epoch [112/200] - Train Loss: 0.1146, Val Loss: 0.1118\n"
     ]
    },
    {
     "name": "stderr",
     "output_type": "stream",
     "text": [
      "Epoch [113/200]: 100%|██████████| 157/157 [00:07<00:00, 21.43it/s, train_loss=0.0903]\n"
     ]
    },
    {
     "name": "stdout",
     "output_type": "stream",
     "text": [
      "Epoch [113/200] - Train Loss: 0.1112, Val Loss: 0.1178\n"
     ]
    },
    {
     "name": "stderr",
     "output_type": "stream",
     "text": [
      "Epoch [114/200]: 100%|██████████| 157/157 [00:07<00:00, 21.07it/s, train_loss=0.0932]\n"
     ]
    },
    {
     "name": "stdout",
     "output_type": "stream",
     "text": [
      "Epoch [114/200] - Train Loss: 0.1141, Val Loss: 0.1093\n",
      " Best model saved at epoch 114\n"
     ]
    },
    {
     "name": "stderr",
     "output_type": "stream",
     "text": [
      "Epoch [115/200]: 100%|██████████| 157/157 [00:07<00:00, 21.22it/s, train_loss=0.167] \n"
     ]
    },
    {
     "name": "stdout",
     "output_type": "stream",
     "text": [
      "Epoch [115/200] - Train Loss: 0.1129, Val Loss: 0.1144\n"
     ]
    },
    {
     "name": "stderr",
     "output_type": "stream",
     "text": [
      "Epoch [116/200]: 100%|██████████| 157/157 [00:07<00:00, 21.15it/s, train_loss=0.098] \n"
     ]
    },
    {
     "name": "stdout",
     "output_type": "stream",
     "text": [
      "Epoch [116/200] - Train Loss: 0.1129, Val Loss: 0.1093\n",
      " Best model saved at epoch 116\n"
     ]
    },
    {
     "name": "stderr",
     "output_type": "stream",
     "text": [
      "Epoch [117/200]: 100%|██████████| 157/157 [00:07<00:00, 20.95it/s, train_loss=0.11]  \n"
     ]
    },
    {
     "name": "stdout",
     "output_type": "stream",
     "text": [
      "Epoch [117/200] - Train Loss: 0.1128, Val Loss: 0.1114\n"
     ]
    },
    {
     "name": "stderr",
     "output_type": "stream",
     "text": [
      "Epoch [118/200]: 100%|██████████| 157/157 [00:07<00:00, 21.16it/s, train_loss=0.101] \n"
     ]
    },
    {
     "name": "stdout",
     "output_type": "stream",
     "text": [
      "Epoch [118/200] - Train Loss: 0.1135, Val Loss: 0.1140\n"
     ]
    },
    {
     "name": "stderr",
     "output_type": "stream",
     "text": [
      "Epoch [119/200]: 100%|██████████| 157/157 [00:07<00:00, 21.18it/s, train_loss=0.0676]\n"
     ]
    },
    {
     "name": "stdout",
     "output_type": "stream",
     "text": [
      "Epoch [119/200] - Train Loss: 0.1122, Val Loss: 0.1132\n"
     ]
    },
    {
     "name": "stderr",
     "output_type": "stream",
     "text": [
      "Epoch [120/200]: 100%|██████████| 157/157 [00:07<00:00, 21.15it/s, train_loss=0.0926]\n"
     ]
    },
    {
     "name": "stdout",
     "output_type": "stream",
     "text": [
      "Epoch [120/200] - Train Loss: 0.1136, Val Loss: 0.1097\n"
     ]
    },
    {
     "name": "stderr",
     "output_type": "stream",
     "text": [
      "Epoch [121/200]: 100%|██████████| 157/157 [00:07<00:00, 21.36it/s, train_loss=0.121] \n"
     ]
    },
    {
     "name": "stdout",
     "output_type": "stream",
     "text": [
      "Epoch [121/200] - Train Loss: 0.1124, Val Loss: 0.1112\n"
     ]
    },
    {
     "name": "stderr",
     "output_type": "stream",
     "text": [
      "Epoch [122/200]: 100%|██████████| 157/157 [00:07<00:00, 21.41it/s, train_loss=0.0886]\n"
     ]
    },
    {
     "name": "stdout",
     "output_type": "stream",
     "text": [
      "Epoch [122/200] - Train Loss: 0.1124, Val Loss: 0.1114\n"
     ]
    },
    {
     "name": "stderr",
     "output_type": "stream",
     "text": [
      "Epoch [123/200]: 100%|██████████| 157/157 [00:07<00:00, 21.30it/s, train_loss=0.0632]\n"
     ]
    },
    {
     "name": "stdout",
     "output_type": "stream",
     "text": [
      "Epoch [123/200] - Train Loss: 0.1136, Val Loss: 0.1129\n"
     ]
    },
    {
     "name": "stderr",
     "output_type": "stream",
     "text": [
      "Epoch [124/200]: 100%|██████████| 157/157 [00:07<00:00, 21.26it/s, train_loss=0.0988]\n"
     ]
    },
    {
     "name": "stdout",
     "output_type": "stream",
     "text": [
      "Epoch [124/200] - Train Loss: 0.1124, Val Loss: 0.1103\n"
     ]
    },
    {
     "name": "stderr",
     "output_type": "stream",
     "text": [
      "Epoch [125/200]: 100%|██████████| 157/157 [00:07<00:00, 21.20it/s, train_loss=0.1]   \n"
     ]
    },
    {
     "name": "stdout",
     "output_type": "stream",
     "text": [
      "Epoch [125/200] - Train Loss: 0.1148, Val Loss: 0.1192\n"
     ]
    },
    {
     "name": "stderr",
     "output_type": "stream",
     "text": [
      "Epoch [126/200]: 100%|██████████| 157/157 [00:07<00:00, 21.01it/s, train_loss=0.104] \n"
     ]
    },
    {
     "name": "stdout",
     "output_type": "stream",
     "text": [
      "Epoch [126/200] - Train Loss: 0.1129, Val Loss: 0.1193\n"
     ]
    },
    {
     "name": "stderr",
     "output_type": "stream",
     "text": [
      "Epoch [127/200]: 100%|██████████| 157/157 [00:07<00:00, 21.01it/s, train_loss=0.128] \n"
     ]
    },
    {
     "name": "stdout",
     "output_type": "stream",
     "text": [
      "Epoch [127/200] - Train Loss: 0.1132, Val Loss: 0.1168\n"
     ]
    },
    {
     "name": "stderr",
     "output_type": "stream",
     "text": [
      "Epoch [128/200]: 100%|██████████| 157/157 [00:07<00:00, 21.35it/s, train_loss=0.0831]\n"
     ]
    },
    {
     "name": "stdout",
     "output_type": "stream",
     "text": [
      "Epoch [128/200] - Train Loss: 0.1115, Val Loss: 0.1119\n"
     ]
    },
    {
     "name": "stderr",
     "output_type": "stream",
     "text": [
      "Epoch [129/200]: 100%|██████████| 157/157 [00:07<00:00, 21.20it/s, train_loss=0.148] \n"
     ]
    },
    {
     "name": "stdout",
     "output_type": "stream",
     "text": [
      "Epoch [129/200] - Train Loss: 0.1135, Val Loss: 0.1170\n"
     ]
    },
    {
     "name": "stderr",
     "output_type": "stream",
     "text": [
      "Epoch [130/200]: 100%|██████████| 157/157 [00:07<00:00, 21.39it/s, train_loss=0.168] \n"
     ]
    },
    {
     "name": "stdout",
     "output_type": "stream",
     "text": [
      "Epoch [130/200] - Train Loss: 0.1117, Val Loss: 0.1139\n"
     ]
    },
    {
     "name": "stderr",
     "output_type": "stream",
     "text": [
      "Epoch [131/200]: 100%|██████████| 157/157 [00:07<00:00, 21.29it/s, train_loss=0.139] \n"
     ]
    },
    {
     "name": "stdout",
     "output_type": "stream",
     "text": [
      "Epoch [131/200] - Train Loss: 0.1124, Val Loss: 0.1096\n"
     ]
    },
    {
     "name": "stderr",
     "output_type": "stream",
     "text": [
      "Epoch [132/200]: 100%|██████████| 157/157 [00:07<00:00, 21.57it/s, train_loss=0.137] \n"
     ]
    },
    {
     "name": "stdout",
     "output_type": "stream",
     "text": [
      "Epoch [132/200] - Train Loss: 0.1144, Val Loss: 0.1098\n"
     ]
    },
    {
     "name": "stderr",
     "output_type": "stream",
     "text": [
      "Epoch [133/200]: 100%|██████████| 157/157 [00:07<00:00, 21.48it/s, train_loss=0.121] \n"
     ]
    },
    {
     "name": "stdout",
     "output_type": "stream",
     "text": [
      "Epoch [133/200] - Train Loss: 0.1125, Val Loss: 0.1137\n"
     ]
    },
    {
     "name": "stderr",
     "output_type": "stream",
     "text": [
      "Epoch [134/200]: 100%|██████████| 157/157 [00:07<00:00, 21.61it/s, train_loss=0.131] \n"
     ]
    },
    {
     "name": "stdout",
     "output_type": "stream",
     "text": [
      "Epoch [134/200] - Train Loss: 0.1122, Val Loss: 0.1142\n"
     ]
    },
    {
     "name": "stderr",
     "output_type": "stream",
     "text": [
      "Epoch [135/200]: 100%|██████████| 157/157 [00:07<00:00, 21.66it/s, train_loss=0.117] \n"
     ]
    },
    {
     "name": "stdout",
     "output_type": "stream",
     "text": [
      "Epoch [135/200] - Train Loss: 0.1134, Val Loss: 0.1075\n",
      " Best model saved at epoch 135\n"
     ]
    },
    {
     "name": "stderr",
     "output_type": "stream",
     "text": [
      "Epoch [136/200]: 100%|██████████| 157/157 [00:07<00:00, 21.60it/s, train_loss=0.113] \n"
     ]
    },
    {
     "name": "stdout",
     "output_type": "stream",
     "text": [
      "Epoch [136/200] - Train Loss: 0.1144, Val Loss: 0.1149\n"
     ]
    },
    {
     "name": "stderr",
     "output_type": "stream",
     "text": [
      "Epoch [137/200]: 100%|██████████| 157/157 [00:07<00:00, 21.66it/s, train_loss=0.0687]\n"
     ]
    },
    {
     "name": "stdout",
     "output_type": "stream",
     "text": [
      "Epoch [137/200] - Train Loss: 0.1118, Val Loss: 0.1137\n"
     ]
    },
    {
     "name": "stderr",
     "output_type": "stream",
     "text": [
      "Epoch [138/200]: 100%|██████████| 157/157 [00:07<00:00, 21.54it/s, train_loss=0.131] \n"
     ]
    },
    {
     "name": "stdout",
     "output_type": "stream",
     "text": [
      "Epoch [138/200] - Train Loss: 0.1150, Val Loss: 0.1152\n"
     ]
    },
    {
     "name": "stderr",
     "output_type": "stream",
     "text": [
      "Epoch [139/200]: 100%|██████████| 157/157 [00:07<00:00, 21.48it/s, train_loss=0.113] \n"
     ]
    },
    {
     "name": "stdout",
     "output_type": "stream",
     "text": [
      "Epoch [139/200] - Train Loss: 0.1127, Val Loss: 0.1118\n"
     ]
    },
    {
     "name": "stderr",
     "output_type": "stream",
     "text": [
      "Epoch [140/200]: 100%|██████████| 157/157 [00:07<00:00, 21.40it/s, train_loss=0.134] \n"
     ]
    },
    {
     "name": "stdout",
     "output_type": "stream",
     "text": [
      "Epoch [140/200] - Train Loss: 0.1141, Val Loss: 0.1143\n"
     ]
    },
    {
     "name": "stderr",
     "output_type": "stream",
     "text": [
      "Epoch [141/200]: 100%|██████████| 157/157 [00:07<00:00, 21.43it/s, train_loss=0.162] \n"
     ]
    },
    {
     "name": "stdout",
     "output_type": "stream",
     "text": [
      "Epoch [141/200] - Train Loss: 0.1118, Val Loss: 0.1142\n"
     ]
    },
    {
     "name": "stderr",
     "output_type": "stream",
     "text": [
      "Epoch [142/200]: 100%|██████████| 157/157 [00:07<00:00, 21.49it/s, train_loss=0.135] \n"
     ]
    },
    {
     "name": "stdout",
     "output_type": "stream",
     "text": [
      "Epoch [142/200] - Train Loss: 0.1119, Val Loss: 0.1157\n"
     ]
    },
    {
     "name": "stderr",
     "output_type": "stream",
     "text": [
      "Epoch [143/200]: 100%|██████████| 157/157 [00:07<00:00, 21.39it/s, train_loss=0.098] \n"
     ]
    },
    {
     "name": "stdout",
     "output_type": "stream",
     "text": [
      "Epoch [143/200] - Train Loss: 0.1130, Val Loss: 0.1146\n"
     ]
    },
    {
     "name": "stderr",
     "output_type": "stream",
     "text": [
      "Epoch [144/200]: 100%|██████████| 157/157 [00:07<00:00, 21.49it/s, train_loss=0.139] \n"
     ]
    },
    {
     "name": "stdout",
     "output_type": "stream",
     "text": [
      "Epoch [144/200] - Train Loss: 0.1149, Val Loss: 0.1138\n"
     ]
    },
    {
     "name": "stderr",
     "output_type": "stream",
     "text": [
      "Epoch [145/200]: 100%|██████████| 157/157 [00:07<00:00, 21.40it/s, train_loss=0.112] \n"
     ]
    },
    {
     "name": "stdout",
     "output_type": "stream",
     "text": [
      "Epoch [145/200] - Train Loss: 0.1149, Val Loss: 0.1135\n"
     ]
    },
    {
     "name": "stderr",
     "output_type": "stream",
     "text": [
      "Epoch [146/200]: 100%|██████████| 157/157 [00:07<00:00, 20.96it/s, train_loss=0.141] \n"
     ]
    },
    {
     "name": "stdout",
     "output_type": "stream",
     "text": [
      "Epoch [146/200] - Train Loss: 0.1120, Val Loss: 0.1166\n"
     ]
    },
    {
     "name": "stderr",
     "output_type": "stream",
     "text": [
      "Epoch [147/200]: 100%|██████████| 157/157 [00:07<00:00, 21.11it/s, train_loss=0.177] \n"
     ]
    },
    {
     "name": "stdout",
     "output_type": "stream",
     "text": [
      "Epoch [147/200] - Train Loss: 0.1139, Val Loss: 0.1132\n"
     ]
    },
    {
     "name": "stderr",
     "output_type": "stream",
     "text": [
      "Epoch [148/200]: 100%|██████████| 157/157 [00:07<00:00, 21.19it/s, train_loss=0.101] \n"
     ]
    },
    {
     "name": "stdout",
     "output_type": "stream",
     "text": [
      "Epoch [148/200] - Train Loss: 0.1119, Val Loss: 0.1116\n"
     ]
    },
    {
     "name": "stderr",
     "output_type": "stream",
     "text": [
      "Epoch [149/200]: 100%|██████████| 157/157 [00:07<00:00, 21.36it/s, train_loss=0.0992]\n"
     ]
    },
    {
     "name": "stdout",
     "output_type": "stream",
     "text": [
      "Epoch [149/200] - Train Loss: 0.1132, Val Loss: 0.1099\n"
     ]
    },
    {
     "name": "stderr",
     "output_type": "stream",
     "text": [
      "Epoch [150/200]: 100%|██████████| 157/157 [00:07<00:00, 21.27it/s, train_loss=0.107] \n"
     ]
    },
    {
     "name": "stdout",
     "output_type": "stream",
     "text": [
      "Epoch [150/200] - Train Loss: 0.1128, Val Loss: 0.1155\n"
     ]
    },
    {
     "name": "stderr",
     "output_type": "stream",
     "text": [
      "Epoch [151/200]: 100%|██████████| 157/157 [00:07<00:00, 20.93it/s, train_loss=0.122] \n"
     ]
    },
    {
     "name": "stdout",
     "output_type": "stream",
     "text": [
      "Epoch [151/200] - Train Loss: 0.1138, Val Loss: 0.1133\n"
     ]
    },
    {
     "name": "stderr",
     "output_type": "stream",
     "text": [
      "Epoch [152/200]: 100%|██████████| 157/157 [00:07<00:00, 21.30it/s, train_loss=0.104] \n"
     ]
    },
    {
     "name": "stdout",
     "output_type": "stream",
     "text": [
      "Epoch [152/200] - Train Loss: 0.1125, Val Loss: 0.1109\n"
     ]
    },
    {
     "name": "stderr",
     "output_type": "stream",
     "text": [
      "Epoch [153/200]: 100%|██████████| 157/157 [00:07<00:00, 21.18it/s, train_loss=0.0939]\n"
     ]
    },
    {
     "name": "stdout",
     "output_type": "stream",
     "text": [
      "Epoch [153/200] - Train Loss: 0.1135, Val Loss: 0.1137\n"
     ]
    },
    {
     "name": "stderr",
     "output_type": "stream",
     "text": [
      "Epoch [154/200]: 100%|██████████| 157/157 [00:07<00:00, 21.10it/s, train_loss=0.0774]\n"
     ]
    },
    {
     "name": "stdout",
     "output_type": "stream",
     "text": [
      "Epoch [154/200] - Train Loss: 0.1130, Val Loss: 0.1113\n"
     ]
    },
    {
     "name": "stderr",
     "output_type": "stream",
     "text": [
      "Epoch [155/200]: 100%|██████████| 157/157 [00:07<00:00, 21.07it/s, train_loss=0.0873]\n"
     ]
    },
    {
     "name": "stdout",
     "output_type": "stream",
     "text": [
      "Epoch [155/200] - Train Loss: 0.1139, Val Loss: 0.1081\n"
     ]
    },
    {
     "name": "stderr",
     "output_type": "stream",
     "text": [
      "Epoch [156/200]: 100%|██████████| 157/157 [00:07<00:00, 21.33it/s, train_loss=0.0765]\n"
     ]
    },
    {
     "name": "stdout",
     "output_type": "stream",
     "text": [
      "Epoch [156/200] - Train Loss: 0.1133, Val Loss: 0.1105\n"
     ]
    },
    {
     "name": "stderr",
     "output_type": "stream",
     "text": [
      "Epoch [157/200]: 100%|██████████| 157/157 [00:07<00:00, 21.24it/s, train_loss=0.0846]\n"
     ]
    },
    {
     "name": "stdout",
     "output_type": "stream",
     "text": [
      "Epoch [157/200] - Train Loss: 0.1131, Val Loss: 0.1119\n"
     ]
    },
    {
     "name": "stderr",
     "output_type": "stream",
     "text": [
      "Epoch [158/200]: 100%|██████████| 157/157 [00:07<00:00, 21.26it/s, train_loss=0.108] \n"
     ]
    },
    {
     "name": "stdout",
     "output_type": "stream",
     "text": [
      "Epoch [158/200] - Train Loss: 0.1143, Val Loss: 0.1144\n"
     ]
    },
    {
     "name": "stderr",
     "output_type": "stream",
     "text": [
      "Epoch [159/200]: 100%|██████████| 157/157 [00:07<00:00, 21.27it/s, train_loss=0.0946]\n"
     ]
    },
    {
     "name": "stdout",
     "output_type": "stream",
     "text": [
      "Epoch [159/200] - Train Loss: 0.1112, Val Loss: 0.1120\n"
     ]
    },
    {
     "name": "stderr",
     "output_type": "stream",
     "text": [
      "Epoch [160/200]: 100%|██████████| 157/157 [00:07<00:00, 21.41it/s, train_loss=0.117] \n"
     ]
    },
    {
     "name": "stdout",
     "output_type": "stream",
     "text": [
      "Epoch [160/200] - Train Loss: 0.1113, Val Loss: 0.1099\n"
     ]
    },
    {
     "name": "stderr",
     "output_type": "stream",
     "text": [
      "Epoch [161/200]: 100%|██████████| 157/157 [00:07<00:00, 21.59it/s, train_loss=0.0889]\n"
     ]
    },
    {
     "name": "stdout",
     "output_type": "stream",
     "text": [
      "Epoch [161/200] - Train Loss: 0.1139, Val Loss: 0.1122\n"
     ]
    },
    {
     "name": "stderr",
     "output_type": "stream",
     "text": [
      "Epoch [162/200]: 100%|██████████| 157/157 [00:07<00:00, 21.56it/s, train_loss=0.112] \n"
     ]
    },
    {
     "name": "stdout",
     "output_type": "stream",
     "text": [
      "Epoch [162/200] - Train Loss: 0.1116, Val Loss: 0.1075\n"
     ]
    },
    {
     "name": "stderr",
     "output_type": "stream",
     "text": [
      "Epoch [163/200]: 100%|██████████| 157/157 [00:07<00:00, 21.61it/s, train_loss=0.134] \n"
     ]
    },
    {
     "name": "stdout",
     "output_type": "stream",
     "text": [
      "Epoch [163/200] - Train Loss: 0.1100, Val Loss: 0.1139\n"
     ]
    },
    {
     "name": "stderr",
     "output_type": "stream",
     "text": [
      "Epoch [164/200]: 100%|██████████| 157/157 [00:07<00:00, 21.57it/s, train_loss=0.0833]\n"
     ]
    },
    {
     "name": "stdout",
     "output_type": "stream",
     "text": [
      "Epoch [164/200] - Train Loss: 0.1138, Val Loss: 0.1179\n"
     ]
    },
    {
     "name": "stderr",
     "output_type": "stream",
     "text": [
      "Epoch [165/200]: 100%|██████████| 157/157 [00:07<00:00, 21.71it/s, train_loss=0.0855]\n"
     ]
    },
    {
     "name": "stdout",
     "output_type": "stream",
     "text": [
      "Epoch [165/200] - Train Loss: 0.1141, Val Loss: 0.1144\n"
     ]
    },
    {
     "name": "stderr",
     "output_type": "stream",
     "text": [
      "Epoch [166/200]: 100%|██████████| 157/157 [00:07<00:00, 21.62it/s, train_loss=0.0796]\n"
     ]
    },
    {
     "name": "stdout",
     "output_type": "stream",
     "text": [
      "Epoch [166/200] - Train Loss: 0.1128, Val Loss: 0.1125\n"
     ]
    },
    {
     "name": "stderr",
     "output_type": "stream",
     "text": [
      "Epoch [167/200]: 100%|██████████| 157/157 [00:07<00:00, 21.46it/s, train_loss=0.153] \n"
     ]
    },
    {
     "name": "stdout",
     "output_type": "stream",
     "text": [
      "Epoch [167/200] - Train Loss: 0.1148, Val Loss: 0.1127\n"
     ]
    },
    {
     "name": "stderr",
     "output_type": "stream",
     "text": [
      "Epoch [168/200]: 100%|██████████| 157/157 [00:07<00:00, 21.48it/s, train_loss=0.132] \n"
     ]
    },
    {
     "name": "stdout",
     "output_type": "stream",
     "text": [
      "Epoch [168/200] - Train Loss: 0.1125, Val Loss: 0.1158\n"
     ]
    },
    {
     "name": "stderr",
     "output_type": "stream",
     "text": [
      "Epoch [169/200]: 100%|██████████| 157/157 [00:07<00:00, 21.45it/s, train_loss=0.164] \n"
     ]
    },
    {
     "name": "stdout",
     "output_type": "stream",
     "text": [
      "Epoch [169/200] - Train Loss: 0.1141, Val Loss: 0.1133\n"
     ]
    },
    {
     "name": "stderr",
     "output_type": "stream",
     "text": [
      "Epoch [170/200]: 100%|██████████| 157/157 [00:07<00:00, 21.54it/s, train_loss=0.113] \n"
     ]
    },
    {
     "name": "stdout",
     "output_type": "stream",
     "text": [
      "Epoch [170/200] - Train Loss: 0.1133, Val Loss: 0.1110\n"
     ]
    },
    {
     "name": "stderr",
     "output_type": "stream",
     "text": [
      "Epoch [171/200]: 100%|██████████| 157/157 [00:07<00:00, 21.07it/s, train_loss=0.0837]\n"
     ]
    },
    {
     "name": "stdout",
     "output_type": "stream",
     "text": [
      "Epoch [171/200] - Train Loss: 0.1132, Val Loss: 0.1168\n"
     ]
    },
    {
     "name": "stderr",
     "output_type": "stream",
     "text": [
      "Epoch [172/200]: 100%|██████████| 157/157 [12:05<00:00,  4.62s/it, train_loss=0.146] \n"
     ]
    },
    {
     "name": "stdout",
     "output_type": "stream",
     "text": [
      "Epoch [172/200] - Train Loss: 0.1146, Val Loss: 0.1078\n"
     ]
    },
    {
     "name": "stderr",
     "output_type": "stream",
     "text": [
      "Epoch [173/200]: 100%|██████████| 157/157 [02:50<00:00,  1.09s/it, train_loss=0.0716]\n"
     ]
    },
    {
     "name": "stdout",
     "output_type": "stream",
     "text": [
      "Epoch [173/200] - Train Loss: 0.1132, Val Loss: 0.1144\n"
     ]
    },
    {
     "name": "stderr",
     "output_type": "stream",
     "text": [
      "Epoch [174/200]: 100%|██████████| 157/157 [00:12<00:00, 12.82it/s, train_loss=0.0958]\n"
     ]
    },
    {
     "name": "stdout",
     "output_type": "stream",
     "text": [
      "Epoch [174/200] - Train Loss: 0.1137, Val Loss: 0.1120\n"
     ]
    },
    {
     "name": "stderr",
     "output_type": "stream",
     "text": [
      "Epoch [175/200]: 100%|██████████| 157/157 [00:08<00:00, 17.94it/s, train_loss=0.112] \n"
     ]
    },
    {
     "name": "stdout",
     "output_type": "stream",
     "text": [
      "Epoch [175/200] - Train Loss: 0.1119, Val Loss: 0.1119\n"
     ]
    },
    {
     "name": "stderr",
     "output_type": "stream",
     "text": [
      "Epoch [176/200]: 100%|██████████| 157/157 [00:12<00:00, 12.25it/s, train_loss=0.131] \n"
     ]
    },
    {
     "name": "stdout",
     "output_type": "stream",
     "text": [
      "Epoch [176/200] - Train Loss: 0.1157, Val Loss: 0.1128\n"
     ]
    },
    {
     "name": "stderr",
     "output_type": "stream",
     "text": [
      "Epoch [177/200]: 100%|██████████| 157/157 [00:12<00:00, 13.05it/s, train_loss=0.133] \n"
     ]
    },
    {
     "name": "stdout",
     "output_type": "stream",
     "text": [
      "Epoch [177/200] - Train Loss: 0.1144, Val Loss: 0.1139\n"
     ]
    },
    {
     "name": "stderr",
     "output_type": "stream",
     "text": [
      "Epoch [178/200]: 100%|██████████| 157/157 [00:10<00:00, 14.41it/s, train_loss=0.133] \n"
     ]
    },
    {
     "name": "stdout",
     "output_type": "stream",
     "text": [
      "Epoch [178/200] - Train Loss: 0.1136, Val Loss: 0.1168\n"
     ]
    },
    {
     "name": "stderr",
     "output_type": "stream",
     "text": [
      "Epoch [179/200]: 100%|██████████| 157/157 [00:14<00:00, 11.01it/s, train_loss=0.107] \n"
     ]
    },
    {
     "name": "stdout",
     "output_type": "stream",
     "text": [
      "Epoch [179/200] - Train Loss: 0.1124, Val Loss: 0.1126\n"
     ]
    },
    {
     "name": "stderr",
     "output_type": "stream",
     "text": [
      "Epoch [180/200]: 100%|██████████| 157/157 [00:10<00:00, 14.76it/s, train_loss=0.101] \n"
     ]
    },
    {
     "name": "stdout",
     "output_type": "stream",
     "text": [
      "Epoch [180/200] - Train Loss: 0.1134, Val Loss: 0.1134\n"
     ]
    },
    {
     "name": "stderr",
     "output_type": "stream",
     "text": [
      "Epoch [181/200]: 100%|██████████| 157/157 [00:11<00:00, 14.15it/s, train_loss=0.155] \n"
     ]
    },
    {
     "name": "stdout",
     "output_type": "stream",
     "text": [
      "Epoch [181/200] - Train Loss: 0.1142, Val Loss: 0.1077\n"
     ]
    },
    {
     "name": "stderr",
     "output_type": "stream",
     "text": [
      "Epoch [182/200]: 100%|██████████| 157/157 [00:14<00:00, 11.12it/s, train_loss=0.094] \n"
     ]
    },
    {
     "name": "stdout",
     "output_type": "stream",
     "text": [
      "Epoch [182/200] - Train Loss: 0.1094, Val Loss: 0.1110\n"
     ]
    },
    {
     "name": "stderr",
     "output_type": "stream",
     "text": [
      "Epoch [183/200]: 100%|██████████| 157/157 [00:11<00:00, 13.68it/s, train_loss=0.105] \n"
     ]
    },
    {
     "name": "stdout",
     "output_type": "stream",
     "text": [
      "Epoch [183/200] - Train Loss: 0.1118, Val Loss: 0.1097\n"
     ]
    },
    {
     "name": "stderr",
     "output_type": "stream",
     "text": [
      "Epoch [184/200]: 100%|██████████| 157/157 [00:12<00:00, 12.88it/s, train_loss=0.127] \n"
     ]
    },
    {
     "name": "stdout",
     "output_type": "stream",
     "text": [
      "Epoch [184/200] - Train Loss: 0.1139, Val Loss: 0.1131\n"
     ]
    },
    {
     "name": "stderr",
     "output_type": "stream",
     "text": [
      "Epoch [185/200]: 100%|██████████| 157/157 [00:11<00:00, 13.17it/s, train_loss=0.105] \n"
     ]
    },
    {
     "name": "stdout",
     "output_type": "stream",
     "text": [
      "Epoch [185/200] - Train Loss: 0.1121, Val Loss: 0.1151\n"
     ]
    },
    {
     "name": "stderr",
     "output_type": "stream",
     "text": [
      "Epoch [186/200]: 100%|██████████| 157/157 [23:51<00:00,  9.12s/it, train_loss=0.0953]   \n"
     ]
    },
    {
     "name": "stdout",
     "output_type": "stream",
     "text": [
      "Epoch [186/200] - Train Loss: 0.1115, Val Loss: 0.1080\n"
     ]
    },
    {
     "name": "stderr",
     "output_type": "stream",
     "text": [
      "Epoch [187/200]: 100%|██████████| 157/157 [00:07<00:00, 20.54it/s, train_loss=0.077] \n"
     ]
    },
    {
     "name": "stdout",
     "output_type": "stream",
     "text": [
      "Epoch [187/200] - Train Loss: 0.1105, Val Loss: 0.1150\n"
     ]
    },
    {
     "name": "stderr",
     "output_type": "stream",
     "text": [
      "Epoch [188/200]: 100%|██████████| 157/157 [00:07<00:00, 20.87it/s, train_loss=0.175] \n"
     ]
    },
    {
     "name": "stdout",
     "output_type": "stream",
     "text": [
      "Epoch [188/200] - Train Loss: 0.1136, Val Loss: 0.1091\n"
     ]
    },
    {
     "name": "stderr",
     "output_type": "stream",
     "text": [
      "Epoch [189/200]: 100%|██████████| 157/157 [00:07<00:00, 20.63it/s, train_loss=0.128] \n"
     ]
    },
    {
     "name": "stdout",
     "output_type": "stream",
     "text": [
      "Epoch [189/200] - Train Loss: 0.1123, Val Loss: 0.1111\n"
     ]
    },
    {
     "name": "stderr",
     "output_type": "stream",
     "text": [
      "Epoch [190/200]: 100%|██████████| 157/157 [00:07<00:00, 20.35it/s, train_loss=0.108] \n"
     ]
    },
    {
     "name": "stdout",
     "output_type": "stream",
     "text": [
      "Epoch [190/200] - Train Loss: 0.1123, Val Loss: 0.1153\n"
     ]
    },
    {
     "name": "stderr",
     "output_type": "stream",
     "text": [
      "Epoch [191/200]: 100%|██████████| 157/157 [00:07<00:00, 20.33it/s, train_loss=0.124] \n"
     ]
    },
    {
     "name": "stdout",
     "output_type": "stream",
     "text": [
      "Epoch [191/200] - Train Loss: 0.1138, Val Loss: 0.1162\n"
     ]
    },
    {
     "name": "stderr",
     "output_type": "stream",
     "text": [
      "Epoch [192/200]: 100%|██████████| 157/157 [00:07<00:00, 20.49it/s, train_loss=0.101] \n"
     ]
    },
    {
     "name": "stdout",
     "output_type": "stream",
     "text": [
      "Epoch [192/200] - Train Loss: 0.1131, Val Loss: 0.1129\n"
     ]
    },
    {
     "name": "stderr",
     "output_type": "stream",
     "text": [
      "Epoch [193/200]: 100%|██████████| 157/157 [00:07<00:00, 19.97it/s, train_loss=0.109] \n"
     ]
    },
    {
     "name": "stdout",
     "output_type": "stream",
     "text": [
      "Epoch [193/200] - Train Loss: 0.1137, Val Loss: 0.1104\n"
     ]
    },
    {
     "name": "stderr",
     "output_type": "stream",
     "text": [
      "Epoch [194/200]: 100%|██████████| 157/157 [00:07<00:00, 20.18it/s, train_loss=0.0926]\n"
     ]
    },
    {
     "name": "stdout",
     "output_type": "stream",
     "text": [
      "Epoch [194/200] - Train Loss: 0.1134, Val Loss: 0.1119\n"
     ]
    },
    {
     "name": "stderr",
     "output_type": "stream",
     "text": [
      "Epoch [195/200]: 100%|██████████| 157/157 [06:14<00:00,  2.39s/it, train_loss=0.0966] \n"
     ]
    },
    {
     "name": "stdout",
     "output_type": "stream",
     "text": [
      "Epoch [195/200] - Train Loss: 0.1126, Val Loss: 0.1116\n"
     ]
    },
    {
     "name": "stderr",
     "output_type": "stream",
     "text": [
      "Epoch [196/200]: 100%|██████████| 157/157 [00:13<00:00, 11.47it/s, train_loss=0.102] \n"
     ]
    },
    {
     "name": "stdout",
     "output_type": "stream",
     "text": [
      "Epoch [196/200] - Train Loss: 0.1132, Val Loss: 0.1143\n"
     ]
    },
    {
     "name": "stderr",
     "output_type": "stream",
     "text": [
      "Epoch [197/200]: 100%|██████████| 157/157 [00:11<00:00, 14.26it/s, train_loss=0.0997]\n"
     ]
    },
    {
     "name": "stdout",
     "output_type": "stream",
     "text": [
      "Epoch [197/200] - Train Loss: 0.1126, Val Loss: 0.1142\n"
     ]
    },
    {
     "name": "stderr",
     "output_type": "stream",
     "text": [
      "Epoch [198/200]: 100%|██████████| 157/157 [00:13<00:00, 11.97it/s, train_loss=0.123] \n"
     ]
    },
    {
     "name": "stdout",
     "output_type": "stream",
     "text": [
      "Epoch [198/200] - Train Loss: 0.1133, Val Loss: 0.1115\n"
     ]
    },
    {
     "name": "stderr",
     "output_type": "stream",
     "text": [
      "Epoch [199/200]: 100%|██████████| 157/157 [00:10<00:00, 15.57it/s, train_loss=0.14]  \n"
     ]
    },
    {
     "name": "stdout",
     "output_type": "stream",
     "text": [
      "Epoch [199/200] - Train Loss: 0.1135, Val Loss: 0.1170\n"
     ]
    },
    {
     "name": "stderr",
     "output_type": "stream",
     "text": [
      "Epoch [200/200]: 100%|██████████| 157/157 [00:10<00:00, 15.57it/s, train_loss=0.112] \n"
     ]
    },
    {
     "name": "stdout",
     "output_type": "stream",
     "text": [
      "Epoch [200/200] - Train Loss: 0.1125, Val Loss: 0.1156\n",
      " Final model saved\n"
     ]
    }
   ],
   "source": [
    "epochs = 200\n",
    "train_losses = []\n",
    "val_losses = []\n",
    "best_val_loss = float(\"inf\")\n",
    "\n",
    "for epoch in range(epochs):\n",
    "    total_train_loss = 0\n",
    "    total_val_loss = 0\n",
    "    \n",
    "    model.train()\n",
    "    loop = tqdm(train_loader, desc=f\"Epoch [{epoch+1}/{epochs}]\")\n",
    "    \n",
    "    for embeddings, images in loop:\n",
    "        images = images.to(device)\n",
    "        t = torch.randint(0, 1000, (images.shape[0],), dtype=torch.long).to(device)\n",
    "        noisy_images, noise = diffusion.add_noise(images, t)\n",
    "        \n",
    "        optimizer.zero_grad()\n",
    "        predicted_noise = model(noisy_images)\n",
    "        loss = loss_fn(predicted_noise, noise)\n",
    "        loss.backward()\n",
    "        optimizer.step()\n",
    "        \n",
    "        total_train_loss += loss.item()\n",
    "        loop.set_postfix(train_loss=loss.item())\n",
    "    \n",
    "    avg_train_loss = total_train_loss / len(train_loader)\n",
    "    train_losses.append(avg_train_loss)\n",
    "\n",
    "    model.eval()\n",
    "    with torch.no_grad():\n",
    "        for embeddings, images in val_loader:\n",
    "            images = images.to(device)\n",
    "            t = torch.randint(0, 1000, (images.shape[0],), dtype=torch.long).to(device)\n",
    "            noisy_images, noise = diffusion.add_noise(images, t)\n",
    "            predicted_noise = model(noisy_images)\n",
    "            val_loss = loss_fn(predicted_noise, noise)\n",
    "            total_val_loss += val_loss.item()\n",
    "\n",
    "    avg_val_loss = total_val_loss / len(val_loader)\n",
    "    val_losses.append(avg_val_loss)\n",
    "    scheduler.step(avg_val_loss)\n",
    "\n",
    "    print(f\"Epoch [{epoch+1}/{epochs}] - Train Loss: {avg_train_loss:.4f}, Val Loss: {avg_val_loss:.4f}\")\n",
    "\n",
    "    if avg_val_loss < best_val_loss:\n",
    "        best_val_loss = avg_val_loss\n",
    "        torch.save(model.state_dict(), \"best_model.pth\")\n",
    "        print(f\" Best model saved at epoch {epoch+1}\")\n",
    "\n",
    "torch.save(model.state_dict(), \"last_model.pth\")\n",
    "print(\" Final model saved\")\n",
    "\n"
   ]
  },
  {
   "cell_type": "code",
   "execution_count": 12,
   "metadata": {},
   "outputs": [
    {
     "data": {
      "image/png": "[encoded data removed]",
      "text/plain": [
       "<Figure size 3000x2000 with 1 Axes>"
      ]
     },
     "metadata": {},
     "output_type": "display_data"
    }
   ],
   "source": [
    "# Plot Loss Graph\n",
    "plt.figure(figsize=(30, 20))\n",
    "plt.plot(range(1, epochs + 1), train_losses, marker=\"o\", linestyle=\"-\", label=\"Train Loss\")\n",
    "plt.plot(range(1, epochs + 1), val_losses, marker=\"o\", linestyle=\"--\", label=\"Validation Loss\")\n",
    "plt.xlabel(\"Epochs\")\n",
    "plt.ylabel(\"Loss\")\n",
    "plt.title(\"Training vs Validation Loss\")\n",
    "plt.legend()\n",
    "plt.grid(True)\n",
    "plt.show()"
   ]
  },
  {
   "cell_type": "code",
   "execution_count": 13,
   "metadata": {},
   "outputs": [
    {
     "name": "stdout",
     "output_type": "stream",
     "text": [
      "Model loaded successfully!\n"
     ]
    }
   ],
   "source": [
    "# Load the trained model\n",
    "model = UNet().to(device)  # Initialize model architecture\n",
    "model.load_state_dict(torch.load(\"best_model.pth\", map_location=device))\n",
    "model.eval()  # Set model to evaluation mode\n",
    "print(\"Model loaded successfully!\")"
   ]
  },
  {
   "cell_type": "code",
   "execution_count": 14,
   "metadata": {},
   "outputs": [
    {
     "data": {
      "image/png": "[encoded data removed]",
      "text/plain": [
       "<Figure size 1000x2000 with 50 Axes>"
      ]
     },
     "metadata": {},
     "output_type": "display_data"
    }
   ],
   "source": [
    "import matplotlib.pyplot as plt\n",
    "\n",
    "def sample_emoji(model, diffusion, num_samples=50):\n",
    "    model.eval()\n",
    "    with torch.no_grad():\n",
    "        sampled_images = diffusion.sample(model, (num_samples, 3, 32, 32))\n",
    "    return sampled_images.cpu()\n",
    "\n",
    "# Load trained model\n",
    "model = UNet().to(device)\n",
    "model.load_state_dict(torch.load(\"best_model.pth\", map_location=device))\n",
    "model.eval()\n",
    "\n",
    "# Generate 50 images\n",
    "num_samples = 50\n",
    "sampled_emojis = sample_emoji(model, diffusion, num_samples)\n",
    "\n",
    "# Define grid size (e.g., 10 rows, 5 columns)\n",
    "rows, cols = 10, 5\n",
    "fig, axes = plt.subplots(rows, cols, figsize=(cols * 2, rows * 2))\n",
    "\n",
    "# Plot images in grid\n",
    "for i, ax in enumerate(axes.flat):\n",
    "    if i < num_samples:\n",
    "        img = sampled_emojis[i].permute(1, 2, 0).clamp(0, 1)  # Convert to (H, W, C)\n",
    "        ax.imshow(img)\n",
    "    ax.axis(\"off\")\n",
    "\n",
    "plt.tight_layout()\n",
    "plt.show()\n"
   ]
  }
 ],
 "metadata": {
  "kernelspec": {
   "display_name": "Python 3",
   "language": "python",
   "name": "python3"
  },
  "language_info": {
   "codemirror_mode": {
    "name": "ipython",
    "version": 3
   },
   "file_extension": ".py",
   "mimetype": "text/x-python",
   "name": "python",
   "nbconvert_exporter": "python",
   "pygments_lexer": "ipython3",
   "version": "3.9.11"
  }
 },
 "nbformat": 4,
 "nbformat_minor": 2
}
