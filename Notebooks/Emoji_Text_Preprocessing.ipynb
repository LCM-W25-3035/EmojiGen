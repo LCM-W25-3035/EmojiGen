{
 "cells": [
  {
   "cell_type": "code",
   "metadata": {
    "ExecuteTime": {
     "end_time": "2025-03-10T15:13:19.053415Z",
     "start_time": "2025-03-10T15:13:18.503651Z"
    }
   },
   "source": [
    "import pandas as pd\n",
    "import numpy as np\n",
    "import os\n",
    "import re\n",
    "import nltk\n",
    "from nltk.corpus import stopwords\n",
    "from nltk.tokenize import word_tokenize\n",
    "from sentence_transformers import SentenceTransformer\n",
    "from tqdm import tqdm\n",
    "import torch\n",
    "\n",
    "# Download NLTK data files (only need to run once)\n",
    "nltk.download('punkt_tab')\n",
    "nltk.download('stopwords')\n",
    "nltk.download('wordnet')\n",
    "\n",
    "# Apply tqdm to all .apply() functions by using progress_apply\n",
    "tqdm.pandas()"
   ],
   "outputs": [
    {
     "name": "stderr",
     "output_type": "stream",
     "text": [
      "[nltk_data] Downloading package punkt_tab to\n",
      "[nltk_data]     /Users/bikinghimire/nltk_data...\n",
      "[nltk_data]   Package punkt_tab is already up-to-date!\n",
      "[nltk_data] Downloading package stopwords to\n",
      "[nltk_data]     /Users/bikinghimire/nltk_data...\n",
      "[nltk_data]   Unzipping corpora/stopwords.zip.\n",
      "[nltk_data] Downloading package wordnet to\n",
      "[nltk_data]     /Users/bikinghimire/nltk_data...\n",
      "[nltk_data]   Package wordnet is already up-to-date!\n"
     ]
    }
   ],
   "execution_count": 33
  },
  {
   "cell_type": "code",
   "metadata": {
    "ExecuteTime": {
     "end_time": "2025-03-10T15:13:19.209641Z",
     "start_time": "2025-03-10T15:13:19.054703Z"
    }
   },
   "source": [
    "# Reading the dataset\n",
    "openmoji_df = pd.read_csv('../data/openmoji.csv')\n",
    "emojipedia_df = pd.read_csv('../data/emojipedia.csv')\n",
    "llm_df = pd.read_parquet('../data/llmemoji.parquet')"
   ],
   "outputs": [],
   "execution_count": 34
  },
  {
   "cell_type": "code",
   "metadata": {
    "ExecuteTime": {
     "end_time": "2025-03-10T15:13:19.233709Z",
     "start_time": "2025-03-10T15:13:19.210284Z"
    }
   },
   "source": [
    "# Convert Unicode string (e.g., 'U+1F600', 'U+263A,FE0F') to hex code ('1F600', '263A-FE0F').\n",
    "\n",
    "def unicode_to_hex(unicode_str):\n",
    "    unicode_str = unicode_str.replace(\",\", \" \")  # Replace commas with spaces\n",
    "    # First splitting the input string to a list of substrings\n",
    "    # Loops though each substring\n",
    "    # Removes the U+ prefix from each substring\n",
    "    hex_values = [u.replace(\"U+\", \"\") for u in unicode_str.split()]\n",
    "    # Join the values with hyphens\n",
    "    return \"-\".join(hex_values)\n",
    "\n",
    "# Convert 'unicode' column in emojipedia_df and llm_df to 'hexcode'\n",
    "emojipedia_df['hexcode'] = emojipedia_df['Codepoints Hex'].progress_apply(unicode_to_hex)\n",
    "llm_df['hexcode'] = llm_df['unicode'].progress_apply(unicode_to_hex)"
   ],
   "outputs": [
    {
     "name": "stderr",
     "output_type": "stream",
     "text": [
      "100%|██████████| 1885/1885 [00:00<00:00, 673217.22it/s]\n",
      "100%|██████████| 5034/5034 [00:00<00:00, 1202056.72it/s]\n"
     ]
    }
   ],
   "execution_count": 35
  },
  {
   "cell_type": "code",
   "metadata": {
    "ExecuteTime": {
     "end_time": "2025-03-10T15:13:19.246555Z",
     "start_time": "2025-03-10T15:13:19.235156Z"
    }
   },
   "source": [
    "# Making the hexcode uniform in all 3 dataframes for merging\n",
    "# removing -f30f (differentiation between image type emoji and textual type emoji)\n",
    "# removing -200d (differentiation for emoji with skin-tone)\n",
    "\n",
    "openmoji_df['hexcode'] = openmoji_df['hexcode'].str.replace('-FE0F', '', regex=True)\n",
    "openmoji_df['hexcode'] = openmoji_df['hexcode'].str.replace('-200D', '', regex=True)\n",
    "llm_df['hexcode'] = llm_df['hexcode'].str.replace('-FE0F', '', regex=True)\n",
    "llm_df['hexcode'] = llm_df['hexcode'].str.replace('-200D', '', regex=True)\n",
    "emojipedia_df['hexcode'] = emojipedia_df['hexcode'].str.replace('-FE0F', '', regex=True)\n",
    "emojipedia_df['hexcode'] = emojipedia_df['hexcode'].str.replace('-200D', '', regex=True)"
   ],
   "outputs": [],
   "execution_count": 36
  },
  {
   "metadata": {
    "ExecuteTime": {
     "end_time": "2025-03-10T15:13:19.253154Z",
     "start_time": "2025-03-10T15:13:19.247702Z"
    }
   },
   "cell_type": "code",
   "source": "# openmoji_df = openmoji_df[openmoji_df[\"group\"] == \"smileys-emotion\"]",
   "outputs": [],
   "execution_count": 37
  },
  {
   "metadata": {
    "ExecuteTime": {
     "end_time": "2025-03-10T15:13:19.256827Z",
     "start_time": "2025-03-10T15:13:19.253998Z"
    }
   },
   "cell_type": "code",
   "source": [
    "# Removing Skin tones\n",
    "# openmoji_df = openmoji_df[~openmoji_df['hexcode'].str.contains('1F3FB|1F3FC|1F3FD|1F3FE|1F3FF', regex=True)]"
   ],
   "outputs": [],
   "execution_count": 38
  },
  {
   "cell_type": "code",
   "metadata": {
    "ExecuteTime": {
     "end_time": "2025-03-10T15:13:19.267483Z",
     "start_time": "2025-03-10T15:13:19.257550Z"
    }
   },
   "source": [
    "# Checking for duplicates\n",
    "duplicate_counts = openmoji_df['hexcode'].value_counts()\n",
    "duplicates = duplicate_counts[duplicate_counts > 1]\n",
    "print(duplicates)"
   ],
   "outputs": [
    {
     "name": "stdout",
     "output_type": "stream",
     "text": [
      "Series([], Name: count, dtype: int64)\n"
     ]
    }
   ],
   "execution_count": 39
  },
  {
   "cell_type": "code",
   "metadata": {
    "ExecuteTime": {
     "end_time": "2025-03-10T15:13:19.272850Z",
     "start_time": "2025-03-10T15:13:19.268224Z"
    }
   },
   "source": [
    "# Checking for duplicates\n",
    "duplicate_counts = llm_df['hexcode'].value_counts()\n",
    "duplicates = duplicate_counts[duplicate_counts > 1]\n",
    "print(duplicates)"
   ],
   "outputs": [
    {
     "name": "stdout",
     "output_type": "stream",
     "text": [
      "hexcode\n",
      "1F3C3-1F3FD-2640-27A1           4\n",
      "1F6B6-1F3FF-2642-27A1           4\n",
      "1F6B6-1F3FF-2640-27A1           4\n",
      "1F6B6-1F3FE-2640-27A1           4\n",
      "1F6B6-1F3FC-2640-27A1           4\n",
      "                               ..\n",
      "1F9D1-1F3FC-2764-1F9D1-1F3FD    2\n",
      "1F469-1F3FF-2764-1F468-1F3FD    2\n",
      "1F9D1-1F3FD-2764-1F9D1-1F3FF    2\n",
      "1F327                           2\n",
      "2601                            2\n",
      "Name: count, Length: 1160, dtype: int64\n"
     ]
    }
   ],
   "execution_count": 40
  },
  {
   "cell_type": "code",
   "metadata": {
    "ExecuteTime": {
     "end_time": "2025-03-10T15:13:19.276919Z",
     "start_time": "2025-03-10T15:13:19.273570Z"
    }
   },
   "source": [
    "duplicate_counts = emojipedia_df['hexcode'].value_counts()\n",
    "duplicates = duplicate_counts[duplicate_counts > 1]\n",
    "print(duplicates)"
   ],
   "outputs": [
    {
     "name": "stdout",
     "output_type": "stream",
     "text": [
      "Series([], Name: count, dtype: int64)\n"
     ]
    }
   ],
   "execution_count": 41
  },
  {
   "cell_type": "code",
   "metadata": {
    "ExecuteTime": {
     "end_time": "2025-03-10T15:13:19.282980Z",
     "start_time": "2025-03-10T15:13:19.279322Z"
    }
   },
   "source": [
    "# Removing duplicates\n",
    "openmoji_df = openmoji_df[~openmoji_df.duplicated(subset=['hexcode'], keep=False)]\n",
    "llm_df = llm_df[~llm_df.duplicated(subset=['hexcode'], keep=False)]"
   ],
   "outputs": [],
   "execution_count": 42
  },
  {
   "cell_type": "code",
   "metadata": {
    "ExecuteTime": {
     "end_time": "2025-03-10T15:13:19.301342Z",
     "start_time": "2025-03-10T15:13:19.283729Z"
    }
   },
   "source": [
    "# Merge the dataframes on 'hexcode'\n",
    "merged_df = openmoji_df.merge(emojipedia_df, on='hexcode', how='left')  # Changed outer merge to left\n",
    "merged_df = merged_df.merge(llm_df, on='hexcode', how='left')  # Changed outer merge to left\n",
    "# Convert hexcode to lowercase\n",
    "merged_df['hexcode'] = merged_df['hexcode'].str.lower()"
   ],
   "outputs": [],
   "execution_count": 43
  },
  {
   "cell_type": "code",
   "metadata": {
    "ExecuteTime": {
     "end_time": "2025-03-10T15:13:19.312291Z",
     "start_time": "2025-03-10T15:13:19.302459Z"
    }
   },
   "source": [
    "merged_df.head()"
   ],
   "outputs": [
    {
     "data": {
      "text/plain": [
       "  emoji hexcode            group     subgroups  \\\n",
       "0     😀   1f600  smileys-emotion  face-smiling   \n",
       "1     😃   1f603  smileys-emotion  face-smiling   \n",
       "2     😄   1f604  smileys-emotion  face-smiling   \n",
       "3     😁   1f601  smileys-emotion  face-smiling   \n",
       "4     😆   1f606  smileys-emotion  face-smiling   \n",
       "\n",
       "                        annotation                                tags_x  \\\n",
       "0                    grinning face                            face, grin   \n",
       "1      grinning face with big eyes              face, mouth, open, smile   \n",
       "2  grinning face with smiling eyes         eye, face, mouth, open, smile   \n",
       "3   beaming face with smiling eyes                eye, face, grin, smile   \n",
       "4          grinning squinting face  face, laugh, mouth, satisfied, smile   \n",
       "\n",
       "  openmoji_tags openmoji_author openmoji_date skintone  ...  \\\n",
       "0           NaN     Emily Jäger    2018-04-18      NaN  ...   \n",
       "1           NaN     Emily Jäger    2018-04-18      NaN  ...   \n",
       "2           NaN     Emily Jäger    2018-04-18      NaN  ...   \n",
       "3           NaN     Emily Jäger    2018-04-18      NaN  ...   \n",
       "4           NaN     Emily Jäger    2018-04-18      NaN  ...   \n",
       "\n",
       "                             Title                      DescribedBy  \\\n",
       "0                    Grinning Face                    grinning-face   \n",
       "1      Grinning Face with Big Eyes      grinning-face-with-big-eyes   \n",
       "2  Grinning Face with Smiling Eyes  grinning-face-with-smiling-eyes   \n",
       "3   Beaming Face with Smiling Eyes   beaming-face-with-smiling-eyes   \n",
       "4          Grinning Squinting Face          grinning-squinting-face   \n",
       "\n",
       "                                URL  \\\n",
       "0                    /grinning-face   \n",
       "1      /grinning-face-with-big-eyes   \n",
       "2  /grinning-face-with-smiling-eyes   \n",
       "3   /beaming-face-with-smiling-eyes   \n",
       "4          /grinning-squinting-face   \n",
       "\n",
       "                                         Description  Codepoints Hex  \\\n",
       "0  A yellow face with simple, open eyes and a bro...         U+1F600   \n",
       "1  A yellow face with smiling eyes and a broad, o...         U+1F603   \n",
       "2  A yellow face with smiling eyes and a broad, o...         U+1F604   \n",
       "3  A yellow face with smiling eyes and full-tooth...         U+1F601   \n",
       "4  A yellow face with a broad, open smile and scr...         U+1F606   \n",
       "\n",
       "  character unicode_y                short description  \\\n",
       "0         😀   U+1F600                    GRINNING FACE   \n",
       "1         😃   U+1F603      GRINNING FACE WITH BIG EYES   \n",
       "2         😄   U+1F604  GRINNING FACE WITH SMILING EYES   \n",
       "3         😁   U+1F601   BEAMING FACE WITH SMILING EYES   \n",
       "4         😆   U+1F606          GRINNING SQUINTING FACE   \n",
       "\n",
       "                                              tags_y  \\\n",
       "0  [smiling, happy, amusement, positive, friendly...   \n",
       "1  [smiling, happiness, joy, amusement, face, emo...   \n",
       "2  [smiling, happy, amusement, joy, laughter, con...   \n",
       "3      [happy, joy, delight, smiling, face, emotion]   \n",
       "4  [smiling, happy, humor, amusement, laughter, f...   \n",
       "\n",
       "                                     LLM description  \n",
       "0  This emoji represents a smiling face with a br...  \n",
       "1  This emoji represents a smiling face with a wi...  \n",
       "2  This emoji represents a smiling face with happ...  \n",
       "3  This emoji represents a beaming face with smil...  \n",
       "4  This emoji represents a smiling face with squi...  \n",
       "\n",
       "[5 rows x 28 columns]"
      ],
      "text/html": [
       "<div>\n",
       "<style scoped>\n",
       "    .dataframe tbody tr th:only-of-type {\n",
       "        vertical-align: middle;\n",
       "    }\n",
       "\n",
       "    .dataframe tbody tr th {\n",
       "        vertical-align: top;\n",
       "    }\n",
       "\n",
       "    .dataframe thead th {\n",
       "        text-align: right;\n",
       "    }\n",
       "</style>\n",
       "<table border=\"1\" class=\"dataframe\">\n",
       "  <thead>\n",
       "    <tr style=\"text-align: right;\">\n",
       "      <th></th>\n",
       "      <th>emoji</th>\n",
       "      <th>hexcode</th>\n",
       "      <th>group</th>\n",
       "      <th>subgroups</th>\n",
       "      <th>annotation</th>\n",
       "      <th>tags_x</th>\n",
       "      <th>openmoji_tags</th>\n",
       "      <th>openmoji_author</th>\n",
       "      <th>openmoji_date</th>\n",
       "      <th>skintone</th>\n",
       "      <th>...</th>\n",
       "      <th>Title</th>\n",
       "      <th>DescribedBy</th>\n",
       "      <th>URL</th>\n",
       "      <th>Description</th>\n",
       "      <th>Codepoints Hex</th>\n",
       "      <th>character</th>\n",
       "      <th>unicode_y</th>\n",
       "      <th>short description</th>\n",
       "      <th>tags_y</th>\n",
       "      <th>LLM description</th>\n",
       "    </tr>\n",
       "  </thead>\n",
       "  <tbody>\n",
       "    <tr>\n",
       "      <th>0</th>\n",
       "      <td>😀</td>\n",
       "      <td>1f600</td>\n",
       "      <td>smileys-emotion</td>\n",
       "      <td>face-smiling</td>\n",
       "      <td>grinning face</td>\n",
       "      <td>face, grin</td>\n",
       "      <td>NaN</td>\n",
       "      <td>Emily Jäger</td>\n",
       "      <td>2018-04-18</td>\n",
       "      <td>NaN</td>\n",
       "      <td>...</td>\n",
       "      <td>Grinning Face</td>\n",
       "      <td>grinning-face</td>\n",
       "      <td>/grinning-face</td>\n",
       "      <td>A yellow face with simple, open eyes and a bro...</td>\n",
       "      <td>U+1F600</td>\n",
       "      <td>😀</td>\n",
       "      <td>U+1F600</td>\n",
       "      <td>GRINNING FACE</td>\n",
       "      <td>[smiling, happy, amusement, positive, friendly...</td>\n",
       "      <td>This emoji represents a smiling face with a br...</td>\n",
       "    </tr>\n",
       "    <tr>\n",
       "      <th>1</th>\n",
       "      <td>😃</td>\n",
       "      <td>1f603</td>\n",
       "      <td>smileys-emotion</td>\n",
       "      <td>face-smiling</td>\n",
       "      <td>grinning face with big eyes</td>\n",
       "      <td>face, mouth, open, smile</td>\n",
       "      <td>NaN</td>\n",
       "      <td>Emily Jäger</td>\n",
       "      <td>2018-04-18</td>\n",
       "      <td>NaN</td>\n",
       "      <td>...</td>\n",
       "      <td>Grinning Face with Big Eyes</td>\n",
       "      <td>grinning-face-with-big-eyes</td>\n",
       "      <td>/grinning-face-with-big-eyes</td>\n",
       "      <td>A yellow face with smiling eyes and a broad, o...</td>\n",
       "      <td>U+1F603</td>\n",
       "      <td>😃</td>\n",
       "      <td>U+1F603</td>\n",
       "      <td>GRINNING FACE WITH BIG EYES</td>\n",
       "      <td>[smiling, happiness, joy, amusement, face, emo...</td>\n",
       "      <td>This emoji represents a smiling face with a wi...</td>\n",
       "    </tr>\n",
       "    <tr>\n",
       "      <th>2</th>\n",
       "      <td>😄</td>\n",
       "      <td>1f604</td>\n",
       "      <td>smileys-emotion</td>\n",
       "      <td>face-smiling</td>\n",
       "      <td>grinning face with smiling eyes</td>\n",
       "      <td>eye, face, mouth, open, smile</td>\n",
       "      <td>NaN</td>\n",
       "      <td>Emily Jäger</td>\n",
       "      <td>2018-04-18</td>\n",
       "      <td>NaN</td>\n",
       "      <td>...</td>\n",
       "      <td>Grinning Face with Smiling Eyes</td>\n",
       "      <td>grinning-face-with-smiling-eyes</td>\n",
       "      <td>/grinning-face-with-smiling-eyes</td>\n",
       "      <td>A yellow face with smiling eyes and a broad, o...</td>\n",
       "      <td>U+1F604</td>\n",
       "      <td>😄</td>\n",
       "      <td>U+1F604</td>\n",
       "      <td>GRINNING FACE WITH SMILING EYES</td>\n",
       "      <td>[smiling, happy, amusement, joy, laughter, con...</td>\n",
       "      <td>This emoji represents a smiling face with happ...</td>\n",
       "    </tr>\n",
       "    <tr>\n",
       "      <th>3</th>\n",
       "      <td>😁</td>\n",
       "      <td>1f601</td>\n",
       "      <td>smileys-emotion</td>\n",
       "      <td>face-smiling</td>\n",
       "      <td>beaming face with smiling eyes</td>\n",
       "      <td>eye, face, grin, smile</td>\n",
       "      <td>NaN</td>\n",
       "      <td>Emily Jäger</td>\n",
       "      <td>2018-04-18</td>\n",
       "      <td>NaN</td>\n",
       "      <td>...</td>\n",
       "      <td>Beaming Face with Smiling Eyes</td>\n",
       "      <td>beaming-face-with-smiling-eyes</td>\n",
       "      <td>/beaming-face-with-smiling-eyes</td>\n",
       "      <td>A yellow face with smiling eyes and full-tooth...</td>\n",
       "      <td>U+1F601</td>\n",
       "      <td>😁</td>\n",
       "      <td>U+1F601</td>\n",
       "      <td>BEAMING FACE WITH SMILING EYES</td>\n",
       "      <td>[happy, joy, delight, smiling, face, emotion]</td>\n",
       "      <td>This emoji represents a beaming face with smil...</td>\n",
       "    </tr>\n",
       "    <tr>\n",
       "      <th>4</th>\n",
       "      <td>😆</td>\n",
       "      <td>1f606</td>\n",
       "      <td>smileys-emotion</td>\n",
       "      <td>face-smiling</td>\n",
       "      <td>grinning squinting face</td>\n",
       "      <td>face, laugh, mouth, satisfied, smile</td>\n",
       "      <td>NaN</td>\n",
       "      <td>Emily Jäger</td>\n",
       "      <td>2018-04-18</td>\n",
       "      <td>NaN</td>\n",
       "      <td>...</td>\n",
       "      <td>Grinning Squinting Face</td>\n",
       "      <td>grinning-squinting-face</td>\n",
       "      <td>/grinning-squinting-face</td>\n",
       "      <td>A yellow face with a broad, open smile and scr...</td>\n",
       "      <td>U+1F606</td>\n",
       "      <td>😆</td>\n",
       "      <td>U+1F606</td>\n",
       "      <td>GRINNING SQUINTING FACE</td>\n",
       "      <td>[smiling, happy, humor, amusement, laughter, f...</td>\n",
       "      <td>This emoji represents a smiling face with squi...</td>\n",
       "    </tr>\n",
       "  </tbody>\n",
       "</table>\n",
       "<p>5 rows × 28 columns</p>\n",
       "</div>"
      ]
     },
     "execution_count": 44,
     "metadata": {},
     "output_type": "execute_result"
    }
   ],
   "execution_count": 44
  },
  {
   "cell_type": "code",
   "metadata": {
    "ExecuteTime": {
     "end_time": "2025-03-10T15:13:19.347557Z",
     "start_time": "2025-03-10T15:13:19.313093Z"
    }
   },
   "source": [
    "merged_df.info()"
   ],
   "outputs": [
    {
     "name": "stdout",
     "output_type": "stream",
     "text": [
      "<class 'pandas.core.frame.DataFrame'>\n",
      "RangeIndex: 168 entries, 0 to 167\n",
      "Data columns (total 28 columns):\n",
      " #   Column                 Non-Null Count  Dtype  \n",
      "---  ------                 --------------  -----  \n",
      " 0   emoji                  168 non-null    object \n",
      " 1   hexcode                168 non-null    object \n",
      " 2   group                  168 non-null    object \n",
      " 3   subgroups              168 non-null    object \n",
      " 4   annotation             168 non-null    object \n",
      " 5   tags_x                 168 non-null    object \n",
      " 6   openmoji_tags          0 non-null      object \n",
      " 7   openmoji_author        168 non-null    object \n",
      " 8   openmoji_date          168 non-null    object \n",
      " 9   skintone               0 non-null      object \n",
      " 10  skintone_combination   0 non-null      object \n",
      " 11  skintone_base_emoji    0 non-null      object \n",
      " 12  skintone_base_hexcode  0 non-null      object \n",
      " 13  unicode_x              168 non-null    object \n",
      " 14  order                  168 non-null    float64\n",
      " 15  Group                  167 non-null    object \n",
      " 16  Subgroup               167 non-null    object \n",
      " 17  Emoji                  167 non-null    object \n",
      " 18  Title                  167 non-null    object \n",
      " 19  DescribedBy            167 non-null    object \n",
      " 20  URL                    167 non-null    object \n",
      " 21  Description            167 non-null    object \n",
      " 22  Codepoints Hex         167 non-null    object \n",
      " 23  character              154 non-null    object \n",
      " 24  unicode_y              154 non-null    object \n",
      " 25  short description      154 non-null    object \n",
      " 26  tags_y                 154 non-null    object \n",
      " 27  LLM description        154 non-null    object \n",
      "dtypes: float64(1), object(27)\n",
      "memory usage: 36.9+ KB\n"
     ]
    }
   ],
   "execution_count": 45
  },
  {
   "cell_type": "code",
   "metadata": {
    "ExecuteTime": {
     "end_time": "2025-03-10T15:13:19.354080Z",
     "start_time": "2025-03-10T15:13:19.348601Z"
    }
   },
   "source": [
    "# Select and rename required columns\n",
    "final_df = merged_df.copy()\n",
    "final_df = final_df[['emoji', 'hexcode', 'subgroups', 'annotation', 'tags_x', 'openmoji_tags', 'Description', 'tags_y', 'LLM description']]\n",
    "final_df.columns = [\n",
    "    'emoji', 'hexcode', 'subgroups', 'openmoji_annotation', 'openmoji_tags_1', 'openmoji_tags_2', 'emojipedia_description', 'llm_tags', 'llm_description'\n",
    "]"
   ],
   "outputs": [],
   "execution_count": 46
  },
  {
   "cell_type": "code",
   "metadata": {
    "ExecuteTime": {
     "end_time": "2025-03-10T15:13:19.359615Z",
     "start_time": "2025-03-10T15:13:19.354715Z"
    }
   },
   "source": [
    "final_df.head()"
   ],
   "outputs": [
    {
     "data": {
      "text/plain": [
       "  emoji hexcode     subgroups              openmoji_annotation  \\\n",
       "0     😀   1f600  face-smiling                    grinning face   \n",
       "1     😃   1f603  face-smiling      grinning face with big eyes   \n",
       "2     😄   1f604  face-smiling  grinning face with smiling eyes   \n",
       "3     😁   1f601  face-smiling   beaming face with smiling eyes   \n",
       "4     😆   1f606  face-smiling          grinning squinting face   \n",
       "\n",
       "                        openmoji_tags_1 openmoji_tags_2  \\\n",
       "0                            face, grin             NaN   \n",
       "1              face, mouth, open, smile             NaN   \n",
       "2         eye, face, mouth, open, smile             NaN   \n",
       "3                eye, face, grin, smile             NaN   \n",
       "4  face, laugh, mouth, satisfied, smile             NaN   \n",
       "\n",
       "                              emojipedia_description  \\\n",
       "0  A yellow face with simple, open eyes and a bro...   \n",
       "1  A yellow face with smiling eyes and a broad, o...   \n",
       "2  A yellow face with smiling eyes and a broad, o...   \n",
       "3  A yellow face with smiling eyes and full-tooth...   \n",
       "4  A yellow face with a broad, open smile and scr...   \n",
       "\n",
       "                                            llm_tags  \\\n",
       "0  [smiling, happy, amusement, positive, friendly...   \n",
       "1  [smiling, happiness, joy, amusement, face, emo...   \n",
       "2  [smiling, happy, amusement, joy, laughter, con...   \n",
       "3      [happy, joy, delight, smiling, face, emotion]   \n",
       "4  [smiling, happy, humor, amusement, laughter, f...   \n",
       "\n",
       "                                     llm_description  \n",
       "0  This emoji represents a smiling face with a br...  \n",
       "1  This emoji represents a smiling face with a wi...  \n",
       "2  This emoji represents a smiling face with happ...  \n",
       "3  This emoji represents a beaming face with smil...  \n",
       "4  This emoji represents a smiling face with squi...  "
      ],
      "text/html": [
       "<div>\n",
       "<style scoped>\n",
       "    .dataframe tbody tr th:only-of-type {\n",
       "        vertical-align: middle;\n",
       "    }\n",
       "\n",
       "    .dataframe tbody tr th {\n",
       "        vertical-align: top;\n",
       "    }\n",
       "\n",
       "    .dataframe thead th {\n",
       "        text-align: right;\n",
       "    }\n",
       "</style>\n",
       "<table border=\"1\" class=\"dataframe\">\n",
       "  <thead>\n",
       "    <tr style=\"text-align: right;\">\n",
       "      <th></th>\n",
       "      <th>emoji</th>\n",
       "      <th>hexcode</th>\n",
       "      <th>subgroups</th>\n",
       "      <th>openmoji_annotation</th>\n",
       "      <th>openmoji_tags_1</th>\n",
       "      <th>openmoji_tags_2</th>\n",
       "      <th>emojipedia_description</th>\n",
       "      <th>llm_tags</th>\n",
       "      <th>llm_description</th>\n",
       "    </tr>\n",
       "  </thead>\n",
       "  <tbody>\n",
       "    <tr>\n",
       "      <th>0</th>\n",
       "      <td>😀</td>\n",
       "      <td>1f600</td>\n",
       "      <td>face-smiling</td>\n",
       "      <td>grinning face</td>\n",
       "      <td>face, grin</td>\n",
       "      <td>NaN</td>\n",
       "      <td>A yellow face with simple, open eyes and a bro...</td>\n",
       "      <td>[smiling, happy, amusement, positive, friendly...</td>\n",
       "      <td>This emoji represents a smiling face with a br...</td>\n",
       "    </tr>\n",
       "    <tr>\n",
       "      <th>1</th>\n",
       "      <td>😃</td>\n",
       "      <td>1f603</td>\n",
       "      <td>face-smiling</td>\n",
       "      <td>grinning face with big eyes</td>\n",
       "      <td>face, mouth, open, smile</td>\n",
       "      <td>NaN</td>\n",
       "      <td>A yellow face with smiling eyes and a broad, o...</td>\n",
       "      <td>[smiling, happiness, joy, amusement, face, emo...</td>\n",
       "      <td>This emoji represents a smiling face with a wi...</td>\n",
       "    </tr>\n",
       "    <tr>\n",
       "      <th>2</th>\n",
       "      <td>😄</td>\n",
       "      <td>1f604</td>\n",
       "      <td>face-smiling</td>\n",
       "      <td>grinning face with smiling eyes</td>\n",
       "      <td>eye, face, mouth, open, smile</td>\n",
       "      <td>NaN</td>\n",
       "      <td>A yellow face with smiling eyes and a broad, o...</td>\n",
       "      <td>[smiling, happy, amusement, joy, laughter, con...</td>\n",
       "      <td>This emoji represents a smiling face with happ...</td>\n",
       "    </tr>\n",
       "    <tr>\n",
       "      <th>3</th>\n",
       "      <td>😁</td>\n",
       "      <td>1f601</td>\n",
       "      <td>face-smiling</td>\n",
       "      <td>beaming face with smiling eyes</td>\n",
       "      <td>eye, face, grin, smile</td>\n",
       "      <td>NaN</td>\n",
       "      <td>A yellow face with smiling eyes and full-tooth...</td>\n",
       "      <td>[happy, joy, delight, smiling, face, emotion]</td>\n",
       "      <td>This emoji represents a beaming face with smil...</td>\n",
       "    </tr>\n",
       "    <tr>\n",
       "      <th>4</th>\n",
       "      <td>😆</td>\n",
       "      <td>1f606</td>\n",
       "      <td>face-smiling</td>\n",
       "      <td>grinning squinting face</td>\n",
       "      <td>face, laugh, mouth, satisfied, smile</td>\n",
       "      <td>NaN</td>\n",
       "      <td>A yellow face with a broad, open smile and scr...</td>\n",
       "      <td>[smiling, happy, humor, amusement, laughter, f...</td>\n",
       "      <td>This emoji represents a smiling face with squi...</td>\n",
       "    </tr>\n",
       "  </tbody>\n",
       "</table>\n",
       "</div>"
      ]
     },
     "execution_count": 47,
     "metadata": {},
     "output_type": "execute_result"
    }
   ],
   "execution_count": 47
  },
  {
   "cell_type": "markdown",
   "metadata": {},
   "source": [
    "## Handling Tags and Descriptions"
   ]
  },
  {
   "cell_type": "code",
   "metadata": {
    "ExecuteTime": {
     "end_time": "2025-03-10T15:13:19.364437Z",
     "start_time": "2025-03-10T15:13:19.360236Z"
    }
   },
   "source": [
    "def clean_text(text):\n",
    "    if not isinstance(text, str) or pd.isna(text) or text.strip().lower() == \"nan\":  \n",
    "        return \"\"  # Return empty string for NaN or \"nan\" strings\n",
    "    text = text.lower().strip() # Convert to lowercase and remove unnecessary spaces\n",
    "    # Keep only letters, numbers, spaces, * and #\n",
    "    text = re.sub(r'[^a-z0-9\\s*#]', '', text)\n",
    "    # Tokenize the text\n",
    "    tokens = word_tokenize(text)\n",
    "    # Remove stop words\n",
    "    tokens = [word for word in tokens if word not in stopwords.words('english')]\n",
    "    # Lemmatize the tokens\n",
    "    # lemmatizer = WordNetLemmatizer()\n",
    "    # tokens = [lemmatizer.lemmatize(word) for word in tokens]\n",
    "    return ', '.join(tokens)\n",
    "\n",
    "def remove_duplicates(text):\n",
    "    words = [word.strip() for word in text.split(\",\")]  # Split by commas and strip spaces\n",
    "    unique_words = sorted(set(word.strip() for word in text.split(\",\")))\n",
    "    return ', '.join(unique_words)  # Join back into a string"
   ],
   "outputs": [],
   "execution_count": 48
  },
  {
   "cell_type": "code",
   "metadata": {
    "ExecuteTime": {
     "end_time": "2025-03-10T15:13:19.372982Z",
     "start_time": "2025-03-10T15:13:19.365437Z"
    }
   },
   "source": [
    "# Clean openmoji_annotation column\n",
    "# final_df[\"cleaned_annotations\"] = final_df[\"openmoji_annotation\"].progress_apply(clean_text)\n",
    "# Clean llm_tags\n",
    "final_df[\"cleaned_llm_tags\"] = final_df[\"llm_tags\"].progress_apply(clean_text)\n",
    "\n",
    "# List of columns to merge\n",
    "columns_to_merge = [\"openmoji_tags_1\", \"openmoji_tags_2\", \"cleaned_llm_tags\"]  # Not merging annotations\n",
    "\n",
    "# Fill NaN with empty strings, then merge columns\n",
    "final_df[\"merged_tags\"] = final_df[columns_to_merge].fillna(\"\").agg(\n",
    "    lambda x: \", \".join(filter(None, map(str, x))), axis=1\n",
    ")"
   ],
   "outputs": [
    {
     "name": "stderr",
     "output_type": "stream",
     "text": [
      "100%|██████████| 168/168 [00:00<00:00, 601744.72it/s]\n"
     ]
    }
   ],
   "execution_count": 49
  },
  {
   "cell_type": "code",
   "metadata": {
    "ExecuteTime": {
     "end_time": "2025-03-10T15:13:19.377976Z",
     "start_time": "2025-03-10T15:13:19.373709Z"
    }
   },
   "source": [
    "# Remove duplicates\n",
    "final_df[\"final_tags\"] = final_df[\"merged_tags\"].progress_apply(remove_duplicates)"
   ],
   "outputs": [
    {
     "name": "stderr",
     "output_type": "stream",
     "text": [
      "100%|██████████| 168/168 [00:00<00:00, 388233.10it/s]\n"
     ]
    }
   ],
   "execution_count": 50
  },
  {
   "cell_type": "code",
   "metadata": {
    "ExecuteTime": {
     "end_time": "2025-03-10T15:13:19.380255Z",
     "start_time": "2025-03-10T15:13:19.378580Z"
    }
   },
   "source": [
    "# # Limiting only 2 sentences because the content is too long with too many references to other emoji, which might be more confusing later for the model to learn.\n",
    "# \n",
    "# \"\"\"\n",
    "# Reference: Chat-GPT-4o\n",
    "# Prompt: My df_images has a emojipedia_description column. Only keep the first two sentences in the column and remove the rest.\n",
    "# \"\"\"\n",
    "# # Function to keep only the first two sentences\n",
    "# def keep_first_two_sentences(description):\n",
    "#     if pd.isna(description):  # Handle missing values (NaNs)\n",
    "#         return description\n",
    "#     sentences = re.split(r'(?<=[.!?]) +', description.strip())  # Split by sentence-ending punctuation (., !, ?)\n",
    "#     return ' '.join(sentences[:2])  # Return only the first two sentences\n",
    "# \n",
    "# # Apply the function to the 'llm_description' column\n",
    "# final_df['emojipedia_description'] = final_df['emojipedia_description'].progress_apply(keep_first_two_sentences)"
   ],
   "outputs": [],
   "execution_count": 51
  },
  {
   "metadata": {
    "ExecuteTime": {
     "end_time": "2025-03-10T15:13:19.382341Z",
     "start_time": "2025-03-10T15:13:19.380813Z"
    }
   },
   "cell_type": "code",
   "source": [
    "# # Function to handle concatenation with empty strings and NaN values\n",
    "# def merge_descriptions(row):\n",
    "#     parts = []\n",
    "#     if pd.notna(row['emojipedia_description']) and row['emojipedia_description'].strip():\n",
    "#         parts.append(row['emojipedia_description'].strip())\n",
    "#     if pd.notna(row['llm_description']) and row['llm_description'].strip():\n",
    "#         parts.append(row['llm_description'].strip())\n",
    "#     if pd.notna(row['final_tags']) and row['final_tags'].strip():\n",
    "#         parts.append(\"Tags: \" + row['final_tags'].strip())\n",
    "#     \n",
    "#     return \" \".join(parts)\n",
    "# \n",
    "# # Apply the function to each row\n",
    "# final_df['merged_description'] = final_df.apply(merge_descriptions, axis=1)"
   ],
   "outputs": [],
   "execution_count": 52
  },
  {
   "metadata": {
    "ExecuteTime": {
     "end_time": "2025-03-10T15:13:19.386998Z",
     "start_time": "2025-03-10T15:13:19.382903Z"
    }
   },
   "cell_type": "code",
   "source": [
    "# Function to handle concatenation with empty strings and NaN values\n",
    "def merge_descriptions(row):\n",
    "    parts = []\n",
    "    if pd.notna(row['openmoji_annotation']) and row['openmoji_annotation'].strip():\n",
    "        parts.append(row['openmoji_annotation'].strip())\n",
    "    if pd.notna(row['llm_description']) and row['llm_description'].strip():\n",
    "        parts.append(row['llm_description'].strip())\n",
    "    if pd.notna(row['final_tags']) and row['final_tags'].strip():\n",
    "        parts.append(\"Tags: \" + row['final_tags'].strip())\n",
    "    \n",
    "    return \". \".join(parts)\n",
    "\n",
    "# Apply the function to each row\n",
    "final_df['merged_description'] = final_df.apply(merge_descriptions, axis=1)"
   ],
   "outputs": [],
   "execution_count": 53
  },
  {
   "metadata": {
    "ExecuteTime": {
     "end_time": "2025-03-10T15:13:19.391453Z",
     "start_time": "2025-03-10T15:13:19.387618Z"
    }
   },
   "cell_type": "code",
   "source": "final_df.info()",
   "outputs": [
    {
     "name": "stdout",
     "output_type": "stream",
     "text": [
      "<class 'pandas.core.frame.DataFrame'>\n",
      "RangeIndex: 168 entries, 0 to 167\n",
      "Data columns (total 13 columns):\n",
      " #   Column                  Non-Null Count  Dtype \n",
      "---  ------                  --------------  ----- \n",
      " 0   emoji                   168 non-null    object\n",
      " 1   hexcode                 168 non-null    object\n",
      " 2   subgroups               168 non-null    object\n",
      " 3   openmoji_annotation     168 non-null    object\n",
      " 4   openmoji_tags_1         168 non-null    object\n",
      " 5   openmoji_tags_2         0 non-null      object\n",
      " 6   emojipedia_description  167 non-null    object\n",
      " 7   llm_tags                154 non-null    object\n",
      " 8   llm_description         154 non-null    object\n",
      " 9   cleaned_llm_tags        168 non-null    object\n",
      " 10  merged_tags             168 non-null    object\n",
      " 11  final_tags              168 non-null    object\n",
      " 12  merged_description      168 non-null    object\n",
      "dtypes: object(13)\n",
      "memory usage: 17.2+ KB\n"
     ]
    }
   ],
   "execution_count": 54
  },
  {
   "cell_type": "markdown",
   "metadata": {},
   "source": [
    "## Embedding using Sentence BERT"
   ]
  },
  {
   "cell_type": "code",
   "metadata": {
    "ExecuteTime": {
     "end_time": "2025-03-10T15:13:19.402478Z",
     "start_time": "2025-03-10T15:13:19.392117Z"
    }
   },
   "source": [
    "# Use GPU if available\n",
    "\"\"\"\n",
    "Reference: https://pytorch.org/get-started/locally/\n",
    "\"\"\"\n",
    "\n",
    "# Check for NVIDIA GPU\n",
    "if torch.cuda.is_available():\n",
    "    device = torch.device(\"cuda\")  # Use CUDA (NVIDIA GPU)\n",
    "    print(\"Using NVIDIA GPU (CUDA)\")\n",
    "\n",
    "# Check for Mac Silicon GPU (MPS)\n",
    "elif torch.backends.mps.is_available():\n",
    "    device = torch.device(\"mps\")  # Use Metal Performance Shaders (Mac Silicon GPU)\n",
    "    print(\"Using Mac GPU (MPS)\")\n",
    "\n",
    "# Default to CPU if no GPU is available\n",
    "else:\n",
    "    device = torch.device(\"cpu\")\n",
    "    print(\"Using CPU\")"
   ],
   "outputs": [
    {
     "name": "stdout",
     "output_type": "stream",
     "text": [
      "Using Mac GPU (MPS)\n"
     ]
    }
   ],
   "execution_count": 55
  },
  {
   "cell_type": "code",
   "metadata": {
    "ExecuteTime": {
     "end_time": "2025-03-10T15:13:21.619031Z",
     "start_time": "2025-03-10T15:13:19.402972Z"
    }
   },
   "source": [
    "# Load SBERT model\n",
    "sbert_model = SentenceTransformer('all-MiniLM-L6-v2')\n",
    "sbert_model = sbert_model.to(device)\n",
    "\n",
    "# Ensure text columns are strings\n",
    "# final_df[\"emojipedia_description\"] = final_df[\"emojipedia_description\"].fillna(\"\").astype(str)\n",
    "# final_df[\"llm_description\"] = final_df[\"llm_description\"].fillna(\"\").astype(str)\n",
    "\n",
    "# Return SBERT embedding for a given text.\n",
    "def embed_text(text):\n",
    "    if pd.isna(text) or text.strip() == \"\":\n",
    "        return np.zeros(384, dtype=np.float32)  # Return zero vector for missing values (SBERT output size = 384)\n",
    "    return sbert_model.encode(text).astype(np.float32)"
   ],
   "outputs": [],
   "execution_count": 56
  },
  {
   "cell_type": "code",
   "metadata": {
    "ExecuteTime": {
     "end_time": "2025-03-10T15:13:25.301918Z",
     "start_time": "2025-03-10T15:13:21.626028Z"
    }
   },
   "source": [
    "\"\"\"\n",
    "Reference: https://sbert.net/\n",
    "\"\"\"\n",
    "\n",
    "# Apply SBERT embeddings to each columns\n",
    "# print(\"Embedding final_tags...\")\n",
    "# final_df[\"tags_embedding\"] = final_df[\"final_tags\"].progress_apply(embed_text)\n",
    "# \n",
    "# print(\"Embedding emojipedia_description...\")\n",
    "# final_df[\"emojipedia_embedding\"] = final_df[\"emojipedia_description\"].progress_apply(embed_text)\n",
    "# \n",
    "# print(\"Embedding llm_description...\")\n",
    "# final_df[\"llm_embedding\"] = final_df[\"llm_description\"].progress_apply(embed_text)\n",
    "\n",
    "# Apply SBERT embedding to merged_description\n",
    "final_df[\"combined_embedding\"] = final_df[\"merged_description\"].progress_apply(embed_text)"
   ],
   "outputs": [
    {
     "name": "stderr",
     "output_type": "stream",
     "text": [
      "100%|██████████| 168/168 [00:03<00:00, 45.90it/s]\n"
     ]
    }
   ],
   "execution_count": 57
  },
  {
   "metadata": {
    "ExecuteTime": {
     "end_time": "2025-03-10T15:13:26.842011Z",
     "start_time": "2025-03-10T15:13:25.302923Z"
    }
   },
   "cell_type": "code",
   "source": [
    "# Apply SBERT embedding to subgroups\n",
    "final_df[\"group_embedding\"] = final_df[\"subgroups\"].progress_apply(embed_text)"
   ],
   "outputs": [
    {
     "name": "stderr",
     "output_type": "stream",
     "text": [
      "100%|██████████| 168/168 [00:01<00:00, 109.36it/s]\n"
     ]
    }
   ],
   "execution_count": 58
  },
  {
   "cell_type": "code",
   "metadata": {
    "ExecuteTime": {
     "end_time": "2025-03-10T15:13:26.844350Z",
     "start_time": "2025-03-10T15:13:26.842774Z"
    }
   },
   "source": [
    "# final_df[\"combined_embedding\"] = final_df.apply(\n",
    "#     lambda row: np.concatenate([row[\"tags_embedding\"], row[\"emojipedia_embedding\"], row[\"llm_embedding\"]]), axis=1\n",
    "# )"
   ],
   "outputs": [],
   "execution_count": 59
  },
  {
   "cell_type": "code",
   "metadata": {
    "ExecuteTime": {
     "end_time": "2025-03-10T15:13:26.862768Z",
     "start_time": "2025-03-10T15:13:26.848183Z"
    }
   },
   "source": "final_df.head()",
   "outputs": [
    {
     "data": {
      "text/plain": [
       "  emoji hexcode     subgroups              openmoji_annotation  \\\n",
       "0     😀   1f600  face-smiling                    grinning face   \n",
       "1     😃   1f603  face-smiling      grinning face with big eyes   \n",
       "2     😄   1f604  face-smiling  grinning face with smiling eyes   \n",
       "3     😁   1f601  face-smiling   beaming face with smiling eyes   \n",
       "4     😆   1f606  face-smiling          grinning squinting face   \n",
       "\n",
       "                        openmoji_tags_1 openmoji_tags_2  \\\n",
       "0                            face, grin             NaN   \n",
       "1              face, mouth, open, smile             NaN   \n",
       "2         eye, face, mouth, open, smile             NaN   \n",
       "3                eye, face, grin, smile             NaN   \n",
       "4  face, laugh, mouth, satisfied, smile             NaN   \n",
       "\n",
       "                              emojipedia_description  \\\n",
       "0  A yellow face with simple, open eyes and a bro...   \n",
       "1  A yellow face with smiling eyes and a broad, o...   \n",
       "2  A yellow face with smiling eyes and a broad, o...   \n",
       "3  A yellow face with smiling eyes and full-tooth...   \n",
       "4  A yellow face with a broad, open smile and scr...   \n",
       "\n",
       "                                            llm_tags  \\\n",
       "0  [smiling, happy, amusement, positive, friendly...   \n",
       "1  [smiling, happiness, joy, amusement, face, emo...   \n",
       "2  [smiling, happy, amusement, joy, laughter, con...   \n",
       "3      [happy, joy, delight, smiling, face, emotion]   \n",
       "4  [smiling, happy, humor, amusement, laughter, f...   \n",
       "\n",
       "                                     llm_description cleaned_llm_tags  \\\n",
       "0  This emoji represents a smiling face with a br...                    \n",
       "1  This emoji represents a smiling face with a wi...                    \n",
       "2  This emoji represents a smiling face with happ...                    \n",
       "3  This emoji represents a beaming face with smil...                    \n",
       "4  This emoji represents a smiling face with squi...                    \n",
       "\n",
       "                            merged_tags                            final_tags  \\\n",
       "0                            face, grin                            face, grin   \n",
       "1              face, mouth, open, smile              face, mouth, open, smile   \n",
       "2         eye, face, mouth, open, smile         eye, face, mouth, open, smile   \n",
       "3                eye, face, grin, smile                eye, face, grin, smile   \n",
       "4  face, laugh, mouth, satisfied, smile  face, laugh, mouth, satisfied, smile   \n",
       "\n",
       "                                  merged_description  \\\n",
       "0  grinning face. This emoji represents a smiling...   \n",
       "1  grinning face with big eyes. This emoji repres...   \n",
       "2  grinning face with smiling eyes. This emoji re...   \n",
       "3  beaming face with smiling eyes. This emoji rep...   \n",
       "4  grinning squinting face. This emoji represents...   \n",
       "\n",
       "                                  combined_embedding  \\\n",
       "0  [-0.104532756, 0.0633581, 0.014499624, 0.01156...   \n",
       "1  [-0.041463498, 0.03491759, 0.026930302, 0.0079...   \n",
       "2  [-0.0701911, 0.017480828, 0.00540135, 0.009211...   \n",
       "3  [-0.058498748, 0.035195988, 0.03350492, 0.0154...   \n",
       "4  [-0.07049953, -0.01600013, 0.03081883, 0.00752...   \n",
       "\n",
       "                                     group_embedding  \n",
       "0  [-0.044545308, 0.09074001, -0.034251396, 0.016...  \n",
       "1  [-0.044545308, 0.09074001, -0.034251396, 0.016...  \n",
       "2  [-0.044545308, 0.09074001, -0.034251396, 0.016...  \n",
       "3  [-0.044545308, 0.09074001, -0.034251396, 0.016...  \n",
       "4  [-0.044545308, 0.09074001, -0.034251396, 0.016...  "
      ],
      "text/html": [
       "<div>\n",
       "<style scoped>\n",
       "    .dataframe tbody tr th:only-of-type {\n",
       "        vertical-align: middle;\n",
       "    }\n",
       "\n",
       "    .dataframe tbody tr th {\n",
       "        vertical-align: top;\n",
       "    }\n",
       "\n",
       "    .dataframe thead th {\n",
       "        text-align: right;\n",
       "    }\n",
       "</style>\n",
       "<table border=\"1\" class=\"dataframe\">\n",
       "  <thead>\n",
       "    <tr style=\"text-align: right;\">\n",
       "      <th></th>\n",
       "      <th>emoji</th>\n",
       "      <th>hexcode</th>\n",
       "      <th>subgroups</th>\n",
       "      <th>openmoji_annotation</th>\n",
       "      <th>openmoji_tags_1</th>\n",
       "      <th>openmoji_tags_2</th>\n",
       "      <th>emojipedia_description</th>\n",
       "      <th>llm_tags</th>\n",
       "      <th>llm_description</th>\n",
       "      <th>cleaned_llm_tags</th>\n",
       "      <th>merged_tags</th>\n",
       "      <th>final_tags</th>\n",
       "      <th>merged_description</th>\n",
       "      <th>combined_embedding</th>\n",
       "      <th>group_embedding</th>\n",
       "    </tr>\n",
       "  </thead>\n",
       "  <tbody>\n",
       "    <tr>\n",
       "      <th>0</th>\n",
       "      <td>😀</td>\n",
       "      <td>1f600</td>\n",
       "      <td>face-smiling</td>\n",
       "      <td>grinning face</td>\n",
       "      <td>face, grin</td>\n",
       "      <td>NaN</td>\n",
       "      <td>A yellow face with simple, open eyes and a bro...</td>\n",
       "      <td>[smiling, happy, amusement, positive, friendly...</td>\n",
       "      <td>This emoji represents a smiling face with a br...</td>\n",
       "      <td></td>\n",
       "      <td>face, grin</td>\n",
       "      <td>face, grin</td>\n",
       "      <td>grinning face. This emoji represents a smiling...</td>\n",
       "      <td>[-0.104532756, 0.0633581, 0.014499624, 0.01156...</td>\n",
       "      <td>[-0.044545308, 0.09074001, -0.034251396, 0.016...</td>\n",
       "    </tr>\n",
       "    <tr>\n",
       "      <th>1</th>\n",
       "      <td>😃</td>\n",
       "      <td>1f603</td>\n",
       "      <td>face-smiling</td>\n",
       "      <td>grinning face with big eyes</td>\n",
       "      <td>face, mouth, open, smile</td>\n",
       "      <td>NaN</td>\n",
       "      <td>A yellow face with smiling eyes and a broad, o...</td>\n",
       "      <td>[smiling, happiness, joy, amusement, face, emo...</td>\n",
       "      <td>This emoji represents a smiling face with a wi...</td>\n",
       "      <td></td>\n",
       "      <td>face, mouth, open, smile</td>\n",
       "      <td>face, mouth, open, smile</td>\n",
       "      <td>grinning face with big eyes. This emoji repres...</td>\n",
       "      <td>[-0.041463498, 0.03491759, 0.026930302, 0.0079...</td>\n",
       "      <td>[-0.044545308, 0.09074001, -0.034251396, 0.016...</td>\n",
       "    </tr>\n",
       "    <tr>\n",
       "      <th>2</th>\n",
       "      <td>😄</td>\n",
       "      <td>1f604</td>\n",
       "      <td>face-smiling</td>\n",
       "      <td>grinning face with smiling eyes</td>\n",
       "      <td>eye, face, mouth, open, smile</td>\n",
       "      <td>NaN</td>\n",
       "      <td>A yellow face with smiling eyes and a broad, o...</td>\n",
       "      <td>[smiling, happy, amusement, joy, laughter, con...</td>\n",
       "      <td>This emoji represents a smiling face with happ...</td>\n",
       "      <td></td>\n",
       "      <td>eye, face, mouth, open, smile</td>\n",
       "      <td>eye, face, mouth, open, smile</td>\n",
       "      <td>grinning face with smiling eyes. This emoji re...</td>\n",
       "      <td>[-0.0701911, 0.017480828, 0.00540135, 0.009211...</td>\n",
       "      <td>[-0.044545308, 0.09074001, -0.034251396, 0.016...</td>\n",
       "    </tr>\n",
       "    <tr>\n",
       "      <th>3</th>\n",
       "      <td>😁</td>\n",
       "      <td>1f601</td>\n",
       "      <td>face-smiling</td>\n",
       "      <td>beaming face with smiling eyes</td>\n",
       "      <td>eye, face, grin, smile</td>\n",
       "      <td>NaN</td>\n",
       "      <td>A yellow face with smiling eyes and full-tooth...</td>\n",
       "      <td>[happy, joy, delight, smiling, face, emotion]</td>\n",
       "      <td>This emoji represents a beaming face with smil...</td>\n",
       "      <td></td>\n",
       "      <td>eye, face, grin, smile</td>\n",
       "      <td>eye, face, grin, smile</td>\n",
       "      <td>beaming face with smiling eyes. This emoji rep...</td>\n",
       "      <td>[-0.058498748, 0.035195988, 0.03350492, 0.0154...</td>\n",
       "      <td>[-0.044545308, 0.09074001, -0.034251396, 0.016...</td>\n",
       "    </tr>\n",
       "    <tr>\n",
       "      <th>4</th>\n",
       "      <td>😆</td>\n",
       "      <td>1f606</td>\n",
       "      <td>face-smiling</td>\n",
       "      <td>grinning squinting face</td>\n",
       "      <td>face, laugh, mouth, satisfied, smile</td>\n",
       "      <td>NaN</td>\n",
       "      <td>A yellow face with a broad, open smile and scr...</td>\n",
       "      <td>[smiling, happy, humor, amusement, laughter, f...</td>\n",
       "      <td>This emoji represents a smiling face with squi...</td>\n",
       "      <td></td>\n",
       "      <td>face, laugh, mouth, satisfied, smile</td>\n",
       "      <td>face, laugh, mouth, satisfied, smile</td>\n",
       "      <td>grinning squinting face. This emoji represents...</td>\n",
       "      <td>[-0.07049953, -0.01600013, 0.03081883, 0.00752...</td>\n",
       "      <td>[-0.044545308, 0.09074001, -0.034251396, 0.016...</td>\n",
       "    </tr>\n",
       "  </tbody>\n",
       "</table>\n",
       "</div>"
      ]
     },
     "execution_count": 60,
     "metadata": {},
     "output_type": "execute_result"
    }
   ],
   "execution_count": 60
  },
  {
   "cell_type": "markdown",
   "metadata": {},
   "source": [
    "## Linking Images"
   ]
  },
  {
   "cell_type": "code",
   "metadata": {
    "ExecuteTime": {
     "end_time": "2025-03-10T15:13:27.568339Z",
     "start_time": "2025-03-10T15:13:26.865170Z"
    }
   },
   "source": [
    "import os\n",
    "import pandas as pd\n",
    "from tqdm import tqdm\n",
    "\n",
    "# Define base image path and brands\n",
    "image_base_path = \"../data/tensor_images/\"\n",
    "brands = [\"GoogleEmoji\", \"JoyPixelsEmoji\", \"TwitterEmoji\"]\n",
    "\n",
    "# Function to find all available image paths for a given hexcode\n",
    "def get_image_paths(hexcode):\n",
    "    image_paths = {}\n",
    "    \n",
    "    for brand in brands:\n",
    "        brand_path = os.path.join(image_base_path, brand)\n",
    "        if not os.path.exists(brand_path): # Skip if folder doesn't exist\n",
    "            continue\n",
    "            \n",
    "        expected_filename = f\"{hexcode}.pt\"  # Adjust based on actual format\n",
    "        \n",
    "        if expected_filename in os.listdir(brand_path):\n",
    "            image_paths[brand] = os.path.join(brand_path, expected_filename)\n",
    "\n",
    "    return image_paths\n",
    "\n",
    "# Expand dataframe with tqdm progress bar\n",
    "expanded_rows = []\n",
    "for _, row in tqdm(final_df.iterrows(), total=len(final_df), desc=\"Processing Hexcodes\"):\n",
    "    hexcode = row[\"hexcode\"]\n",
    "    embedding = row[\"combined_embedding\"]\n",
    "    group_embedding = row[\"group_embedding\"]\n",
    "\n",
    "    image_paths = get_image_paths(hexcode)  # Get list of image paths\n",
    "    \n",
    "    if image_paths:  # If images exist, create multiple rows\n",
    "        for brand, path in image_paths.items():\n",
    "            expanded_rows.append({\"hexcode\": hexcode, \"combined_embedding\": embedding, \"group_embedding\": group_embedding, \"image_path\": path})\n",
    "    else:\n",
    "        # If no images exist, optionally add a row with NaN for image_path\n",
    "        expanded_rows.append({\"hexcode\": hexcode, \"combined_embedding\": embedding, \"image_path\": None})\n",
    "\n",
    "# Convert to DataFrame\n",
    "expanded_df = pd.DataFrame(expanded_rows)\n",
    "\n",
    "# Optional: Drop rows where no image is found\n",
    "expanded_df = expanded_df.dropna(subset=[\"image_path\"]).reset_index(drop=True)"
   ],
   "outputs": [
    {
     "name": "stderr",
     "output_type": "stream",
     "text": [
      "Processing Hexcodes: 100%|██████████| 168/168 [00:00<00:00, 246.30it/s]\n"
     ]
    }
   ],
   "execution_count": 61
  },
  {
   "cell_type": "code",
   "metadata": {
    "ExecuteTime": {
     "end_time": "2025-03-10T15:13:27.575372Z",
     "start_time": "2025-03-10T15:13:27.570780Z"
    }
   },
   "source": [
    "expanded_df.info()"
   ],
   "outputs": [
    {
     "name": "stdout",
     "output_type": "stream",
     "text": [
      "<class 'pandas.core.frame.DataFrame'>\n",
      "RangeIndex: 438 entries, 0 to 437\n",
      "Data columns (total 4 columns):\n",
      " #   Column              Non-Null Count  Dtype \n",
      "---  ------              --------------  ----- \n",
      " 0   hexcode             438 non-null    object\n",
      " 1   combined_embedding  438 non-null    object\n",
      " 2   group_embedding     438 non-null    object\n",
      " 3   image_path          438 non-null    object\n",
      "dtypes: object(4)\n",
      "memory usage: 13.8+ KB\n"
     ]
    }
   ],
   "execution_count": 62
  },
  {
   "cell_type": "code",
   "metadata": {
    "ExecuteTime": {
     "end_time": "2025-03-10T15:13:27.619247Z",
     "start_time": "2025-03-10T15:13:27.575910Z"
    }
   },
   "source": [
    "output_file = '../data/processed_emoji_dataset.parquet'\n",
    "\n",
    "# Check if the file exists and remove it\n",
    "if os.path.exists(output_file):\n",
    "    os.remove(output_file)\n",
    "\n",
    "# Now save the DataFrame as Parquet\n",
    "expanded_df[['combined_embedding', 'group_embedding', 'image_path']].to_parquet(output_file, index=False)"
   ],
   "outputs": [],
   "execution_count": 63
  },
  {
   "metadata": {
    "ExecuteTime": {
     "end_time": "2025-03-10T15:13:27.621303Z",
     "start_time": "2025-03-10T15:13:27.619957Z"
    }
   },
   "cell_type": "code",
   "source": "",
   "outputs": [],
   "execution_count": 63
  }
 ],
 "metadata": {
  "kernelspec": {
   "display_name": "Python 3",
   "language": "python",
   "name": "python3"
  },
  "language_info": {
   "codemirror_mode": {
    "name": "ipython",
    "version": 3
   },
   "file_extension": ".py",
   "mimetype": "text/x-python",
   "name": "python",
   "nbconvert_exporter": "python",
   "pygments_lexer": "ipython3",
   "version": "3.11.7"
  }
 },
 "nbformat": 4,
 "nbformat_minor": 2
}
