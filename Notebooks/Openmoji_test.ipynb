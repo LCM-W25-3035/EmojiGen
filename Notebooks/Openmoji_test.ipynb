{
 "cells": [
  {
   "cell_type": "code",
   "id": "initial_id",
   "metadata": {
    "collapsed": true,
    "ExecuteTime": {
     "end_time": "2025-02-28T17:40:33.342728Z",
     "start_time": "2025-02-28T17:40:33.332928Z"
    }
   },
   "source": [
    "import pandas as pd\n",
    "import numpy as np\n",
    "import os\n",
    "import re\n",
    "import nltk\n",
    "from nltk.corpus import stopwords\n",
    "from nltk.tokenize import word_tokenize\n",
    "from sentence_transformers import SentenceTransformer\n",
    "from tqdm import tqdm\n",
    "import torch\n",
    "\n",
    "# Download NLTK data files (only need to run once)\n",
    "nltk.download('punkt_tab')\n",
    "nltk.download('stopwords')\n",
    "nltk.download('wordnet')\n",
    "\n",
    "# Apply tqdm to all .apply() functions by using progress_apply\n",
    "tqdm.pandas()"
   ],
   "outputs": [
    {
     "name": "stderr",
     "output_type": "stream",
     "text": [
      "[nltk_data] Downloading package punkt_tab to\n",
      "[nltk_data]     /Users/bikinghimire/nltk_data...\n",
      "[nltk_data]   Package punkt_tab is already up-to-date!\n",
      "[nltk_data] Downloading package stopwords to\n",
      "[nltk_data]     /Users/bikinghimire/nltk_data...\n",
      "[nltk_data]   Package stopwords is already up-to-date!\n",
      "[nltk_data] Downloading package wordnet to\n",
      "[nltk_data]     /Users/bikinghimire/nltk_data...\n",
      "[nltk_data]   Package wordnet is already up-to-date!\n"
     ]
    }
   ],
   "execution_count": 30
  },
  {
   "metadata": {
    "ExecuteTime": {
     "end_time": "2025-02-28T17:40:33.365965Z",
     "start_time": "2025-02-28T17:40:33.344087Z"
    }
   },
   "cell_type": "code",
   "source": [
    "# Reading the dataset\n",
    "openmoji_df = pd.read_csv('../data/openmoji.csv')"
   ],
   "id": "22db956a9b2ef926",
   "outputs": [],
   "execution_count": 31
  },
  {
   "metadata": {
    "ExecuteTime": {
     "end_time": "2025-02-28T17:40:33.372419Z",
     "start_time": "2025-02-28T17:40:33.366726Z"
    }
   },
   "cell_type": "code",
   "source": [
    "# Making the hexcode uniform in all 3 dataframes for merging\n",
    "# removing -f30f (differentiation between image type emoji and textual type emoji)\n",
    "# removing -200d (differentiation for emoji with skin-tone)\n",
    "\n",
    "openmoji_df['hexcode'] = openmoji_df['hexcode'].str.replace('-FE0F', '', regex=True)\n",
    "openmoji_df['hexcode'] = openmoji_df['hexcode'].str.replace('-200D', '', regex=True)"
   ],
   "id": "cf8f924f7b1b800f",
   "outputs": [],
   "execution_count": 32
  },
  {
   "metadata": {
    "ExecuteTime": {
     "end_time": "2025-02-28T17:40:33.376466Z",
     "start_time": "2025-02-28T17:40:33.373985Z"
    }
   },
   "cell_type": "code",
   "source": "openmoji_df['hexcode'] = openmoji_df['hexcode'].str.lower()",
   "id": "3d75cf4a3741b21e",
   "outputs": [],
   "execution_count": 33
  },
  {
   "metadata": {
    "ExecuteTime": {
     "end_time": "2025-02-28T17:40:33.381431Z",
     "start_time": "2025-02-28T17:40:33.377123Z"
    }
   },
   "cell_type": "code",
   "source": [
    "# Checking for duplicates\n",
    "duplicate_counts = openmoji_df['hexcode'].value_counts()\n",
    "duplicates = duplicate_counts[duplicate_counts > 1]\n",
    "print(duplicates)"
   ],
   "id": "62b861afc3567ab6",
   "outputs": [
    {
     "name": "stdout",
     "output_type": "stream",
     "text": [
      "hexcode\n",
      "1f3f3    2\n",
      "Name: count, dtype: int64\n"
     ]
    }
   ],
   "execution_count": 34
  },
  {
   "metadata": {
    "ExecuteTime": {
     "end_time": "2025-02-28T17:40:33.384775Z",
     "start_time": "2025-02-28T17:40:33.382378Z"
    }
   },
   "cell_type": "code",
   "source": [
    "# Use GPU if available\n",
    "\"\"\"\n",
    "Reference: https://pytorch.org/get-started/locally/\n",
    "\"\"\"\n",
    "\n",
    "# Check for NVIDIA GPU\n",
    "if torch.cuda.is_available():\n",
    "    device = torch.device(\"cuda\")  # Use CUDA (NVIDIA GPU)\n",
    "    print(\"Using NVIDIA GPU (CUDA)\")\n",
    "\n",
    "# Check for Mac Silicon GPU (MPS)\n",
    "elif torch.backends.mps.is_available():\n",
    "    device = torch.device(\"mps\")  # Use Metal Performance Shaders (Mac Silicon GPU)\n",
    "    print(\"Using Mac GPU (MPS)\")\n",
    "\n",
    "# Default to CPU if no GPU is available\n",
    "else:\n",
    "    device = torch.device(\"cpu\")\n",
    "    print(\"Using CPU\")"
   ],
   "id": "3d2bd3f5931cf605",
   "outputs": [
    {
     "name": "stdout",
     "output_type": "stream",
     "text": [
      "Using Mac GPU (MPS)\n"
     ]
    }
   ],
   "execution_count": 35
  },
  {
   "metadata": {
    "ExecuteTime": {
     "end_time": "2025-02-28T17:40:34.608958Z",
     "start_time": "2025-02-28T17:40:33.385410Z"
    }
   },
   "cell_type": "code",
   "source": [
    "# Load SBERT model\n",
    "sbert_model = SentenceTransformer('all-MiniLM-L6-v2')\n",
    "sbert_model = sbert_model.to(device)\n",
    "\n",
    "# Return SBERT embedding for a given text.\n",
    "def embed_text(text):\n",
    "    if pd.isna(text) or text.strip() == \"\":\n",
    "        return np.zeros(384, dtype=np.float32)  # Return zero vector for missing values (SBERT output size = 384)\n",
    "    return sbert_model.encode(text).astype(np.float32)"
   ],
   "id": "944c67aa820a32bb",
   "outputs": [],
   "execution_count": 36
  },
  {
   "metadata": {
    "ExecuteTime": {
     "end_time": "2025-02-28T17:41:10.514108Z",
     "start_time": "2025-02-28T17:40:34.609609Z"
    }
   },
   "cell_type": "code",
   "source": [
    "# Applu SBERT embedding to annotation in openmoji_df\n",
    "openmoji_df[\"combined_embedding\"] = openmoji_df[\"annotation\"].progress_apply(embed_text)"
   ],
   "id": "aa51b01dec330957",
   "outputs": [
    {
     "name": "stderr",
     "output_type": "stream",
     "text": [
      "100%|██████████| 4284/4284 [00:35<00:00, 119.33it/s]\n"
     ]
    }
   ],
   "execution_count": 37
  },
  {
   "metadata": {
    "ExecuteTime": {
     "end_time": "2025-02-28T17:41:10.524922Z",
     "start_time": "2025-02-28T17:41:10.515371Z"
    }
   },
   "cell_type": "code",
   "source": "openmoji_df.head()",
   "id": "1c7fb7ed677f6fca",
   "outputs": [
    {
     "data": {
      "text/plain": [
       "  emoji hexcode            group     subgroups  \\\n",
       "0     😀   1f600  smileys-emotion  face-smiling   \n",
       "1     😃   1f603  smileys-emotion  face-smiling   \n",
       "2     😄   1f604  smileys-emotion  face-smiling   \n",
       "3     😁   1f601  smileys-emotion  face-smiling   \n",
       "4     😆   1f606  smileys-emotion  face-smiling   \n",
       "\n",
       "                        annotation                                  tags  \\\n",
       "0                    grinning face                            face, grin   \n",
       "1      grinning face with big eyes              face, mouth, open, smile   \n",
       "2  grinning face with smiling eyes         eye, face, mouth, open, smile   \n",
       "3   beaming face with smiling eyes                eye, face, grin, smile   \n",
       "4          grinning squinting face  face, laugh, mouth, satisfied, smile   \n",
       "\n",
       "  openmoji_tags openmoji_author openmoji_date skintone skintone_combination  \\\n",
       "0           NaN     Emily Jäger    2018-04-18      NaN                  NaN   \n",
       "1           NaN     Emily Jäger    2018-04-18      NaN                  NaN   \n",
       "2           NaN     Emily Jäger    2018-04-18      NaN                  NaN   \n",
       "3           NaN     Emily Jäger    2018-04-18      NaN                  NaN   \n",
       "4           NaN     Emily Jäger    2018-04-18      NaN                  NaN   \n",
       "\n",
       "  skintone_base_emoji skintone_base_hexcode unicode  order  \\\n",
       "0                 NaN                   NaN       1    1.0   \n",
       "1                 NaN                   NaN     0.6    2.0   \n",
       "2                 NaN                   NaN     0.6    3.0   \n",
       "3                 NaN                   NaN     0.6    4.0   \n",
       "4                 NaN                   NaN     0.6    5.0   \n",
       "\n",
       "                                  combined_embedding  \n",
       "0  [-0.06182415, 0.05820662, 0.014787203, 0.04018...  \n",
       "1  [0.00064931595, 0.08000965, 0.020743383, 0.044...  \n",
       "2  [-0.032483187, 0.062074404, -0.002212019, 0.04...  \n",
       "3  [-0.032452203, 0.07676125, 0.019601094, 0.0397...  \n",
       "4  [-0.009676312, -0.0067937872, 0.035916783, 0.0...  "
      ],
      "text/html": [
       "<div>\n",
       "<style scoped>\n",
       "    .dataframe tbody tr th:only-of-type {\n",
       "        vertical-align: middle;\n",
       "    }\n",
       "\n",
       "    .dataframe tbody tr th {\n",
       "        vertical-align: top;\n",
       "    }\n",
       "\n",
       "    .dataframe thead th {\n",
       "        text-align: right;\n",
       "    }\n",
       "</style>\n",
       "<table border=\"1\" class=\"dataframe\">\n",
       "  <thead>\n",
       "    <tr style=\"text-align: right;\">\n",
       "      <th></th>\n",
       "      <th>emoji</th>\n",
       "      <th>hexcode</th>\n",
       "      <th>group</th>\n",
       "      <th>subgroups</th>\n",
       "      <th>annotation</th>\n",
       "      <th>tags</th>\n",
       "      <th>openmoji_tags</th>\n",
       "      <th>openmoji_author</th>\n",
       "      <th>openmoji_date</th>\n",
       "      <th>skintone</th>\n",
       "      <th>skintone_combination</th>\n",
       "      <th>skintone_base_emoji</th>\n",
       "      <th>skintone_base_hexcode</th>\n",
       "      <th>unicode</th>\n",
       "      <th>order</th>\n",
       "      <th>combined_embedding</th>\n",
       "    </tr>\n",
       "  </thead>\n",
       "  <tbody>\n",
       "    <tr>\n",
       "      <th>0</th>\n",
       "      <td>😀</td>\n",
       "      <td>1f600</td>\n",
       "      <td>smileys-emotion</td>\n",
       "      <td>face-smiling</td>\n",
       "      <td>grinning face</td>\n",
       "      <td>face, grin</td>\n",
       "      <td>NaN</td>\n",
       "      <td>Emily Jäger</td>\n",
       "      <td>2018-04-18</td>\n",
       "      <td>NaN</td>\n",
       "      <td>NaN</td>\n",
       "      <td>NaN</td>\n",
       "      <td>NaN</td>\n",
       "      <td>1</td>\n",
       "      <td>1.0</td>\n",
       "      <td>[-0.06182415, 0.05820662, 0.014787203, 0.04018...</td>\n",
       "    </tr>\n",
       "    <tr>\n",
       "      <th>1</th>\n",
       "      <td>😃</td>\n",
       "      <td>1f603</td>\n",
       "      <td>smileys-emotion</td>\n",
       "      <td>face-smiling</td>\n",
       "      <td>grinning face with big eyes</td>\n",
       "      <td>face, mouth, open, smile</td>\n",
       "      <td>NaN</td>\n",
       "      <td>Emily Jäger</td>\n",
       "      <td>2018-04-18</td>\n",
       "      <td>NaN</td>\n",
       "      <td>NaN</td>\n",
       "      <td>NaN</td>\n",
       "      <td>NaN</td>\n",
       "      <td>0.6</td>\n",
       "      <td>2.0</td>\n",
       "      <td>[0.00064931595, 0.08000965, 0.020743383, 0.044...</td>\n",
       "    </tr>\n",
       "    <tr>\n",
       "      <th>2</th>\n",
       "      <td>😄</td>\n",
       "      <td>1f604</td>\n",
       "      <td>smileys-emotion</td>\n",
       "      <td>face-smiling</td>\n",
       "      <td>grinning face with smiling eyes</td>\n",
       "      <td>eye, face, mouth, open, smile</td>\n",
       "      <td>NaN</td>\n",
       "      <td>Emily Jäger</td>\n",
       "      <td>2018-04-18</td>\n",
       "      <td>NaN</td>\n",
       "      <td>NaN</td>\n",
       "      <td>NaN</td>\n",
       "      <td>NaN</td>\n",
       "      <td>0.6</td>\n",
       "      <td>3.0</td>\n",
       "      <td>[-0.032483187, 0.062074404, -0.002212019, 0.04...</td>\n",
       "    </tr>\n",
       "    <tr>\n",
       "      <th>3</th>\n",
       "      <td>😁</td>\n",
       "      <td>1f601</td>\n",
       "      <td>smileys-emotion</td>\n",
       "      <td>face-smiling</td>\n",
       "      <td>beaming face with smiling eyes</td>\n",
       "      <td>eye, face, grin, smile</td>\n",
       "      <td>NaN</td>\n",
       "      <td>Emily Jäger</td>\n",
       "      <td>2018-04-18</td>\n",
       "      <td>NaN</td>\n",
       "      <td>NaN</td>\n",
       "      <td>NaN</td>\n",
       "      <td>NaN</td>\n",
       "      <td>0.6</td>\n",
       "      <td>4.0</td>\n",
       "      <td>[-0.032452203, 0.07676125, 0.019601094, 0.0397...</td>\n",
       "    </tr>\n",
       "    <tr>\n",
       "      <th>4</th>\n",
       "      <td>😆</td>\n",
       "      <td>1f606</td>\n",
       "      <td>smileys-emotion</td>\n",
       "      <td>face-smiling</td>\n",
       "      <td>grinning squinting face</td>\n",
       "      <td>face, laugh, mouth, satisfied, smile</td>\n",
       "      <td>NaN</td>\n",
       "      <td>Emily Jäger</td>\n",
       "      <td>2018-04-18</td>\n",
       "      <td>NaN</td>\n",
       "      <td>NaN</td>\n",
       "      <td>NaN</td>\n",
       "      <td>NaN</td>\n",
       "      <td>0.6</td>\n",
       "      <td>5.0</td>\n",
       "      <td>[-0.009676312, -0.0067937872, 0.035916783, 0.0...</td>\n",
       "    </tr>\n",
       "  </tbody>\n",
       "</table>\n",
       "</div>"
      ]
     },
     "execution_count": 38,
     "metadata": {},
     "output_type": "execute_result"
    }
   ],
   "execution_count": 38
  },
  {
   "metadata": {
    "ExecuteTime": {
     "end_time": "2025-02-28T17:41:10.534433Z",
     "start_time": "2025-02-28T17:41:10.527516Z"
    }
   },
   "cell_type": "code",
   "source": "openmoji_df.info()",
   "id": "94391aecc43c6a05",
   "outputs": [
    {
     "name": "stdout",
     "output_type": "stream",
     "text": [
      "<class 'pandas.core.frame.DataFrame'>\n",
      "RangeIndex: 4284 entries, 0 to 4283\n",
      "Data columns (total 16 columns):\n",
      " #   Column                 Non-Null Count  Dtype  \n",
      "---  ------                 --------------  -----  \n",
      " 0   emoji                  4284 non-null   object \n",
      " 1   hexcode                4284 non-null   object \n",
      " 2   group                  4284 non-null   object \n",
      " 3   subgroups              4284 non-null   object \n",
      " 4   annotation             4284 non-null   object \n",
      " 5   tags                   1907 non-null   object \n",
      " 6   openmoji_tags          392 non-null    object \n",
      " 7   openmoji_author        4284 non-null   object \n",
      " 8   openmoji_date          4284 non-null   object \n",
      " 9   skintone               1875 non-null   object \n",
      " 10  skintone_combination   2198 non-null   object \n",
      " 11  skintone_base_emoji    2198 non-null   object \n",
      " 12  skintone_base_hexcode  2198 non-null   object \n",
      " 13  unicode                3903 non-null   object \n",
      " 14  order                  3782 non-null   float64\n",
      " 15  combined_embedding     4284 non-null   object \n",
      "dtypes: float64(1), object(15)\n",
      "memory usage: 535.6+ KB\n"
     ]
    }
   ],
   "execution_count": 39
  },
  {
   "metadata": {
    "ExecuteTime": {
     "end_time": "2025-02-28T17:41:18.426142Z",
     "start_time": "2025-02-28T17:41:10.535219Z"
    }
   },
   "cell_type": "code",
   "source": [
    "import os\n",
    "import pandas as pd\n",
    "from tqdm import tqdm\n",
    "\n",
    "# Define base image path and brands\n",
    "image_base_path = \"../data/tensor_images/OpenmojiEmoji\"\n",
    "\n",
    "# Function to find all available image paths for a given hexcode\n",
    "def get_image_paths(hexcode):\n",
    "    image_paths = {}\n",
    "            \n",
    "    expected_filename = f\"{hexcode}.pt\"  # Adjust based on actual format\n",
    "        \n",
    "    if expected_filename in os.listdir(image_base_path):\n",
    "        image_paths = os.path.join(image_base_path, expected_filename)\n",
    "\n",
    "    return image_paths\n",
    "\n",
    "# Expand dataframe with tqdm progress bar\n",
    "expanded_rows = []\n",
    "for _, row in tqdm(openmoji_df.iterrows(), total=len(openmoji_df), desc=\"Processing Hexcodes\"):\n",
    "    hexcode = row[\"hexcode\"]\n",
    "    embedding = row[\"combined_embedding\"]\n",
    "\n",
    "    image_paths = get_image_paths(hexcode)  # Get list of image paths\n",
    "    \n",
    "    if image_paths:\n",
    "        expanded_rows.append({\"hexcode\": hexcode, \"combined_embedding\": embedding, \"image_path\": image_paths})\n",
    "    else:\n",
    "        # If no images exist, optionally add a row with NaN for image_path\n",
    "        expanded_rows.append({\"hexcode\": hexcode, \"combined_embedding\": embedding, \"image_path\": None})\n",
    "\n",
    "# Convert to DataFrame\n",
    "expanded_df = pd.DataFrame(expanded_rows)\n",
    "\n",
    "# Optional: Drop rows where no image is found\n",
    "expanded_df = expanded_df.dropna(subset=[\"image_path\"]).reset_index(drop=True)"
   ],
   "id": "6243c9bc45694c0b",
   "outputs": [
    {
     "name": "stderr",
     "output_type": "stream",
     "text": [
      "Processing Hexcodes: 100%|██████████| 4284/4284 [00:07<00:00, 543.57it/s]\n"
     ]
    }
   ],
   "execution_count": 40
  },
  {
   "metadata": {
    "ExecuteTime": {
     "end_time": "2025-02-28T17:41:18.430732Z",
     "start_time": "2025-02-28T17:41:18.426777Z"
    }
   },
   "cell_type": "code",
   "source": "expanded_df.info()",
   "id": "a0f598359f02a73d",
   "outputs": [
    {
     "name": "stdout",
     "output_type": "stream",
     "text": [
      "<class 'pandas.core.frame.DataFrame'>\n",
      "RangeIndex: 4284 entries, 0 to 4283\n",
      "Data columns (total 3 columns):\n",
      " #   Column              Non-Null Count  Dtype \n",
      "---  ------              --------------  ----- \n",
      " 0   hexcode             4284 non-null   object\n",
      " 1   combined_embedding  4284 non-null   object\n",
      " 2   image_path          4284 non-null   object\n",
      "dtypes: object(3)\n",
      "memory usage: 100.5+ KB\n"
     ]
    }
   ],
   "execution_count": 41
  },
  {
   "metadata": {
    "ExecuteTime": {
     "end_time": "2025-02-28T17:42:22.636544Z",
     "start_time": "2025-02-28T17:42:22.565402Z"
    }
   },
   "cell_type": "code",
   "source": [
    "output_file = '../data/processed_openmoji_dataset.parquet'\n",
    "\n",
    "# Check if the file exists and remove it\n",
    "if os.path.exists(output_file):\n",
    "    os.remove(output_file)\n",
    "\n",
    "# Now save the DataFrame as Parquet\n",
    "expanded_df[['combined_embedding', 'image_path']].to_parquet(output_file, index=False)"
   ],
   "id": "fd53a3cd842a3dbf",
   "outputs": [],
   "execution_count": 42
  },
  {
   "metadata": {},
   "cell_type": "code",
   "outputs": [],
   "execution_count": null,
   "source": "",
   "id": "f64ee60a876ee87b"
  }
 ],
 "metadata": {
  "kernelspec": {
   "display_name": "Python 3",
   "language": "python",
   "name": "python3"
  },
  "language_info": {
   "codemirror_mode": {
    "name": "ipython",
    "version": 2
   },
   "file_extension": ".py",
   "mimetype": "text/x-python",
   "name": "python",
   "nbconvert_exporter": "python",
   "pygments_lexer": "ipython2",
   "version": "2.7.6"
  }
 },
 "nbformat": 4,
 "nbformat_minor": 5
}
