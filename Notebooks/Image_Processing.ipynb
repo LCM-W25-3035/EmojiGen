{
 "cells": [
  {
   "cell_type": "code",
   "id": "476c75bc",
   "metadata": {
    "ExecuteTime": {
     "end_time": "2025-02-24T18:30:37.618362Z",
     "start_time": "2025-02-24T18:30:37.149947Z"
    }
   },
   "source": [
    "import os\n",
    "from tqdm import tqdm\n",
    "import torch\n",
    "import torchvision.transforms as transforms\n",
    "from PIL import Image\n",
    "import matplotlib.pyplot as plt\n",
    "import shutil\n",
    "import sys\n",
    "from torch.utils.data import Dataset, DataLoader"
   ],
   "outputs": [],
   "execution_count": 2
  },
  {
   "cell_type": "code",
   "id": "daf0c0bc",
   "metadata": {
    "ExecuteTime": {
     "end_time": "2025-02-24T18:30:37.620752Z",
     "start_time": "2025-02-24T18:30:37.619122Z"
    }
   },
   "source": [
    "image_base_path = \"../data/images/\"\n",
    "tensor_output_path = \"../data/tensor_images/\""
   ],
   "outputs": [],
   "execution_count": 3
  },
  {
   "cell_type": "code",
   "id": "56ea40fd",
   "metadata": {
    "ExecuteTime": {
     "end_time": "2025-02-24T18:30:37.624064Z",
     "start_time": "2025-02-24T18:30:37.621736Z"
    }
   },
   "source": [
    "if os.path.exists(tensor_output_path):\n",
    "    shutil.rmtree(tensor_output_path)\n",
    "os.makedirs(tensor_output_path, exist_ok=True)"
   ],
   "outputs": [],
   "execution_count": 4
  },
  {
   "cell_type": "code",
   "id": "b2f9e9b3",
   "metadata": {
    "ExecuteTime": {
     "end_time": "2025-02-24T18:30:37.627893Z",
     "start_time": "2025-02-24T18:30:37.625988Z"
    }
   },
   "source": [
    "emoji_categories = [\"GoogleEmoji\", \"JoyPixelsEmoji\", \"OpenMojiEmoji\", \"TwitterEmoji\"]\n",
    "sticker_categories = [\"AlexatorStickers\", \"FlaticonStickers\", \"FreepikStickers\"]"
   ],
   "outputs": [],
   "execution_count": 5
  },
  {
   "cell_type": "code",
   "id": "8ce35811",
   "metadata": {
    "ExecuteTime": {
     "end_time": "2025-02-24T18:30:37.739054Z",
     "start_time": "2025-02-24T18:30:37.628661Z"
    }
   },
   "source": [
    "for category in emoji_categories:\n",
    "    category_folder = os.path.join(image_base_path, category)\n",
    "\n",
    "    if not os.path.exists(category_folder):\n",
    "        print(f\"Folder not found: {category_folder}\")\n",
    "        continue\n",
    "\n",
    "    image_files = os.listdir(category_folder)\n",
    "    if len(image_files) == 0:\n",
    "        print(f\"No images in {category_folder}\")\n",
    "        continue\n",
    "\n",
    "    img_path = os.path.join(category_folder, image_files[156])\n",
    "    \n",
    "    # Open Image\n",
    "    img = Image.open(img_path).convert('RGB')\n",
    "\n",
    "    # Resize \n",
    "    resized_img = img.resize((16, 16))\n",
    "\n",
    "    plt.figure(figsize=(1, 1))\n",
    "\n",
    "    # Original Image\n",
    "    plt.subplot(1, 2, 1)\n",
    "    plt.imshow(img)\n",
    "    plt.title(\"Before \")\n",
    "    plt.axis(\"off\")\n",
    "\n",
    "    # Resized Image\n",
    "    plt.subplot(1, 2, 2)\n",
    "    plt.imshow(resized_img)\n",
    "    plt.title(\"After\")\n",
    "    plt.axis(\"off\")\n",
    "\n",
    "    plt.show()\n",
    "    break  "
   ],
   "outputs": [
    {
     "data": {
      "text/plain": [
       "<Figure size 100x100 with 2 Axes>"
      ],
      "image/png": "[encoded data removed]"
     },
     "metadata": {},
     "output_type": "display_data"
    }
   ],
   "execution_count": 6
  },
  {
   "cell_type": "code",
   "id": "7340431acd45d807",
   "metadata": {
    "ExecuteTime": {
     "end_time": "2025-02-24T18:30:37.913064Z",
     "start_time": "2025-02-24T18:30:37.808314Z"
    }
   },
   "source": [
    "for category in sticker_categories:\n",
    "    category_folder = os.path.join(image_base_path, category)\n",
    "\n",
    "    if not os.path.exists(category_folder):\n",
    "        print(f\"Folder not found: {category_folder}\")\n",
    "        continue\n",
    "\n",
    "    image_files = os.listdir(category_folder)\n",
    "    if len(image_files) == 0:\n",
    "        print(f\"No images in {category_folder}\")\n",
    "        continue\n",
    "\n",
    "    img_path = os.path.join(category_folder, image_files[156])\n",
    "    \n",
    "    # Open Image\n",
    "    img = Image.open(img_path).convert('RGB')\n",
    "\n",
    "    # Resize \n",
    "    resized_img = img.resize((32, 32))\n",
    "\n",
    "    plt.figure(figsize=(1, 1))\n",
    "\n",
    "    # Original Image\n",
    "    plt.subplot(1, 2, 1)\n",
    "    plt.imshow(img)\n",
    "    plt.title(\"Before \")\n",
    "    plt.axis(\"off\")\n",
    "\n",
    "    # Resized Image\n",
    "    plt.subplot(1, 2, 2)\n",
    "    plt.imshow(resized_img)\n",
    "    plt.title(\"After\")\n",
    "    plt.axis(\"off\")\n",
    "\n",
    "    plt.show()\n",
    "    break  "
   ],
   "outputs": [
    {
     "data": {
      "text/plain": [
       "<Figure size 100x100 with 2 Axes>"
      ],
      "image/png": "[encoded data removed]"
     },
     "metadata": {},
     "output_type": "display_data"
    }
   ],
   "execution_count": 7
  },
  {
   "cell_type": "code",
   "id": "808c4872",
   "metadata": {
    "ExecuteTime": {
     "end_time": "2025-02-24T18:30:37.918277Z",
     "start_time": "2025-02-24T18:30:37.915019Z"
    }
   },
   "source": [
    "emoji_base_transform = transforms.Compose([\n",
    "    transforms.Resize((16, 16)),  \n",
    "    transforms.ToTensor(),\n",
    "    transforms.Normalize(mean=[0.5], std=[0.5])\n",
    "])\n",
    "sticker_base_transform = transforms.Compose([\n",
    "    transforms.Resize((32, 32)),  \n",
    "    transforms.ToTensor(),\n",
    "    transforms.Normalize(mean=[0.5], std=[0.5])\n",
    "])"
   ],
   "outputs": [],
   "execution_count": 8
  },
  {
   "cell_type": "code",
   "id": "2dd7e129",
   "metadata": {
    "ExecuteTime": {
     "end_time": "2025-02-24T18:30:43.338293Z",
     "start_time": "2025-02-24T18:30:37.919508Z"
    }
   },
   "source": [
    "# Calculate the total number of files to process\n",
    "total_files = sum(len(os.listdir(os.path.join(image_base_path, ecategory))) for ecategory in emoji_categories)\n",
    "\n",
    "# Initialize a single tqdm progress bar with dynamic_ncols and stdout redirection\n",
    "progress_bar = tqdm(total=total_files, desc=\"Processing Emoji Images\", dynamic_ncols=True, file=sys.stdout)\n",
    "\n",
    "for ecategory in emoji_categories:\n",
    "    ecategory_folder = os.path.join(image_base_path, ecategory)\n",
    "    tensor_category_path = os.path.join(tensor_output_path, ecategory)\n",
    "\n",
    "    os.makedirs(tensor_category_path, exist_ok=True)\n",
    "    \n",
    "    for filename in os.listdir(ecategory_folder):\n",
    "        # Added this code to ignore the .DS_Store file on mac\n",
    "        if filename == \".DS_Store\":  # Ignore macOS system file\n",
    "            continue\n",
    "        \n",
    "        img_path = os.path.join(ecategory_folder, filename)\n",
    "\n",
    "        new_name = filename.replace(\"emoji_u\", \"\").replace(\"_\", \"-\").lower()\n",
    "        new_name = new_name.replace(\"-fe0f\", \"\").replace(\"-200d\", \"\")\n",
    "        \n",
    "        img = Image.open(img_path) # Path of the image\n",
    "        \n",
    "        if img.mode == \"P\":  # Fix transparency warning by converting png files to RGBA first\n",
    "                img = img.convert(\"RGBA\")\n",
    "\n",
    "        img = img.convert(\"RGB\")  # Convert to RGB format\n",
    "        img_tensor = emoji_base_transform(img)\n",
    "\n",
    "        # Save as .pt file\n",
    "        tensor_file = new_name.replace(\".png\", \".pt\").replace(\".jpg\", \".pt\")\n",
    "        torch.save(img_tensor, os.path.join(tensor_category_path, tensor_file))\n",
    "\n",
    "        # Update progress bar after processing each file\n",
    "        progress_bar.update(1)\n",
    "\n",
    "progress_bar.close()\n",
    "print(\"All emoji images processed successfully!\")"
   ],
   "outputs": [
    {
     "name": "stdout",
     "output_type": "stream",
     "text": [
      "Processing Emoji Images: 100%|██████████| 12559/12559 [00:05<00:00, 2335.50it/s]\n",
      "All emoji images processed successfully!\n"
     ]
    }
   ],
   "execution_count": 9
  },
  {
   "cell_type": "code",
   "id": "78217c0c7f0aebba",
   "metadata": {
    "ExecuteTime": {
     "end_time": "2025-02-24T18:35:29.287816Z",
     "start_time": "2025-02-24T18:30:43.339114Z"
    }
   },
   "source": [
    "# Calculate the total number of files to process\n",
    "total_files = sum(len(os.listdir(os.path.join(image_base_path, scategory))) for scategory in sticker_categories)\n",
    "\n",
    "# Initialize a single tqdm progress bar with dynamic_ncols and stdout redirection\n",
    "progress_bar = tqdm(total=total_files, desc=\"Processing Sticker Images\", dynamic_ncols=True, file=sys.stdout)\n",
    "\n",
    "for scategory in sticker_categories:\n",
    "    scategory_folder = os.path.join(image_base_path, scategory)\n",
    "    tensor_category_path = os.path.join(tensor_output_path, scategory)\n",
    "\n",
    "    os.makedirs(tensor_category_path, exist_ok=True)\n",
    "    \n",
    "    for filename in os.listdir(scategory_folder):\n",
    "        # Added this code to ignore the .DS_Store file on mac\n",
    "        if filename == \".DS_Store\":  # Ignore macOS system file\n",
    "            continue\n",
    "        \n",
    "        img_path = os.path.join(scategory_folder, filename)\n",
    "        \n",
    "        img = Image.open(img_path) # Path of the image\n",
    "        \n",
    "        if img.mode == \"P\":  # Fix transparency warning by converting png files to RGBA first\n",
    "                img = img.convert(\"RGBA\")\n",
    "\n",
    "        img = img.convert(\"RGB\")  # Convert to RGB format\n",
    "        img_tensor = sticker_base_transform(img)\n",
    "\n",
    "        # Save as .pt file\n",
    "        tensor_file = filename.replace(\".png\", \".pt\").replace(\".jpg\", \".pt\")\n",
    "        torch.save(img_tensor, os.path.join(tensor_category_path, tensor_file))\n",
    "\n",
    "        # Update progress bar after processing each file\n",
    "        progress_bar.update(1)\n",
    "\n",
    "progress_bar.close()\n",
    "print(\"All sticker images processed successfully!\")"
   ],
   "outputs": [
    {
     "name": "stdout",
     "output_type": "stream",
     "text": [
      "Processing Sticker Images: 100%|██████████| 55082/55082 [04:45<00:00, 192.81it/s]\n",
      "All sticker images processed successfully!\n"
     ]
    }
   ],
   "execution_count": 10
  },
  {
   "cell_type": "code",
   "id": "f2fc6f11",
   "metadata": {
    "ExecuteTime": {
     "end_time": "2025-02-24T18:35:29.292242Z",
     "start_time": "2025-02-24T18:35:29.289978Z"
    }
   },
   "source": [
    "# # Prompt(GPT 4o): make data loader to load above image file which are saved in tensor\n",
    "# class EmojiDataset(Dataset):\n",
    "#     def __init__(self, tensor_dir, transform=None):\n",
    "#         self.tensor_dir = tensor_dir\n",
    "#         self.transform = transform\n",
    "#         self.tensor_files = [os.path.join(root, file) \n",
    "#                              for root, _, files in os.walk(tensor_dir) \n",
    "#                              for file in files if file.endswith('.pt')]\n",
    "\n",
    "#     def __len__(self):\n",
    "#         return len(self.tensor_files)\n",
    "\n",
    "#     def __getitem__(self, idx):\n",
    "#         tensor_path = self.tensor_files[idx]\n",
    "#         image_tensor = torch.load(tensor_path)\n",
    "        \n",
    "#         if self.transform:\n",
    "#             image_tensor = self.transform(image_tensor)\n",
    "        \n",
    "#         return image_tensor\n",
    "\n",
    "# # Create dataset and dataloader\n",
    "# emoji_dataset = EmojiDataset(tensor_output_path)\n",
    "# emoji_dataloader = DataLoader(emoji_dataset, batch_size=32, shuffle=True)\n",
    "\n",
    "\n",
    "\n",
    "# # Example: Iterate through the dataloader\n",
    "# for batch in emoji_dataloader:\n",
    "#     print(batch.shape)\n",
    "#     break"
   ],
   "outputs": [],
   "execution_count": 11
  },
  {
   "cell_type": "code",
   "id": "b2573cdb",
   "metadata": {
    "ExecuteTime": {
     "end_time": "2025-02-24T18:35:29.294290Z",
     "start_time": "2025-02-24T18:35:29.292897Z"
    }
   },
   "source": [],
   "outputs": [],
   "execution_count": 11
  }
 ],
 "metadata": {
  "kernelspec": {
   "display_name": "Python 3",
   "language": "python",
   "name": "python3"
  },
  "language_info": {
   "codemirror_mode": {
    "name": "ipython",
    "version": 3
   },
   "file_extension": ".py",
   "mimetype": "text/x-python",
   "name": "python",
   "nbconvert_exporter": "python",
   "pygments_lexer": "ipython3",
   "version": "3.13.1"
  }
 },
 "nbformat": 4,
 "nbformat_minor": 5
}
