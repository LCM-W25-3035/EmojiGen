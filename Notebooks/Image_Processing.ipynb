{
 "cells": [
  {
   "cell_type": "code",
   "execution_count": 35,
   "id": "476c75bc",
   "metadata": {
    "ExecuteTime": {
     "end_time": "2025-04-05T00:13:51.784092Z",
     "start_time": "2025-04-05T00:13:49.262617Z"
    }
   },
   "outputs": [],
   "source": [
    "import os\n",
    "from tqdm import tqdm\n",
    "import torch\n",
    "import torchvision.transforms as transforms\n",
    "from PIL import Image\n",
    "import matplotlib.pyplot as plt\n",
    "import shutil\n",
    "import sys\n",
    "from torch.utils.data import Dataset, DataLoader"
   ]
  },
  {
   "cell_type": "code",
   "execution_count": 36,
   "id": "daf0c0bc",
   "metadata": {
    "ExecuteTime": {
     "end_time": "2025-04-05T00:13:51.786820Z",
     "start_time": "2025-04-05T00:13:51.785118Z"
    }
   },
   "outputs": [],
   "source": [
    "image_base_path = \"../data/images/\"\n",
    "tensor_output_path = \"../data/tensor_images/\""
   ]
  },
  {
   "cell_type": "code",
   "execution_count": 37,
   "id": "56ea40fd",
   "metadata": {
    "ExecuteTime": {
     "end_time": "2025-04-05T00:13:52.321188Z",
     "start_time": "2025-04-05T00:13:51.787476Z"
    }
   },
   "outputs": [],
   "source": [
    "if os.path.exists(tensor_output_path):\n",
    "    shutil.rmtree(tensor_output_path)\n",
    "os.makedirs(tensor_output_path, exist_ok=True)"
   ]
  },
  {
   "cell_type": "code",
   "execution_count": 38,
   "id": "b2f9e9b3",
   "metadata": {
    "ExecuteTime": {
     "end_time": "2025-04-05T00:13:52.325134Z",
     "start_time": "2025-04-05T00:13:52.322920Z"
    }
   },
   "outputs": [],
   "source": [
    "# emoji_categories = [\"GoogleEmoji\", \"JoyPixelsEmoji\", \"OpenMojiEmoji\", \"TwitterEmoji\"]\n",
    "sticker_categories = [\"AlexatorStickers\"]\n",
    "emoji_categories = [\"OpenMojiEmoji\"]"
   ]
  },
  {
   "cell_type": "code",
   "execution_count": 39,
   "id": "8ce35811",
   "metadata": {
    "ExecuteTime": {
     "end_time": "2025-04-05T00:13:52.429598Z",
     "start_time": "2025-04-05T00:13:52.326300Z"
    }
   },
   "outputs": [
    {
     "name": "stderr",
     "output_type": "stream",
     "text": [
      "c:\\Study\\College\\Project\\myvenv\\Lib\\site-packages\\PIL\\Image.py:1045: UserWarning: Palette images with Transparency expressed in bytes should be converted to RGBA images\n",
      "  warnings.warn(\n"
     ]
    },
    {
     "data": {
      "image/png": "[encoded data removed]",
      "text/plain": [
       "<Figure size 100x100 with 2 Axes>"
      ]
     },
     "metadata": {},
     "output_type": "display_data"
    }
   ],
   "source": [
    "for category in emoji_categories:\n",
    "    category_folder = os.path.join(image_base_path, category)\n",
    "\n",
    "    if not os.path.exists(category_folder):\n",
    "        print(f\"Folder not found: {category_folder}\")\n",
    "        continue\n",
    "\n",
    "    image_files = os.listdir(category_folder)\n",
    "    if len(image_files) == 0:\n",
    "        print(f\"No images in {category_folder}\")\n",
    "        continue\n",
    "\n",
    "    img_path = os.path.join(category_folder, image_files[156])\n",
    "    \n",
    "    # Open Image\n",
    "    img = Image.open(img_path).convert('RGB')\n",
    "\n",
    "    # Resize \n",
    "    resized_img = img.resize((16, 16))\n",
    "\n",
    "    plt.figure(figsize=(1, 1))\n",
    "\n",
    "    # Original Image\n",
    "    plt.subplot(1, 2, 1)\n",
    "    plt.imshow(img)\n",
    "    plt.title(\"Before \")\n",
    "    plt.axis(\"off\")\n",
    "\n",
    "    # Resized Image\n",
    "    plt.subplot(1, 2, 2)\n",
    "    plt.imshow(resized_img)\n",
    "    plt.title(\"After\")\n",
    "    plt.axis(\"off\")\n",
    "\n",
    "    plt.show()\n",
    "    break  "
   ]
  },
  {
   "cell_type": "code",
   "execution_count": 40,
   "id": "7340431acd45d807",
   "metadata": {
    "ExecuteTime": {
     "end_time": "2025-04-05T00:13:52.519944Z",
     "start_time": "2025-04-05T00:13:52.430860Z"
    }
   },
   "outputs": [
    {
     "data": {
      "image/png": "[encoded data removed]",
      "text/plain": [
       "<Figure size 500x500 with 2 Axes>"
      ]
     },
     "metadata": {},
     "output_type": "display_data"
    }
   ],
   "source": [
    "for category in sticker_categories:\n",
    "    category_folder = os.path.join(image_base_path, category)\n",
    "\n",
    "    if not os.path.exists(category_folder):\n",
    "        print(f\"Folder not found: {category_folder}\")\n",
    "        continue\n",
    "\n",
    "    image_files = os.listdir(category_folder)\n",
    "    if len(image_files) == 0:\n",
    "        print(f\"No images in {category_folder}\")\n",
    "        continue\n",
    "\n",
    "    img_path = os.path.join(category_folder, image_files[156])\n",
    "    \n",
    "    # Open Image\n",
    "    img = Image.open(img_path).convert('RGB')\n",
    "\n",
    "    # Resize \n",
    "    resized_img = img.resize((32, 32))\n",
    "\n",
    "    plt.figure(figsize=(5, 5))\n",
    "\n",
    "    # Original Image\n",
    "    plt.subplot(1, 2, 1)\n",
    "    plt.imshow(img)\n",
    "    plt.title(\"Before \")\n",
    "    plt.axis(\"off\")\n",
    "\n",
    "    # Resized Image\n",
    "    plt.subplot(1, 2, 2)\n",
    "    plt.imshow(resized_img)\n",
    "    plt.title(\"After\")\n",
    "    plt.axis(\"off\")\n",
    "\n",
    "    plt.show()\n",
    "    break  "
   ]
  },
  {
   "cell_type": "code",
   "execution_count": 41,
   "id": "808c4872",
   "metadata": {
    "ExecuteTime": {
     "end_time": "2025-04-05T00:13:52.526965Z",
     "start_time": "2025-04-05T00:13:52.521981Z"
    }
   },
   "outputs": [],
   "source": [
    "emoji_base_transform = transforms.Compose([\n",
    "    transforms.Resize((32, 32)),  \n",
    "    transforms.ToTensor(),\n",
    "    transforms.Normalize(mean=[0.5, 0.5, 0.5], std=[0.5, 0.5, 0.5])\n",
    "])\n",
    "sticker_base_transform = transforms.Compose([\n",
    "    transforms.Resize((32, 32)),  \n",
    "    transforms.ToTensor(),\n",
    "    transforms.Normalize(mean=[0.5, 0.5, 0.5], std=[0.5, 0.5, 0.5])\n",
    "])"
   ]
  },
  {
   "cell_type": "code",
   "execution_count": 42,
   "id": "2dd7e129",
   "metadata": {
    "ExecuteTime": {
     "end_time": "2025-04-05T00:14:27.817613Z",
     "start_time": "2025-04-05T00:13:52.529087Z"
    }
   },
   "outputs": [
    {
     "name": "stdout",
     "output_type": "stream",
     "text": [
      "Processing Emoji Images: 100%|██████████| 12559/12559 [01:24<00:00, 148.89it/s]\n",
      "All emoji images processed successfully!\n"
     ]
    }
   ],
   "source": [
    "# Calculate the total number of files to process\n",
    "total_files = sum(len(os.listdir(os.path.join(image_base_path, ecategory))) for ecategory in emoji_categories)\n",
    "\n",
    "# Initialize a single tqdm progress bar with dynamic_ncols and stdout redirection\n",
    "progress_bar = tqdm(total=total_files, desc=\"Processing Emoji Images\", dynamic_ncols=True, file=sys.stdout)\n",
    "\n",
    "for ecategory in emoji_categories:\n",
    "    ecategory_folder = os.path.join(image_base_path, ecategory)\n",
    "    tensor_category_path = os.path.join(tensor_output_path, ecategory)\n",
    "\n",
    "    os.makedirs(tensor_category_path, exist_ok=True)\n",
    "    \n",
    "    for filename in os.listdir(ecategory_folder):\n",
    "        # Added this code to ignore the .DS_Store file on mac\n",
    "        if filename == \".DS_Store\":  # Ignore macOS system file\n",
    "            continue\n",
    "        \n",
    "        img_path = os.path.join(ecategory_folder, filename)\n",
    "\n",
    "        new_name = filename.replace(\"emoji_u\", \"\").replace(\"_\", \"-\").lower()\n",
    "        new_name = new_name.replace(\"-fe0f\", \"\").replace(\"-200d\", \"\")\n",
    "        \n",
    "        img = Image.open(img_path)  # Path to the image\n",
    "        if img.mode != \"RGB\":\n",
    "            img = img.convert(\"RGB\")  # Converting non RGB to RGB to handle transform\n",
    "            img = img.convert(\"RGBA\")  # Fix transparency warning by converting png files to RGBA first\n",
    "        \n",
    "        # Convert transparency to white\n",
    "        if img.mode == \"RGBA\":\n",
    "            background = Image.new(\"RGBA\", img.size, (255, 255, 255, 255))  # White background\n",
    "            img = Image.alpha_composite(background, img).convert(\"RGB\") # Removing image transparency\n",
    "        img_tensor = emoji_base_transform(img)\n",
    "\n",
    "        # Save as .pt file\n",
    "        tensor_file = new_name.replace(\".png\", \".pt\").replace(\".jpg\", \".pt\")\n",
    "        torch.save(img_tensor, os.path.join(tensor_category_path, tensor_file))\n",
    "\n",
    "        # Update progress bar after processing each file\n",
    "        progress_bar.update(1)\n",
    "\n",
    "progress_bar.close()\n",
    "print(\"All emoji images processed successfully!\")"
   ]
  },
  {
   "cell_type": "code",
   "execution_count": 43,
   "id": "78217c0c7f0aebba",
   "metadata": {
    "ExecuteTime": {
     "end_time": "2025-04-05T00:15:15.420887Z",
     "start_time": "2025-04-05T00:14:27.819054Z"
    }
   },
   "outputs": [
    {
     "name": "stdout",
     "output_type": "stream",
     "text": [
      "Processing Sticker Images: 100%|██████████| 55082/55082 [08:21<00:00, 109.91it/s]\n",
      "All sticker images processed successfully!\n"
     ]
    }
   ],
   "source": [
    "# Calculate the total number of files to process\n",
    "total_files = sum(len(os.listdir(os.path.join(image_base_path, scategory))) for scategory in sticker_categories)\n",
    "\n",
    "# Initialize a single tqdm progress bar with dynamic_ncols and stdout redirection\n",
    "progress_bar = tqdm(total=total_files, desc=\"Processing Sticker Images\", dynamic_ncols=True, file=sys.stdout)\n",
    "\n",
    "for scategory in sticker_categories:\n",
    "    scategory_folder = os.path.join(image_base_path, scategory)\n",
    "    tensor_category_path = os.path.join(tensor_output_path, scategory)\n",
    "\n",
    "    os.makedirs(tensor_category_path, exist_ok=True)\n",
    "\n",
    "    for filename in os.listdir(scategory_folder):\n",
    "        # Added this code to ignore the .DS_Store file on mac\n",
    "        if filename == \".DS_Store\":  # Ignore macOS system file\n",
    "            continue\n",
    "\n",
    "        img_path = os.path.join(scategory_folder, filename)\n",
    "\n",
    "        img = Image.open(img_path)  # Path to the image\n",
    "        if img.mode != \"RGB\":\n",
    "            img = img.convert(\"RGB\")  # Converting non RGB to RGB to handle transform\n",
    "            img = img.convert(\"RGBA\")  # Fix transparency warning by converting png files to RGBA first\n",
    "\n",
    "        # Convert transparency to white\n",
    "        if img.mode == \"RGBA\":\n",
    "            background = Image.new(\"RGBA\", img.size, (255, 255, 255, 255))  # White background\n",
    "            img = Image.alpha_composite(background, img).convert(\"RGB\") # Removing image transparency\n",
    "        img_tensor = sticker_base_transform(img)\n",
    "\n",
    "        # Save as .pt file\n",
    "        tensor_file = filename.replace(\".png\", \".pt\").replace(\".jpg\", \".pt\")\n",
    "        torch.save(img_tensor, os.path.join(tensor_category_path, tensor_file))\n",
    "\n",
    "        # Update progress bar after processing each file\n",
    "        progress_bar.update(1)\n",
    "\n",
    "progress_bar.close()\n",
    "print(\"All sticker images processed successfully!\")"
   ]
  },
  {
   "cell_type": "code",
   "execution_count": 10,
   "id": "f2fc6f11",
   "metadata": {
    "ExecuteTime": {
     "end_time": "2025-02-16T06:45:20.041535Z",
     "start_time": "2025-02-16T06:45:20.039283Z"
    }
   },
   "outputs": [],
   "source": [
    "# # Prompt(GPT 4o): make data loader to load above image file which are saved in tensor\n",
    "# class EmojiDataset(Dataset):\n",
    "#     def __init__(self, tensor_dir, transform=None):\n",
    "#         self.tensor_dir = tensor_dir\n",
    "#         self.transform = transform\n",
    "#         self.tensor_files = [os.path.join(root, file) \n",
    "#                              for root, _, files in os.walk(tensor_dir) \n",
    "#                              for file in files if file.endswith('.pt')]\n",
    "\n",
    "#     def __len__(self):\n",
    "#         return len(self.tensor_files)\n",
    "\n",
    "#     def __getitem__(self, idx):\n",
    "#         tensor_path = self.tensor_files[idx]\n",
    "#         image_tensor = torch.load(tensor_path)\n",
    "        \n",
    "#         if self.transform:\n",
    "#             image_tensor = self.transform(image_tensor)\n",
    "        \n",
    "#         return image_tensor\n",
    "\n",
    "# # Create dataset and dataloader\n",
    "# emoji_dataset = EmojiDataset(tensor_output_path)\n",
    "# emoji_dataloader = DataLoader(emoji_dataset, batch_size=32, shuffle=True)\n",
    "\n",
    "\n",
    "\n",
    "# # Example: Iterate through the dataloader\n",
    "# for batch in emoji_dataloader:\n",
    "#     print(batch.shape)\n",
    "#     break"
   ]
  },
  {
   "cell_type": "code",
   "execution_count": null,
   "id": "b2573cdb",
   "metadata": {
    "ExecuteTime": {
     "end_time": "2025-02-16T06:45:20.043309Z",
     "start_time": "2025-02-16T06:45:20.042062Z"
    }
   },
   "outputs": [],
   "source": []
  }
 ],
 "metadata": {
  "kernelspec": {
   "display_name": "myvenv",
   "language": "python",
   "name": "python3"
  },
  "language_info": {
   "codemirror_mode": {
    "name": "ipython",
    "version": 3
   },
   "file_extension": ".py",
   "mimetype": "text/x-python",
   "name": "python",
   "nbconvert_exporter": "python",
   "pygments_lexer": "ipython3",
   "version": "3.13.2"
  }
 },
 "nbformat": 4,
 "nbformat_minor": 5
}
