{
 "cells": [
  {
   "cell_type": "code",
   "id": "476c75bc",
   "metadata": {
    "ExecuteTime": {
     "end_time": "2025-03-13T20:01:32.827909Z",
     "start_time": "2025-03-13T20:01:30.602992Z"
    }
   },
   "source": [
    "import os\n",
    "from tqdm import tqdm\n",
    "import torch\n",
    "import torchvision.transforms as transforms\n",
    "from PIL import Image\n",
    "import matplotlib.pyplot as plt\n",
    "import shutil\n",
    "import sys\n",
    "from torch.utils.data import Dataset, DataLoader"
   ],
   "outputs": [],
   "execution_count": 1
  },
  {
   "cell_type": "code",
   "id": "daf0c0bc",
   "metadata": {
    "ExecuteTime": {
     "end_time": "2025-03-13T20:01:32.830482Z",
     "start_time": "2025-03-13T20:01:32.828904Z"
    }
   },
   "source": [
    "image_base_path = \"../data/images/\"\n",
    "tensor_output_path = \"../data/tensor_images/\""
   ],
   "outputs": [],
   "execution_count": 2
  },
  {
   "cell_type": "code",
   "id": "56ea40fd",
   "metadata": {
    "ExecuteTime": {
     "end_time": "2025-03-13T20:01:38.214793Z",
     "start_time": "2025-03-13T20:01:32.831258Z"
    }
   },
   "source": [
    "if os.path.exists(tensor_output_path):\n",
    "    shutil.rmtree(tensor_output_path)\n",
    "os.makedirs(tensor_output_path, exist_ok=True)"
   ],
   "outputs": [],
   "execution_count": 3
  },
  {
   "cell_type": "code",
   "id": "b2f9e9b3",
   "metadata": {
    "ExecuteTime": {
     "end_time": "2025-03-13T20:01:38.217660Z",
     "start_time": "2025-03-13T20:01:38.215967Z"
    }
   },
   "source": [
    "emoji_categories = [\"GoogleEmoji\", \"JoyPixelsEmoji\", \"OpenMojiEmoji\", \"TwitterEmoji\"]\n",
    "sticker_categories = [\"AlexatorStickers\", \"FlaticonStickers\", \"FreepikStickers\"]"
   ],
   "outputs": [],
   "execution_count": 4
  },
  {
   "cell_type": "code",
   "id": "8ce35811",
   "metadata": {
    "ExecuteTime": {
     "end_time": "2025-03-13T20:01:38.308616Z",
     "start_time": "2025-03-13T20:01:38.218353Z"
    }
   },
   "source": [
    "for category in emoji_categories:\n",
    "    category_folder = os.path.join(image_base_path, category)\n",
    "\n",
    "    if not os.path.exists(category_folder):\n",
    "        print(f\"Folder not found: {category_folder}\")\n",
    "        continue\n",
    "\n",
    "    image_files = os.listdir(category_folder)\n",
    "    if len(image_files) == 0:\n",
    "        print(f\"No images in {category_folder}\")\n",
    "        continue\n",
    "\n",
    "    img_path = os.path.join(category_folder, image_files[156])\n",
    "    \n",
    "    # Open Image\n",
    "    img = Image.open(img_path).convert('RGB')\n",
    "\n",
    "    # Resize \n",
    "    resized_img = img.resize((32, 32))\n",
    "\n",
    "    plt.figure(figsize=(2, 2))\n",
    "\n",
    "    # Original Image\n",
    "    plt.subplot(1, 2, 1)\n",
    "    plt.imshow(img)\n",
    "    plt.title(\"Before \")\n",
    "    plt.axis(\"off\")\n",
    "\n",
    "    # Resized Image\n",
    "    plt.subplot(1, 2, 2)\n",
    "    plt.imshow(resized_img)\n",
    "    plt.title(\"After\")\n",
    "    plt.axis(\"off\")\n",
    "\n",
    "    plt.show()\n",
    "    break  "
   ],
   "outputs": [
    {
     "data": {
      "text/plain": [
       "<Figure size 200x200 with 2 Axes>"
      ],
      "image/png": "[encoded data removed]"
     },
     "metadata": {},
     "output_type": "display_data"
    }
   ],
   "execution_count": 5
  },
  {
   "cell_type": "code",
   "id": "7340431acd45d807",
   "metadata": {
    "ExecuteTime": {
     "end_time": "2025-03-13T20:01:38.355885Z",
     "start_time": "2025-03-13T20:01:38.309526Z"
    }
   },
   "source": [
    "for category in sticker_categories:\n",
    "    category_folder = os.path.join(image_base_path, category)\n",
    "\n",
    "    if not os.path.exists(category_folder):\n",
    "        print(f\"Folder not found: {category_folder}\")\n",
    "        continue\n",
    "\n",
    "    image_files = os.listdir(category_folder)\n",
    "    if len(image_files) == 0:\n",
    "        print(f\"No images in {category_folder}\")\n",
    "        continue\n",
    "\n",
    "    img_path = os.path.join(category_folder, image_files[156])\n",
    "    \n",
    "    # Open Image\n",
    "    img = Image.open(img_path).convert('RGB')\n",
    "\n",
    "    # Resize \n",
    "    resized_img = img.resize((32, 32))\n",
    "\n",
    "    plt.figure(figsize=(1, 1))\n",
    "\n",
    "    # Original Image\n",
    "    plt.subplot(1, 2, 1)\n",
    "    plt.imshow(img)\n",
    "    plt.title(\"Before \")\n",
    "    plt.axis(\"off\")\n",
    "\n",
    "    # Resized Image\n",
    "    plt.subplot(1, 2, 2)\n",
    "    plt.imshow(resized_img)\n",
    "    plt.title(\"After\")\n",
    "    plt.axis(\"off\")\n",
    "\n",
    "    plt.show()\n",
    "    break  "
   ],
   "outputs": [
    {
     "data": {
      "text/plain": [
       "<Figure size 100x100 with 2 Axes>"
      ],
      "image/png": "[encoded data removed]"
     },
     "metadata": {},
     "output_type": "display_data"
    }
   ],
   "execution_count": 6
  },
  {
   "cell_type": "code",
   "id": "808c4872",
   "metadata": {
    "ExecuteTime": {
     "end_time": "2025-03-13T20:01:38.359225Z",
     "start_time": "2025-03-13T20:01:38.356792Z"
    }
   },
   "source": [
    "emoji_base_transform = transforms.Compose([\n",
    "    transforms.Resize((32, 32)),  \n",
    "    transforms.ToTensor(),\n",
    "    transforms.Normalize(mean=[0.5], std=[0.5])\n",
    "])\n",
    "sticker_base_transform = transforms.Compose([\n",
    "    transforms.Resize((32, 32)),  \n",
    "    transforms.ToTensor(),\n",
    "    transforms.Normalize(mean=[0.5], std=[0.5])\n",
    "])"
   ],
   "outputs": [],
   "execution_count": 7
  },
  {
   "cell_type": "code",
   "id": "2dd7e129",
   "metadata": {
    "ExecuteTime": {
     "end_time": "2025-03-13T20:01:46.152439Z",
     "start_time": "2025-03-13T20:01:38.360513Z"
    }
   },
   "source": [
    "# Calculate the total number of files to process\n",
    "total_files = sum(len(os.listdir(os.path.join(image_base_path, ecategory))) for ecategory in emoji_categories)\n",
    "\n",
    "# Initialize a single tqdm progress bar with dynamic_ncols and stdout redirection\n",
    "progress_bar = tqdm(total=total_files, desc=\"Processing Emoji Images\", dynamic_ncols=True, file=sys.stdout)\n",
    "\n",
    "for ecategory in emoji_categories:\n",
    "    ecategory_folder = os.path.join(image_base_path, ecategory)\n",
    "    tensor_category_path = os.path.join(tensor_output_path, ecategory)\n",
    "\n",
    "    os.makedirs(tensor_category_path, exist_ok=True)\n",
    "    \n",
    "    for filename in os.listdir(ecategory_folder):\n",
    "        # Added this code to ignore the .DS_Store file on mac\n",
    "        if filename == \".DS_Store\":  # Ignore macOS system file\n",
    "            continue\n",
    "        \n",
    "        img_path = os.path.join(ecategory_folder, filename)\n",
    "\n",
    "        new_name = filename.replace(\"emoji_u\", \"\").replace(\"_\", \"-\").lower()\n",
    "        new_name = new_name.replace(\"-fe0f\", \"\").replace(\"-200d\", \"\")\n",
    "        \n",
    "        img = Image.open(img_path) # Path of the image\n",
    "        \n",
    "        if img.mode == \"P\":  # Fix transparency warning by converting png files to RGBA first\n",
    "                img = img.convert(\"RGBA\")\n",
    "        \n",
    "        # Convert transparency to white\n",
    "        if img.mode == \"RGBA\":\n",
    "            background = Image.new(\"RGBA\", img.size, (255, 255, 255, 255))  # White background\n",
    "            img = Image.alpha_composite(background, img).convert(\"RGB\") # Removing image transparency\n",
    "        img_tensor = emoji_base_transform(img)\n",
    "\n",
    "        # Save as .pt file\n",
    "        tensor_file = new_name.replace(\".png\", \".pt\").replace(\".jpg\", \".pt\")\n",
    "        torch.save(img_tensor, os.path.join(tensor_category_path, tensor_file))\n",
    "\n",
    "        # Update progress bar after processing each file\n",
    "        progress_bar.update(1)\n",
    "\n",
    "progress_bar.close()\n",
    "print(\"All emoji images processed successfully!\")"
   ],
   "outputs": [
    {
     "name": "stdout",
     "output_type": "stream",
     "text": [
      "Processing Emoji Images: 100%|█████████▉| 12559/12561 [00:07<00:00, 1622.90it/s]\n",
      "All emoji images processed successfully!\n"
     ]
    }
   ],
   "execution_count": 8
  },
  {
   "cell_type": "code",
   "id": "78217c0c7f0aebba",
   "metadata": {
    "ExecuteTime": {
     "end_time": "2025-03-13T20:07:25.126203Z",
     "start_time": "2025-03-13T20:01:46.153466Z"
    }
   },
   "source": [
    "# Calculate the total number of files to process\n",
    "total_files = sum(len(os.listdir(os.path.join(image_base_path, scategory))) for scategory in sticker_categories)\n",
    "\n",
    "# Initialize a single tqdm progress bar with dynamic_ncols and stdout redirection\n",
    "progress_bar = tqdm(total=total_files, desc=\"Processing Sticker Images\", dynamic_ncols=True, file=sys.stdout)\n",
    "\n",
    "for scategory in sticker_categories:\n",
    "    scategory_folder = os.path.join(image_base_path, scategory)\n",
    "    tensor_category_path = os.path.join(tensor_output_path, scategory)\n",
    "\n",
    "    os.makedirs(tensor_category_path, exist_ok=True)\n",
    "    \n",
    "    for filename in os.listdir(scategory_folder):\n",
    "        # Added this code to ignore the .DS_Store file on mac\n",
    "        if filename == \".DS_Store\":  # Ignore macOS system file\n",
    "            continue\n",
    "        \n",
    "        img_path = os.path.join(scategory_folder, filename)\n",
    "        \n",
    "        img = Image.open(img_path) # Path of the image\n",
    "        \n",
    "        if img.mode == \"P\":  # Fix transparency warning by converting png files to RGBA first\n",
    "                img = img.convert(\"RGBA\")\n",
    "        \n",
    "        # Convert transparency to white\n",
    "        if img.mode == \"RGBA\":\n",
    "            background = Image.new(\"RGBA\", img.size, (255, 255, 255, 255))  # White background\n",
    "            img = Image.alpha_composite(background, img).convert(\"RGB\") # Removing image transparency\n",
    "        img_tensor = sticker_base_transform(img)\n",
    "\n",
    "        # Save as .pt file\n",
    "        tensor_file = filename.replace(\".png\", \".pt\").replace(\".jpg\", \".pt\")\n",
    "        torch.save(img_tensor, os.path.join(tensor_category_path, tensor_file))\n",
    "\n",
    "        # Update progress bar after processing each file\n",
    "        progress_bar.update(1)\n",
    "\n",
    "progress_bar.close()\n",
    "print(\"All sticker images processed successfully!\")"
   ],
   "outputs": [
    {
     "name": "stdout",
     "output_type": "stream",
     "text": [
      "Processing Sticker Images: 100%|██████████| 55082/55082 [05:38<00:00, 162.51it/s]\n",
      "All sticker images processed successfully!\n"
     ]
    }
   ],
   "execution_count": 9
  },
  {
   "cell_type": "code",
   "id": "b2573cdb",
   "metadata": {
    "ExecuteTime": {
     "end_time": "2025-03-13T20:07:25.132677Z",
     "start_time": "2025-03-13T20:07:25.131123Z"
    }
   },
   "source": [],
   "outputs": [],
   "execution_count": 10
  }
 ],
 "metadata": {
  "kernelspec": {
   "display_name": "Python 3",
   "language": "python",
   "name": "python3"
  },
  "language_info": {
   "codemirror_mode": {
    "name": "ipython",
    "version": 3
   },
   "file_extension": ".py",
   "mimetype": "text/x-python",
   "name": "python",
   "nbconvert_exporter": "python",
   "pygments_lexer": "ipython3",
   "version": "3.13.1"
  }
 },
 "nbformat": 4,
 "nbformat_minor": 5
}
