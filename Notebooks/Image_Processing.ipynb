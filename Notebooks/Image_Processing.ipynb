{
 "cells": [
  {
   "cell_type": "code",
   "execution_count": 29,
   "id": "476c75bc",
   "metadata": {
    "ExecuteTime": {
     "end_time": "2025-02-13T14:40:54.999974Z",
     "start_time": "2025-02-13T14:40:54.963443Z"
    }
   },
   "outputs": [],
   "source": [
    "import os\n",
    "from tqdm import tqdm\n",
    "import torch\n",
    "import torchvision.transforms as transforms\n",
    "from PIL import Image\n",
    "import matplotlib.pyplot as plt\n",
    "from torch.utils.data import Dataset, DataLoader"
   ]
  },
  {
   "cell_type": "code",
   "execution_count": 30,
   "id": "daf0c0bc",
   "metadata": {
    "ExecuteTime": {
     "end_time": "2025-02-13T14:40:55.012181Z",
     "start_time": "2025-02-13T14:40:55.008756Z"
    }
   },
   "outputs": [],
   "source": [
    "image_base_path = \"../data/images/\"\n",
    "tensor_output_path = \"../data/tensor_images/\""
   ]
  },
  {
   "cell_type": "code",
   "execution_count": 31,
   "id": "56ea40fd",
   "metadata": {
    "ExecuteTime": {
     "end_time": "2025-02-13T14:40:55.017305Z",
     "start_time": "2025-02-13T14:40:55.013092Z"
    }
   },
   "outputs": [],
   "source": [
    "os.makedirs(tensor_output_path, exist_ok=True)"
   ]
  },
  {
   "cell_type": "code",
   "execution_count": 32,
   "id": "b2f9e9b3",
   "metadata": {
    "ExecuteTime": {
     "end_time": "2025-02-13T14:40:55.023805Z",
     "start_time": "2025-02-13T14:40:55.018339Z"
    }
   },
   "outputs": [],
   "source": [
    "emoji_categories = [\"GoogleEmoji\", \"JoyPixelsEmoji\", \"OpenMojiEmoji\", \"TwitterEmoji\"]\n",
    "sticker_categories = [\"AlexatorStickers\", \"FlaticonStickers\", \"FreepikStickers\"]"
   ]
  },
  {
   "cell_type": "code",
   "execution_count": 33,
   "id": "8ce35811",
   "metadata": {
    "ExecuteTime": {
     "end_time": "2025-02-13T14:40:55.153176Z",
     "start_time": "2025-02-13T14:40:55.025485Z"
    }
   },
   "outputs": [
    {
     "data": {
      "image/png": "[encoded data removed]",
      "text/plain": [
       "<Figure size 100x100 with 2 Axes>"
      ]
     },
     "metadata": {},
     "output_type": "display_data"
    }
   ],
   "source": [
    "for category in emoji_categories:\n",
    "    category_folder = os.path.join(image_base_path, category)\n",
    "\n",
    "    if not os.path.exists(category_folder):\n",
    "        print(f\"Folder not found: {category_folder}\")\n",
    "        continue\n",
    "\n",
    "    image_files = os.listdir(category_folder)\n",
    "    if len(image_files) == 0:\n",
    "        print(f\"No images in {category_folder}\")\n",
    "        continue\n",
    "\n",
    "    img_path = os.path.join(category_folder, image_files[156])\n",
    "    \n",
    "    # Open Image\n",
    "    img = Image.open(img_path).convert('RGB')\n",
    "\n",
    "    # Resize \n",
    "    resized_img = img.resize((16, 16))\n",
    "\n",
    "    plt.figure(figsize=(1, 1))\n",
    "\n",
    "    # Original Image\n",
    "    plt.subplot(1, 2, 1)\n",
    "    plt.imshow(img)\n",
    "    plt.title(\"Before \")\n",
    "    plt.axis(\"off\")\n",
    "\n",
    "    # Resized Image\n",
    "    plt.subplot(1, 2, 2)\n",
    "    plt.imshow(resized_img)\n",
    "    plt.title(\"After\")\n",
    "    plt.axis(\"off\")\n",
    "\n",
    "    plt.show()\n",
    "    break  "
   ]
  },
  {
   "cell_type": "code",
   "execution_count": 34,
   "id": "7340431acd45d807",
   "metadata": {
    "ExecuteTime": {
     "end_time": "2025-02-13T14:40:55.270799Z",
     "start_time": "2025-02-13T14:40:55.156812Z"
    }
   },
   "outputs": [
    {
     "name": "stdout",
     "output_type": "stream",
     "text": [
      "Folder not found: ../data/images/AlexatorStickers\n",
      "Folder not found: ../data/images/FlaticonStickers\n",
      "Folder not found: ../data/images/FreepikStickers\n"
     ]
    }
   ],
   "source": [
    "for category in sticker_categories:\n",
    "    category_folder = os.path.join(image_base_path, category)\n",
    "\n",
    "    if not os.path.exists(category_folder):\n",
    "        print(f\"Folder not found: {category_folder}\")\n",
    "        continue\n",
    "\n",
    "    image_files = os.listdir(category_folder)\n",
    "    if len(image_files) == 0:\n",
    "        print(f\"No images in {category_folder}\")\n",
    "        continue\n",
    "\n",
    "    img_path = os.path.join(category_folder, image_files[156])\n",
    "    \n",
    "    # Open Image\n",
    "    img = Image.open(img_path).convert('RGB')\n",
    "\n",
    "    # Resize \n",
    "    resized_img = img.resize((32, 32))\n",
    "\n",
    "    plt.figure(figsize=(1, 1))\n",
    "\n",
    "    # Original Image\n",
    "    plt.subplot(1, 2, 1)\n",
    "    plt.imshow(img)\n",
    "    plt.title(\"Before \")\n",
    "    plt.axis(\"off\")\n",
    "\n",
    "    # Resized Image\n",
    "    plt.subplot(1, 2, 2)\n",
    "    plt.imshow(resized_img)\n",
    "    plt.title(\"After\")\n",
    "    plt.axis(\"off\")\n",
    "\n",
    "    plt.show()\n",
    "    break  "
   ]
  },
  {
   "cell_type": "code",
   "execution_count": 35,
   "id": "808c4872",
   "metadata": {
    "ExecuteTime": {
     "end_time": "2025-02-13T14:40:55.280226Z",
     "start_time": "2025-02-13T14:40:55.273969Z"
    }
   },
   "outputs": [],
   "source": [
    "emoji_base_transform = transforms.Compose([\n",
    "    transforms.Resize((16, 16)),  \n",
    "    transforms.ToTensor(),\n",
    "    transforms.Normalize(mean=[0.5], std=[0.5])\n",
    "])\n",
    "sticker_base_transform = transforms.Compose([\n",
    "    transforms.Resize((32, 32)),  \n",
    "    transforms.ToTensor(),\n",
    "    transforms.Normalize(mean=[0.5], std=[0.5])\n",
    "])"
   ]
  },
  {
   "cell_type": "code",
   "execution_count": 36,
   "id": "2dd7e129",
   "metadata": {
    "ExecuteTime": {
     "end_time": "2025-02-13T14:41:02.913952Z",
     "start_time": "2025-02-13T14:40:55.282482Z"
    }
   },
   "outputs": [
    {
     "name": "stderr",
     "output_type": "stream",
     "text": [
      "Processing Emoji Categories: 100%|██████████| 4/4 [00:10<00:00,  2.58s/it]"
     ]
    },
    {
     "name": "stdout",
     "output_type": "stream",
     "text": [
      "All emoji images processed successfully!\n"
     ]
    },
    {
     "name": "stderr",
     "output_type": "stream",
     "text": [
      "\n"
     ]
    }
   ],
   "source": [
    "for category in tqdm(emoji_categories, desc=\"Processing Emoji Categories\"):\n",
    "    category_folder = os.path.join(image_base_path, category)\n",
    "    tensor_category_path = os.path.join(tensor_output_path, category)\n",
    "\n",
    "    os.makedirs(tensor_category_path, exist_ok=True)\n",
    "\n",
    "    for filename in os.listdir(category_folder):\n",
    "        # Added this code to ignore the .DS_Store file on mac\n",
    "        if filename == \".DS_Store\":  # Ignore macOS system file\n",
    "            continue\n",
    "        \n",
    "        img_path = os.path.join(category_folder, filename)\n",
    "\n",
    "        new_name = filename.replace(\"emoji_u\", \"\").replace(\"_\", \"-\").lower()\n",
    "        new_name = new_name.replace(\"-fe0f\", \"\").replace(\"-200d\", \"\")\n",
    "        \n",
    "        img = Image.open(img_path) # Path of the image\n",
    "        \n",
    "        if img.mode == \"P\":  # Fix transparency warning by converting png files to RGBA first\n",
    "                img = img.convert(\"RGBA\")\n",
    "\n",
    "        img = img.convert(\"RGB\")  # Convert to RGB format\n",
    "        img_tensor = sticker_base_transform(img)\n",
    "\n",
    "        # Save as .pt file\n",
    "        tensor_file = new_name.replace(\".png\", \".pt\").replace(\".jpg\", \".pt\")\n",
    "        torch.save(img_tensor, os.path.join(tensor_category_path, tensor_file))\n",
    "\n",
    "        # print(f\"Processed: {filename} -> {tensor_file}\")\n",
    "\n",
    "print(\"All emoji images processed successfully!\")"
   ]
  },
  {
   "cell_type": "code",
   "execution_count": 37,
   "id": "78217c0c7f0aebba",
   "metadata": {
    "ExecuteTime": {
     "end_time": "2025-02-13T14:41:09.757887Z",
     "start_time": "2025-02-13T14:41:02.914787Z"
    }
   },
   "outputs": [
    {
     "name": "stderr",
     "output_type": "stream",
     "text": [
      "Processing Sticker Categories: 100%|██████████| 4/4 [00:07<00:00,  1.95s/it]"
     ]
    },
    {
     "name": "stdout",
     "output_type": "stream",
     "text": [
      "All sticker images processed successfully!\n"
     ]
    },
    {
     "name": "stderr",
     "output_type": "stream",
     "text": [
      "\n"
     ]
    }
   ],
   "source": [
    "for category in tqdm(emoji_categories, desc=\"Processing Sticker Categories\"):\n",
    "    category_folder = os.path.join(image_base_path, category)\n",
    "    tensor_category_path = os.path.join(tensor_output_path, category)\n",
    "\n",
    "    os.makedirs(tensor_category_path, exist_ok=True)\n",
    "\n",
    "    for filename in os.listdir(category_folder):\n",
    "        # Added this code to ignore the .DS_Store file on mac\n",
    "        if filename == \".DS_Store\":  # Ignore macOS system file\n",
    "            continue\n",
    "        \n",
    "        img_path = os.path.join(category_folder, filename)\n",
    "        \n",
    "        img = Image.open(img_path) # Path of the image\n",
    "        \n",
    "        if img.mode == \"P\":  # Fix transparency warning by converting png files to RGBA first\n",
    "                img = img.convert(\"RGBA\")\n",
    "\n",
    "        img = img.convert(\"RGB\")  # Convert to RGB format\n",
    "        img_tensor = emoji_base_transform(img)\n",
    "\n",
    "        # Save as .pt file\n",
    "        tensor_file = filename.replace(\".png\", \".pt\").replace(\".jpg\", \".pt\")\n",
    "        torch.save(img_tensor, os.path.join(tensor_category_path, tensor_file))\n",
    "\n",
    "        # print(f\"Processed: {filename} -> {tensor_file}\")\n",
    "\n",
    "print(\"All sticker images processed successfully!\")"
   ]
  },
  {
   "cell_type": "code",
   "execution_count": 38,
   "id": "f2fc6f11",
   "metadata": {},
   "outputs": [],
   "source": [
    "# # Prompt(GPT 4o): make data loader to load above image file which are saved in tensor\n",
    "# class EmojiDataset(Dataset):\n",
    "#     def __init__(self, tensor_dir, transform=None):\n",
    "#         self.tensor_dir = tensor_dir\n",
    "#         self.transform = transform\n",
    "#         self.tensor_files = [os.path.join(root, file) \n",
    "#                              for root, _, files in os.walk(tensor_dir) \n",
    "#                              for file in files if file.endswith('.pt')]\n",
    "\n",
    "#     def __len__(self):\n",
    "#         return len(self.tensor_files)\n",
    "\n",
    "#     def __getitem__(self, idx):\n",
    "#         tensor_path = self.tensor_files[idx]\n",
    "#         image_tensor = torch.load(tensor_path)\n",
    "        \n",
    "#         if self.transform:\n",
    "#             image_tensor = self.transform(image_tensor)\n",
    "        \n",
    "#         return image_tensor\n",
    "\n",
    "# # Create dataset and dataloader\n",
    "# emoji_dataset = EmojiDataset(tensor_output_path)\n",
    "# emoji_dataloader = DataLoader(emoji_dataset, batch_size=32, shuffle=True)\n",
    "\n",
    "\n",
    "\n",
    "# # Example: Iterate through the dataloader\n",
    "# for batch in emoji_dataloader:\n",
    "#     print(batch.shape)\n",
    "#     break"
   ]
  },
  {
   "cell_type": "code",
   "execution_count": null,
   "id": "b2573cdb",
   "metadata": {},
   "outputs": [],
   "source": []
  }
 ],
 "metadata": {
  "kernelspec": {
   "display_name": "Python 3",
   "language": "python",
   "name": "python3"
  },
  "language_info": {
   "codemirror_mode": {
    "name": "ipython",
    "version": 3
   },
   "file_extension": ".py",
   "mimetype": "text/x-python",
   "name": "python",
   "nbconvert_exporter": "python",
   "pygments_lexer": "ipython3",
   "version": "3.13.1"
  }
 },
 "nbformat": 4,
 "nbformat_minor": 5
}
