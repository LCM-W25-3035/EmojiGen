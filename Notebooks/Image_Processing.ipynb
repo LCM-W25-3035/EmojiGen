{
 "cells": [
  {
   "cell_type": "code",
   "id": "476c75bc",
   "metadata": {
    "ExecuteTime": {
     "end_time": "2025-02-09T06:49:52.969436Z",
     "start_time": "2025-02-09T06:49:52.962023Z"
    }
   },
   "source": [
    "import os\n",
    "import torch\n",
    "import torchvision.transforms as transforms\n",
    "from PIL import Image\n",
    "import matplotlib.pyplot as plt\n",
    "from torch.utils.data import Dataset, DataLoader"
   ],
   "outputs": [],
   "execution_count": 10
  },
  {
   "cell_type": "code",
   "id": "daf0c0bc",
   "metadata": {
    "ExecuteTime": {
     "end_time": "2025-02-09T06:49:53.416526Z",
     "start_time": "2025-02-09T06:49:53.414050Z"
    }
   },
   "source": [
    "image_base_path = \"../data/images/\"\n",
    "tensor_output_path = \"../data/tensor_images/\""
   ],
   "outputs": [],
   "execution_count": 11
  },
  {
   "cell_type": "code",
   "id": "56ea40fd",
   "metadata": {
    "ExecuteTime": {
     "end_time": "2025-02-09T06:49:53.872348Z",
     "start_time": "2025-02-09T06:49:53.870107Z"
    }
   },
   "source": [
    "os.makedirs(tensor_output_path, exist_ok=True)"
   ],
   "outputs": [],
   "execution_count": 12
  },
  {
   "cell_type": "code",
   "id": "b2f9e9b3",
   "metadata": {
    "ExecuteTime": {
     "end_time": "2025-02-09T06:49:54.229009Z",
     "start_time": "2025-02-09T06:49:54.226490Z"
    }
   },
   "source": [
    "categories = [\"GoogleEmoji\", \"JoyPixelsEmoji\", \"OpenMojiEmoji\", \"TwitterEmoji\"]"
   ],
   "outputs": [],
   "execution_count": 13
  },
  {
   "cell_type": "code",
   "id": "8ce35811",
   "metadata": {
    "ExecuteTime": {
     "end_time": "2025-02-09T06:49:54.726456Z",
     "start_time": "2025-02-09T06:49:54.680208Z"
    }
   },
   "source": [
    "for category in categories:\n",
    "    category_folder = os.path.join(image_base_path, category)\n",
    "\n",
    "    if not os.path.exists(category_folder):\n",
    "        print(f\"Folder not found: {category_folder}\")\n",
    "        continue\n",
    "\n",
    "    image_files = os.listdir(category_folder)\n",
    "    if len(image_files) == 0:\n",
    "        print(f\"No images in {category_folder}\")\n",
    "        continue\n",
    "\n",
    "    img_path = os.path.join(category_folder, image_files[156])\n",
    "    \n",
    "    # Open Image\n",
    "    img = Image.open(img_path).convert('RGB')\n",
    "\n",
    "    # Resize \n",
    "    resized_img = img.resize((16, 16))\n",
    "\n",
    "    plt.figure(figsize=(1, 1))\n",
    "\n",
    "    # Original Image\n",
    "    plt.subplot(1, 2, 1)\n",
    "    plt.imshow(img)\n",
    "    plt.title(\"Before \")\n",
    "    plt.axis(\"off\")\n",
    "\n",
    "    # Resized Image\n",
    "    plt.subplot(1, 2, 2)\n",
    "    plt.imshow(resized_img)\n",
    "    plt.title(\"After\")\n",
    "    plt.axis(\"off\")\n",
    "\n",
    "    plt.show()\n",
    "    break  "
   ],
   "outputs": [
    {
     "data": {
      "text/plain": [
       "<Figure size 100x100 with 2 Axes>"
      ],
      "image/png": "[encoded data removed]"
     },
     "metadata": {},
     "output_type": "display_data"
    }
   ],
   "execution_count": 14
  },
  {
   "cell_type": "code",
   "id": "808c4872",
   "metadata": {
    "ExecuteTime": {
     "end_time": "2025-02-09T06:49:55.646514Z",
     "start_time": "2025-02-09T06:49:55.643446Z"
    }
   },
   "source": [
    "base_transform = transforms.Compose([\n",
    "    transforms.Resize((16, 16)),  \n",
    "    transforms.ToTensor(),\n",
    "    transforms.Normalize(mean=[0.5], std=[0.5])\n",
    "])"
   ],
   "outputs": [],
   "execution_count": 15
  },
  {
   "cell_type": "code",
   "id": "2dd7e129",
   "metadata": {
    "ExecuteTime": {
     "end_time": "2025-02-09T06:50:03.673079Z",
     "start_time": "2025-02-09T06:49:57.317579Z"
    }
   },
   "source": [
    "for category in categories:\n",
    "    category_folder = os.path.join(image_base_path, category)\n",
    "    tensor_category_path = os.path.join(tensor_output_path, category)\n",
    "\n",
    "    os.makedirs(tensor_category_path, exist_ok=True)\n",
    "\n",
    "    for filename in os.listdir(category_folder):\n",
    "        # Added this code to ignore the .DS_Store file on mac\n",
    "        if filename == \".DS_Store\":  # Ignore macOS system file\n",
    "            continue\n",
    "        \n",
    "        img_path = os.path.join(category_folder, filename)\n",
    "\n",
    "        new_name = filename.replace(\"emoji_u\", \"\").replace(\"_\", \"-\").lower()\n",
    "        new_name = new_name.replace(\"-fe0f\", \"\").replace(\"-200d\", \"\")\n",
    "        \n",
    "        img = Image.open(img_path) # Path of the image\n",
    "        \n",
    "        if img.mode == \"P\":  # Fix transparency warning by converting png files to RGBA first\n",
    "                img = img.convert(\"RGBA\")\n",
    "\n",
    "        img = img.convert(\"RGB\")  # Convert to RGB format\n",
    "        img_tensor = base_transform(img)\n",
    "\n",
    "        # Save as .pt file\n",
    "        tensor_file = new_name.replace(\".png\", \".pt\").replace(\".jpg\", \".pt\")\n",
    "        torch.save(img_tensor, os.path.join(tensor_category_path, tensor_file))\n",
    "\n",
    "        # print(f\"Processed: {filename} -> {tensor_file}\")\n",
    "\n",
    "print(\"All images processed successfully!\")"
   ],
   "outputs": [
    {
     "name": "stdout",
     "output_type": "stream",
     "text": [
      "All images processed successfully!\n"
     ]
    }
   ],
   "execution_count": 16
  },
  {
   "cell_type": "code",
   "id": "f2fc6f11",
   "metadata": {},
   "source": [
    "# Prompt(GPT 4o): make data loader to load above image file which are saved in tensor\n",
    "class EmojiDataset(Dataset):\n",
    "    def __init__(self, tensor_dir, transform=None):\n",
    "        self.tensor_dir = tensor_dir\n",
    "        self.transform = transform\n",
    "        self.tensor_files = [os.path.join(root, file) \n",
    "                             for root, _, files in os.walk(tensor_dir) \n",
    "                             for file in files if file.endswith('.pt')]\n",
    "\n",
    "    def __len__(self):\n",
    "        return len(self.tensor_files)\n",
    "\n",
    "    def __getitem__(self, idx):\n",
    "        tensor_path = self.tensor_files[idx]\n",
    "        image_tensor = torch.load(tensor_path)\n",
    "        \n",
    "        if self.transform:\n",
    "            image_tensor = self.transform(image_tensor)\n",
    "        \n",
    "        return image_tensor\n",
    "\n",
    "# Create dataset and dataloader\n",
    "emoji_dataset = EmojiDataset(tensor_output_path)\n",
    "emoji_dataloader = DataLoader(emoji_dataset, batch_size=32, shuffle=True)\n",
    "\n",
    "# Example: Iterate through the dataloader\n",
    "for batch in emoji_dataloader:\n",
    "    print(batch.shape)\n",
    "    break"
   ],
   "outputs": [],
   "execution_count": null
  }
 ],
 "metadata": {
  "kernelspec": {
   "display_name": "Python 3",
   "language": "python",
   "name": "python3"
  },
  "language_info": {
   "codemirror_mode": {
    "name": "ipython",
    "version": 3
   },
   "file_extension": ".py",
   "mimetype": "text/x-python",
   "name": "python",
   "nbconvert_exporter": "python",
   "pygments_lexer": "ipython3",
   "version": "3.13.1"
  }
 },
 "nbformat": 4,
 "nbformat_minor": 5
}
