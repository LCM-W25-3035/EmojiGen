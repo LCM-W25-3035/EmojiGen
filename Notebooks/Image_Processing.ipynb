{
 "cells": [
  {
   "cell_type": "code",
   "execution_count": 1,
   "id": "476c75bc",
   "metadata": {
    "ExecuteTime": {
     "end_time": "2025-02-16T06:39:24.191Z",
     "start_time": "2025-02-16T06:39:24.187949Z"
    }
   },
   "outputs": [],
   "source": [
    "import os\n",
    "from tqdm import tqdm\n",
    "import torch\n",
    "import torchvision.transforms as transforms\n",
    "from PIL import Image\n",
    "import matplotlib.pyplot as plt\n",
    "import shutil\n",
    "import sys\n",
    "from torch.utils.data import Dataset, DataLoader"
   ]
  },
  {
   "cell_type": "code",
   "execution_count": 2,
   "id": "daf0c0bc",
   "metadata": {
    "ExecuteTime": {
     "end_time": "2025-02-16T06:39:24.195182Z",
     "start_time": "2025-02-16T06:39:24.193150Z"
    }
   },
   "outputs": [],
   "source": [
    "image_base_path = \"../data/images/\"\n",
    "tensor_output_path = \"../data/tensor_images/\""
   ]
  },
  {
   "cell_type": "code",
   "execution_count": 3,
   "id": "56ea40fd",
   "metadata": {
    "ExecuteTime": {
     "end_time": "2025-02-16T06:39:24.198517Z",
     "start_time": "2025-02-16T06:39:24.196242Z"
    }
   },
   "outputs": [],
   "source": [
    "if os.path.exists(tensor_output_path):\n",
    "    shutil.rmtree(tensor_output_path)\n",
    "os.makedirs(tensor_output_path, exist_ok=True)"
   ]
  },
  {
   "cell_type": "code",
   "execution_count": 4,
   "id": "b2f9e9b3",
   "metadata": {
    "ExecuteTime": {
     "end_time": "2025-02-16T06:39:24.201084Z",
     "start_time": "2025-02-16T06:39:24.199341Z"
    }
   },
   "outputs": [],
   "source": [
    "emoji_categories = [\"GoogleEmoji\", \"JoyPixelsEmoji\", \"OpenMojiEmoji\", \"TwitterEmoji\"]\n",
    "sticker_categories = [\"AlexatorStickers\", \"FlaticonStickers\", \"FreepikStickers\"]"
   ]
  },
  {
   "cell_type": "code",
   "execution_count": 5,
   "id": "8ce35811",
   "metadata": {
    "ExecuteTime": {
     "end_time": "2025-02-16T06:39:24.232119Z",
     "start_time": "2025-02-16T06:39:24.202465Z"
    }
   },
   "outputs": [
    {
     "data": {
      "image/png": "[encoded data removed]",
      "text/plain": [
       "<Figure size 1000x1000 with 2 Axes>"
      ]
     },
     "metadata": {},
     "output_type": "display_data"
    }
   ],
   "source": [
    "for category in emoji_categories:\n",
    "    category_folder = os.path.join(image_base_path, category)\n",
    "\n",
    "    if not os.path.exists(category_folder):\n",
    "        print(f\"Folder not found: {category_folder}\")\n",
    "        continue\n",
    "\n",
    "    image_files = os.listdir(category_folder)\n",
    "    if len(image_files) == 0:\n",
    "        print(f\"No images in {category_folder}\")\n",
    "        continue\n",
    "\n",
    "    img_path = os.path.join(category_folder, image_files[156])\n",
    "    \n",
    "    # Open Image\n",
    "    img = Image.open(img_path).convert('RGB')\n",
    "\n",
    "    # Resize \n",
    "    resized_img = img.resize((64, 64))\n",
    "\n",
    "    plt.figure(figsize=(10, 10))\n",
    "\n",
    "    # Original Image\n",
    "    plt.subplot(1, 2, 1)\n",
    "    plt.imshow(img)\n",
    "    plt.title(\"Before \")\n",
    "    plt.axis(\"off\")\n",
    "\n",
    "    # Resized Image\n",
    "    plt.subplot(1, 2, 2)\n",
    "    plt.imshow(resized_img)\n",
    "    plt.title(\"After\")\n",
    "    plt.axis(\"off\")\n",
    "\n",
    "    plt.show()\n",
    "    break  "
   ]
  },
  {
   "cell_type": "code",
   "execution_count": 6,
   "id": "7340431acd45d807",
   "metadata": {
    "ExecuteTime": {
     "end_time": "2025-02-16T06:39:24.275582Z",
     "start_time": "2025-02-16T06:39:24.232911Z"
    }
   },
   "outputs": [
    {
     "data": {
      "image/png": "[encoded data removed]",
      "text/plain": [
       "<Figure size 100x100 with 2 Axes>"
      ]
     },
     "metadata": {},
     "output_type": "display_data"
    }
   ],
   "source": [
    "for category in sticker_categories:\n",
    "    category_folder = os.path.join(image_base_path, category)\n",
    "\n",
    "    if not os.path.exists(category_folder):\n",
    "        print(f\"Folder not found: {category_folder}\")\n",
    "        continue\n",
    "\n",
    "    image_files = os.listdir(category_folder)\n",
    "    if len(image_files) == 0:\n",
    "        print(f\"No images in {category_folder}\")\n",
    "        continue\n",
    "\n",
    "    img_path = os.path.join(category_folder, image_files[156])\n",
    "    \n",
    "    # Open Image\n",
    "    img = Image.open(img_path).convert('RGB')\n",
    "\n",
    "    # Resize \n",
    "    resized_img = img.resize((32, 32))\n",
    "\n",
    "    plt.figure(figsize=(1, 1))\n",
    "\n",
    "    # Original Image\n",
    "    plt.subplot(1, 2, 1)\n",
    "    plt.imshow(img)\n",
    "    plt.title(\"Before \")\n",
    "    plt.axis(\"off\")\n",
    "\n",
    "    # Resized Image\n",
    "    plt.subplot(1, 2, 2)\n",
    "    plt.imshow(resized_img)\n",
    "    plt.title(\"After\")\n",
    "    plt.axis(\"off\")\n",
    "\n",
    "    plt.show()\n",
    "    break  "
   ]
  },
  {
   "cell_type": "code",
   "execution_count": 7,
   "id": "808c4872",
   "metadata": {
    "ExecuteTime": {
     "end_time": "2025-02-16T06:39:24.278787Z",
     "start_time": "2025-02-16T06:39:24.276269Z"
    }
   },
   "outputs": [],
   "source": [
    "emoji_base_transform = transforms.Compose([\n",
    "    transforms.Resize((64, 64)),  \n",
    "    transforms.ToTensor(),\n",
    "    transforms.Normalize(mean=[0.5], std=[0.5])\n",
    "])\n",
    "sticker_base_transform = transforms.Compose([\n",
    "    transforms.Resize((64, 64)),  \n",
    "    transforms.ToTensor(),\n",
    "    transforms.Normalize(mean=[0.5], std=[0.5])\n",
    "])"
   ]
  },
  {
   "cell_type": "code",
   "execution_count": 8,
   "id": "2dd7e129",
   "metadata": {
    "ExecuteTime": {
     "end_time": "2025-02-16T06:39:30.861212Z",
     "start_time": "2025-02-16T06:39:24.279444Z"
    }
   },
   "outputs": [
    {
     "name": "stdout",
     "output_type": "stream",
     "text": [
      "Processing Emoji Images: 100%|██████████| 12559/12559 [01:35<00:00, 132.16it/s]\n",
      "All emoji images processed successfully!\n"
     ]
    }
   ],
   "source": [
    "# Calculate the total number of files to process\n",
    "total_files = sum(len(os.listdir(os.path.join(image_base_path, ecategory))) for ecategory in emoji_categories)\n",
    "\n",
    "# Initialize a single tqdm progress bar with dynamic_ncols and stdout redirection\n",
    "progress_bar = tqdm(total=total_files, desc=\"Processing Emoji Images\", dynamic_ncols=True, file=sys.stdout)\n",
    "\n",
    "for ecategory in emoji_categories:\n",
    "    ecategory_folder = os.path.join(image_base_path, ecategory)\n",
    "    tensor_category_path = os.path.join(tensor_output_path, ecategory)\n",
    "\n",
    "    os.makedirs(tensor_category_path, exist_ok=True)\n",
    "    \n",
    "    for filename in os.listdir(ecategory_folder):\n",
    "        # Added this code to ignore the .DS_Store file on mac\n",
    "        if filename == \".DS_Store\":  # Ignore macOS system file\n",
    "            continue\n",
    "        \n",
    "        img_path = os.path.join(ecategory_folder, filename)\n",
    "\n",
    "        new_name = filename.replace(\"emoji_u\", \"\").replace(\"_\", \"-\").lower()\n",
    "        new_name = new_name.replace(\"-fe0f\", \"\").replace(\"-200d\", \"\")\n",
    "        \n",
    "        img = Image.open(img_path) # Path of the image\n",
    "        \n",
    "        if img.mode == \"P\":  # Fix transparency warning by converting png files to RGBA first\n",
    "                img = img.convert(\"RGBA\")\n",
    "\n",
    "        img = img.convert(\"RGB\")  # Convert to RGB format\n",
    "        img_tensor = emoji_base_transform(img)\n",
    "\n",
    "        # Save as .pt file\n",
    "        tensor_file = new_name.replace(\".png\", \".pt\").replace(\".jpg\", \".pt\")\n",
    "        torch.save(img_tensor, os.path.join(tensor_category_path, tensor_file))\n",
    "\n",
    "        # Update progress bar after processing each file\n",
    "        progress_bar.update(1)\n",
    "\n",
    "progress_bar.close()\n",
    "print(\"All emoji images processed successfully!\")"
   ]
  },
  {
   "cell_type": "code",
   "execution_count": 9,
   "id": "78217c0c7f0aebba",
   "metadata": {
    "ExecuteTime": {
     "end_time": "2025-02-16T06:45:20.038056Z",
     "start_time": "2025-02-16T06:39:30.862898Z"
    }
   },
   "outputs": [
    {
     "name": "stdout",
     "output_type": "stream",
     "text": [
      "Processing Sticker Images: 100%|██████████| 55082/55082 [09:01<00:00, 101.75it/s]\n",
      "All sticker images processed successfully!\n"
     ]
    }
   ],
   "source": [
    "# Calculate the total number of files to process\n",
    "total_files = sum(len(os.listdir(os.path.join(image_base_path, scategory))) for scategory in sticker_categories)\n",
    "\n",
    "# Initialize a single tqdm progress bar with dynamic_ncols and stdout redirection\n",
    "progress_bar = tqdm(total=total_files, desc=\"Processing Sticker Images\", dynamic_ncols=True, file=sys.stdout)\n",
    "\n",
    "for scategory in sticker_categories:\n",
    "    scategory_folder = os.path.join(image_base_path, scategory)\n",
    "    tensor_category_path = os.path.join(tensor_output_path, scategory)\n",
    "\n",
    "    os.makedirs(tensor_category_path, exist_ok=True)\n",
    "    \n",
    "    for filename in os.listdir(scategory_folder):\n",
    "        # Added this code to ignore the .DS_Store file on mac\n",
    "        if filename == \".DS_Store\":  # Ignore macOS system file\n",
    "            continue\n",
    "        \n",
    "        img_path = os.path.join(scategory_folder, filename)\n",
    "        \n",
    "        img = Image.open(img_path) # Path of the image\n",
    "        \n",
    "        if img.mode == \"P\":  # Fix transparency warning by converting png files to RGBA first\n",
    "                img = img.convert(\"RGBA\")\n",
    "\n",
    "        img = img.convert(\"RGB\")  # Convert to RGB format\n",
    "        img_tensor = sticker_base_transform(img)\n",
    "\n",
    "        # Save as .pt file\n",
    "        tensor_file = filename.replace(\".png\", \".pt\").replace(\".jpg\", \".pt\")\n",
    "        torch.save(img_tensor, os.path.join(tensor_category_path, tensor_file))\n",
    "\n",
    "        # Update progress bar after processing each file\n",
    "        progress_bar.update(1)\n",
    "\n",
    "progress_bar.close()\n",
    "print(\"All sticker images processed successfully!\")"
   ]
  },
  {
   "cell_type": "code",
   "execution_count": null,
   "id": "f2fc6f11",
   "metadata": {
    "ExecuteTime": {
     "end_time": "2025-02-16T06:45:20.041535Z",
     "start_time": "2025-02-16T06:45:20.039283Z"
    }
   },
   "outputs": [
    {
     "ename": "",
     "evalue": "",
     "output_type": "error",
     "traceback": [
      "\u001b[1;31mThe Kernel crashed while executing code in the current cell or a previous cell. \n",
      "\u001b[1;31mPlease review the code in the cell(s) to identify a possible cause of the failure. \n",
      "\u001b[1;31mClick <a href='https://aka.ms/vscodeJupyterKernelCrash'>here</a> for more info. \n",
      "\u001b[1;31mView Jupyter <a href='command:jupyter.viewOutput'>log</a> for further details."
     ]
    }
   ],
   "source": [
    "# # Prompt(GPT 4o): make data loader to load above image file which are saved in tensor\n",
    "# class EmojiDataset(Dataset):\n",
    "#     def __init__(self, tensor_dir, transform=None):\n",
    "#         self.tensor_dir = tensor_dir\n",
    "#         self.transform = transform\n",
    "#         self.tensor_files = [os.path.join(root, file) \n",
    "#                              for root, _, files in os.walk(tensor_dir) \n",
    "#                              for file in files if file.endswith('.pt')]\n",
    "\n",
    "#     def __len__(self):\n",
    "#         return len(self.tensor_files)\n",
    "\n",
    "#     def __getitem__(self, idx):\n",
    "#         tensor_path = self.tensor_files[idx]\n",
    "#         image_tensor = torch.load(tensor_path)\n",
    "        \n",
    "#         if self.transform:\n",
    "#             image_tensor = self.transform(image_tensor)\n",
    "        \n",
    "#         return image_tensor\n",
    "\n",
    "# # Create dataset and dataloader\n",
    "# emoji_dataset = EmojiDataset(tensor_output_path)\n",
    "# emoji_dataloader = DataLoader(emoji_dataset, batch_size=32, shuffle=True)\n",
    "\n",
    "\n",
    "\n",
    "# # Example: Iterate through the dataloader\n",
    "# for batch in emoji_dataloader:\n",
    "#     print(batch.shape)\n",
    "#     break"
   ]
  },
  {
   "cell_type": "code",
   "execution_count": null,
   "id": "b2573cdb",
   "metadata": {
    "ExecuteTime": {
     "end_time": "2025-02-16T06:45:20.043309Z",
     "start_time": "2025-02-16T06:45:20.042062Z"
    }
   },
   "outputs": [],
   "source": []
  }
 ],
 "metadata": {
  "kernelspec": {
   "display_name": "myvenv",
   "language": "python",
   "name": "python3"
  },
  "language_info": {
   "codemirror_mode": {
    "name": "ipython",
    "version": 3
   },
   "file_extension": ".py",
   "mimetype": "text/x-python",
   "name": "python",
   "nbconvert_exporter": "python",
   "pygments_lexer": "ipython3",
   "version": "3.13.2"
  }
 },
 "nbformat": 4,
 "nbformat_minor": 5
}
