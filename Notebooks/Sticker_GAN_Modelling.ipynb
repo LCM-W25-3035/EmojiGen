{
 "cells": [
  {
   "cell_type": "code",
   "id": "initial_id",
   "metadata": {
    "collapsed": true,
    "ExecuteTime": {
     "end_time": "2025-02-16T06:58:41.879606Z",
     "start_time": "2025-02-16T06:58:41.871922Z"
    }
   },
   "source": [
    "import pandas as pd\n",
    "import numpy as np"
   ],
   "outputs": [],
   "execution_count": 4
  },
  {
   "metadata": {
    "ExecuteTime": {
     "end_time": "2025-02-16T06:58:42.057311Z",
     "start_time": "2025-02-16T06:58:41.881560Z"
    }
   },
   "cell_type": "code",
   "source": [
    "# Load the saved file\n",
    "df = pd.read_parquet('../data/processed_sticker_dataset.parquet')\n",
    "\n",
    "# Convert lists back to Numpy arrays of float32\n",
    "df[\"combined_embedding\"] = df[\"combined_embedding\"].apply(lambda x: np.array(x, dtype=np.float32))"
   ],
   "id": "db28cd2c73f33e59",
   "outputs": [],
   "execution_count": 5
  },
  {
   "metadata": {
    "ExecuteTime": {
     "end_time": "2025-02-16T06:58:42.066001Z",
     "start_time": "2025-02-16T06:58:42.058027Z"
    }
   },
   "cell_type": "code",
   "source": "df.info()",
   "id": "ce6fdfc9c7643c79",
   "outputs": [
    {
     "name": "stdout",
     "output_type": "stream",
     "text": [
      "<class 'pandas.core.frame.DataFrame'>\n",
      "RangeIndex: 38807 entries, 0 to 38806\n",
      "Data columns (total 2 columns):\n",
      " #   Column              Non-Null Count  Dtype \n",
      "---  ------              --------------  ----- \n",
      " 0   combined_embedding  38807 non-null  object\n",
      " 1   image_path          38807 non-null  object\n",
      "dtypes: object(2)\n",
      "memory usage: 606.5+ KB\n"
     ]
    }
   ],
   "execution_count": 6
  },
  {
   "metadata": {
    "ExecuteTime": {
     "end_time": "2025-02-16T06:58:42.068558Z",
     "start_time": "2025-02-16T06:58:42.066926Z"
    }
   },
   "cell_type": "code",
   "source": "",
   "id": "1eb8e49c8ff3a408",
   "outputs": [],
   "execution_count": 6
  }
 ],
 "metadata": {
  "kernelspec": {
   "display_name": "Python 3",
   "language": "python",
   "name": "python3"
  },
  "language_info": {
   "codemirror_mode": {
    "name": "ipython",
    "version": 2
   },
   "file_extension": ".py",
   "mimetype": "text/x-python",
   "name": "python",
   "nbconvert_exporter": "python",
   "pygments_lexer": "ipython2",
   "version": "2.7.6"
  }
 },
 "nbformat": 4,
 "nbformat_minor": 5
}
