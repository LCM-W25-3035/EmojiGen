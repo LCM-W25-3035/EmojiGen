{
 "cells": [
  {
   "cell_type": "code",
   "id": "initial_id",
   "metadata": {
    "collapsed": true,
    "ExecuteTime": {
     "end_time": "2025-02-13T14:06:15.510345Z",
     "start_time": "2025-02-13T14:06:14.952155Z"
    }
   },
   "source": [
    "import pandas as pd\n",
    "import numpy as np"
   ],
   "outputs": [],
   "execution_count": 1
  },
  {
   "metadata": {
    "ExecuteTime": {
     "end_time": "2025-02-13T14:06:25.104846Z",
     "start_time": "2025-02-13T14:06:24.732475Z"
    }
   },
   "cell_type": "code",
   "source": [
    "# Load the saved file\n",
    "df = pd.read_parquet('../data/processed_sticker_dataset.parquet')\n",
    "\n",
    "# Convert lists back to Numpy arrays of float32\n",
    "df[\"combined_embedding\"] = df[\"combined_embedding\"].apply(lambda x: np.array(x, dtype=np.float32))"
   ],
   "id": "db28cd2c73f33e59",
   "outputs": [
    {
     "name": "stdout",
     "output_type": "stream",
     "text": [
      "combined_embedding\n",
      "(768,)    38807\n",
      "Name: count, dtype: int64\n",
      "combined_embedding\n",
      "float32    38807\n",
      "Name: count, dtype: int64\n"
     ]
    }
   ],
   "execution_count": 3
  },
  {
   "metadata": {
    "ExecuteTime": {
     "end_time": "2025-02-13T14:06:50.376888Z",
     "start_time": "2025-02-13T14:06:50.368062Z"
    }
   },
   "cell_type": "code",
   "source": "df.tail()",
   "id": "ce6fdfc9c7643c79",
   "outputs": [
    {
     "data": {
      "text/plain": [
       "                                      combined_embedding  \\\n",
       "38802  [0.014959879, -0.03522534, 0.029250659, 0.0178...   \n",
       "38803  [-0.006356473, 0.05457268, 0.050891157, -0.028...   \n",
       "38804  [-0.03749641, 0.0015348368, -0.0025249948, -0....   \n",
       "38805  [0.0038042306, -0.07515164, 0.017896224, 0.040...   \n",
       "38806  [0.011091657, -0.0939691, -0.018302415, -0.004...   \n",
       "\n",
       "                                              image_path  \n",
       "38802  ../data/tensor_images/FreepikStickers/e774c692...  \n",
       "38803  ../data/tensor_images/FreepikStickers/45315ce4...  \n",
       "38804  ../data/tensor_images/FreepikStickers/45490b44...  \n",
       "38805  ../data/tensor_images/FreepikStickers/6416c308...  \n",
       "38806  ../data/tensor_images/FreepikStickers/39ba1481...  "
      ],
      "text/html": [
       "<div>\n",
       "<style scoped>\n",
       "    .dataframe tbody tr th:only-of-type {\n",
       "        vertical-align: middle;\n",
       "    }\n",
       "\n",
       "    .dataframe tbody tr th {\n",
       "        vertical-align: top;\n",
       "    }\n",
       "\n",
       "    .dataframe thead th {\n",
       "        text-align: right;\n",
       "    }\n",
       "</style>\n",
       "<table border=\"1\" class=\"dataframe\">\n",
       "  <thead>\n",
       "    <tr style=\"text-align: right;\">\n",
       "      <th></th>\n",
       "      <th>combined_embedding</th>\n",
       "      <th>image_path</th>\n",
       "    </tr>\n",
       "  </thead>\n",
       "  <tbody>\n",
       "    <tr>\n",
       "      <th>38802</th>\n",
       "      <td>[0.014959879, -0.03522534, 0.029250659, 0.0178...</td>\n",
       "      <td>../data/tensor_images/FreepikStickers/e774c692...</td>\n",
       "    </tr>\n",
       "    <tr>\n",
       "      <th>38803</th>\n",
       "      <td>[-0.006356473, 0.05457268, 0.050891157, -0.028...</td>\n",
       "      <td>../data/tensor_images/FreepikStickers/45315ce4...</td>\n",
       "    </tr>\n",
       "    <tr>\n",
       "      <th>38804</th>\n",
       "      <td>[-0.03749641, 0.0015348368, -0.0025249948, -0....</td>\n",
       "      <td>../data/tensor_images/FreepikStickers/45490b44...</td>\n",
       "    </tr>\n",
       "    <tr>\n",
       "      <th>38805</th>\n",
       "      <td>[0.0038042306, -0.07515164, 0.017896224, 0.040...</td>\n",
       "      <td>../data/tensor_images/FreepikStickers/6416c308...</td>\n",
       "    </tr>\n",
       "    <tr>\n",
       "      <th>38806</th>\n",
       "      <td>[0.011091657, -0.0939691, -0.018302415, -0.004...</td>\n",
       "      <td>../data/tensor_images/FreepikStickers/39ba1481...</td>\n",
       "    </tr>\n",
       "  </tbody>\n",
       "</table>\n",
       "</div>"
      ]
     },
     "execution_count": 5,
     "metadata": {},
     "output_type": "execute_result"
    }
   ],
   "execution_count": 5
  },
  {
   "metadata": {},
   "cell_type": "code",
   "outputs": [],
   "execution_count": null,
   "source": "",
   "id": "1eb8e49c8ff3a408"
  }
 ],
 "metadata": {
  "kernelspec": {
   "display_name": "Python 3",
   "language": "python",
   "name": "python3"
  },
  "language_info": {
   "codemirror_mode": {
    "name": "ipython",
    "version": 2
   },
   "file_extension": ".py",
   "mimetype": "text/x-python",
   "name": "python",
   "nbconvert_exporter": "python",
   "pygments_lexer": "ipython2",
   "version": "2.7.6"
  }
 },
 "nbformat": 4,
 "nbformat_minor": 5
}
