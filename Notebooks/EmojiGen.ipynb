{
 "cells": [
  {
   "metadata": {},
   "cell_type": "markdown",
   "source": "# EmojiGen",
   "id": "4ae60b8fb7a2200b"
  },
  {
   "metadata": {},
   "cell_type": "markdown",
   "source": "#### Data Ingestion",
   "id": "5584efc6957e80da"
  },
  {
   "cell_type": "code",
   "id": "initial_id",
   "metadata": {
    "collapsed": true,
    "ExecuteTime": {
     "end_time": "2025-01-21T02:20:48.380386Z",
     "start_time": "2025-01-21T02:20:48.378650Z"
    }
   },
   "source": [
    "# Importing necessary libraries\n",
    "\n",
    "import pandas as pd\n",
    "import numpy as np\n",
    "import seaborn as sns\n",
    "import warnings\n",
    "warnings.filterwarnings(\"ignore\")"
   ],
   "outputs": [],
   "execution_count": 1
  },
  {
   "metadata": {
    "ExecuteTime": {
     "end_time": "2025-01-21T02:20:50.123544Z",
     "start_time": "2025-01-21T02:20:50.108131Z"
    }
   },
   "cell_type": "code",
   "source": [
    "# Loading emoji descriptions\n",
    "dataset = pd.read_csv('../data/openmoji.csv')"
   ],
   "id": "80b9f8fdeba3283",
   "outputs": [],
   "execution_count": 2
  },
  {
   "metadata": {},
   "cell_type": "code",
   "source": "dataset.info()",
   "id": "40a8b27cdc6f9deb",
   "outputs": [],
   "execution_count": null
  },
  {
   "metadata": {},
   "cell_type": "code",
   "source": "dataset.head()",
   "id": "f40e521a1a742c2e",
   "outputs": [],
   "execution_count": null
  },
  {
   "metadata": {
    "ExecuteTime": {
     "end_time": "2025-01-21T02:23:46.668188Z",
     "start_time": "2025-01-21T02:23:46.653091Z"
    }
   },
   "cell_type": "code",
   "source": [
    "feature_elimination_list = ['group', 'subgroups', 'openmoji_tags', 'openmoji_author', 'openmoji_date', 'unicode', 'order']\n",
    "\n",
    "dataset_df = dataset.drop(feature_elimination_list, axis=1)"
   ],
   "id": "9cba294b3d94abc9",
   "outputs": [],
   "execution_count": 5
  },
  {
   "metadata": {},
   "cell_type": "code",
   "source": "dataset_df.head()",
   "id": "2f55a981fbb853c0",
   "outputs": [],
   "execution_count": null
  },
  {
   "metadata": {},
   "cell_type": "code",
   "outputs": [],
   "execution_count": null,
   "source": "",
   "id": "a29146b723a77e52"
  }
 ],
 "metadata": {
  "kernelspec": {
   "display_name": "Python 3",
   "language": "python",
   "name": "python3"
  },
  "language_info": {
   "codemirror_mode": {
    "name": "ipython",
    "version": 2
   },
   "file_extension": ".py",
   "mimetype": "text/x-python",
   "name": "python",
   "nbconvert_exporter": "python",
   "pygments_lexer": "ipython2",
   "version": "2.7.6"
  }
 },
 "nbformat": 4,
 "nbformat_minor": 5
}
