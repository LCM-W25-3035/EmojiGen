{
 "cells": [
  {
   "cell_type": "code",
   "execution_count": null,
   "metadata": {},
   "outputs": [],
   "source": [
    "import pandas as pd\n",
    "import numpy as np"
   ]
  },
  {
   "cell_type": "code",
   "execution_count": null,
   "metadata": {},
   "outputs": [],
   "source": [
    "open_moji_df = pd.read_csv('../data/openmoji.csv')\n",
    "emojipedia_df = pd.read_csv('../data/emojipedia/emojis_details.csv')\n",
    "emojipedia_df_with_grouping=pd.read_csv('../data/emojipedia/emojis_with_subgroups.csv')"
   ]
  }
 ],
 "metadata": {
  "language_info": {
   "name": "python"
  }
 },
 "nbformat": 4,
 "nbformat_minor": 2
}
