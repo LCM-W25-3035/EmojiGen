{
 "cells": [
  {
   "cell_type": "code",
   "metadata": {
    "ExecuteTime": {
     "end_time": "2025-02-12T02:59:04.744880Z",
     "start_time": "2025-02-12T02:59:00.167679Z"
    }
   },
   "source": [
    "import pandas as pd\n",
    "import numpy as np\n",
    "import os\n",
    "import re\n",
    "import nltk\n",
    "from nltk.corpus import stopwords\n",
    "from nltk.tokenize import word_tokenize\n",
    "from sentence_transformers import SentenceTransformer\n",
    "from tqdm import tqdm\n",
    "import torch\n",
    "\n",
    "# Download NLTK data files (only need to run once)\n",
    "nltk.download('punkt')\n",
    "nltk.download('stopwords')\n",
    "nltk.download('wordnet')\n",
    "\n",
    "# Apply tqdm to all .apply() functions by using progress_apply\n",
    "tqdm.pandas()"
   ],
   "outputs": [
    {
     "name": "stderr",
     "output_type": "stream",
     "text": [
      "[nltk_data] Downloading package punkt to\n",
      "[nltk_data]     /Users/prashansathapa/nltk_data...\n",
      "[nltk_data]   Package punkt is already up-to-date!\n",
      "[nltk_data] Downloading package stopwords to\n",
      "[nltk_data]     /Users/prashansathapa/nltk_data...\n",
      "[nltk_data]   Package stopwords is already up-to-date!\n",
      "[nltk_data] Downloading package wordnet to\n",
      "[nltk_data]     /Users/prashansathapa/nltk_data...\n",
      "[nltk_data]   Package wordnet is already up-to-date!\n"
     ]
    }
   ],
   "execution_count": 128
  },
  {
   "cell_type": "code",
   "metadata": {
    "ExecuteTime": {
     "end_time": "2025-02-12T02:59:04.781468Z",
     "start_time": "2025-02-12T02:59:04.747208Z"
    }
   },
   "source": [
    "openmoji_df = pd.read_csv('../data/openmoji.csv')\n",
    "emojipedia_df = pd.read_csv('../data/emojipedia.csv')\n",
    "llm_df = pd.read_parquet('../data/llmemoji.parquet')"
   ],
   "outputs": [],
   "execution_count": 129
  },
  {
   "cell_type": "code",
   "metadata": {
    "ExecuteTime": {
     "end_time": "2025-02-12T02:59:04.855606Z",
     "start_time": "2025-02-12T02:59:04.783546Z"
    }
   },
   "source": [
    "flaticon_stickers_df = pd.read_csv('../data/flaticon/flaticon_stickers_desc.csv') "
   ],
   "outputs": [],
   "execution_count": 130
  },
  {
   "cell_type": "code",
   "metadata": {
    "ExecuteTime": {
     "end_time": "2025-02-12T02:59:04.862497Z",
     "start_time": "2025-02-12T02:59:04.858656Z"
    }
   },
   "source": [
    "print(flaticon_stickers_df.head().to_string())"
   ],
   "outputs": [
    {
     "name": "stdout",
     "output_type": "stream",
     "text": [
      "                                                     image        title                                                               tags                              filename                                                    description\n",
      "0  https://cdn-icons-png.flaticon.com/512/8356/8356693.png       Family                   people, love, family, gay, homosexual, relatives  2fbde21360a8ddf99949459a90004f33.png                                   a family hugging and smiling\n",
      "1  https://cdn-icons-png.flaticon.com/512/8356/8356696.png       Family                                    people, love, family, relatives  617a3f0ef0d2ef5d246eb06b3ed5fbf4.png                                          a family with a child\n",
      "2  https://cdn-icons-png.flaticon.com/512/8359/8359767.png      Holiday                   holidays, holiday, time and date, calendar, desk  478a953a9468c40b2ef99e81dd1b6c1b.png                                  a pile of papers and a folder\n",
      "3  https://cdn-icons-png.flaticon.com/512/8359/8359788.png     Lipstick  birthday and party, fashion, grooming, female, lipstick, feminine  ad92c2a592a552ecd70437795d3a0ac2.png  a lipstick with a red lipstick brush and a red lipstick brush\n",
      "4  https://cdn-icons-png.flaticon.com/512/8359/8359799.png  Mental Care                               miscellaneous, thinking, mental care  ebba19973ad7a1bd35a02e53a1f57694.png            a brain with a rainbow colored circle in the middle\n"
     ]
    }
   ],
   "execution_count": 131
  },
  {
   "cell_type": "code",
   "metadata": {
    "ExecuteTime": {
     "end_time": "2025-02-12T02:59:04.901016Z",
     "start_time": "2025-02-12T02:59:04.864050Z"
    }
   },
   "source": [
    "# Convert Unicode string (e.g., 'U+1F600', 'U+263A,FE0F') to hex code ('1F600', '263A-FE0F').\n",
    "\n",
    "def unicode_to_hex(unicode_str):\n",
    "    unicode_str = unicode_str.replace(\",\", \" \")  # Replace commas with spaces\n",
    "    # First splitting the input string to a list of substrings\n",
    "    # Loops though each substring\n",
    "    # Removes the U+ prefix from each substring\n",
    "    hex_values = [u.replace(\"U+\", \"\") for u in unicode_str.split()]\n",
    "    # Join the values with hyphens\n",
    "    return \"-\".join(hex_values)\n",
    "\n",
    "# Convert 'unicode' column in emojipedia_df and llm_df to 'hexcode'\n",
    "emojipedia_df['hexcode'] = emojipedia_df['Codepoints Hex'].progress_apply(unicode_to_hex)\n",
    "llm_df['hexcode'] = llm_df['unicode'].progress_apply(unicode_to_hex)"
   ],
   "outputs": [
    {
     "name": "stderr",
     "output_type": "stream",
     "text": [
      "100%|██████████| 1885/1885 [00:00<00:00, 613459.27it/s]\n",
      "100%|██████████| 5034/5034 [00:00<00:00, 666944.42it/s]\n"
     ]
    }
   ],
   "execution_count": 132
  },
  {
   "cell_type": "code",
   "metadata": {
    "ExecuteTime": {
     "end_time": "2025-02-12T02:59:04.904467Z",
     "start_time": "2025-02-12T02:59:04.902508Z"
    }
   },
   "source": [],
   "outputs": [],
   "execution_count": 132
  },
  {
   "cell_type": "code",
   "metadata": {
    "ExecuteTime": {
     "end_time": "2025-02-12T02:59:04.918374Z",
     "start_time": "2025-02-12T02:59:04.905903Z"
    }
   },
   "source": [
    "# Making the hexcode uniform in all 3 dataframes for merging\n",
    "# removing -f30f (differentiation between image type emoji and textual type emoji)\n",
    "# removing -200d (differentiation for emoji with skin-tone)\n",
    "\n",
    "openmoji_df['hexcode'] = openmoji_df['hexcode'].str.replace('-FE0F', '', regex=True)\n",
    "openmoji_df['hexcode'] = openmoji_df['hexcode'].str.replace('-200D', '', regex=True)\n",
    "llm_df['hexcode'] = llm_df['hexcode'].str.replace('-FE0F', '', regex=True)\n",
    "llm_df['hexcode'] = llm_df['hexcode'].str.replace('-200D', '', regex=True)\n",
    "emojipedia_df['hexcode'] = emojipedia_df['hexcode'].str.replace('-FE0F', '', regex=True)\n",
    "emojipedia_df['hexcode'] = emojipedia_df['hexcode'].str.replace('-200D', '', regex=True)"
   ],
   "outputs": [],
   "execution_count": 133
  },
  {
   "cell_type": "code",
   "metadata": {
    "ExecuteTime": {
     "end_time": "2025-02-12T02:59:04.927546Z",
     "start_time": "2025-02-12T02:59:04.919878Z"
    }
   },
   "source": [
    "# Checking for duplicates\n",
    "duplicate_counts = openmoji_df['hexcode'].value_counts()\n",
    "duplicates = duplicate_counts[duplicate_counts > 1]\n",
    "print(duplicates)"
   ],
   "outputs": [
    {
     "name": "stdout",
     "output_type": "stream",
     "text": [
      "hexcode\n",
      "1F3F3    2\n",
      "Name: count, dtype: int64\n"
     ]
    }
   ],
   "execution_count": 134
  },
  {
   "cell_type": "code",
   "metadata": {
    "ExecuteTime": {
     "end_time": "2025-02-12T02:59:04.934079Z",
     "start_time": "2025-02-12T02:59:04.928794Z"
    }
   },
   "source": [
    "# Checking for duplicates\n",
    "duplicate_counts = llm_df['hexcode'].value_counts()\n",
    "duplicates = duplicate_counts[duplicate_counts > 1]\n",
    "print(duplicates)"
   ],
   "outputs": [
    {
     "name": "stdout",
     "output_type": "stream",
     "text": [
      "hexcode\n",
      "1F3C3-1F3FD-2640-27A1           4\n",
      "1F6B6-1F3FF-2642-27A1           4\n",
      "1F6B6-1F3FF-2640-27A1           4\n",
      "1F6B6-1F3FE-2640-27A1           4\n",
      "1F6B6-1F3FC-2640-27A1           4\n",
      "                               ..\n",
      "1F9D1-1F3FC-2764-1F9D1-1F3FD    2\n",
      "1F469-1F3FF-2764-1F468-1F3FD    2\n",
      "1F9D1-1F3FD-2764-1F9D1-1F3FF    2\n",
      "1F327                           2\n",
      "2601                            2\n",
      "Name: count, Length: 1160, dtype: int64\n"
     ]
    }
   ],
   "execution_count": 135
  },
  {
   "cell_type": "code",
   "metadata": {
    "ExecuteTime": {
     "end_time": "2025-02-12T02:59:04.940163Z",
     "start_time": "2025-02-12T02:59:04.937146Z"
    }
   },
   "source": [
    "duplicate_counts = emojipedia_df['hexcode'].value_counts()\n",
    "duplicates = duplicate_counts[duplicate_counts > 1]\n",
    "print(duplicates)"
   ],
   "outputs": [
    {
     "name": "stdout",
     "output_type": "stream",
     "text": [
      "Series([], Name: count, dtype: int64)\n"
     ]
    }
   ],
   "execution_count": 136
  },
  {
   "cell_type": "code",
   "metadata": {
    "ExecuteTime": {
     "end_time": "2025-02-12T02:59:04.952439Z",
     "start_time": "2025-02-12T02:59:04.941096Z"
    }
   },
   "source": [
    "#checking duplicates on flaticon_sticker dataset\n",
    "duplicate_counts = flaticon_stickers_df['description'].value_counts()\n",
    "duplicates = duplicate_counts[duplicate_counts > 1]\n",
    "print(duplicates)"
   ],
   "outputs": [
    {
     "name": "stdout",
     "output_type": "stream",
     "text": [
      "description\n",
      "a black background with a white and red flower                                                                       941\n",
      "happy new year clipart                                                                                                29\n",
      "hello hello hello hello hello hello hello hello hello hello hello hello hello hello hello hello hello hello hello     26\n",
      "a woman doing yoga                                                                                                    21\n",
      "let let let let let let let let let let let let let let let let let let let                                           19\n",
      "                                                                                                                    ... \n",
      "you are sunshine                                                                                                       2\n",
      "a bottle with a heart inside                                                                                           2\n",
      "a rabbit riding a sc sc sc sc sc sc sc sc sc sc sc sc sc sc sc                                                         2\n",
      "the only you logo                                                                                                      2\n",
      "a woman holding a heart in her hands                                                                                   2\n",
      "Name: count, Length: 1565, dtype: int64\n"
     ]
    }
   ],
   "execution_count": 137
  },
  {
   "cell_type": "code",
   "metadata": {
    "ExecuteTime": {
     "end_time": "2025-02-12T02:59:04.960177Z",
     "start_time": "2025-02-12T02:59:04.953667Z"
    }
   },
   "source": [
    "#checking for any missing values\n",
    "missing_values = flaticon_stickers_df.isnull().sum()\n",
    "print(\"Missing values in each column:\\n\", missing_values)"
   ],
   "outputs": [
    {
     "name": "stdout",
     "output_type": "stream",
     "text": [
      "Missing values in each column:\n",
      " image             0\n",
      "title             0\n",
      "tags              0\n",
      "filename          0\n",
      "description    6902\n",
      "dtype: int64\n"
     ]
    }
   ],
   "execution_count": 138
  },
  {
   "cell_type": "code",
   "metadata": {
    "ExecuteTime": {
     "end_time": "2025-02-12T02:59:04.964850Z",
     "start_time": "2025-02-12T02:59:04.961209Z"
    }
   },
   "source": [
    "#finding if any inconsistent data types are present \n",
    "data_types = flaticon_stickers_df.dtypes\n",
    "print(\"Data types of each column:\\n\", data_types)\n"
   ],
   "outputs": [
    {
     "name": "stdout",
     "output_type": "stream",
     "text": [
      "Data types of each column:\n",
      " image          object\n",
      "title          object\n",
      "tags           object\n",
      "filename       object\n",
      "description    object\n",
      "dtype: object\n"
     ]
    }
   ],
   "execution_count": 139
  },
  {
   "cell_type": "code",
   "metadata": {
    "ExecuteTime": {
     "end_time": "2025-02-12T02:59:04.970696Z",
     "start_time": "2025-02-12T02:59:04.965906Z"
    }
   },
   "source": [
    "# Removing duplicates in the 'description' from flaticon_sticker_df\n",
    "flaticon_stickers_df = flaticon_stickers_df[~flaticon_stickers_df.duplicated(subset=['description'], keep=False)]"
   ],
   "outputs": [],
   "execution_count": 140
  },
  {
   "cell_type": "code",
   "metadata": {
    "ExecuteTime": {
     "end_time": "2025-02-12T02:59:04.978667Z",
     "start_time": "2025-02-12T02:59:04.972112Z"
    }
   },
   "source": [
    "# Checking if there are any duplicate descriptions remaining in the dataframe\n",
    "duplicate_descriptions = flaticon_stickers_df.duplicated(subset=['description'], keep=False).any()\n",
    "\n",
    "print(\"Are there duplicate descriptions?\", duplicate_descriptions)\n"
   ],
   "outputs": [
    {
     "name": "stdout",
     "output_type": "stream",
     "text": [
      "Are there duplicate descriptions? False\n"
     ]
    }
   ],
   "execution_count": 141
  },
  {
   "cell_type": "code",
   "metadata": {
    "ExecuteTime": {
     "end_time": "2025-02-12T02:59:04.986586Z",
     "start_time": "2025-02-12T02:59:04.979714Z"
    }
   },
   "source": [
    "flaticon_stickers_df.head()"
   ],
   "outputs": [
    {
     "data": {
      "text/plain": [
       "                                               image          title  \\\n",
       "2  https://cdn-icons-png.flaticon.com/512/8359/83...        Holiday   \n",
       "3  https://cdn-icons-png.flaticon.com/512/8359/83...       Lipstick   \n",
       "4  https://cdn-icons-png.flaticon.com/512/8359/83...    Mental Care   \n",
       "5  https://cdn-icons-png.flaticon.com/512/8359/83...  Tape Recorder   \n",
       "6  https://cdn-icons-png.flaticon.com/512/8360/83...        Monster   \n",
       "\n",
       "                                                tags  \\\n",
       "2   holidays, holiday, time and date, calendar, desk   \n",
       "3  birthday and party, fashion, grooming, female,...   \n",
       "4               miscellaneous, thinking, mental care   \n",
       "5  professions and jobs, music and multimedia, el...   \n",
       "6  smileys, halloween, spooky, scary, monster, te...   \n",
       "\n",
       "                               filename  \\\n",
       "2  478a953a9468c40b2ef99e81dd1b6c1b.png   \n",
       "3  ad92c2a592a552ecd70437795d3a0ac2.png   \n",
       "4  ebba19973ad7a1bd35a02e53a1f57694.png   \n",
       "5  d12308b31301697ae3095170d2a69b34.png   \n",
       "6  a8b1af8dab6afcbf3412baca6347e1fb.png   \n",
       "\n",
       "                                         description  \n",
       "2                      a pile of papers and a folder  \n",
       "3  a lipstick with a red lipstick brush and a red...  \n",
       "4  a brain with a rainbow colored circle in the m...  \n",
       "5  a cartoon cassette cassette with a cassette ca...  \n",
       "6    a cartoon monster with big eyes and a big mouth  "
      ],
      "text/html": [
       "<div>\n",
       "<style scoped>\n",
       "    .dataframe tbody tr th:only-of-type {\n",
       "        vertical-align: middle;\n",
       "    }\n",
       "\n",
       "    .dataframe tbody tr th {\n",
       "        vertical-align: top;\n",
       "    }\n",
       "\n",
       "    .dataframe thead th {\n",
       "        text-align: right;\n",
       "    }\n",
       "</style>\n",
       "<table border=\"1\" class=\"dataframe\">\n",
       "  <thead>\n",
       "    <tr style=\"text-align: right;\">\n",
       "      <th></th>\n",
       "      <th>image</th>\n",
       "      <th>title</th>\n",
       "      <th>tags</th>\n",
       "      <th>filename</th>\n",
       "      <th>description</th>\n",
       "    </tr>\n",
       "  </thead>\n",
       "  <tbody>\n",
       "    <tr>\n",
       "      <th>2</th>\n",
       "      <td>https://cdn-icons-png.flaticon.com/512/8359/83...</td>\n",
       "      <td>Holiday</td>\n",
       "      <td>holidays, holiday, time and date, calendar, desk</td>\n",
       "      <td>478a953a9468c40b2ef99e81dd1b6c1b.png</td>\n",
       "      <td>a pile of papers and a folder</td>\n",
       "    </tr>\n",
       "    <tr>\n",
       "      <th>3</th>\n",
       "      <td>https://cdn-icons-png.flaticon.com/512/8359/83...</td>\n",
       "      <td>Lipstick</td>\n",
       "      <td>birthday and party, fashion, grooming, female,...</td>\n",
       "      <td>ad92c2a592a552ecd70437795d3a0ac2.png</td>\n",
       "      <td>a lipstick with a red lipstick brush and a red...</td>\n",
       "    </tr>\n",
       "    <tr>\n",
       "      <th>4</th>\n",
       "      <td>https://cdn-icons-png.flaticon.com/512/8359/83...</td>\n",
       "      <td>Mental Care</td>\n",
       "      <td>miscellaneous, thinking, mental care</td>\n",
       "      <td>ebba19973ad7a1bd35a02e53a1f57694.png</td>\n",
       "      <td>a brain with a rainbow colored circle in the m...</td>\n",
       "    </tr>\n",
       "    <tr>\n",
       "      <th>5</th>\n",
       "      <td>https://cdn-icons-png.flaticon.com/512/8359/83...</td>\n",
       "      <td>Tape Recorder</td>\n",
       "      <td>professions and jobs, music and multimedia, el...</td>\n",
       "      <td>d12308b31301697ae3095170d2a69b34.png</td>\n",
       "      <td>a cartoon cassette cassette with a cassette ca...</td>\n",
       "    </tr>\n",
       "    <tr>\n",
       "      <th>6</th>\n",
       "      <td>https://cdn-icons-png.flaticon.com/512/8360/83...</td>\n",
       "      <td>Monster</td>\n",
       "      <td>smileys, halloween, spooky, scary, monster, te...</td>\n",
       "      <td>a8b1af8dab6afcbf3412baca6347e1fb.png</td>\n",
       "      <td>a cartoon monster with big eyes and a big mouth</td>\n",
       "    </tr>\n",
       "  </tbody>\n",
       "</table>\n",
       "</div>"
      ]
     },
     "execution_count": 142,
     "metadata": {},
     "output_type": "execute_result"
    }
   ],
   "execution_count": 142
  },
  {
   "cell_type": "code",
   "metadata": {
    "ExecuteTime": {
     "end_time": "2025-02-12T02:59:04.996630Z",
     "start_time": "2025-02-12T02:59:04.987612Z"
    }
   },
   "source": [
    "# Removing duplicates\n",
    "openmoji_df = openmoji_df[~openmoji_df.duplicated(subset=['hexcode'], keep=False)]\n",
    "llm_df = llm_df[~llm_df.duplicated(subset=['hexcode'], keep=False)]"
   ],
   "outputs": [],
   "execution_count": 143
  },
  {
   "cell_type": "code",
   "metadata": {
    "ExecuteTime": {
     "end_time": "2025-02-12T02:59:05.012169Z",
     "start_time": "2025-02-12T02:59:04.998506Z"
    }
   },
   "source": [
    "# Merge the dataframes on 'hexcode'\n",
    "merged_df = openmoji_df.merge(emojipedia_df, on='hexcode', how='outer')\n",
    "merged_df = merged_df.merge(llm_df, on='hexcode', how='outer')\n",
    "# Convert hexcode to lowercase\n",
    "merged_df['hexcode'] = merged_df['hexcode'].str.lower()"
   ],
   "outputs": [],
   "execution_count": 144
  },
  {
   "cell_type": "code",
   "metadata": {
    "ExecuteTime": {
     "end_time": "2025-02-12T02:59:05.021286Z",
     "start_time": "2025-02-12T02:59:05.013501Z"
    }
   },
   "source": [
    "merged_df.head()"
   ],
   "outputs": [
    {
     "data": {
      "text/plain": [
       "  emoji    hexcode           group     subgroups    annotation  tags_x  \\\n",
       "0   #️⃣  0023-20e3         symbols        keycap     keycap: #  keycap   \n",
       "1   *️⃣  002a-20e3         symbols        keycap     keycap: *  keycap   \n",
       "2     -       002d  extras-unicode  symbol-other  hyphen-minus     NaN   \n",
       "3   0️⃣  0030-20e3         symbols        keycap     keycap: 0  keycap   \n",
       "4   1️⃣  0031-20e3         symbols        keycap     keycap: 1  keycap   \n",
       "\n",
       "               openmoji_tags openmoji_author openmoji_date skintone  ...  \\\n",
       "0                        NaN    Selina Lange    2019-05-06      NaN  ...   \n",
       "1                        NaN    Selina Lange    2019-05-06      NaN  ...   \n",
       "2  hyphen, minus, dash, line  Robert Winslow    2022-12-24      NaN  ...   \n",
       "3                        NaN    Selina Lange    2019-05-06      NaN  ...   \n",
       "4                        NaN    Selina Lange    2019-05-06      NaN  ...   \n",
       "\n",
       "  Title DescribedBy  URL Description  Codepoints Hex character unicode_y  \\\n",
       "0   NaN         NaN  NaN         NaN             NaN       NaN       NaN   \n",
       "1   NaN         NaN  NaN         NaN             NaN       NaN       NaN   \n",
       "2   NaN         NaN  NaN         NaN             NaN       NaN       NaN   \n",
       "3   NaN         NaN  NaN         NaN             NaN       NaN       NaN   \n",
       "4   NaN         NaN  NaN         NaN             NaN       NaN       NaN   \n",
       "\n",
       "  short description tags_y LLM description  \n",
       "0               NaN    NaN             NaN  \n",
       "1               NaN    NaN             NaN  \n",
       "2               NaN    NaN             NaN  \n",
       "3               NaN    NaN             NaN  \n",
       "4               NaN    NaN             NaN  \n",
       "\n",
       "[5 rows x 28 columns]"
      ],
      "text/html": [
       "<div>\n",
       "<style scoped>\n",
       "    .dataframe tbody tr th:only-of-type {\n",
       "        vertical-align: middle;\n",
       "    }\n",
       "\n",
       "    .dataframe tbody tr th {\n",
       "        vertical-align: top;\n",
       "    }\n",
       "\n",
       "    .dataframe thead th {\n",
       "        text-align: right;\n",
       "    }\n",
       "</style>\n",
       "<table border=\"1\" class=\"dataframe\">\n",
       "  <thead>\n",
       "    <tr style=\"text-align: right;\">\n",
       "      <th></th>\n",
       "      <th>emoji</th>\n",
       "      <th>hexcode</th>\n",
       "      <th>group</th>\n",
       "      <th>subgroups</th>\n",
       "      <th>annotation</th>\n",
       "      <th>tags_x</th>\n",
       "      <th>openmoji_tags</th>\n",
       "      <th>openmoji_author</th>\n",
       "      <th>openmoji_date</th>\n",
       "      <th>skintone</th>\n",
       "      <th>...</th>\n",
       "      <th>Title</th>\n",
       "      <th>DescribedBy</th>\n",
       "      <th>URL</th>\n",
       "      <th>Description</th>\n",
       "      <th>Codepoints Hex</th>\n",
       "      <th>character</th>\n",
       "      <th>unicode_y</th>\n",
       "      <th>short description</th>\n",
       "      <th>tags_y</th>\n",
       "      <th>LLM description</th>\n",
       "    </tr>\n",
       "  </thead>\n",
       "  <tbody>\n",
       "    <tr>\n",
       "      <th>0</th>\n",
       "      <td>#️⃣</td>\n",
       "      <td>0023-20e3</td>\n",
       "      <td>symbols</td>\n",
       "      <td>keycap</td>\n",
       "      <td>keycap: #</td>\n",
       "      <td>keycap</td>\n",
       "      <td>NaN</td>\n",
       "      <td>Selina Lange</td>\n",
       "      <td>2019-05-06</td>\n",
       "      <td>NaN</td>\n",
       "      <td>...</td>\n",
       "      <td>NaN</td>\n",
       "      <td>NaN</td>\n",
       "      <td>NaN</td>\n",
       "      <td>NaN</td>\n",
       "      <td>NaN</td>\n",
       "      <td>NaN</td>\n",
       "      <td>NaN</td>\n",
       "      <td>NaN</td>\n",
       "      <td>NaN</td>\n",
       "      <td>NaN</td>\n",
       "    </tr>\n",
       "    <tr>\n",
       "      <th>1</th>\n",
       "      <td>*️⃣</td>\n",
       "      <td>002a-20e3</td>\n",
       "      <td>symbols</td>\n",
       "      <td>keycap</td>\n",
       "      <td>keycap: *</td>\n",
       "      <td>keycap</td>\n",
       "      <td>NaN</td>\n",
       "      <td>Selina Lange</td>\n",
       "      <td>2019-05-06</td>\n",
       "      <td>NaN</td>\n",
       "      <td>...</td>\n",
       "      <td>NaN</td>\n",
       "      <td>NaN</td>\n",
       "      <td>NaN</td>\n",
       "      <td>NaN</td>\n",
       "      <td>NaN</td>\n",
       "      <td>NaN</td>\n",
       "      <td>NaN</td>\n",
       "      <td>NaN</td>\n",
       "      <td>NaN</td>\n",
       "      <td>NaN</td>\n",
       "    </tr>\n",
       "    <tr>\n",
       "      <th>2</th>\n",
       "      <td>-</td>\n",
       "      <td>002d</td>\n",
       "      <td>extras-unicode</td>\n",
       "      <td>symbol-other</td>\n",
       "      <td>hyphen-minus</td>\n",
       "      <td>NaN</td>\n",
       "      <td>hyphen, minus, dash, line</td>\n",
       "      <td>Robert Winslow</td>\n",
       "      <td>2022-12-24</td>\n",
       "      <td>NaN</td>\n",
       "      <td>...</td>\n",
       "      <td>NaN</td>\n",
       "      <td>NaN</td>\n",
       "      <td>NaN</td>\n",
       "      <td>NaN</td>\n",
       "      <td>NaN</td>\n",
       "      <td>NaN</td>\n",
       "      <td>NaN</td>\n",
       "      <td>NaN</td>\n",
       "      <td>NaN</td>\n",
       "      <td>NaN</td>\n",
       "    </tr>\n",
       "    <tr>\n",
       "      <th>3</th>\n",
       "      <td>0️⃣</td>\n",
       "      <td>0030-20e3</td>\n",
       "      <td>symbols</td>\n",
       "      <td>keycap</td>\n",
       "      <td>keycap: 0</td>\n",
       "      <td>keycap</td>\n",
       "      <td>NaN</td>\n",
       "      <td>Selina Lange</td>\n",
       "      <td>2019-05-06</td>\n",
       "      <td>NaN</td>\n",
       "      <td>...</td>\n",
       "      <td>NaN</td>\n",
       "      <td>NaN</td>\n",
       "      <td>NaN</td>\n",
       "      <td>NaN</td>\n",
       "      <td>NaN</td>\n",
       "      <td>NaN</td>\n",
       "      <td>NaN</td>\n",
       "      <td>NaN</td>\n",
       "      <td>NaN</td>\n",
       "      <td>NaN</td>\n",
       "    </tr>\n",
       "    <tr>\n",
       "      <th>4</th>\n",
       "      <td>1️⃣</td>\n",
       "      <td>0031-20e3</td>\n",
       "      <td>symbols</td>\n",
       "      <td>keycap</td>\n",
       "      <td>keycap: 1</td>\n",
       "      <td>keycap</td>\n",
       "      <td>NaN</td>\n",
       "      <td>Selina Lange</td>\n",
       "      <td>2019-05-06</td>\n",
       "      <td>NaN</td>\n",
       "      <td>...</td>\n",
       "      <td>NaN</td>\n",
       "      <td>NaN</td>\n",
       "      <td>NaN</td>\n",
       "      <td>NaN</td>\n",
       "      <td>NaN</td>\n",
       "      <td>NaN</td>\n",
       "      <td>NaN</td>\n",
       "      <td>NaN</td>\n",
       "      <td>NaN</td>\n",
       "      <td>NaN</td>\n",
       "    </tr>\n",
       "  </tbody>\n",
       "</table>\n",
       "<p>5 rows × 28 columns</p>\n",
       "</div>"
      ]
     },
     "execution_count": 145,
     "metadata": {},
     "output_type": "execute_result"
    }
   ],
   "execution_count": 145
  },
  {
   "cell_type": "code",
   "metadata": {
    "ExecuteTime": {
     "end_time": "2025-02-12T02:59:05.031856Z",
     "start_time": "2025-02-12T02:59:05.023091Z"
    }
   },
   "source": [
    "merged_df.info()"
   ],
   "outputs": [
    {
     "name": "stdout",
     "output_type": "stream",
     "text": [
      "<class 'pandas.core.frame.DataFrame'>\n",
      "RangeIndex: 4298 entries, 0 to 4297\n",
      "Data columns (total 28 columns):\n",
      " #   Column                 Non-Null Count  Dtype  \n",
      "---  ------                 --------------  -----  \n",
      " 0   emoji                  4282 non-null   object \n",
      " 1   hexcode                4298 non-null   object \n",
      " 2   group                  4282 non-null   object \n",
      " 3   subgroups              4282 non-null   object \n",
      " 4   annotation             4282 non-null   object \n",
      " 5   tags_x                 1906 non-null   object \n",
      " 6   openmoji_tags          391 non-null    object \n",
      " 7   openmoji_author        4282 non-null   object \n",
      " 8   openmoji_date          4282 non-null   object \n",
      " 9   skintone               1875 non-null   object \n",
      " 10  skintone_combination   2198 non-null   object \n",
      " 11  skintone_base_emoji    2198 non-null   object \n",
      " 12  skintone_base_hexcode  2198 non-null   object \n",
      " 13  unicode_x              3902 non-null   object \n",
      " 14  order                  3781 non-null   float64\n",
      " 15  Group                  1885 non-null   object \n",
      " 16  Subgroup               1885 non-null   object \n",
      " 17  Emoji                  1885 non-null   object \n",
      " 18  Title                  1885 non-null   object \n",
      " 19  DescribedBy            1885 non-null   object \n",
      " 20  URL                    1885 non-null   object \n",
      " 21  Description            1885 non-null   object \n",
      " 22  Codepoints Hex         1885 non-null   object \n",
      " 23  character              2622 non-null   object \n",
      " 24  unicode_y              2622 non-null   object \n",
      " 25  short description      2622 non-null   object \n",
      " 26  tags_y                 2622 non-null   object \n",
      " 27  LLM description        2622 non-null   object \n",
      "dtypes: float64(1), object(27)\n",
      "memory usage: 940.3+ KB\n"
     ]
    }
   ],
   "execution_count": 146
  },
  {
   "cell_type": "code",
   "metadata": {
    "ExecuteTime": {
     "end_time": "2025-02-12T02:59:05.046067Z",
     "start_time": "2025-02-12T02:59:05.037446Z"
    }
   },
   "source": [
    "# Select and rename required columns\n",
    "final_df = merged_df.copy()\n",
    "final_df = final_df[['emoji', 'hexcode', 'annotation', 'tags_x', 'openmoji_tags', 'Description', 'tags_y', 'LLM description']]\n",
    "final_df.columns = [\n",
    "    'emoji', 'hexcode', 'openmoji_annotation', 'openmoji_tags_1', 'openmoji_tags_2', 'emojipedia_description', 'llm_tags', 'llm_description'\n",
    "]"
   ],
   "outputs": [],
   "execution_count": 147
  },
  {
   "cell_type": "code",
   "metadata": {
    "ExecuteTime": {
     "end_time": "2025-02-12T02:59:05.054273Z",
     "start_time": "2025-02-12T02:59:05.047247Z"
    }
   },
   "source": [
    "final_df.head()"
   ],
   "outputs": [
    {
     "data": {
      "text/plain": [
       "  emoji    hexcode openmoji_annotation openmoji_tags_1  \\\n",
       "0   #️⃣  0023-20e3           keycap: #          keycap   \n",
       "1   *️⃣  002a-20e3           keycap: *          keycap   \n",
       "2     -       002d        hyphen-minus             NaN   \n",
       "3   0️⃣  0030-20e3           keycap: 0          keycap   \n",
       "4   1️⃣  0031-20e3           keycap: 1          keycap   \n",
       "\n",
       "             openmoji_tags_2 emojipedia_description llm_tags llm_description  \n",
       "0                        NaN                    NaN      NaN             NaN  \n",
       "1                        NaN                    NaN      NaN             NaN  \n",
       "2  hyphen, minus, dash, line                    NaN      NaN             NaN  \n",
       "3                        NaN                    NaN      NaN             NaN  \n",
       "4                        NaN                    NaN      NaN             NaN  "
      ],
      "text/html": [
       "<div>\n",
       "<style scoped>\n",
       "    .dataframe tbody tr th:only-of-type {\n",
       "        vertical-align: middle;\n",
       "    }\n",
       "\n",
       "    .dataframe tbody tr th {\n",
       "        vertical-align: top;\n",
       "    }\n",
       "\n",
       "    .dataframe thead th {\n",
       "        text-align: right;\n",
       "    }\n",
       "</style>\n",
       "<table border=\"1\" class=\"dataframe\">\n",
       "  <thead>\n",
       "    <tr style=\"text-align: right;\">\n",
       "      <th></th>\n",
       "      <th>emoji</th>\n",
       "      <th>hexcode</th>\n",
       "      <th>openmoji_annotation</th>\n",
       "      <th>openmoji_tags_1</th>\n",
       "      <th>openmoji_tags_2</th>\n",
       "      <th>emojipedia_description</th>\n",
       "      <th>llm_tags</th>\n",
       "      <th>llm_description</th>\n",
       "    </tr>\n",
       "  </thead>\n",
       "  <tbody>\n",
       "    <tr>\n",
       "      <th>0</th>\n",
       "      <td>#️⃣</td>\n",
       "      <td>0023-20e3</td>\n",
       "      <td>keycap: #</td>\n",
       "      <td>keycap</td>\n",
       "      <td>NaN</td>\n",
       "      <td>NaN</td>\n",
       "      <td>NaN</td>\n",
       "      <td>NaN</td>\n",
       "    </tr>\n",
       "    <tr>\n",
       "      <th>1</th>\n",
       "      <td>*️⃣</td>\n",
       "      <td>002a-20e3</td>\n",
       "      <td>keycap: *</td>\n",
       "      <td>keycap</td>\n",
       "      <td>NaN</td>\n",
       "      <td>NaN</td>\n",
       "      <td>NaN</td>\n",
       "      <td>NaN</td>\n",
       "    </tr>\n",
       "    <tr>\n",
       "      <th>2</th>\n",
       "      <td>-</td>\n",
       "      <td>002d</td>\n",
       "      <td>hyphen-minus</td>\n",
       "      <td>NaN</td>\n",
       "      <td>hyphen, minus, dash, line</td>\n",
       "      <td>NaN</td>\n",
       "      <td>NaN</td>\n",
       "      <td>NaN</td>\n",
       "    </tr>\n",
       "    <tr>\n",
       "      <th>3</th>\n",
       "      <td>0️⃣</td>\n",
       "      <td>0030-20e3</td>\n",
       "      <td>keycap: 0</td>\n",
       "      <td>keycap</td>\n",
       "      <td>NaN</td>\n",
       "      <td>NaN</td>\n",
       "      <td>NaN</td>\n",
       "      <td>NaN</td>\n",
       "    </tr>\n",
       "    <tr>\n",
       "      <th>4</th>\n",
       "      <td>1️⃣</td>\n",
       "      <td>0031-20e3</td>\n",
       "      <td>keycap: 1</td>\n",
       "      <td>keycap</td>\n",
       "      <td>NaN</td>\n",
       "      <td>NaN</td>\n",
       "      <td>NaN</td>\n",
       "      <td>NaN</td>\n",
       "    </tr>\n",
       "  </tbody>\n",
       "</table>\n",
       "</div>"
      ]
     },
     "execution_count": 148,
     "metadata": {},
     "output_type": "execute_result"
    }
   ],
   "execution_count": 148
  },
  {
   "cell_type": "code",
   "metadata": {
    "ExecuteTime": {
     "end_time": "2025-02-12T02:59:05.059296Z",
     "start_time": "2025-02-12T02:59:05.055402Z"
    }
   },
   "source": [
    "final_flaticon_stickers_df = flaticon_stickers_df.copy()\n",
    "final_flaticon_stickers_df = flaticon_stickers_df[['image', 'title', 'tags', 'filename', 'description']]\n",
    "final_flaticon_stickers_df.columns = [ 'flaticon_image', 'flaticon_title', 'flaticon_tags', 'flaticon_filename', 'flaticon_description']"
   ],
   "outputs": [],
   "execution_count": 149
  },
  {
   "cell_type": "code",
   "metadata": {
    "ExecuteTime": {
     "end_time": "2025-02-12T02:59:05.066028Z",
     "start_time": "2025-02-12T02:59:05.060711Z"
    }
   },
   "source": [
    "final_flaticon_stickers_df.head()"
   ],
   "outputs": [
    {
     "data": {
      "text/plain": [
       "                                      flaticon_image flaticon_title  \\\n",
       "2  https://cdn-icons-png.flaticon.com/512/8359/83...        Holiday   \n",
       "3  https://cdn-icons-png.flaticon.com/512/8359/83...       Lipstick   \n",
       "4  https://cdn-icons-png.flaticon.com/512/8359/83...    Mental Care   \n",
       "5  https://cdn-icons-png.flaticon.com/512/8359/83...  Tape Recorder   \n",
       "6  https://cdn-icons-png.flaticon.com/512/8360/83...        Monster   \n",
       "\n",
       "                                       flaticon_tags  \\\n",
       "2   holidays, holiday, time and date, calendar, desk   \n",
       "3  birthday and party, fashion, grooming, female,...   \n",
       "4               miscellaneous, thinking, mental care   \n",
       "5  professions and jobs, music and multimedia, el...   \n",
       "6  smileys, halloween, spooky, scary, monster, te...   \n",
       "\n",
       "                      flaticon_filename  \\\n",
       "2  478a953a9468c40b2ef99e81dd1b6c1b.png   \n",
       "3  ad92c2a592a552ecd70437795d3a0ac2.png   \n",
       "4  ebba19973ad7a1bd35a02e53a1f57694.png   \n",
       "5  d12308b31301697ae3095170d2a69b34.png   \n",
       "6  a8b1af8dab6afcbf3412baca6347e1fb.png   \n",
       "\n",
       "                                flaticon_description  \n",
       "2                      a pile of papers and a folder  \n",
       "3  a lipstick with a red lipstick brush and a red...  \n",
       "4  a brain with a rainbow colored circle in the m...  \n",
       "5  a cartoon cassette cassette with a cassette ca...  \n",
       "6    a cartoon monster with big eyes and a big mouth  "
      ],
      "text/html": [
       "<div>\n",
       "<style scoped>\n",
       "    .dataframe tbody tr th:only-of-type {\n",
       "        vertical-align: middle;\n",
       "    }\n",
       "\n",
       "    .dataframe tbody tr th {\n",
       "        vertical-align: top;\n",
       "    }\n",
       "\n",
       "    .dataframe thead th {\n",
       "        text-align: right;\n",
       "    }\n",
       "</style>\n",
       "<table border=\"1\" class=\"dataframe\">\n",
       "  <thead>\n",
       "    <tr style=\"text-align: right;\">\n",
       "      <th></th>\n",
       "      <th>flaticon_image</th>\n",
       "      <th>flaticon_title</th>\n",
       "      <th>flaticon_tags</th>\n",
       "      <th>flaticon_filename</th>\n",
       "      <th>flaticon_description</th>\n",
       "    </tr>\n",
       "  </thead>\n",
       "  <tbody>\n",
       "    <tr>\n",
       "      <th>2</th>\n",
       "      <td>https://cdn-icons-png.flaticon.com/512/8359/83...</td>\n",
       "      <td>Holiday</td>\n",
       "      <td>holidays, holiday, time and date, calendar, desk</td>\n",
       "      <td>478a953a9468c40b2ef99e81dd1b6c1b.png</td>\n",
       "      <td>a pile of papers and a folder</td>\n",
       "    </tr>\n",
       "    <tr>\n",
       "      <th>3</th>\n",
       "      <td>https://cdn-icons-png.flaticon.com/512/8359/83...</td>\n",
       "      <td>Lipstick</td>\n",
       "      <td>birthday and party, fashion, grooming, female,...</td>\n",
       "      <td>ad92c2a592a552ecd70437795d3a0ac2.png</td>\n",
       "      <td>a lipstick with a red lipstick brush and a red...</td>\n",
       "    </tr>\n",
       "    <tr>\n",
       "      <th>4</th>\n",
       "      <td>https://cdn-icons-png.flaticon.com/512/8359/83...</td>\n",
       "      <td>Mental Care</td>\n",
       "      <td>miscellaneous, thinking, mental care</td>\n",
       "      <td>ebba19973ad7a1bd35a02e53a1f57694.png</td>\n",
       "      <td>a brain with a rainbow colored circle in the m...</td>\n",
       "    </tr>\n",
       "    <tr>\n",
       "      <th>5</th>\n",
       "      <td>https://cdn-icons-png.flaticon.com/512/8359/83...</td>\n",
       "      <td>Tape Recorder</td>\n",
       "      <td>professions and jobs, music and multimedia, el...</td>\n",
       "      <td>d12308b31301697ae3095170d2a69b34.png</td>\n",
       "      <td>a cartoon cassette cassette with a cassette ca...</td>\n",
       "    </tr>\n",
       "    <tr>\n",
       "      <th>6</th>\n",
       "      <td>https://cdn-icons-png.flaticon.com/512/8360/83...</td>\n",
       "      <td>Monster</td>\n",
       "      <td>smileys, halloween, spooky, scary, monster, te...</td>\n",
       "      <td>a8b1af8dab6afcbf3412baca6347e1fb.png</td>\n",
       "      <td>a cartoon monster with big eyes and a big mouth</td>\n",
       "    </tr>\n",
       "  </tbody>\n",
       "</table>\n",
       "</div>"
      ]
     },
     "execution_count": 150,
     "metadata": {},
     "output_type": "execute_result"
    }
   ],
   "execution_count": 150
  },
  {
   "cell_type": "markdown",
   "metadata": {},
   "source": [
    "## Handling Tags and Descriptions"
   ]
  },
  {
   "cell_type": "code",
   "metadata": {
    "ExecuteTime": {
     "end_time": "2025-02-12T02:59:05.071840Z",
     "start_time": "2025-02-12T02:59:05.066855Z"
    }
   },
   "source": [
    "def clean_text(text):\n",
    "    if not isinstance(text, str) or pd.isna(text) or text.strip().lower() == \"nan\":  \n",
    "        return \"\"  # Return empty string for NaN or \"nan\" strings\n",
    "    text = text.lower().strip() # Convert to lowercase and remove unnecessary spaces\n",
    "    # Keep only letters, numbers, spaces, * and #\n",
    "    text = re.sub(r'[^a-z0-9\\s*#]', '', text)\n",
    "    # Tokenize the text\n",
    "    tokens = word_tokenize(text)\n",
    "    # Remove stop words\n",
    "    tokens = [word for word in tokens if word not in stopwords.words('english')]\n",
    "    # Lemmatize the tokens\n",
    "    # lemmatizer = WordNetLemmatizer()\n",
    "    # tokens = [lemmatizer.lemmatize(word) for word in tokens]\n",
    "    return ', '.join(tokens)\n",
    "\n",
    "def remove_duplicates(text):\n",
    "    words = [word.strip() for word in text.split(\",\")]  # Split by commas and strip spaces\n",
    "    unique_words = sorted(set(word.strip() for word in text.split(\",\")))\n",
    "    return ', '.join(unique_words)  # Join back into a string"
   ],
   "outputs": [],
   "execution_count": 151
  },
  {
   "cell_type": "code",
   "metadata": {
    "ExecuteTime": {
     "end_time": "2025-02-12T02:59:06.237728Z",
     "start_time": "2025-02-12T02:59:05.072859Z"
    }
   },
   "source": [
    "# Clean openmoji_annotation column\n",
    "final_df[\"cleaned_annotations\"] = final_df[\"openmoji_annotation\"].progress_apply(clean_text)\n",
    "# Clean llm_tags\n",
    "final_df[\"cleaned_llm_tags\"] = final_df[\"llm_tags\"].progress_apply(clean_text)\n",
    "\n",
    "# List of columns to merge\n",
    "columns_to_merge = [\"cleaned_annotations\", \"openmoji_tags_1\", \"openmoji_tags_2\", \"cleaned_llm_tags\"]\n",
    "\n",
    "# Fill NaN with empty strings, then merge columns\n",
    "final_df[\"merged_tags\"] = final_df[columns_to_merge].fillna(\"\").agg(\n",
    "    lambda x: \", \".join(filter(None, map(str, x))), axis=1\n",
    ")"
   ],
   "outputs": [
    {
     "name": "stderr",
     "output_type": "stream",
     "text": [
      "100%|██████████| 4298/4298 [00:01<00:00, 3765.47it/s]\n",
      "100%|██████████| 4298/4298 [00:00<00:00, 1266749.95it/s]\n"
     ]
    }
   ],
   "execution_count": 152
  },
  {
   "cell_type": "code",
   "metadata": {
    "ExecuteTime": {
     "end_time": "2025-02-12T02:59:06.252397Z",
     "start_time": "2025-02-12T02:59:06.239279Z"
    }
   },
   "source": [
    "# Remove duplicates\n",
    "final_df[\"final_tags\"] = final_df[\"merged_tags\"].progress_apply(remove_duplicates)"
   ],
   "outputs": [
    {
     "name": "stderr",
     "output_type": "stream",
     "text": [
      "100%|██████████| 4298/4298 [00:00<00:00, 491135.23it/s]\n"
     ]
    }
   ],
   "execution_count": 153
  },
  {
   "cell_type": "code",
   "metadata": {
    "ExecuteTime": {
     "end_time": "2025-02-12T02:59:06.276132Z",
     "start_time": "2025-02-12T02:59:06.257844Z"
    }
   },
   "source": [
    "# Limiting only 2 sentences because the content is too long with too many references to other emoji, which might be more confusing later for the model to learn.\n",
    "\n",
    "\"\"\"\n",
    "Reference: Chat-GPT-4o\n",
    "Prompt: My df_images has a emojipedia_description column. Only keep the first two sentences in the column and remove the rest.\n",
    "\"\"\"\n",
    "# Function to keep only the first two sentences\n",
    "def keep_first_two_sentences(description):\n",
    "    if pd.isna(description):  # Handle missing values (NaNs)\n",
    "        return description\n",
    "    sentences = re.split(r'(?<=[.!?]) +', description.strip())  # Split by sentence-ending punctuation (., !, ?)\n",
    "    return ' '.join(sentences[:2])  # Return only the first two sentences\n",
    "\n",
    "# Apply the function to the 'llm_description' column\n",
    "final_df['emojipedia_description'] = final_df['emojipedia_description'].progress_apply(keep_first_two_sentences)"
   ],
   "outputs": [
    {
     "name": "stderr",
     "output_type": "stream",
     "text": [
      "100%|██████████| 4298/4298 [00:00<00:00, 315357.89it/s]\n"
     ]
    }
   ],
   "execution_count": 154
  },
  {
   "cell_type": "code",
   "metadata": {
    "ExecuteTime": {
     "end_time": "2025-02-12T02:59:06.282907Z",
     "start_time": "2025-02-12T02:59:06.277605Z"
    }
   },
   "source": [
    "final_df.head()"
   ],
   "outputs": [
    {
     "data": {
      "text/plain": [
       "  emoji    hexcode openmoji_annotation openmoji_tags_1  \\\n",
       "0   #️⃣  0023-20e3           keycap: #          keycap   \n",
       "1   *️⃣  002a-20e3           keycap: *          keycap   \n",
       "2     -       002d        hyphen-minus             NaN   \n",
       "3   0️⃣  0030-20e3           keycap: 0          keycap   \n",
       "4   1️⃣  0031-20e3           keycap: 1          keycap   \n",
       "\n",
       "             openmoji_tags_2 emojipedia_description llm_tags llm_description  \\\n",
       "0                        NaN                    NaN      NaN             NaN   \n",
       "1                        NaN                    NaN      NaN             NaN   \n",
       "2  hyphen, minus, dash, line                    NaN      NaN             NaN   \n",
       "3                        NaN                    NaN      NaN             NaN   \n",
       "4                        NaN                    NaN      NaN             NaN   \n",
       "\n",
       "  cleaned_annotations cleaned_llm_tags  \\\n",
       "0           keycap, #                    \n",
       "1           keycap, *                    \n",
       "2         hyphenminus                    \n",
       "3           keycap, 0                    \n",
       "4           keycap, 1                    \n",
       "\n",
       "                              merged_tags  \\\n",
       "0                       keycap, #, keycap   \n",
       "1                       keycap, *, keycap   \n",
       "2  hyphenminus, hyphen, minus, dash, line   \n",
       "3                       keycap, 0, keycap   \n",
       "4                       keycap, 1, keycap   \n",
       "\n",
       "                               final_tags  \n",
       "0                               #, keycap  \n",
       "1                               *, keycap  \n",
       "2  dash, hyphen, hyphenminus, line, minus  \n",
       "3                               0, keycap  \n",
       "4                               1, keycap  "
      ],
      "text/html": [
       "<div>\n",
       "<style scoped>\n",
       "    .dataframe tbody tr th:only-of-type {\n",
       "        vertical-align: middle;\n",
       "    }\n",
       "\n",
       "    .dataframe tbody tr th {\n",
       "        vertical-align: top;\n",
       "    }\n",
       "\n",
       "    .dataframe thead th {\n",
       "        text-align: right;\n",
       "    }\n",
       "</style>\n",
       "<table border=\"1\" class=\"dataframe\">\n",
       "  <thead>\n",
       "    <tr style=\"text-align: right;\">\n",
       "      <th></th>\n",
       "      <th>emoji</th>\n",
       "      <th>hexcode</th>\n",
       "      <th>openmoji_annotation</th>\n",
       "      <th>openmoji_tags_1</th>\n",
       "      <th>openmoji_tags_2</th>\n",
       "      <th>emojipedia_description</th>\n",
       "      <th>llm_tags</th>\n",
       "      <th>llm_description</th>\n",
       "      <th>cleaned_annotations</th>\n",
       "      <th>cleaned_llm_tags</th>\n",
       "      <th>merged_tags</th>\n",
       "      <th>final_tags</th>\n",
       "    </tr>\n",
       "  </thead>\n",
       "  <tbody>\n",
       "    <tr>\n",
       "      <th>0</th>\n",
       "      <td>#️⃣</td>\n",
       "      <td>0023-20e3</td>\n",
       "      <td>keycap: #</td>\n",
       "      <td>keycap</td>\n",
       "      <td>NaN</td>\n",
       "      <td>NaN</td>\n",
       "      <td>NaN</td>\n",
       "      <td>NaN</td>\n",
       "      <td>keycap, #</td>\n",
       "      <td></td>\n",
       "      <td>keycap, #, keycap</td>\n",
       "      <td>#, keycap</td>\n",
       "    </tr>\n",
       "    <tr>\n",
       "      <th>1</th>\n",
       "      <td>*️⃣</td>\n",
       "      <td>002a-20e3</td>\n",
       "      <td>keycap: *</td>\n",
       "      <td>keycap</td>\n",
       "      <td>NaN</td>\n",
       "      <td>NaN</td>\n",
       "      <td>NaN</td>\n",
       "      <td>NaN</td>\n",
       "      <td>keycap, *</td>\n",
       "      <td></td>\n",
       "      <td>keycap, *, keycap</td>\n",
       "      <td>*, keycap</td>\n",
       "    </tr>\n",
       "    <tr>\n",
       "      <th>2</th>\n",
       "      <td>-</td>\n",
       "      <td>002d</td>\n",
       "      <td>hyphen-minus</td>\n",
       "      <td>NaN</td>\n",
       "      <td>hyphen, minus, dash, line</td>\n",
       "      <td>NaN</td>\n",
       "      <td>NaN</td>\n",
       "      <td>NaN</td>\n",
       "      <td>hyphenminus</td>\n",
       "      <td></td>\n",
       "      <td>hyphenminus, hyphen, minus, dash, line</td>\n",
       "      <td>dash, hyphen, hyphenminus, line, minus</td>\n",
       "    </tr>\n",
       "    <tr>\n",
       "      <th>3</th>\n",
       "      <td>0️⃣</td>\n",
       "      <td>0030-20e3</td>\n",
       "      <td>keycap: 0</td>\n",
       "      <td>keycap</td>\n",
       "      <td>NaN</td>\n",
       "      <td>NaN</td>\n",
       "      <td>NaN</td>\n",
       "      <td>NaN</td>\n",
       "      <td>keycap, 0</td>\n",
       "      <td></td>\n",
       "      <td>keycap, 0, keycap</td>\n",
       "      <td>0, keycap</td>\n",
       "    </tr>\n",
       "    <tr>\n",
       "      <th>4</th>\n",
       "      <td>1️⃣</td>\n",
       "      <td>0031-20e3</td>\n",
       "      <td>keycap: 1</td>\n",
       "      <td>keycap</td>\n",
       "      <td>NaN</td>\n",
       "      <td>NaN</td>\n",
       "      <td>NaN</td>\n",
       "      <td>NaN</td>\n",
       "      <td>keycap, 1</td>\n",
       "      <td></td>\n",
       "      <td>keycap, 1, keycap</td>\n",
       "      <td>1, keycap</td>\n",
       "    </tr>\n",
       "  </tbody>\n",
       "</table>\n",
       "</div>"
      ]
     },
     "execution_count": 155,
     "metadata": {},
     "output_type": "execute_result"
    }
   ],
   "execution_count": 155
  },
  {
   "cell_type": "code",
   "metadata": {
    "ExecuteTime": {
     "end_time": "2025-02-12T02:59:06.290813Z",
     "start_time": "2025-02-12T02:59:06.284411Z"
    }
   },
   "source": [
    "final_df.info()"
   ],
   "outputs": [
    {
     "name": "stdout",
     "output_type": "stream",
     "text": [
      "<class 'pandas.core.frame.DataFrame'>\n",
      "RangeIndex: 4298 entries, 0 to 4297\n",
      "Data columns (total 12 columns):\n",
      " #   Column                  Non-Null Count  Dtype \n",
      "---  ------                  --------------  ----- \n",
      " 0   emoji                   4282 non-null   object\n",
      " 1   hexcode                 4298 non-null   object\n",
      " 2   openmoji_annotation     4282 non-null   object\n",
      " 3   openmoji_tags_1         1906 non-null   object\n",
      " 4   openmoji_tags_2         391 non-null    object\n",
      " 5   emojipedia_description  1885 non-null   object\n",
      " 6   llm_tags                2622 non-null   object\n",
      " 7   llm_description         2622 non-null   object\n",
      " 8   cleaned_annotations     4298 non-null   object\n",
      " 9   cleaned_llm_tags        4298 non-null   object\n",
      " 10  merged_tags             4298 non-null   object\n",
      " 11  final_tags              4298 non-null   object\n",
      "dtypes: object(12)\n",
      "memory usage: 403.1+ KB\n"
     ]
    }
   ],
   "execution_count": 156
  },
  {
   "cell_type": "markdown",
   "metadata": {},
   "source": [
    "## Embedding using Sentence BERT"
   ]
  },
  {
   "cell_type": "code",
   "metadata": {
    "ExecuteTime": {
     "end_time": "2025-02-12T02:59:06.326477Z",
     "start_time": "2025-02-12T02:59:06.292125Z"
    }
   },
   "source": [
    "# Use GPU if available\n",
    "\"\"\"\n",
    "Reference: https://pytorch.org/get-started/locally/\n",
    "\"\"\"\n",
    "\n",
    "# Check for NVIDIA GPU\n",
    "if torch.cuda.is_available():\n",
    "    device = torch.device(\"cuda\")  # Use CUDA (NVIDIA GPU)\n",
    "    print(\"Using NVIDIA GPU (CUDA)\")\n",
    "\n",
    "# Check for Mac Silicon GPU (MPS)\n",
    "elif torch.backends.mps.is_available():\n",
    "    device = torch.device(\"mps\")  # Use Metal Performance Shaders (Mac Silicon GPU)\n",
    "    print(\"Using Mac GPU (MPS)\")\n",
    "\n",
    "# Default to CPU if no GPU is available\n",
    "else:\n",
    "    device = torch.device(\"cpu\")\n",
    "    print(\"Using CPU\")"
   ],
   "outputs": [
    {
     "name": "stdout",
     "output_type": "stream",
     "text": [
      "Using Mac GPU (MPS)\n"
     ]
    }
   ],
   "execution_count": 157
  },
  {
   "cell_type": "code",
   "metadata": {
    "ExecuteTime": {
     "end_time": "2025-02-12T02:59:11.357265Z",
     "start_time": "2025-02-12T02:59:06.327355Z"
    }
   },
   "source": [
    "# Load SBERT model\n",
    "sbert_model = SentenceTransformer('all-MiniLM-L6-v2')\n",
    "sbert_model = sbert_model.to(device)\n",
    "\n",
    "# Ensure text columns are strings\n",
    "# final_df[\"emojipedia_description\"] = final_df[\"emojipedia_description\"].fillna(\"\").astype(str)\n",
    "# final_df[\"llm_description\"] = final_df[\"llm_description\"].fillna(\"\").astype(str)\n",
    "\n",
    "# Return SBERT embedding for a given text.\n",
    "def embed_text(text):\n",
    "    if pd.isna(text) or text.strip() == \"\":\n",
    "        return np.zeros(384)  # Return zero vector for missing values (SBERT output size = 384)\n",
    "    return sbert_model.encode(text)"
   ],
   "outputs": [
    {
     "data": {
      "text/plain": [
       "modules.json:   0%|          | 0.00/349 [00:00<?, ?B/s]"
      ],
      "application/vnd.jupyter.widget-view+json": {
       "version_major": 2,
       "version_minor": 0,
       "model_id": "05b3879224df4ebb81bf3fbf980f8023"
      }
     },
     "metadata": {},
     "output_type": "display_data"
    },
    {
     "data": {
      "text/plain": [
       "config_sentence_transformers.json:   0%|          | 0.00/116 [00:00<?, ?B/s]"
      ],
      "application/vnd.jupyter.widget-view+json": {
       "version_major": 2,
       "version_minor": 0,
       "model_id": "00fce2012e3548008c4b09dea002a5dc"
      }
     },
     "metadata": {},
     "output_type": "display_data"
    },
    {
     "data": {
      "text/plain": [
       "README.md:   0%|          | 0.00/10.7k [00:00<?, ?B/s]"
      ],
      "application/vnd.jupyter.widget-view+json": {
       "version_major": 2,
       "version_minor": 0,
       "model_id": "03201020d3234e7a93227da478f5b1f2"
      }
     },
     "metadata": {},
     "output_type": "display_data"
    },
    {
     "data": {
      "text/plain": [
       "sentence_bert_config.json:   0%|          | 0.00/53.0 [00:00<?, ?B/s]"
      ],
      "application/vnd.jupyter.widget-view+json": {
       "version_major": 2,
       "version_minor": 0,
       "model_id": "8f9e587054134ab384677cb3c9cdd5e8"
      }
     },
     "metadata": {},
     "output_type": "display_data"
    },
    {
     "data": {
      "text/plain": [
       "config.json:   0%|          | 0.00/612 [00:00<?, ?B/s]"
      ],
      "application/vnd.jupyter.widget-view+json": {
       "version_major": 2,
       "version_minor": 0,
       "model_id": "707f27b04fd643898945249f520829ec"
      }
     },
     "metadata": {},
     "output_type": "display_data"
    },
    {
     "data": {
      "text/plain": [
       "model.safetensors:   0%|          | 0.00/90.9M [00:00<?, ?B/s]"
      ],
      "application/vnd.jupyter.widget-view+json": {
       "version_major": 2,
       "version_minor": 0,
       "model_id": "cb5ff87acfd945dc98176e00286ff42e"
      }
     },
     "metadata": {},
     "output_type": "display_data"
    },
    {
     "data": {
      "text/plain": [
       "tokenizer_config.json:   0%|          | 0.00/350 [00:00<?, ?B/s]"
      ],
      "application/vnd.jupyter.widget-view+json": {
       "version_major": 2,
       "version_minor": 0,
       "model_id": "5e940e67350b406cb3571f79cf0940ab"
      }
     },
     "metadata": {},
     "output_type": "display_data"
    },
    {
     "data": {
      "text/plain": [
       "vocab.txt:   0%|          | 0.00/232k [00:00<?, ?B/s]"
      ],
      "application/vnd.jupyter.widget-view+json": {
       "version_major": 2,
       "version_minor": 0,
       "model_id": "d0f6f74f4795421c83a0dd1d9b944836"
      }
     },
     "metadata": {},
     "output_type": "display_data"
    },
    {
     "data": {
      "text/plain": [
       "tokenizer.json:   0%|          | 0.00/466k [00:00<?, ?B/s]"
      ],
      "application/vnd.jupyter.widget-view+json": {
       "version_major": 2,
       "version_minor": 0,
       "model_id": "64b88f0f88fc4888887a078a6e6bf677"
      }
     },
     "metadata": {},
     "output_type": "display_data"
    },
    {
     "data": {
      "text/plain": [
       "special_tokens_map.json:   0%|          | 0.00/112 [00:00<?, ?B/s]"
      ],
      "application/vnd.jupyter.widget-view+json": {
       "version_major": 2,
       "version_minor": 0,
       "model_id": "c9622984c8054d4982a80aeeaa477e49"
      }
     },
     "metadata": {},
     "output_type": "display_data"
    },
    {
     "data": {
      "text/plain": [
       "1_Pooling/config.json:   0%|          | 0.00/190 [00:00<?, ?B/s]"
      ],
      "application/vnd.jupyter.widget-view+json": {
       "version_major": 2,
       "version_minor": 0,
       "model_id": "ed84ac098f034359b3e5666afe0cb4c1"
      }
     },
     "metadata": {},
     "output_type": "display_data"
    }
   ],
   "execution_count": 158
  },
  {
   "cell_type": "code",
   "metadata": {
    "ExecuteTime": {
     "end_time": "2025-02-12T03:00:59.941081Z",
     "start_time": "2025-02-12T02:59:11.359326Z"
    }
   },
   "source": [
    "\"\"\"\n",
    "Reference: https://sbert.net/\n",
    "\"\"\"\n",
    "\n",
    "# Apply SBERT embeddings to each columns\n",
    "print(\"Embedding final_tags...\")\n",
    "final_df[\"tags_embedding\"] = final_df[\"final_tags\"].progress_apply(embed_text)\n",
    "\n",
    "print(\"Embedding emojipedia_description...\")\n",
    "final_df[\"emojipedia_embedding\"] = final_df[\"emojipedia_description\"].progress_apply(embed_text)\n",
    "\n",
    "print(\"Embedding llm_description...\")\n",
    "final_df[\"llm_embedding\"] = final_df[\"llm_description\"].progress_apply(embed_text)"
   ],
   "outputs": [
    {
     "name": "stdout",
     "output_type": "stream",
     "text": [
      "Embedding final_tags...\n"
     ]
    },
    {
     "name": "stderr",
     "output_type": "stream",
     "text": [
      "100%|██████████| 4298/4298 [00:50<00:00, 85.81it/s] \n"
     ]
    },
    {
     "name": "stdout",
     "output_type": "stream",
     "text": [
      "Embedding emojipedia_description...\n"
     ]
    },
    {
     "name": "stderr",
     "output_type": "stream",
     "text": [
      "100%|██████████| 4298/4298 [00:27<00:00, 155.28it/s]\n"
     ]
    },
    {
     "name": "stdout",
     "output_type": "stream",
     "text": [
      "Embedding llm_description...\n"
     ]
    },
    {
     "name": "stderr",
     "output_type": "stream",
     "text": [
      "100%|██████████| 4298/4298 [00:30<00:00, 139.54it/s]\n"
     ]
    }
   ],
   "execution_count": 159
  },
  {
   "cell_type": "code",
   "metadata": {
    "ExecuteTime": {
     "end_time": "2025-02-12T03:07:33.640584Z",
     "start_time": "2025-02-12T03:00:59.942074Z"
    }
   },
   "source": [
    "#Applying SBERT embedding to tags and description from flaticon_stickers\n",
    "print(\"Embedding flaticon_tags...\")\n",
    "final_flaticon_stickers_df[\"tags_embedding\"] = final_flaticon_stickers_df[\"flaticon_tags\"].progress_apply(embed_text)\n",
    "\n",
    "print(\"Embedding flaticon_description...\")\n",
    "final_flaticon_stickers_df[\"desc_embedding\"] = final_flaticon_stickers_df[\"flaticon_description\"].progress_apply(embed_text)"
   ],
   "outputs": [
    {
     "name": "stdout",
     "output_type": "stream",
     "text": [
      "Embedding flaticon_tags...\n"
     ]
    },
    {
     "name": "stderr",
     "output_type": "stream",
     "text": [
      "100%|██████████| 18166/18166 [03:42<00:00, 81.66it/s] \n"
     ]
    },
    {
     "name": "stdout",
     "output_type": "stream",
     "text": [
      "Embedding flaticon_description...\n"
     ]
    },
    {
     "name": "stderr",
     "output_type": "stream",
     "text": [
      "100%|██████████| 18166/18166 [02:51<00:00, 106.09it/s]\n"
     ]
    }
   ],
   "execution_count": 160
  },
  {
   "cell_type": "code",
   "metadata": {
    "ExecuteTime": {
     "end_time": "2025-02-12T03:07:33.691706Z",
     "start_time": "2025-02-12T03:07:33.641703Z"
    }
   },
   "source": [
    "final_df[\"combined_embedding\"] = final_df.apply(\n",
    "    lambda row: np.concatenate([row[\"tags_embedding\"], row[\"emojipedia_embedding\"], row[\"llm_embedding\"]]), axis=1\n",
    ")"
   ],
   "outputs": [],
   "execution_count": 161
  },
  {
   "cell_type": "code",
   "metadata": {
    "ExecuteTime": {
     "end_time": "2025-02-12T03:07:33.703464Z",
     "start_time": "2025-02-12T03:07:33.692440Z"
    }
   },
   "source": [
    "final_df.head()"
   ],
   "outputs": [
    {
     "data": {
      "text/plain": [
       "  emoji    hexcode openmoji_annotation openmoji_tags_1  \\\n",
       "0   #️⃣  0023-20e3           keycap: #          keycap   \n",
       "1   *️⃣  002a-20e3           keycap: *          keycap   \n",
       "2     -       002d        hyphen-minus             NaN   \n",
       "3   0️⃣  0030-20e3           keycap: 0          keycap   \n",
       "4   1️⃣  0031-20e3           keycap: 1          keycap   \n",
       "\n",
       "             openmoji_tags_2 emojipedia_description llm_tags llm_description  \\\n",
       "0                        NaN                    NaN      NaN             NaN   \n",
       "1                        NaN                    NaN      NaN             NaN   \n",
       "2  hyphen, minus, dash, line                    NaN      NaN             NaN   \n",
       "3                        NaN                    NaN      NaN             NaN   \n",
       "4                        NaN                    NaN      NaN             NaN   \n",
       "\n",
       "  cleaned_annotations cleaned_llm_tags  \\\n",
       "0           keycap, #                    \n",
       "1           keycap, *                    \n",
       "2         hyphenminus                    \n",
       "3           keycap, 0                    \n",
       "4           keycap, 1                    \n",
       "\n",
       "                              merged_tags  \\\n",
       "0                       keycap, #, keycap   \n",
       "1                       keycap, *, keycap   \n",
       "2  hyphenminus, hyphen, minus, dash, line   \n",
       "3                       keycap, 0, keycap   \n",
       "4                       keycap, 1, keycap   \n",
       "\n",
       "                               final_tags  \\\n",
       "0                               #, keycap   \n",
       "1                               *, keycap   \n",
       "2  dash, hyphen, hyphenminus, line, minus   \n",
       "3                               0, keycap   \n",
       "4                               1, keycap   \n",
       "\n",
       "                                      tags_embedding  \\\n",
       "0  [0.025194714, -0.049892843, 0.049407776, -0.01...   \n",
       "1  [0.030324765, -0.04773097, 0.045857277, -0.008...   \n",
       "2  [-0.024587153, 0.10079275, 0.011220682, -0.040...   \n",
       "3  [0.04369357, -0.016325157, -0.030014923, 0.029...   \n",
       "4  [0.02213432, -0.07334993, -0.005648181, -0.005...   \n",
       "\n",
       "                                emojipedia_embedding  \\\n",
       "0  [0.0, 0.0, 0.0, 0.0, 0.0, 0.0, 0.0, 0.0, 0.0, ...   \n",
       "1  [0.0, 0.0, 0.0, 0.0, 0.0, 0.0, 0.0, 0.0, 0.0, ...   \n",
       "2  [0.0, 0.0, 0.0, 0.0, 0.0, 0.0, 0.0, 0.0, 0.0, ...   \n",
       "3  [0.0, 0.0, 0.0, 0.0, 0.0, 0.0, 0.0, 0.0, 0.0, ...   \n",
       "4  [0.0, 0.0, 0.0, 0.0, 0.0, 0.0, 0.0, 0.0, 0.0, ...   \n",
       "\n",
       "                                       llm_embedding  \\\n",
       "0  [0.0, 0.0, 0.0, 0.0, 0.0, 0.0, 0.0, 0.0, 0.0, ...   \n",
       "1  [0.0, 0.0, 0.0, 0.0, 0.0, 0.0, 0.0, 0.0, 0.0, ...   \n",
       "2  [0.0, 0.0, 0.0, 0.0, 0.0, 0.0, 0.0, 0.0, 0.0, ...   \n",
       "3  [0.0, 0.0, 0.0, 0.0, 0.0, 0.0, 0.0, 0.0, 0.0, ...   \n",
       "4  [0.0, 0.0, 0.0, 0.0, 0.0, 0.0, 0.0, 0.0, 0.0, ...   \n",
       "\n",
       "                                  combined_embedding  \n",
       "0  [0.025194713845849037, -0.0498928427696228, 0....  \n",
       "1  [0.030324764549732208, -0.04773097112774849, 0...  \n",
       "2  [-0.024587152525782585, 0.10079275071620941, 0...  \n",
       "3  [0.04369356855750084, -0.01632515713572502, -0...  \n",
       "4  [0.022134320810437202, -0.07334993034601212, -...  "
      ],
      "text/html": [
       "<div>\n",
       "<style scoped>\n",
       "    .dataframe tbody tr th:only-of-type {\n",
       "        vertical-align: middle;\n",
       "    }\n",
       "\n",
       "    .dataframe tbody tr th {\n",
       "        vertical-align: top;\n",
       "    }\n",
       "\n",
       "    .dataframe thead th {\n",
       "        text-align: right;\n",
       "    }\n",
       "</style>\n",
       "<table border=\"1\" class=\"dataframe\">\n",
       "  <thead>\n",
       "    <tr style=\"text-align: right;\">\n",
       "      <th></th>\n",
       "      <th>emoji</th>\n",
       "      <th>hexcode</th>\n",
       "      <th>openmoji_annotation</th>\n",
       "      <th>openmoji_tags_1</th>\n",
       "      <th>openmoji_tags_2</th>\n",
       "      <th>emojipedia_description</th>\n",
       "      <th>llm_tags</th>\n",
       "      <th>llm_description</th>\n",
       "      <th>cleaned_annotations</th>\n",
       "      <th>cleaned_llm_tags</th>\n",
       "      <th>merged_tags</th>\n",
       "      <th>final_tags</th>\n",
       "      <th>tags_embedding</th>\n",
       "      <th>emojipedia_embedding</th>\n",
       "      <th>llm_embedding</th>\n",
       "      <th>combined_embedding</th>\n",
       "    </tr>\n",
       "  </thead>\n",
       "  <tbody>\n",
       "    <tr>\n",
       "      <th>0</th>\n",
       "      <td>#️⃣</td>\n",
       "      <td>0023-20e3</td>\n",
       "      <td>keycap: #</td>\n",
       "      <td>keycap</td>\n",
       "      <td>NaN</td>\n",
       "      <td>NaN</td>\n",
       "      <td>NaN</td>\n",
       "      <td>NaN</td>\n",
       "      <td>keycap, #</td>\n",
       "      <td></td>\n",
       "      <td>keycap, #, keycap</td>\n",
       "      <td>#, keycap</td>\n",
       "      <td>[0.025194714, -0.049892843, 0.049407776, -0.01...</td>\n",
       "      <td>[0.0, 0.0, 0.0, 0.0, 0.0, 0.0, 0.0, 0.0, 0.0, ...</td>\n",
       "      <td>[0.0, 0.0, 0.0, 0.0, 0.0, 0.0, 0.0, 0.0, 0.0, ...</td>\n",
       "      <td>[0.025194713845849037, -0.0498928427696228, 0....</td>\n",
       "    </tr>\n",
       "    <tr>\n",
       "      <th>1</th>\n",
       "      <td>*️⃣</td>\n",
       "      <td>002a-20e3</td>\n",
       "      <td>keycap: *</td>\n",
       "      <td>keycap</td>\n",
       "      <td>NaN</td>\n",
       "      <td>NaN</td>\n",
       "      <td>NaN</td>\n",
       "      <td>NaN</td>\n",
       "      <td>keycap, *</td>\n",
       "      <td></td>\n",
       "      <td>keycap, *, keycap</td>\n",
       "      <td>*, keycap</td>\n",
       "      <td>[0.030324765, -0.04773097, 0.045857277, -0.008...</td>\n",
       "      <td>[0.0, 0.0, 0.0, 0.0, 0.0, 0.0, 0.0, 0.0, 0.0, ...</td>\n",
       "      <td>[0.0, 0.0, 0.0, 0.0, 0.0, 0.0, 0.0, 0.0, 0.0, ...</td>\n",
       "      <td>[0.030324764549732208, -0.04773097112774849, 0...</td>\n",
       "    </tr>\n",
       "    <tr>\n",
       "      <th>2</th>\n",
       "      <td>-</td>\n",
       "      <td>002d</td>\n",
       "      <td>hyphen-minus</td>\n",
       "      <td>NaN</td>\n",
       "      <td>hyphen, minus, dash, line</td>\n",
       "      <td>NaN</td>\n",
       "      <td>NaN</td>\n",
       "      <td>NaN</td>\n",
       "      <td>hyphenminus</td>\n",
       "      <td></td>\n",
       "      <td>hyphenminus, hyphen, minus, dash, line</td>\n",
       "      <td>dash, hyphen, hyphenminus, line, minus</td>\n",
       "      <td>[-0.024587153, 0.10079275, 0.011220682, -0.040...</td>\n",
       "      <td>[0.0, 0.0, 0.0, 0.0, 0.0, 0.0, 0.0, 0.0, 0.0, ...</td>\n",
       "      <td>[0.0, 0.0, 0.0, 0.0, 0.0, 0.0, 0.0, 0.0, 0.0, ...</td>\n",
       "      <td>[-0.024587152525782585, 0.10079275071620941, 0...</td>\n",
       "    </tr>\n",
       "    <tr>\n",
       "      <th>3</th>\n",
       "      <td>0️⃣</td>\n",
       "      <td>0030-20e3</td>\n",
       "      <td>keycap: 0</td>\n",
       "      <td>keycap</td>\n",
       "      <td>NaN</td>\n",
       "      <td>NaN</td>\n",
       "      <td>NaN</td>\n",
       "      <td>NaN</td>\n",
       "      <td>keycap, 0</td>\n",
       "      <td></td>\n",
       "      <td>keycap, 0, keycap</td>\n",
       "      <td>0, keycap</td>\n",
       "      <td>[0.04369357, -0.016325157, -0.030014923, 0.029...</td>\n",
       "      <td>[0.0, 0.0, 0.0, 0.0, 0.0, 0.0, 0.0, 0.0, 0.0, ...</td>\n",
       "      <td>[0.0, 0.0, 0.0, 0.0, 0.0, 0.0, 0.0, 0.0, 0.0, ...</td>\n",
       "      <td>[0.04369356855750084, -0.01632515713572502, -0...</td>\n",
       "    </tr>\n",
       "    <tr>\n",
       "      <th>4</th>\n",
       "      <td>1️⃣</td>\n",
       "      <td>0031-20e3</td>\n",
       "      <td>keycap: 1</td>\n",
       "      <td>keycap</td>\n",
       "      <td>NaN</td>\n",
       "      <td>NaN</td>\n",
       "      <td>NaN</td>\n",
       "      <td>NaN</td>\n",
       "      <td>keycap, 1</td>\n",
       "      <td></td>\n",
       "      <td>keycap, 1, keycap</td>\n",
       "      <td>1, keycap</td>\n",
       "      <td>[0.02213432, -0.07334993, -0.005648181, -0.005...</td>\n",
       "      <td>[0.0, 0.0, 0.0, 0.0, 0.0, 0.0, 0.0, 0.0, 0.0, ...</td>\n",
       "      <td>[0.0, 0.0, 0.0, 0.0, 0.0, 0.0, 0.0, 0.0, 0.0, ...</td>\n",
       "      <td>[0.022134320810437202, -0.07334993034601212, -...</td>\n",
       "    </tr>\n",
       "  </tbody>\n",
       "</table>\n",
       "</div>"
      ]
     },
     "execution_count": 162,
     "metadata": {},
     "output_type": "execute_result"
    }
   ],
   "execution_count": 162
  },
  {
   "metadata": {
    "ExecuteTime": {
     "end_time": "2025-02-12T03:11:00.927865Z",
     "start_time": "2025-02-12T03:11:00.761350Z"
    }
   },
   "cell_type": "code",
   "source": [
    "final_flaticon_stickers_df[\"embed_combined\"] = final_flaticon_stickers_df.apply(\n",
    "    lambda row: np.concatenate([row[\"tags_embedding\"], row[\"desc_embedding\"]]), axis=1\n",
    ")"
   ],
   "outputs": [],
   "execution_count": 164
  },
  {
   "metadata": {
    "ExecuteTime": {
     "end_time": "2025-02-12T03:11:14.383543Z",
     "start_time": "2025-02-12T03:11:14.372979Z"
    }
   },
   "cell_type": "code",
   "source": "final_flaticon_stickers_df.head()",
   "outputs": [
    {
     "data": {
      "text/plain": [
       "                                      flaticon_image flaticon_title  \\\n",
       "2  https://cdn-icons-png.flaticon.com/512/8359/83...        Holiday   \n",
       "3  https://cdn-icons-png.flaticon.com/512/8359/83...       Lipstick   \n",
       "4  https://cdn-icons-png.flaticon.com/512/8359/83...    Mental Care   \n",
       "5  https://cdn-icons-png.flaticon.com/512/8359/83...  Tape Recorder   \n",
       "6  https://cdn-icons-png.flaticon.com/512/8360/83...        Monster   \n",
       "\n",
       "                                       flaticon_tags  \\\n",
       "2   holidays, holiday, time and date, calendar, desk   \n",
       "3  birthday and party, fashion, grooming, female,...   \n",
       "4               miscellaneous, thinking, mental care   \n",
       "5  professions and jobs, music and multimedia, el...   \n",
       "6  smileys, halloween, spooky, scary, monster, te...   \n",
       "\n",
       "                      flaticon_filename  \\\n",
       "2  478a953a9468c40b2ef99e81dd1b6c1b.png   \n",
       "3  ad92c2a592a552ecd70437795d3a0ac2.png   \n",
       "4  ebba19973ad7a1bd35a02e53a1f57694.png   \n",
       "5  d12308b31301697ae3095170d2a69b34.png   \n",
       "6  a8b1af8dab6afcbf3412baca6347e1fb.png   \n",
       "\n",
       "                                flaticon_description  \\\n",
       "2                      a pile of papers and a folder   \n",
       "3  a lipstick with a red lipstick brush and a red...   \n",
       "4  a brain with a rainbow colored circle in the m...   \n",
       "5  a cartoon cassette cassette with a cassette ca...   \n",
       "6    a cartoon monster with big eyes and a big mouth   \n",
       "\n",
       "                                      tags_embedding  \\\n",
       "2  [0.038581457, 0.053599395, 0.052598927, 0.0065...   \n",
       "3  [-0.02237393, -0.00095466594, 0.07944109, 0.01...   \n",
       "4  [0.0572702, 0.023576371, 0.0009865896, 0.01325...   \n",
       "5  [0.023974909, -0.025374288, 0.011085419, -0.02...   \n",
       "6  [-0.026260154, -0.05141792, 0.025089074, 0.032...   \n",
       "\n",
       "                                      desc_embedding  \\\n",
       "2  [-0.095564686, 0.041848075, -0.052247435, 0.02...   \n",
       "3  [-0.08092986, -0.08813305, -0.036154073, 0.065...   \n",
       "4  [0.0308583, -0.022989696, -0.067923576, -0.007...   \n",
       "5  [-0.07901245, 0.08081437, -0.10110584, -0.0524...   \n",
       "6  [-0.016194591, 0.024804508, -0.047403067, 0.00...   \n",
       "\n",
       "                                      embed_combined  \n",
       "2  [0.038581457, 0.053599395, 0.052598927, 0.0065...  \n",
       "3  [-0.02237393, -0.00095466594, 0.07944109, 0.01...  \n",
       "4  [0.0572702, 0.023576371, 0.0009865896, 0.01325...  \n",
       "5  [0.023974909, -0.025374288, 0.011085419, -0.02...  \n",
       "6  [-0.026260154, -0.05141792, 0.025089074, 0.032...  "
      ],
      "text/html": [
       "<div>\n",
       "<style scoped>\n",
       "    .dataframe tbody tr th:only-of-type {\n",
       "        vertical-align: middle;\n",
       "    }\n",
       "\n",
       "    .dataframe tbody tr th {\n",
       "        vertical-align: top;\n",
       "    }\n",
       "\n",
       "    .dataframe thead th {\n",
       "        text-align: right;\n",
       "    }\n",
       "</style>\n",
       "<table border=\"1\" class=\"dataframe\">\n",
       "  <thead>\n",
       "    <tr style=\"text-align: right;\">\n",
       "      <th></th>\n",
       "      <th>flaticon_image</th>\n",
       "      <th>flaticon_title</th>\n",
       "      <th>flaticon_tags</th>\n",
       "      <th>flaticon_filename</th>\n",
       "      <th>flaticon_description</th>\n",
       "      <th>tags_embedding</th>\n",
       "      <th>desc_embedding</th>\n",
       "      <th>embed_combined</th>\n",
       "    </tr>\n",
       "  </thead>\n",
       "  <tbody>\n",
       "    <tr>\n",
       "      <th>2</th>\n",
       "      <td>https://cdn-icons-png.flaticon.com/512/8359/83...</td>\n",
       "      <td>Holiday</td>\n",
       "      <td>holidays, holiday, time and date, calendar, desk</td>\n",
       "      <td>478a953a9468c40b2ef99e81dd1b6c1b.png</td>\n",
       "      <td>a pile of papers and a folder</td>\n",
       "      <td>[0.038581457, 0.053599395, 0.052598927, 0.0065...</td>\n",
       "      <td>[-0.095564686, 0.041848075, -0.052247435, 0.02...</td>\n",
       "      <td>[0.038581457, 0.053599395, 0.052598927, 0.0065...</td>\n",
       "    </tr>\n",
       "    <tr>\n",
       "      <th>3</th>\n",
       "      <td>https://cdn-icons-png.flaticon.com/512/8359/83...</td>\n",
       "      <td>Lipstick</td>\n",
       "      <td>birthday and party, fashion, grooming, female,...</td>\n",
       "      <td>ad92c2a592a552ecd70437795d3a0ac2.png</td>\n",
       "      <td>a lipstick with a red lipstick brush and a red...</td>\n",
       "      <td>[-0.02237393, -0.00095466594, 0.07944109, 0.01...</td>\n",
       "      <td>[-0.08092986, -0.08813305, -0.036154073, 0.065...</td>\n",
       "      <td>[-0.02237393, -0.00095466594, 0.07944109, 0.01...</td>\n",
       "    </tr>\n",
       "    <tr>\n",
       "      <th>4</th>\n",
       "      <td>https://cdn-icons-png.flaticon.com/512/8359/83...</td>\n",
       "      <td>Mental Care</td>\n",
       "      <td>miscellaneous, thinking, mental care</td>\n",
       "      <td>ebba19973ad7a1bd35a02e53a1f57694.png</td>\n",
       "      <td>a brain with a rainbow colored circle in the m...</td>\n",
       "      <td>[0.0572702, 0.023576371, 0.0009865896, 0.01325...</td>\n",
       "      <td>[0.0308583, -0.022989696, -0.067923576, -0.007...</td>\n",
       "      <td>[0.0572702, 0.023576371, 0.0009865896, 0.01325...</td>\n",
       "    </tr>\n",
       "    <tr>\n",
       "      <th>5</th>\n",
       "      <td>https://cdn-icons-png.flaticon.com/512/8359/83...</td>\n",
       "      <td>Tape Recorder</td>\n",
       "      <td>professions and jobs, music and multimedia, el...</td>\n",
       "      <td>d12308b31301697ae3095170d2a69b34.png</td>\n",
       "      <td>a cartoon cassette cassette with a cassette ca...</td>\n",
       "      <td>[0.023974909, -0.025374288, 0.011085419, -0.02...</td>\n",
       "      <td>[-0.07901245, 0.08081437, -0.10110584, -0.0524...</td>\n",
       "      <td>[0.023974909, -0.025374288, 0.011085419, -0.02...</td>\n",
       "    </tr>\n",
       "    <tr>\n",
       "      <th>6</th>\n",
       "      <td>https://cdn-icons-png.flaticon.com/512/8360/83...</td>\n",
       "      <td>Monster</td>\n",
       "      <td>smileys, halloween, spooky, scary, monster, te...</td>\n",
       "      <td>a8b1af8dab6afcbf3412baca6347e1fb.png</td>\n",
       "      <td>a cartoon monster with big eyes and a big mouth</td>\n",
       "      <td>[-0.026260154, -0.05141792, 0.025089074, 0.032...</td>\n",
       "      <td>[-0.016194591, 0.024804508, -0.047403067, 0.00...</td>\n",
       "      <td>[-0.026260154, -0.05141792, 0.025089074, 0.032...</td>\n",
       "    </tr>\n",
       "  </tbody>\n",
       "</table>\n",
       "</div>"
      ]
     },
     "execution_count": 165,
     "metadata": {},
     "output_type": "execute_result"
    }
   ],
   "execution_count": 165
  },
  {
   "cell_type": "markdown",
   "metadata": {},
   "source": [
    "## Linking Images"
   ]
  },
  {
   "cell_type": "code",
   "metadata": {
    "ExecuteTime": {
     "end_time": "2025-02-12T03:07:34.123057Z",
     "start_time": "2025-02-12T03:07:33.704335Z"
    }
   },
   "source": [
    "# Define paths\n",
    "processed_image_path = \"../data/tensor_images/\"\n",
    "brands = [\"GoogleEmoji\", \"JoyPixelsEmoji\", \"OpenMojiEmoji\", \"TwitterEmoji\"]\n",
    "\n",
    "# Function to get image paths for a given hexcode\n",
    "def get_image_paths(hexcode):\n",
    "    image_paths = {}\n",
    "\n",
    "    for brand in brands:\n",
    "        brand_path = os.path.join(processed_image_path, brand)\n",
    "        if not os.path.exists(brand_path):\n",
    "            continue  # Skip if folder doesn't exist\n",
    "\n",
    "        # List all files in the category\n",
    "        matching_files = [f for f in os.listdir(brand_path) if hexcode in f]  # Match anywhere in the filename\n",
    "        \n",
    "        if matching_files:\n",
    "            # Take the first match (if multiple exist)\n",
    "            image_paths[brand] = os.path.join(brand_path, matching_files[0])\n",
    "        else:\n",
    "            image_paths[brand] = None  # No matching file found\n",
    "\n",
    "    return image_paths\n",
    "\n",
    "df_images = final_df.copy()  # Work on a copy to be safe\n",
    "\n",
    "# Apply the function to get image paths for each row\n",
    "df_images[['google_image_path', 'joypixels_image_path', 'openmoji_image_path', 'twitter_image_path']] = df_images['hexcode'].progress_apply(lambda x: pd.Series(get_image_paths(x)))"
   ],
   "outputs": [
    {
     "name": "stderr",
     "output_type": "stream",
     "text": [
      "100%|██████████| 4298/4298 [00:00<00:00, 11572.02it/s]\n"
     ]
    },
    {
     "ename": "ValueError",
     "evalue": "Columns must be same length as key",
     "output_type": "error",
     "traceback": [
      "\u001B[0;31m---------------------------------------------------------------------------\u001B[0m",
      "\u001B[0;31mValueError\u001B[0m                                Traceback (most recent call last)",
      "Cell \u001B[0;32mIn[163], line 28\u001B[0m\n\u001B[1;32m     25\u001B[0m df_images \u001B[38;5;241m=\u001B[39m final_df\u001B[38;5;241m.\u001B[39mcopy()  \u001B[38;5;66;03m# Work on a copy to be safe\u001B[39;00m\n\u001B[1;32m     27\u001B[0m \u001B[38;5;66;03m# Apply the function to get image paths for each row\u001B[39;00m\n\u001B[0;32m---> 28\u001B[0m \u001B[43mdf_images\u001B[49m\u001B[43m[\u001B[49m\u001B[43m[\u001B[49m\u001B[38;5;124;43m'\u001B[39;49m\u001B[38;5;124;43mgoogle_image_path\u001B[39;49m\u001B[38;5;124;43m'\u001B[39;49m\u001B[43m,\u001B[49m\u001B[43m \u001B[49m\u001B[38;5;124;43m'\u001B[39;49m\u001B[38;5;124;43mjoypixels_image_path\u001B[39;49m\u001B[38;5;124;43m'\u001B[39;49m\u001B[43m,\u001B[49m\u001B[43m \u001B[49m\u001B[38;5;124;43m'\u001B[39;49m\u001B[38;5;124;43mopenmoji_image_path\u001B[39;49m\u001B[38;5;124;43m'\u001B[39;49m\u001B[43m,\u001B[49m\u001B[43m \u001B[49m\u001B[38;5;124;43m'\u001B[39;49m\u001B[38;5;124;43mtwitter_image_path\u001B[39;49m\u001B[38;5;124;43m'\u001B[39;49m\u001B[43m]\u001B[49m\u001B[43m]\u001B[49m \u001B[38;5;241m=\u001B[39m df_images[\u001B[38;5;124m'\u001B[39m\u001B[38;5;124mhexcode\u001B[39m\u001B[38;5;124m'\u001B[39m]\u001B[38;5;241m.\u001B[39mprogress_apply(\u001B[38;5;28;01mlambda\u001B[39;00m x: pd\u001B[38;5;241m.\u001B[39mSeries(get_image_paths(x)))\n",
      "File \u001B[0;32m/Library/Frameworks/Python.framework/Versions/3.12/lib/python3.12/site-packages/pandas/core/frame.py:4287\u001B[0m, in \u001B[0;36mDataFrame.__setitem__\u001B[0;34m(self, key, value)\u001B[0m\n\u001B[1;32m   4285\u001B[0m     \u001B[38;5;28mself\u001B[39m\u001B[38;5;241m.\u001B[39m_setitem_frame(key, value)\n\u001B[1;32m   4286\u001B[0m \u001B[38;5;28;01melif\u001B[39;00m \u001B[38;5;28misinstance\u001B[39m(key, (Series, np\u001B[38;5;241m.\u001B[39mndarray, \u001B[38;5;28mlist\u001B[39m, Index)):\n\u001B[0;32m-> 4287\u001B[0m     \u001B[38;5;28;43mself\u001B[39;49m\u001B[38;5;241;43m.\u001B[39;49m\u001B[43m_setitem_array\u001B[49m\u001B[43m(\u001B[49m\u001B[43mkey\u001B[49m\u001B[43m,\u001B[49m\u001B[43m \u001B[49m\u001B[43mvalue\u001B[49m\u001B[43m)\u001B[49m\n\u001B[1;32m   4288\u001B[0m \u001B[38;5;28;01melif\u001B[39;00m \u001B[38;5;28misinstance\u001B[39m(value, DataFrame):\n\u001B[1;32m   4289\u001B[0m     \u001B[38;5;28mself\u001B[39m\u001B[38;5;241m.\u001B[39m_set_item_frame_value(key, value)\n",
      "File \u001B[0;32m/Library/Frameworks/Python.framework/Versions/3.12/lib/python3.12/site-packages/pandas/core/frame.py:4329\u001B[0m, in \u001B[0;36mDataFrame._setitem_array\u001B[0;34m(self, key, value)\u001B[0m\n\u001B[1;32m   4324\u001B[0m \u001B[38;5;28;01melse\u001B[39;00m:\n\u001B[1;32m   4325\u001B[0m     \u001B[38;5;66;03m# Note: unlike self.iloc[:, indexer] = value, this will\u001B[39;00m\n\u001B[1;32m   4326\u001B[0m     \u001B[38;5;66;03m#  never try to overwrite values inplace\u001B[39;00m\n\u001B[1;32m   4328\u001B[0m     \u001B[38;5;28;01mif\u001B[39;00m \u001B[38;5;28misinstance\u001B[39m(value, DataFrame):\n\u001B[0;32m-> 4329\u001B[0m         \u001B[43mcheck_key_length\u001B[49m\u001B[43m(\u001B[49m\u001B[38;5;28;43mself\u001B[39;49m\u001B[38;5;241;43m.\u001B[39;49m\u001B[43mcolumns\u001B[49m\u001B[43m,\u001B[49m\u001B[43m \u001B[49m\u001B[43mkey\u001B[49m\u001B[43m,\u001B[49m\u001B[43m \u001B[49m\u001B[43mvalue\u001B[49m\u001B[43m)\u001B[49m\n\u001B[1;32m   4330\u001B[0m         \u001B[38;5;28;01mfor\u001B[39;00m k1, k2 \u001B[38;5;129;01min\u001B[39;00m \u001B[38;5;28mzip\u001B[39m(key, value\u001B[38;5;241m.\u001B[39mcolumns):\n\u001B[1;32m   4331\u001B[0m             \u001B[38;5;28mself\u001B[39m[k1] \u001B[38;5;241m=\u001B[39m value[k2]\n",
      "File \u001B[0;32m/Library/Frameworks/Python.framework/Versions/3.12/lib/python3.12/site-packages/pandas/core/indexers/utils.py:390\u001B[0m, in \u001B[0;36mcheck_key_length\u001B[0;34m(columns, key, value)\u001B[0m\n\u001B[1;32m    388\u001B[0m \u001B[38;5;28;01mif\u001B[39;00m columns\u001B[38;5;241m.\u001B[39mis_unique:\n\u001B[1;32m    389\u001B[0m     \u001B[38;5;28;01mif\u001B[39;00m \u001B[38;5;28mlen\u001B[39m(value\u001B[38;5;241m.\u001B[39mcolumns) \u001B[38;5;241m!=\u001B[39m \u001B[38;5;28mlen\u001B[39m(key):\n\u001B[0;32m--> 390\u001B[0m         \u001B[38;5;28;01mraise\u001B[39;00m \u001B[38;5;167;01mValueError\u001B[39;00m(\u001B[38;5;124m\"\u001B[39m\u001B[38;5;124mColumns must be same length as key\u001B[39m\u001B[38;5;124m\"\u001B[39m)\n\u001B[1;32m    391\u001B[0m \u001B[38;5;28;01melse\u001B[39;00m:\n\u001B[1;32m    392\u001B[0m     \u001B[38;5;66;03m# Missing keys in columns are represented as -1\u001B[39;00m\n\u001B[1;32m    393\u001B[0m     \u001B[38;5;28;01mif\u001B[39;00m \u001B[38;5;28mlen\u001B[39m(columns\u001B[38;5;241m.\u001B[39mget_indexer_non_unique(key)[\u001B[38;5;241m0\u001B[39m]) \u001B[38;5;241m!=\u001B[39m \u001B[38;5;28mlen\u001B[39m(value\u001B[38;5;241m.\u001B[39mcolumns):\n",
      "\u001B[0;31mValueError\u001B[0m: Columns must be same length as key"
     ]
    }
   ],
   "execution_count": 163
  },
  {
   "cell_type": "code",
   "metadata": {
    "ExecuteTime": {
     "end_time": "2025-02-12T03:07:34.123712Z",
     "start_time": "2025-02-12T03:07:34.123664Z"
    }
   },
   "source": [
    "df_images"
   ],
   "outputs": [],
   "execution_count": null
  },
  {
   "cell_type": "code",
   "metadata": {},
   "source": [
    "df_images.info()"
   ],
   "outputs": [],
   "execution_count": null
  },
  {
   "cell_type": "code",
   "metadata": {},
   "source": [],
   "outputs": [],
   "execution_count": null
  }
 ],
 "metadata": {
  "kernelspec": {
   "display_name": "Python 3 (ipykernel)",
   "language": "python",
   "name": "python3"
  },
  "language_info": {
   "codemirror_mode": {
    "name": "ipython",
    "version": 3
   },
   "file_extension": ".py",
   "mimetype": "text/x-python",
   "name": "python",
   "nbconvert_exporter": "python",
   "pygments_lexer": "ipython3",
   "version": "3.12.1"
  }
 },
 "nbformat": 4,
 "nbformat_minor": 4
}
