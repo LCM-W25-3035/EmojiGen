{
 "cells": [
  {
   "cell_type": "code",
   "execution_count": 1,
   "metadata": {
    "ExecuteTime": {
     "end_time": "2025-02-09T19:29:46.534252Z",
     "start_time": "2025-02-09T19:29:38.493502Z"
    }
   },
   "outputs": [
    {
     "name": "stderr",
     "output_type": "stream",
     "text": [
      "[nltk_data] Downloading package punkt to\n",
      "[nltk_data]     /Users/bikinghimire/nltk_data...\n",
      "[nltk_data]   Package punkt is already up-to-date!\n",
      "[nltk_data] Downloading package stopwords to\n",
      "[nltk_data]     /Users/bikinghimire/nltk_data...\n",
      "[nltk_data]   Package stopwords is already up-to-date!\n",
      "[nltk_data] Downloading package wordnet to\n",
      "[nltk_data]     /Users/bikinghimire/nltk_data...\n",
      "[nltk_data]   Package wordnet is already up-to-date!\n"
     ]
    }
   ],
   "source": [
    "import pandas as pd\n",
    "import numpy as np\n",
    "import os\n",
    "import re\n",
    "import nltk\n",
    "from nltk.corpus import stopwords\n",
    "from nltk.tokenize import word_tokenize\n",
    "from sentence_transformers import SentenceTransformer\n",
    "from tqdm import tqdm\n",
    "import torch\n",
    "\n",
    "# Download NLTK data files (only need to run once)\n",
    "nltk.download('punkt')\n",
    "nltk.download('stopwords')\n",
    "nltk.download('wordnet')\n",
    "\n",
    "# Apply tqdm to all .apply() functions by using progress_apply\n",
    "tqdm.pandas()"
   ]
  },
  {
   "cell_type": "code",
   "execution_count": 2,
   "metadata": {
    "ExecuteTime": {
     "end_time": "2025-02-09T19:29:46.600140Z",
     "start_time": "2025-02-09T19:29:46.535396Z"
    }
   },
   "outputs": [],
   "source": [
    "openmoji_df = pd.read_csv('../data/openmoji.csv')\n",
    "emojipedia_df = pd.read_csv('../data/emojipedia.csv')\n",
    "llm_df = pd.read_parquet('../data/llmemoji.parquet')"
   ]
  },
  {
   "cell_type": "code",
   "execution_count": 41,
   "metadata": {
    "ExecuteTime": {
     "end_time": "2025-02-11T18:19:38.408307Z",
     "start_time": "2025-02-11T18:19:38.342422Z"
    }
   },
   "outputs": [],
   "source": [
    "flaticon_stickers_df = pd.read_csv('../data/flaticon/flaticon_stickers_desc.csv') "
   ]
  },
  {
   "cell_type": "code",
   "execution_count": 47,
   "metadata": {
    "ExecuteTime": {
     "end_time": "2025-02-12T01:10:16.329714Z",
     "start_time": "2025-02-12T01:10:16.325371Z"
    }
   },
   "outputs": [
    {
     "name": "stdout",
     "output_type": "stream",
     "text": [
      "                                                     image        title                                                               tags                              filename                                                    description\n",
      "0  https://cdn-icons-png.flaticon.com/512/8356/8356693.png       Family                   people, love, family, gay, homosexual, relatives  2fbde21360a8ddf99949459a90004f33.png                                   a family hugging and smiling\n",
      "1  https://cdn-icons-png.flaticon.com/512/8356/8356696.png       Family                                    people, love, family, relatives  617a3f0ef0d2ef5d246eb06b3ed5fbf4.png                                          a family with a child\n",
      "2  https://cdn-icons-png.flaticon.com/512/8359/8359767.png      Holiday                   holidays, holiday, time and date, calendar, desk  478a953a9468c40b2ef99e81dd1b6c1b.png                                  a pile of papers and a folder\n",
      "3  https://cdn-icons-png.flaticon.com/512/8359/8359788.png     Lipstick  birthday and party, fashion, grooming, female, lipstick, feminine  ad92c2a592a552ecd70437795d3a0ac2.png  a lipstick with a red lipstick brush and a red lipstick brush\n",
      "4  https://cdn-icons-png.flaticon.com/512/8359/8359799.png  Mental Care                               miscellaneous, thinking, mental care  ebba19973ad7a1bd35a02e53a1f57694.png            a brain with a rainbow colored circle in the middle\n"
     ]
    }
   ],
   "source": [
    "print(flaticon_stickers_df.head().to_string())"
   ]
  },
  {
   "cell_type": "code",
   "execution_count": 3,
   "metadata": {
    "ExecuteTime": {
     "end_time": "2025-02-09T19:29:46.632535Z",
     "start_time": "2025-02-09T19:29:46.600795Z"
    }
   },
   "outputs": [
    {
     "name": "stderr",
     "output_type": "stream",
     "text": [
      "100%|██████████| 1885/1885 [00:00<00:00, 819556.65it/s]\n",
      "100%|██████████| 5034/5034 [00:00<00:00, 1153021.32it/s]\n"
     ]
    }
   ],
   "source": [
    "# Convert Unicode string (e.g., 'U+1F600', 'U+263A,FE0F') to hex code ('1F600', '263A-FE0F').\n",
    "\n",
    "def unicode_to_hex(unicode_str):\n",
    "    unicode_str = unicode_str.replace(\",\", \" \")  # Replace commas with spaces\n",
    "    # First splitting the input string to a list of substrings\n",
    "    # Loops though each substring\n",
    "    # Removes the U+ prefix from each substring\n",
    "    hex_values = [u.replace(\"U+\", \"\") for u in unicode_str.split()]\n",
    "    # Join the values with hyphens\n",
    "    return \"-\".join(hex_values)\n",
    "\n",
    "# Convert 'unicode' column in emojipedia_df and llm_df to 'hexcode'\n",
    "emojipedia_df['hexcode'] = emojipedia_df['Codepoints Hex'].progress_apply(unicode_to_hex)\n",
    "llm_df['hexcode'] = llm_df['unicode'].progress_apply(unicode_to_hex)"
   ]
  },
  {
   "cell_type": "code",
   "execution_count": null,
   "metadata": {},
   "outputs": [],
   "source": []
  },
  {
   "cell_type": "code",
   "execution_count": 4,
   "metadata": {
    "ExecuteTime": {
     "end_time": "2025-02-09T19:29:46.646325Z",
     "start_time": "2025-02-09T19:29:46.634847Z"
    }
   },
   "outputs": [],
   "source": [
    "# Making the hexcode uniform in all 3 dataframes for merging\n",
    "# removing -f30f (differentiation between image type emoji and textual type emoji)\n",
    "# removing -200d (differentiation for emoji with skin-tone)\n",
    "\n",
    "openmoji_df['hexcode'] = openmoji_df['hexcode'].str.replace('-FE0F', '', regex=True)\n",
    "openmoji_df['hexcode'] = openmoji_df['hexcode'].str.replace('-200D', '', regex=True)\n",
    "llm_df['hexcode'] = llm_df['hexcode'].str.replace('-FE0F', '', regex=True)\n",
    "llm_df['hexcode'] = llm_df['hexcode'].str.replace('-200D', '', regex=True)\n",
    "emojipedia_df['hexcode'] = emojipedia_df['hexcode'].str.replace('-FE0F', '', regex=True)\n",
    "emojipedia_df['hexcode'] = emojipedia_df['hexcode'].str.replace('-200D', '', regex=True)"
   ]
  },
  {
   "cell_type": "code",
   "execution_count": 5,
   "metadata": {
    "ExecuteTime": {
     "end_time": "2025-02-09T19:29:46.652835Z",
     "start_time": "2025-02-09T19:29:46.646915Z"
    }
   },
   "outputs": [
    {
     "name": "stdout",
     "output_type": "stream",
     "text": [
      "hexcode\n",
      "1F3F3    2\n",
      "Name: count, dtype: int64\n"
     ]
    }
   ],
   "source": [
    "# Checking for duplicates\n",
    "duplicate_counts = openmoji_df['hexcode'].value_counts()\n",
    "duplicates = duplicate_counts[duplicate_counts > 1]\n",
    "print(duplicates)"
   ]
  },
  {
   "cell_type": "code",
   "execution_count": 6,
   "metadata": {
    "ExecuteTime": {
     "end_time": "2025-02-09T19:29:46.658360Z",
     "start_time": "2025-02-09T19:29:46.653373Z"
    }
   },
   "outputs": [
    {
     "name": "stdout",
     "output_type": "stream",
     "text": [
      "hexcode\n",
      "1F3C3-1F3FD-2640-27A1           4\n",
      "1F6B6-1F3FF-2642-27A1           4\n",
      "1F6B6-1F3FF-2640-27A1           4\n",
      "1F6B6-1F3FE-2640-27A1           4\n",
      "1F6B6-1F3FC-2640-27A1           4\n",
      "                               ..\n",
      "1F9D1-1F3FC-2764-1F9D1-1F3FD    2\n",
      "1F469-1F3FF-2764-1F468-1F3FD    2\n",
      "1F9D1-1F3FD-2764-1F9D1-1F3FF    2\n",
      "1F327                           2\n",
      "2601                            2\n",
      "Name: count, Length: 1160, dtype: int64\n"
     ]
    }
   ],
   "source": [
    "# Checking for duplicates\n",
    "duplicate_counts = llm_df['hexcode'].value_counts()\n",
    "duplicates = duplicate_counts[duplicate_counts > 1]\n",
    "print(duplicates)"
   ]
  },
  {
   "cell_type": "code",
   "execution_count": 7,
   "metadata": {
    "ExecuteTime": {
     "end_time": "2025-02-09T19:29:46.662455Z",
     "start_time": "2025-02-09T19:29:46.659100Z"
    }
   },
   "outputs": [
    {
     "name": "stdout",
     "output_type": "stream",
     "text": [
      "Series([], Name: count, dtype: int64)\n"
     ]
    }
   ],
   "source": [
    "duplicate_counts = emojipedia_df['hexcode'].value_counts()\n",
    "duplicates = duplicate_counts[duplicate_counts > 1]\n",
    "print(duplicates)"
   ]
  },
  {
   "cell_type": "code",
   "execution_count": 42,
   "metadata": {
    "ExecuteTime": {
     "end_time": "2025-02-11T18:53:39.200486Z",
     "start_time": "2025-02-11T18:53:39.182070Z"
    }
   },
   "outputs": [
    {
     "name": "stdout",
     "output_type": "stream",
     "text": [
      "description\n",
      "a black background with a white and red flower                                                                       941\n",
      "happy new year clipart                                                                                                29\n",
      "hello hello hello hello hello hello hello hello hello hello hello hello hello hello hello hello hello hello hello     26\n",
      "a woman doing yoga                                                                                                    21\n",
      "let let let let let let let let let let let let let let let let let let let                                           19\n",
      "                                                                                                                    ... \n",
      "you are sunshine                                                                                                       2\n",
      "a bottle with a heart inside                                                                                           2\n",
      "a rabbit riding a sc sc sc sc sc sc sc sc sc sc sc sc sc sc sc                                                         2\n",
      "the only you logo                                                                                                      2\n",
      "a woman holding a heart in her hands                                                                                   2\n",
      "Name: count, Length: 1565, dtype: int64\n"
     ]
    }
   ],
   "source": [
    "#checking duplicates on flaticon_sticker dataset\n",
    "duplicate_counts = flaticon_stickers_df['description'].value_counts()\n",
    "duplicates = duplicate_counts[duplicate_counts > 1]\n",
    "print(duplicates)"
   ]
  },
  {
   "metadata": {
    "ExecuteTime": {
     "end_time": "2025-02-12T02:14:29.897051Z",
     "start_time": "2025-02-12T02:14:29.891414Z"
    }
   },
   "cell_type": "code",
   "source": [
    "#checking for any missing values\n",
    "missing_values = flaticon_stickers_df.isnull().sum()\n",
    "print(\"Missing values in each column:\\n\", missing_values)"
   ],
   "outputs": [
    {
     "name": "stdout",
     "output_type": "stream",
     "text": [
      "Missing values in each column:\n",
      " image          0\n",
      "title          0\n",
      "tags           0\n",
      "filename       0\n",
      "description    0\n",
      "dtype: int64\n"
     ]
    }
   ],
   "execution_count": 55
  },
  {
   "metadata": {
    "ExecuteTime": {
     "end_time": "2025-02-12T02:16:21.031786Z",
     "start_time": "2025-02-12T02:16:21.026256Z"
    }
   },
   "cell_type": "code",
   "source": [
    "#finding if any inconsistent data types are present \n",
    "data_types = flaticon_stickers_df.dtypes\n",
    "print(\"Data types of each column:\\n\", data_types)\n"
   ],
   "outputs": [
    {
     "name": "stdout",
     "output_type": "stream",
     "text": [
      "Data types of each column:\n",
      " image          object\n",
      "title          object\n",
      "tags           object\n",
      "filename       object\n",
      "description    object\n",
      "dtype: object\n"
     ]
    }
   ],
   "execution_count": 56
  },
  {
   "cell_type": "code",
   "execution_count": 48,
   "metadata": {
    "ExecuteTime": {
     "end_time": "2025-02-12T01:49:22.990271Z",
     "start_time": "2025-02-12T01:49:22.978019Z"
    }
   },
   "outputs": [],
   "source": [
    "# Removing duplicates in the 'description' from flaticon_sticker_df\n",
    "flaticon_stickers_df = flaticon_stickers_df[~flaticon_stickers_df.duplicated(subset=['description'], keep=False)]"
   ]
  },
  {
   "cell_type": "code",
   "metadata": {
    "ExecuteTime": {
     "end_time": "2025-02-12T02:00:55.341838Z",
     "start_time": "2025-02-12T02:00:55.334324Z"
    }
   },
   "source": [
    "# Checking if there are any duplicate descriptions remaining in the dataframe\n",
    "duplicate_descriptions = flaticon_stickers_df.duplicated(subset=['description'], keep=False).any()\n",
    "\n",
    "# Output True if duplicates exist, False if all descriptions are unique\n",
    "print(\"Are there duplicate descriptions?\", duplicate_descriptions)\n"
   ],
   "outputs": [
    {
     "name": "stdout",
     "output_type": "stream",
     "text": [
      "Are there duplicate descriptions? False\n"
     ]
    }
   ],
   "execution_count": 51
  },
  {
   "metadata": {
    "ExecuteTime": {
     "end_time": "2025-02-12T02:01:23.251044Z",
     "start_time": "2025-02-12T02:01:23.245675Z"
    }
   },
   "cell_type": "code",
   "source": "flaticon_stickers_df.head()",
   "outputs": [
    {
     "data": {
      "text/plain": [
       "                                               image          title  \\\n",
       "2  https://cdn-icons-png.flaticon.com/512/8359/83...        Holiday   \n",
       "3  https://cdn-icons-png.flaticon.com/512/8359/83...       Lipstick   \n",
       "4  https://cdn-icons-png.flaticon.com/512/8359/83...    Mental Care   \n",
       "5  https://cdn-icons-png.flaticon.com/512/8359/83...  Tape Recorder   \n",
       "6  https://cdn-icons-png.flaticon.com/512/8360/83...        Monster   \n",
       "\n",
       "                                                tags  \\\n",
       "2   holidays, holiday, time and date, calendar, desk   \n",
       "3  birthday and party, fashion, grooming, female,...   \n",
       "4               miscellaneous, thinking, mental care   \n",
       "5  professions and jobs, music and multimedia, el...   \n",
       "6  smileys, halloween, spooky, scary, monster, te...   \n",
       "\n",
       "                               filename  \\\n",
       "2  478a953a9468c40b2ef99e81dd1b6c1b.png   \n",
       "3  ad92c2a592a552ecd70437795d3a0ac2.png   \n",
       "4  ebba19973ad7a1bd35a02e53a1f57694.png   \n",
       "5  d12308b31301697ae3095170d2a69b34.png   \n",
       "6  a8b1af8dab6afcbf3412baca6347e1fb.png   \n",
       "\n",
       "                                         description  \n",
       "2                      a pile of papers and a folder  \n",
       "3  a lipstick with a red lipstick brush and a red...  \n",
       "4  a brain with a rainbow colored circle in the m...  \n",
       "5  a cartoon cassette cassette with a cassette ca...  \n",
       "6    a cartoon monster with big eyes and a big mouth  "
      ],
      "text/html": [
       "<div>\n",
       "<style scoped>\n",
       "    .dataframe tbody tr th:only-of-type {\n",
       "        vertical-align: middle;\n",
       "    }\n",
       "\n",
       "    .dataframe tbody tr th {\n",
       "        vertical-align: top;\n",
       "    }\n",
       "\n",
       "    .dataframe thead th {\n",
       "        text-align: right;\n",
       "    }\n",
       "</style>\n",
       "<table border=\"1\" class=\"dataframe\">\n",
       "  <thead>\n",
       "    <tr style=\"text-align: right;\">\n",
       "      <th></th>\n",
       "      <th>image</th>\n",
       "      <th>title</th>\n",
       "      <th>tags</th>\n",
       "      <th>filename</th>\n",
       "      <th>description</th>\n",
       "    </tr>\n",
       "  </thead>\n",
       "  <tbody>\n",
       "    <tr>\n",
       "      <th>2</th>\n",
       "      <td>https://cdn-icons-png.flaticon.com/512/8359/83...</td>\n",
       "      <td>Holiday</td>\n",
       "      <td>holidays, holiday, time and date, calendar, desk</td>\n",
       "      <td>478a953a9468c40b2ef99e81dd1b6c1b.png</td>\n",
       "      <td>a pile of papers and a folder</td>\n",
       "    </tr>\n",
       "    <tr>\n",
       "      <th>3</th>\n",
       "      <td>https://cdn-icons-png.flaticon.com/512/8359/83...</td>\n",
       "      <td>Lipstick</td>\n",
       "      <td>birthday and party, fashion, grooming, female,...</td>\n",
       "      <td>ad92c2a592a552ecd70437795d3a0ac2.png</td>\n",
       "      <td>a lipstick with a red lipstick brush and a red...</td>\n",
       "    </tr>\n",
       "    <tr>\n",
       "      <th>4</th>\n",
       "      <td>https://cdn-icons-png.flaticon.com/512/8359/83...</td>\n",
       "      <td>Mental Care</td>\n",
       "      <td>miscellaneous, thinking, mental care</td>\n",
       "      <td>ebba19973ad7a1bd35a02e53a1f57694.png</td>\n",
       "      <td>a brain with a rainbow colored circle in the m...</td>\n",
       "    </tr>\n",
       "    <tr>\n",
       "      <th>5</th>\n",
       "      <td>https://cdn-icons-png.flaticon.com/512/8359/83...</td>\n",
       "      <td>Tape Recorder</td>\n",
       "      <td>professions and jobs, music and multimedia, el...</td>\n",
       "      <td>d12308b31301697ae3095170d2a69b34.png</td>\n",
       "      <td>a cartoon cassette cassette with a cassette ca...</td>\n",
       "    </tr>\n",
       "    <tr>\n",
       "      <th>6</th>\n",
       "      <td>https://cdn-icons-png.flaticon.com/512/8360/83...</td>\n",
       "      <td>Monster</td>\n",
       "      <td>smileys, halloween, spooky, scary, monster, te...</td>\n",
       "      <td>a8b1af8dab6afcbf3412baca6347e1fb.png</td>\n",
       "      <td>a cartoon monster with big eyes and a big mouth</td>\n",
       "    </tr>\n",
       "  </tbody>\n",
       "</table>\n",
       "</div>"
      ]
     },
     "execution_count": 52,
     "metadata": {},
     "output_type": "execute_result"
    }
   ],
   "execution_count": 52
  },
  {
   "cell_type": "code",
   "execution_count": 8,
   "metadata": {
    "ExecuteTime": {
     "end_time": "2025-02-09T19:29:46.667623Z",
     "start_time": "2025-02-09T19:29:46.663084Z"
    }
   },
   "outputs": [],
   "source": [
    "# Removing duplicates\n",
    "openmoji_df = openmoji_df[~openmoji_df.duplicated(subset=['hexcode'], keep=False)]\n",
    "llm_df = llm_df[~llm_df.duplicated(subset=['hexcode'], keep=False)]"
   ]
  },
  {
   "cell_type": "code",
   "execution_count": 9,
   "metadata": {
    "ExecuteTime": {
     "end_time": "2025-02-09T19:29:46.683823Z",
     "start_time": "2025-02-09T19:29:46.668128Z"
    }
   },
   "outputs": [],
   "source": [
    "# Merge the dataframes on 'hexcode'\n",
    "merged_df = openmoji_df.merge(emojipedia_df, on='hexcode', how='outer')\n",
    "merged_df = merged_df.merge(llm_df, on='hexcode', how='outer')\n",
    "# Convert hexcode to lowercase\n",
    "merged_df['hexcode'] = merged_df['hexcode'].str.lower()"
   ]
  },
  {
   "cell_type": "code",
   "execution_count": 10,
   "metadata": {
    "ExecuteTime": {
     "end_time": "2025-02-09T19:29:46.698379Z",
     "start_time": "2025-02-09T19:29:46.686290Z"
    }
   },
   "outputs": [
    {
     "data": {
      "text/html": [
       "<div>\n",
       "<style scoped>\n",
       "    .dataframe tbody tr th:only-of-type {\n",
       "        vertical-align: middle;\n",
       "    }\n",
       "\n",
       "    .dataframe tbody tr th {\n",
       "        vertical-align: top;\n",
       "    }\n",
       "\n",
       "    .dataframe thead th {\n",
       "        text-align: right;\n",
       "    }\n",
       "</style>\n",
       "<table border=\"1\" class=\"dataframe\">\n",
       "  <thead>\n",
       "    <tr style=\"text-align: right;\">\n",
       "      <th></th>\n",
       "      <th>emoji</th>\n",
       "      <th>hexcode</th>\n",
       "      <th>group</th>\n",
       "      <th>subgroups</th>\n",
       "      <th>annotation</th>\n",
       "      <th>tags_x</th>\n",
       "      <th>openmoji_tags</th>\n",
       "      <th>openmoji_author</th>\n",
       "      <th>openmoji_date</th>\n",
       "      <th>skintone</th>\n",
       "      <th>...</th>\n",
       "      <th>Title</th>\n",
       "      <th>DescribedBy</th>\n",
       "      <th>URL</th>\n",
       "      <th>Description</th>\n",
       "      <th>Codepoints Hex</th>\n",
       "      <th>character</th>\n",
       "      <th>unicode_y</th>\n",
       "      <th>short description</th>\n",
       "      <th>tags_y</th>\n",
       "      <th>LLM description</th>\n",
       "    </tr>\n",
       "  </thead>\n",
       "  <tbody>\n",
       "    <tr>\n",
       "      <th>0</th>\n",
       "      <td>#️⃣</td>\n",
       "      <td>0023-20e3</td>\n",
       "      <td>symbols</td>\n",
       "      <td>keycap</td>\n",
       "      <td>keycap: #</td>\n",
       "      <td>keycap</td>\n",
       "      <td>NaN</td>\n",
       "      <td>Selina Lange</td>\n",
       "      <td>2019-05-06</td>\n",
       "      <td>NaN</td>\n",
       "      <td>...</td>\n",
       "      <td>NaN</td>\n",
       "      <td>NaN</td>\n",
       "      <td>NaN</td>\n",
       "      <td>NaN</td>\n",
       "      <td>NaN</td>\n",
       "      <td>NaN</td>\n",
       "      <td>NaN</td>\n",
       "      <td>NaN</td>\n",
       "      <td>NaN</td>\n",
       "      <td>NaN</td>\n",
       "    </tr>\n",
       "    <tr>\n",
       "      <th>1</th>\n",
       "      <td>*️⃣</td>\n",
       "      <td>002a-20e3</td>\n",
       "      <td>symbols</td>\n",
       "      <td>keycap</td>\n",
       "      <td>keycap: *</td>\n",
       "      <td>keycap</td>\n",
       "      <td>NaN</td>\n",
       "      <td>Selina Lange</td>\n",
       "      <td>2019-05-06</td>\n",
       "      <td>NaN</td>\n",
       "      <td>...</td>\n",
       "      <td>NaN</td>\n",
       "      <td>NaN</td>\n",
       "      <td>NaN</td>\n",
       "      <td>NaN</td>\n",
       "      <td>NaN</td>\n",
       "      <td>NaN</td>\n",
       "      <td>NaN</td>\n",
       "      <td>NaN</td>\n",
       "      <td>NaN</td>\n",
       "      <td>NaN</td>\n",
       "    </tr>\n",
       "    <tr>\n",
       "      <th>2</th>\n",
       "      <td>-</td>\n",
       "      <td>002d</td>\n",
       "      <td>extras-unicode</td>\n",
       "      <td>symbol-other</td>\n",
       "      <td>hyphen-minus</td>\n",
       "      <td>NaN</td>\n",
       "      <td>hyphen, minus, dash, line</td>\n",
       "      <td>Robert Winslow</td>\n",
       "      <td>2022-12-24</td>\n",
       "      <td>NaN</td>\n",
       "      <td>...</td>\n",
       "      <td>NaN</td>\n",
       "      <td>NaN</td>\n",
       "      <td>NaN</td>\n",
       "      <td>NaN</td>\n",
       "      <td>NaN</td>\n",
       "      <td>NaN</td>\n",
       "      <td>NaN</td>\n",
       "      <td>NaN</td>\n",
       "      <td>NaN</td>\n",
       "      <td>NaN</td>\n",
       "    </tr>\n",
       "    <tr>\n",
       "      <th>3</th>\n",
       "      <td>0️⃣</td>\n",
       "      <td>0030-20e3</td>\n",
       "      <td>symbols</td>\n",
       "      <td>keycap</td>\n",
       "      <td>keycap: 0</td>\n",
       "      <td>keycap</td>\n",
       "      <td>NaN</td>\n",
       "      <td>Selina Lange</td>\n",
       "      <td>2019-05-06</td>\n",
       "      <td>NaN</td>\n",
       "      <td>...</td>\n",
       "      <td>NaN</td>\n",
       "      <td>NaN</td>\n",
       "      <td>NaN</td>\n",
       "      <td>NaN</td>\n",
       "      <td>NaN</td>\n",
       "      <td>NaN</td>\n",
       "      <td>NaN</td>\n",
       "      <td>NaN</td>\n",
       "      <td>NaN</td>\n",
       "      <td>NaN</td>\n",
       "    </tr>\n",
       "    <tr>\n",
       "      <th>4</th>\n",
       "      <td>1️⃣</td>\n",
       "      <td>0031-20e3</td>\n",
       "      <td>symbols</td>\n",
       "      <td>keycap</td>\n",
       "      <td>keycap: 1</td>\n",
       "      <td>keycap</td>\n",
       "      <td>NaN</td>\n",
       "      <td>Selina Lange</td>\n",
       "      <td>2019-05-06</td>\n",
       "      <td>NaN</td>\n",
       "      <td>...</td>\n",
       "      <td>NaN</td>\n",
       "      <td>NaN</td>\n",
       "      <td>NaN</td>\n",
       "      <td>NaN</td>\n",
       "      <td>NaN</td>\n",
       "      <td>NaN</td>\n",
       "      <td>NaN</td>\n",
       "      <td>NaN</td>\n",
       "      <td>NaN</td>\n",
       "      <td>NaN</td>\n",
       "    </tr>\n",
       "  </tbody>\n",
       "</table>\n",
       "<p>5 rows × 28 columns</p>\n",
       "</div>"
      ],
      "text/plain": [
       "  emoji    hexcode           group     subgroups    annotation  tags_x  \\\n",
       "0   #️⃣  0023-20e3         symbols        keycap     keycap: #  keycap   \n",
       "1   *️⃣  002a-20e3         symbols        keycap     keycap: *  keycap   \n",
       "2     -       002d  extras-unicode  symbol-other  hyphen-minus     NaN   \n",
       "3   0️⃣  0030-20e3         symbols        keycap     keycap: 0  keycap   \n",
       "4   1️⃣  0031-20e3         symbols        keycap     keycap: 1  keycap   \n",
       "\n",
       "               openmoji_tags openmoji_author openmoji_date skintone  ...  \\\n",
       "0                        NaN    Selina Lange    2019-05-06      NaN  ...   \n",
       "1                        NaN    Selina Lange    2019-05-06      NaN  ...   \n",
       "2  hyphen, minus, dash, line  Robert Winslow    2022-12-24      NaN  ...   \n",
       "3                        NaN    Selina Lange    2019-05-06      NaN  ...   \n",
       "4                        NaN    Selina Lange    2019-05-06      NaN  ...   \n",
       "\n",
       "  Title DescribedBy  URL Description  Codepoints Hex character unicode_y  \\\n",
       "0   NaN         NaN  NaN         NaN             NaN       NaN       NaN   \n",
       "1   NaN         NaN  NaN         NaN             NaN       NaN       NaN   \n",
       "2   NaN         NaN  NaN         NaN             NaN       NaN       NaN   \n",
       "3   NaN         NaN  NaN         NaN             NaN       NaN       NaN   \n",
       "4   NaN         NaN  NaN         NaN             NaN       NaN       NaN   \n",
       "\n",
       "  short description tags_y LLM description  \n",
       "0               NaN    NaN             NaN  \n",
       "1               NaN    NaN             NaN  \n",
       "2               NaN    NaN             NaN  \n",
       "3               NaN    NaN             NaN  \n",
       "4               NaN    NaN             NaN  \n",
       "\n",
       "[5 rows x 28 columns]"
      ]
     },
     "execution_count": 10,
     "metadata": {},
     "output_type": "execute_result"
    }
   ],
   "source": [
    "merged_df.head()"
   ]
  },
  {
   "cell_type": "code",
   "execution_count": 11,
   "metadata": {
    "ExecuteTime": {
     "end_time": "2025-02-09T19:29:46.708148Z",
     "start_time": "2025-02-09T19:29:46.698996Z"
    }
   },
   "outputs": [
    {
     "name": "stdout",
     "output_type": "stream",
     "text": [
      "<class 'pandas.core.frame.DataFrame'>\n",
      "RangeIndex: 4298 entries, 0 to 4297\n",
      "Data columns (total 28 columns):\n",
      " #   Column                 Non-Null Count  Dtype  \n",
      "---  ------                 --------------  -----  \n",
      " 0   emoji                  4282 non-null   object \n",
      " 1   hexcode                4298 non-null   object \n",
      " 2   group                  4282 non-null   object \n",
      " 3   subgroups              4282 non-null   object \n",
      " 4   annotation             4282 non-null   object \n",
      " 5   tags_x                 1906 non-null   object \n",
      " 6   openmoji_tags          391 non-null    object \n",
      " 7   openmoji_author        4282 non-null   object \n",
      " 8   openmoji_date          4282 non-null   object \n",
      " 9   skintone               1875 non-null   object \n",
      " 10  skintone_combination   2198 non-null   object \n",
      " 11  skintone_base_emoji    2198 non-null   object \n",
      " 12  skintone_base_hexcode  2198 non-null   object \n",
      " 13  unicode_x              3902 non-null   object \n",
      " 14  order                  3781 non-null   float64\n",
      " 15  Group                  1885 non-null   object \n",
      " 16  Subgroup               1885 non-null   object \n",
      " 17  Emoji                  1885 non-null   object \n",
      " 18  Title                  1885 non-null   object \n",
      " 19  DescribedBy            1885 non-null   object \n",
      " 20  URL                    1885 non-null   object \n",
      " 21  Description            1885 non-null   object \n",
      " 22  Codepoints Hex         1885 non-null   object \n",
      " 23  character              2622 non-null   object \n",
      " 24  unicode_y              2622 non-null   object \n",
      " 25  short description      2622 non-null   object \n",
      " 26  tags_y                 2622 non-null   object \n",
      " 27  LLM description        2622 non-null   object \n",
      "dtypes: float64(1), object(27)\n",
      "memory usage: 940.3+ KB\n"
     ]
    }
   ],
   "source": [
    "merged_df.info()"
   ]
  },
  {
   "cell_type": "code",
   "execution_count": 12,
   "metadata": {
    "ExecuteTime": {
     "end_time": "2025-02-09T19:29:46.713856Z",
     "start_time": "2025-02-09T19:29:46.708933Z"
    }
   },
   "outputs": [],
   "source": [
    "# Select and rename required columns\n",
    "final_df = merged_df.copy()\n",
    "final_df = final_df[['emoji', 'hexcode', 'annotation', 'tags_x', 'openmoji_tags', 'Description', 'tags_y', 'LLM description']]\n",
    "final_df.columns = [\n",
    "    'emoji', 'hexcode', 'openmoji_annotation', 'openmoji_tags_1', 'openmoji_tags_2', 'emojipedia_description', 'llm_tags', 'llm_description'\n",
    "]"
   ]
  },
  {
   "cell_type": "code",
   "execution_count": 13,
   "metadata": {
    "ExecuteTime": {
     "end_time": "2025-02-09T19:29:46.719627Z",
     "start_time": "2025-02-09T19:29:46.714620Z"
    }
   },
   "outputs": [
    {
     "data": {
      "text/html": [
       "<div>\n",
       "<style scoped>\n",
       "    .dataframe tbody tr th:only-of-type {\n",
       "        vertical-align: middle;\n",
       "    }\n",
       "\n",
       "    .dataframe tbody tr th {\n",
       "        vertical-align: top;\n",
       "    }\n",
       "\n",
       "    .dataframe thead th {\n",
       "        text-align: right;\n",
       "    }\n",
       "</style>\n",
       "<table border=\"1\" class=\"dataframe\">\n",
       "  <thead>\n",
       "    <tr style=\"text-align: right;\">\n",
       "      <th></th>\n",
       "      <th>emoji</th>\n",
       "      <th>hexcode</th>\n",
       "      <th>openmoji_annotation</th>\n",
       "      <th>openmoji_tags_1</th>\n",
       "      <th>openmoji_tags_2</th>\n",
       "      <th>emojipedia_description</th>\n",
       "      <th>llm_tags</th>\n",
       "      <th>llm_description</th>\n",
       "    </tr>\n",
       "  </thead>\n",
       "  <tbody>\n",
       "    <tr>\n",
       "      <th>0</th>\n",
       "      <td>#️⃣</td>\n",
       "      <td>0023-20e3</td>\n",
       "      <td>keycap: #</td>\n",
       "      <td>keycap</td>\n",
       "      <td>NaN</td>\n",
       "      <td>NaN</td>\n",
       "      <td>NaN</td>\n",
       "      <td>NaN</td>\n",
       "    </tr>\n",
       "    <tr>\n",
       "      <th>1</th>\n",
       "      <td>*️⃣</td>\n",
       "      <td>002a-20e3</td>\n",
       "      <td>keycap: *</td>\n",
       "      <td>keycap</td>\n",
       "      <td>NaN</td>\n",
       "      <td>NaN</td>\n",
       "      <td>NaN</td>\n",
       "      <td>NaN</td>\n",
       "    </tr>\n",
       "    <tr>\n",
       "      <th>2</th>\n",
       "      <td>-</td>\n",
       "      <td>002d</td>\n",
       "      <td>hyphen-minus</td>\n",
       "      <td>NaN</td>\n",
       "      <td>hyphen, minus, dash, line</td>\n",
       "      <td>NaN</td>\n",
       "      <td>NaN</td>\n",
       "      <td>NaN</td>\n",
       "    </tr>\n",
       "    <tr>\n",
       "      <th>3</th>\n",
       "      <td>0️⃣</td>\n",
       "      <td>0030-20e3</td>\n",
       "      <td>keycap: 0</td>\n",
       "      <td>keycap</td>\n",
       "      <td>NaN</td>\n",
       "      <td>NaN</td>\n",
       "      <td>NaN</td>\n",
       "      <td>NaN</td>\n",
       "    </tr>\n",
       "    <tr>\n",
       "      <th>4</th>\n",
       "      <td>1️⃣</td>\n",
       "      <td>0031-20e3</td>\n",
       "      <td>keycap: 1</td>\n",
       "      <td>keycap</td>\n",
       "      <td>NaN</td>\n",
       "      <td>NaN</td>\n",
       "      <td>NaN</td>\n",
       "      <td>NaN</td>\n",
       "    </tr>\n",
       "  </tbody>\n",
       "</table>\n",
       "</div>"
      ],
      "text/plain": [
       "  emoji    hexcode openmoji_annotation openmoji_tags_1  \\\n",
       "0   #️⃣  0023-20e3           keycap: #          keycap   \n",
       "1   *️⃣  002a-20e3           keycap: *          keycap   \n",
       "2     -       002d        hyphen-minus             NaN   \n",
       "3   0️⃣  0030-20e3           keycap: 0          keycap   \n",
       "4   1️⃣  0031-20e3           keycap: 1          keycap   \n",
       "\n",
       "             openmoji_tags_2 emojipedia_description llm_tags llm_description  \n",
       "0                        NaN                    NaN      NaN             NaN  \n",
       "1                        NaN                    NaN      NaN             NaN  \n",
       "2  hyphen, minus, dash, line                    NaN      NaN             NaN  \n",
       "3                        NaN                    NaN      NaN             NaN  \n",
       "4                        NaN                    NaN      NaN             NaN  "
      ]
     },
     "execution_count": 13,
     "metadata": {},
     "output_type": "execute_result"
    }
   ],
   "source": [
    "final_df.head()"
   ]
  },
  {
   "cell_type": "markdown",
   "metadata": {},
   "source": [
    "## Handling Tags and Descriptions"
   ]
  },
  {
   "cell_type": "code",
   "execution_count": 14,
   "metadata": {
    "ExecuteTime": {
     "end_time": "2025-02-09T19:29:46.722865Z",
     "start_time": "2025-02-09T19:29:46.720380Z"
    }
   },
   "outputs": [],
   "source": [
    "def clean_text(text):\n",
    "    if not isinstance(text, str) or pd.isna(text) or text.strip().lower() == \"nan\":  \n",
    "        return \"\"  # Return empty string for NaN or \"nan\" strings\n",
    "    text = text.lower().strip() # Convert to lowercase and remove unnecessary spaces\n",
    "    # Keep only letters, numbers, spaces, * and #\n",
    "    text = re.sub(r'[^a-z0-9\\s*#]', '', text)\n",
    "    # Tokenize the text\n",
    "    tokens = word_tokenize(text)\n",
    "    # Remove stop words\n",
    "    tokens = [word for word in tokens if word not in stopwords.words('english')]\n",
    "    # Lemmatize the tokens\n",
    "    # lemmatizer = WordNetLemmatizer()\n",
    "    # tokens = [lemmatizer.lemmatize(word) for word in tokens]\n",
    "    return ', '.join(tokens)\n",
    "\n",
    "def remove_duplicates(text):\n",
    "    words = [word.strip() for word in text.split(\",\")]  # Split by commas and strip spaces\n",
    "    unique_words = sorted(set(word.strip() for word in text.split(\",\")))\n",
    "    return ', '.join(unique_words)  # Join back into a string"
   ]
  },
  {
   "cell_type": "code",
   "execution_count": 15,
   "metadata": {
    "ExecuteTime": {
     "end_time": "2025-02-09T19:29:47.573566Z",
     "start_time": "2025-02-09T19:29:46.723564Z"
    }
   },
   "outputs": [
    {
     "name": "stderr",
     "output_type": "stream",
     "text": [
      "100%|██████████| 4298/4298 [00:00<00:00, 5181.38it/s]\n",
      "100%|██████████| 4298/4298 [00:00<00:00, 1711651.97it/s]\n"
     ]
    }
   ],
   "source": [
    "# Clean openmoji_annotation column\n",
    "final_df[\"cleaned_annotations\"] = final_df[\"openmoji_annotation\"].progress_apply(clean_text)\n",
    "# Clean llm_tags\n",
    "final_df[\"cleaned_llm_tags\"] = final_df[\"llm_tags\"].progress_apply(clean_text)\n",
    "\n",
    "# List of columns to merge\n",
    "columns_to_merge = [\"cleaned_annotations\", \"openmoji_tags_1\", \"openmoji_tags_2\", \"cleaned_llm_tags\"]\n",
    "\n",
    "# Fill NaN with empty strings, then merge columns\n",
    "final_df[\"merged_tags\"] = final_df[columns_to_merge].fillna(\"\").agg(\n",
    "    lambda x: \", \".join(filter(None, map(str, x))), axis=1\n",
    ")"
   ]
  },
  {
   "cell_type": "code",
   "execution_count": 16,
   "metadata": {
    "ExecuteTime": {
     "end_time": "2025-02-09T19:29:47.587090Z",
     "start_time": "2025-02-09T19:29:47.574381Z"
    }
   },
   "outputs": [
    {
     "name": "stderr",
     "output_type": "stream",
     "text": [
      "100%|██████████| 4298/4298 [00:00<00:00, 469468.44it/s]\n"
     ]
    }
   ],
   "source": [
    "# Remove duplicates\n",
    "final_df[\"final_tags\"] = final_df[\"merged_tags\"].progress_apply(remove_duplicates)"
   ]
  },
  {
   "cell_type": "code",
   "execution_count": 17,
   "metadata": {
    "ExecuteTime": {
     "end_time": "2025-02-09T19:29:47.601974Z",
     "start_time": "2025-02-09T19:29:47.588059Z"
    }
   },
   "outputs": [
    {
     "name": "stderr",
     "output_type": "stream",
     "text": [
      "100%|██████████| 4298/4298 [00:00<00:00, 432834.37it/s]\n"
     ]
    }
   ],
   "source": [
    "# Limiting only 2 sentences because the content is too long with too many references to other emoji, which might be more confusing later for the model to learn.\n",
    "\n",
    "\"\"\"\n",
    "Reference: Chat-GPT-4o\n",
    "Prompt: My df_images has a emojipedia_description column. Only keep the first two sentences in the column and remove the rest.\n",
    "\"\"\"\n",
    "# Function to keep only the first two sentences\n",
    "def keep_first_two_sentences(description):\n",
    "    if pd.isna(description):  # Handle missing values (NaNs)\n",
    "        return description\n",
    "    sentences = re.split(r'(?<=[.!?]) +', description.strip())  # Split by sentence-ending punctuation (., !, ?)\n",
    "    return ' '.join(sentences[:2])  # Return only the first two sentences\n",
    "\n",
    "# Apply the function to the 'llm_description' column\n",
    "final_df['emojipedia_description'] = final_df['emojipedia_description'].progress_apply(keep_first_two_sentences)"
   ]
  },
  {
   "cell_type": "code",
   "execution_count": 18,
   "metadata": {
    "ExecuteTime": {
     "end_time": "2025-02-09T19:29:47.607647Z",
     "start_time": "2025-02-09T19:29:47.602598Z"
    }
   },
   "outputs": [
    {
     "data": {
      "text/html": [
       "<div>\n",
       "<style scoped>\n",
       "    .dataframe tbody tr th:only-of-type {\n",
       "        vertical-align: middle;\n",
       "    }\n",
       "\n",
       "    .dataframe tbody tr th {\n",
       "        vertical-align: top;\n",
       "    }\n",
       "\n",
       "    .dataframe thead th {\n",
       "        text-align: right;\n",
       "    }\n",
       "</style>\n",
       "<table border=\"1\" class=\"dataframe\">\n",
       "  <thead>\n",
       "    <tr style=\"text-align: right;\">\n",
       "      <th></th>\n",
       "      <th>emoji</th>\n",
       "      <th>hexcode</th>\n",
       "      <th>openmoji_annotation</th>\n",
       "      <th>openmoji_tags_1</th>\n",
       "      <th>openmoji_tags_2</th>\n",
       "      <th>emojipedia_description</th>\n",
       "      <th>llm_tags</th>\n",
       "      <th>llm_description</th>\n",
       "      <th>cleaned_annotations</th>\n",
       "      <th>cleaned_llm_tags</th>\n",
       "      <th>merged_tags</th>\n",
       "      <th>final_tags</th>\n",
       "    </tr>\n",
       "  </thead>\n",
       "  <tbody>\n",
       "    <tr>\n",
       "      <th>0</th>\n",
       "      <td>#️⃣</td>\n",
       "      <td>0023-20e3</td>\n",
       "      <td>keycap: #</td>\n",
       "      <td>keycap</td>\n",
       "      <td>NaN</td>\n",
       "      <td>NaN</td>\n",
       "      <td>NaN</td>\n",
       "      <td>NaN</td>\n",
       "      <td>keycap, #</td>\n",
       "      <td></td>\n",
       "      <td>keycap, #, keycap</td>\n",
       "      <td>#, keycap</td>\n",
       "    </tr>\n",
       "    <tr>\n",
       "      <th>1</th>\n",
       "      <td>*️⃣</td>\n",
       "      <td>002a-20e3</td>\n",
       "      <td>keycap: *</td>\n",
       "      <td>keycap</td>\n",
       "      <td>NaN</td>\n",
       "      <td>NaN</td>\n",
       "      <td>NaN</td>\n",
       "      <td>NaN</td>\n",
       "      <td>keycap, *</td>\n",
       "      <td></td>\n",
       "      <td>keycap, *, keycap</td>\n",
       "      <td>*, keycap</td>\n",
       "    </tr>\n",
       "    <tr>\n",
       "      <th>2</th>\n",
       "      <td>-</td>\n",
       "      <td>002d</td>\n",
       "      <td>hyphen-minus</td>\n",
       "      <td>NaN</td>\n",
       "      <td>hyphen, minus, dash, line</td>\n",
       "      <td>NaN</td>\n",
       "      <td>NaN</td>\n",
       "      <td>NaN</td>\n",
       "      <td>hyphenminus</td>\n",
       "      <td></td>\n",
       "      <td>hyphenminus, hyphen, minus, dash, line</td>\n",
       "      <td>dash, hyphen, hyphenminus, line, minus</td>\n",
       "    </tr>\n",
       "    <tr>\n",
       "      <th>3</th>\n",
       "      <td>0️⃣</td>\n",
       "      <td>0030-20e3</td>\n",
       "      <td>keycap: 0</td>\n",
       "      <td>keycap</td>\n",
       "      <td>NaN</td>\n",
       "      <td>NaN</td>\n",
       "      <td>NaN</td>\n",
       "      <td>NaN</td>\n",
       "      <td>keycap, 0</td>\n",
       "      <td></td>\n",
       "      <td>keycap, 0, keycap</td>\n",
       "      <td>0, keycap</td>\n",
       "    </tr>\n",
       "    <tr>\n",
       "      <th>4</th>\n",
       "      <td>1️⃣</td>\n",
       "      <td>0031-20e3</td>\n",
       "      <td>keycap: 1</td>\n",
       "      <td>keycap</td>\n",
       "      <td>NaN</td>\n",
       "      <td>NaN</td>\n",
       "      <td>NaN</td>\n",
       "      <td>NaN</td>\n",
       "      <td>keycap, 1</td>\n",
       "      <td></td>\n",
       "      <td>keycap, 1, keycap</td>\n",
       "      <td>1, keycap</td>\n",
       "    </tr>\n",
       "  </tbody>\n",
       "</table>\n",
       "</div>"
      ],
      "text/plain": [
       "  emoji    hexcode openmoji_annotation openmoji_tags_1  \\\n",
       "0   #️⃣  0023-20e3           keycap: #          keycap   \n",
       "1   *️⃣  002a-20e3           keycap: *          keycap   \n",
       "2     -       002d        hyphen-minus             NaN   \n",
       "3   0️⃣  0030-20e3           keycap: 0          keycap   \n",
       "4   1️⃣  0031-20e3           keycap: 1          keycap   \n",
       "\n",
       "             openmoji_tags_2 emojipedia_description llm_tags llm_description  \\\n",
       "0                        NaN                    NaN      NaN             NaN   \n",
       "1                        NaN                    NaN      NaN             NaN   \n",
       "2  hyphen, minus, dash, line                    NaN      NaN             NaN   \n",
       "3                        NaN                    NaN      NaN             NaN   \n",
       "4                        NaN                    NaN      NaN             NaN   \n",
       "\n",
       "  cleaned_annotations cleaned_llm_tags  \\\n",
       "0           keycap, #                    \n",
       "1           keycap, *                    \n",
       "2         hyphenminus                    \n",
       "3           keycap, 0                    \n",
       "4           keycap, 1                    \n",
       "\n",
       "                              merged_tags  \\\n",
       "0                       keycap, #, keycap   \n",
       "1                       keycap, *, keycap   \n",
       "2  hyphenminus, hyphen, minus, dash, line   \n",
       "3                       keycap, 0, keycap   \n",
       "4                       keycap, 1, keycap   \n",
       "\n",
       "                               final_tags  \n",
       "0                               #, keycap  \n",
       "1                               *, keycap  \n",
       "2  dash, hyphen, hyphenminus, line, minus  \n",
       "3                               0, keycap  \n",
       "4                               1, keycap  "
      ]
     },
     "execution_count": 18,
     "metadata": {},
     "output_type": "execute_result"
    }
   ],
   "source": [
    "final_df.head()"
   ]
  },
  {
   "cell_type": "code",
   "execution_count": 19,
   "metadata": {
    "ExecuteTime": {
     "end_time": "2025-02-09T19:29:47.614939Z",
     "start_time": "2025-02-09T19:29:47.608424Z"
    }
   },
   "outputs": [
    {
     "name": "stdout",
     "output_type": "stream",
     "text": [
      "<class 'pandas.core.frame.DataFrame'>\n",
      "RangeIndex: 4298 entries, 0 to 4297\n",
      "Data columns (total 12 columns):\n",
      " #   Column                  Non-Null Count  Dtype \n",
      "---  ------                  --------------  ----- \n",
      " 0   emoji                   4282 non-null   object\n",
      " 1   hexcode                 4298 non-null   object\n",
      " 2   openmoji_annotation     4282 non-null   object\n",
      " 3   openmoji_tags_1         1906 non-null   object\n",
      " 4   openmoji_tags_2         391 non-null    object\n",
      " 5   emojipedia_description  1885 non-null   object\n",
      " 6   llm_tags                2622 non-null   object\n",
      " 7   llm_description         2622 non-null   object\n",
      " 8   cleaned_annotations     4298 non-null   object\n",
      " 9   cleaned_llm_tags        4298 non-null   object\n",
      " 10  merged_tags             4298 non-null   object\n",
      " 11  final_tags              4298 non-null   object\n",
      "dtypes: object(12)\n",
      "memory usage: 403.1+ KB\n"
     ]
    }
   ],
   "source": [
    "final_df.info()"
   ]
  },
  {
   "cell_type": "markdown",
   "metadata": {},
   "source": [
    "## Embedding using Sentence BERT"
   ]
  },
  {
   "cell_type": "code",
   "execution_count": 20,
   "metadata": {
    "ExecuteTime": {
     "end_time": "2025-02-09T19:29:47.641956Z",
     "start_time": "2025-02-09T19:29:47.615846Z"
    }
   },
   "outputs": [
    {
     "name": "stdout",
     "output_type": "stream",
     "text": [
      "Using Mac GPU (MPS)\n"
     ]
    }
   ],
   "source": [
    "# Use GPU if available\n",
    "\"\"\"\n",
    "Reference: https://pytorch.org/get-started/locally/\n",
    "\"\"\"\n",
    "\n",
    "# Check for NVIDIA GPU\n",
    "if torch.cuda.is_available():\n",
    "    device = torch.device(\"cuda\")  # Use CUDA (NVIDIA GPU)\n",
    "    print(\"Using NVIDIA GPU (CUDA)\")\n",
    "\n",
    "# Check for Mac Silicon GPU (MPS)\n",
    "elif torch.backends.mps.is_available():\n",
    "    device = torch.device(\"mps\")  # Use Metal Performance Shaders (Mac Silicon GPU)\n",
    "    print(\"Using Mac GPU (MPS)\")\n",
    "\n",
    "# Default to CPU if no GPU is available\n",
    "else:\n",
    "    device = torch.device(\"cpu\")\n",
    "    print(\"Using CPU\")"
   ]
  },
  {
   "cell_type": "code",
   "execution_count": 21,
   "metadata": {
    "ExecuteTime": {
     "end_time": "2025-02-09T19:29:49.665187Z",
     "start_time": "2025-02-09T19:29:47.642971Z"
    }
   },
   "outputs": [],
   "source": [
    "# Load SBERT model\n",
    "sbert_model = SentenceTransformer('all-MiniLM-L6-v2')\n",
    "sbert_model = sbert_model.to(device)\n",
    "\n",
    "# Ensure text columns are strings\n",
    "# final_df[\"emojipedia_description\"] = final_df[\"emojipedia_description\"].fillna(\"\").astype(str)\n",
    "# final_df[\"llm_description\"] = final_df[\"llm_description\"].fillna(\"\").astype(str)\n",
    "\n",
    "# Return SBERT embedding for a given text.\n",
    "def embed_text(text):\n",
    "    if pd.isna(text) or text.strip() == \"\":\n",
    "        return np.zeros(384)  # Return zero vector for missing values (SBERT output size = 384)\n",
    "    return sbert_model.encode(text)"
   ]
  },
  {
   "cell_type": "code",
   "execution_count": 22,
   "metadata": {
    "ExecuteTime": {
     "end_time": "2025-02-09T19:31:25.059992Z",
     "start_time": "2025-02-09T19:29:49.683707Z"
    }
   },
   "outputs": [
    {
     "name": "stdout",
     "output_type": "stream",
     "text": [
      "Embedding final_tags...\n"
     ]
    },
    {
     "name": "stderr",
     "output_type": "stream",
     "text": [
      "100%|██████████| 4298/4298 [00:47<00:00, 90.90it/s] \n"
     ]
    },
    {
     "name": "stdout",
     "output_type": "stream",
     "text": [
      "Embedding emojipedia_description...\n"
     ]
    },
    {
     "name": "stderr",
     "output_type": "stream",
     "text": [
      "100%|██████████| 4298/4298 [00:22<00:00, 193.36it/s]\n"
     ]
    },
    {
     "name": "stdout",
     "output_type": "stream",
     "text": [
      "Embedding llm_description...\n"
     ]
    },
    {
     "name": "stderr",
     "output_type": "stream",
     "text": [
      "100%|██████████| 4298/4298 [00:25<00:00, 166.30it/s]\n"
     ]
    }
   ],
   "source": [
    "\"\"\"\n",
    "Reference: https://sbert.net/\n",
    "\"\"\"\n",
    "\n",
    "# Apply SBERT embeddings to each columns\n",
    "print(\"Embedding final_tags...\")\n",
    "final_df[\"tags_embedding\"] = final_df[\"final_tags\"].progress_apply(embed_text)\n",
    "\n",
    "print(\"Embedding emojipedia_description...\")\n",
    "final_df[\"emojipedia_embedding\"] = final_df[\"emojipedia_description\"].progress_apply(embed_text)\n",
    "\n",
    "print(\"Embedding llm_description...\")\n",
    "final_df[\"llm_embedding\"] = final_df[\"llm_description\"].progress_apply(embed_text)"
   ]
  },
  {
   "cell_type": "code",
   "execution_count": 23,
   "metadata": {
    "ExecuteTime": {
     "end_time": "2025-02-09T19:31:25.121481Z",
     "start_time": "2025-02-09T19:31:25.062595Z"
    }
   },
   "outputs": [
    {
     "name": "stdout",
     "output_type": "stream",
     "text": [
      "Merging embeddings...\n"
     ]
    }
   ],
   "source": [
    "final_df[\"combined_embedding\"] = final_df.apply(\n",
    "    lambda row: np.concatenate([row[\"tags_embedding\"], row[\"emojipedia_embedding\"], row[\"llm_embedding\"]]), axis=1\n",
    ")"
   ]
  },
  {
   "cell_type": "code",
   "execution_count": 24,
   "metadata": {
    "ExecuteTime": {
     "end_time": "2025-02-09T19:31:25.134456Z",
     "start_time": "2025-02-09T19:31:25.122320Z"
    }
   },
   "outputs": [
    {
     "data": {
      "text/html": [
       "<div>\n",
       "<style scoped>\n",
       "    .dataframe tbody tr th:only-of-type {\n",
       "        vertical-align: middle;\n",
       "    }\n",
       "\n",
       "    .dataframe tbody tr th {\n",
       "        vertical-align: top;\n",
       "    }\n",
       "\n",
       "    .dataframe thead th {\n",
       "        text-align: right;\n",
       "    }\n",
       "</style>\n",
       "<table border=\"1\" class=\"dataframe\">\n",
       "  <thead>\n",
       "    <tr style=\"text-align: right;\">\n",
       "      <th></th>\n",
       "      <th>emoji</th>\n",
       "      <th>hexcode</th>\n",
       "      <th>openmoji_annotation</th>\n",
       "      <th>openmoji_tags_1</th>\n",
       "      <th>openmoji_tags_2</th>\n",
       "      <th>emojipedia_description</th>\n",
       "      <th>llm_tags</th>\n",
       "      <th>llm_description</th>\n",
       "      <th>cleaned_annotations</th>\n",
       "      <th>cleaned_llm_tags</th>\n",
       "      <th>merged_tags</th>\n",
       "      <th>final_tags</th>\n",
       "      <th>tags_embedding</th>\n",
       "      <th>emojipedia_embedding</th>\n",
       "      <th>llm_embedding</th>\n",
       "      <th>combined_embedding</th>\n",
       "    </tr>\n",
       "  </thead>\n",
       "  <tbody>\n",
       "    <tr>\n",
       "      <th>0</th>\n",
       "      <td>#️⃣</td>\n",
       "      <td>0023-20e3</td>\n",
       "      <td>keycap: #</td>\n",
       "      <td>keycap</td>\n",
       "      <td>NaN</td>\n",
       "      <td>NaN</td>\n",
       "      <td>NaN</td>\n",
       "      <td>NaN</td>\n",
       "      <td>keycap, #</td>\n",
       "      <td></td>\n",
       "      <td>keycap, #, keycap</td>\n",
       "      <td>#, keycap</td>\n",
       "      <td>[0.025194695, -0.049892854, 0.049407814, -0.01...</td>\n",
       "      <td>[0.0, 0.0, 0.0, 0.0, 0.0, 0.0, 0.0, 0.0, 0.0, ...</td>\n",
       "      <td>[0.0, 0.0, 0.0, 0.0, 0.0, 0.0, 0.0, 0.0, 0.0, ...</td>\n",
       "      <td>[0.025194695219397545, -0.0498928539454937, 0....</td>\n",
       "    </tr>\n",
       "    <tr>\n",
       "      <th>1</th>\n",
       "      <td>*️⃣</td>\n",
       "      <td>002a-20e3</td>\n",
       "      <td>keycap: *</td>\n",
       "      <td>keycap</td>\n",
       "      <td>NaN</td>\n",
       "      <td>NaN</td>\n",
       "      <td>NaN</td>\n",
       "      <td>NaN</td>\n",
       "      <td>keycap, *</td>\n",
       "      <td></td>\n",
       "      <td>keycap, *, keycap</td>\n",
       "      <td>*, keycap</td>\n",
       "      <td>[0.030324746, -0.047730997, 0.04585727, -0.008...</td>\n",
       "      <td>[0.0, 0.0, 0.0, 0.0, 0.0, 0.0, 0.0, 0.0, 0.0, ...</td>\n",
       "      <td>[0.0, 0.0, 0.0, 0.0, 0.0, 0.0, 0.0, 0.0, 0.0, ...</td>\n",
       "      <td>[0.030324745923280716, -0.04773099720478058, 0...</td>\n",
       "    </tr>\n",
       "    <tr>\n",
       "      <th>2</th>\n",
       "      <td>-</td>\n",
       "      <td>002d</td>\n",
       "      <td>hyphen-minus</td>\n",
       "      <td>NaN</td>\n",
       "      <td>hyphen, minus, dash, line</td>\n",
       "      <td>NaN</td>\n",
       "      <td>NaN</td>\n",
       "      <td>NaN</td>\n",
       "      <td>hyphenminus</td>\n",
       "      <td></td>\n",
       "      <td>hyphenminus, hyphen, minus, dash, line</td>\n",
       "      <td>dash, hyphen, hyphenminus, line, minus</td>\n",
       "      <td>[-0.02458714, 0.100792766, 0.011220712, -0.040...</td>\n",
       "      <td>[0.0, 0.0, 0.0, 0.0, 0.0, 0.0, 0.0, 0.0, 0.0, ...</td>\n",
       "      <td>[0.0, 0.0, 0.0, 0.0, 0.0, 0.0, 0.0, 0.0, 0.0, ...</td>\n",
       "      <td>[-0.02458713948726654, 0.1007927656173706, 0.0...</td>\n",
       "    </tr>\n",
       "    <tr>\n",
       "      <th>3</th>\n",
       "      <td>0️⃣</td>\n",
       "      <td>0030-20e3</td>\n",
       "      <td>keycap: 0</td>\n",
       "      <td>keycap</td>\n",
       "      <td>NaN</td>\n",
       "      <td>NaN</td>\n",
       "      <td>NaN</td>\n",
       "      <td>NaN</td>\n",
       "      <td>keycap, 0</td>\n",
       "      <td></td>\n",
       "      <td>keycap, 0, keycap</td>\n",
       "      <td>0, keycap</td>\n",
       "      <td>[0.043693565, -0.016325165, -0.030014912, 0.02...</td>\n",
       "      <td>[0.0, 0.0, 0.0, 0.0, 0.0, 0.0, 0.0, 0.0, 0.0, ...</td>\n",
       "      <td>[0.0, 0.0, 0.0, 0.0, 0.0, 0.0, 0.0, 0.0, 0.0, ...</td>\n",
       "      <td>[0.04369356483221054, -0.01632516458630562, -0...</td>\n",
       "    </tr>\n",
       "    <tr>\n",
       "      <th>4</th>\n",
       "      <td>1️⃣</td>\n",
       "      <td>0031-20e3</td>\n",
       "      <td>keycap: 1</td>\n",
       "      <td>keycap</td>\n",
       "      <td>NaN</td>\n",
       "      <td>NaN</td>\n",
       "      <td>NaN</td>\n",
       "      <td>NaN</td>\n",
       "      <td>keycap, 1</td>\n",
       "      <td></td>\n",
       "      <td>keycap, 1, keycap</td>\n",
       "      <td>1, keycap</td>\n",
       "      <td>[0.022134304, -0.073349915, -0.005648197, -0.0...</td>\n",
       "      <td>[0.0, 0.0, 0.0, 0.0, 0.0, 0.0, 0.0, 0.0, 0.0, ...</td>\n",
       "      <td>[0.0, 0.0, 0.0, 0.0, 0.0, 0.0, 0.0, 0.0, 0.0, ...</td>\n",
       "      <td>[0.02213430404663086, -0.07334991544485092, -0...</td>\n",
       "    </tr>\n",
       "  </tbody>\n",
       "</table>\n",
       "</div>"
      ],
      "text/plain": [
       "  emoji    hexcode openmoji_annotation openmoji_tags_1  \\\n",
       "0   #️⃣  0023-20e3           keycap: #          keycap   \n",
       "1   *️⃣  002a-20e3           keycap: *          keycap   \n",
       "2     -       002d        hyphen-minus             NaN   \n",
       "3   0️⃣  0030-20e3           keycap: 0          keycap   \n",
       "4   1️⃣  0031-20e3           keycap: 1          keycap   \n",
       "\n",
       "             openmoji_tags_2 emojipedia_description llm_tags llm_description  \\\n",
       "0                        NaN                    NaN      NaN             NaN   \n",
       "1                        NaN                    NaN      NaN             NaN   \n",
       "2  hyphen, minus, dash, line                    NaN      NaN             NaN   \n",
       "3                        NaN                    NaN      NaN             NaN   \n",
       "4                        NaN                    NaN      NaN             NaN   \n",
       "\n",
       "  cleaned_annotations cleaned_llm_tags  \\\n",
       "0           keycap, #                    \n",
       "1           keycap, *                    \n",
       "2         hyphenminus                    \n",
       "3           keycap, 0                    \n",
       "4           keycap, 1                    \n",
       "\n",
       "                              merged_tags  \\\n",
       "0                       keycap, #, keycap   \n",
       "1                       keycap, *, keycap   \n",
       "2  hyphenminus, hyphen, minus, dash, line   \n",
       "3                       keycap, 0, keycap   \n",
       "4                       keycap, 1, keycap   \n",
       "\n",
       "                               final_tags  \\\n",
       "0                               #, keycap   \n",
       "1                               *, keycap   \n",
       "2  dash, hyphen, hyphenminus, line, minus   \n",
       "3                               0, keycap   \n",
       "4                               1, keycap   \n",
       "\n",
       "                                      tags_embedding  \\\n",
       "0  [0.025194695, -0.049892854, 0.049407814, -0.01...   \n",
       "1  [0.030324746, -0.047730997, 0.04585727, -0.008...   \n",
       "2  [-0.02458714, 0.100792766, 0.011220712, -0.040...   \n",
       "3  [0.043693565, -0.016325165, -0.030014912, 0.02...   \n",
       "4  [0.022134304, -0.073349915, -0.005648197, -0.0...   \n",
       "\n",
       "                                emojipedia_embedding  \\\n",
       "0  [0.0, 0.0, 0.0, 0.0, 0.0, 0.0, 0.0, 0.0, 0.0, ...   \n",
       "1  [0.0, 0.0, 0.0, 0.0, 0.0, 0.0, 0.0, 0.0, 0.0, ...   \n",
       "2  [0.0, 0.0, 0.0, 0.0, 0.0, 0.0, 0.0, 0.0, 0.0, ...   \n",
       "3  [0.0, 0.0, 0.0, 0.0, 0.0, 0.0, 0.0, 0.0, 0.0, ...   \n",
       "4  [0.0, 0.0, 0.0, 0.0, 0.0, 0.0, 0.0, 0.0, 0.0, ...   \n",
       "\n",
       "                                       llm_embedding  \\\n",
       "0  [0.0, 0.0, 0.0, 0.0, 0.0, 0.0, 0.0, 0.0, 0.0, ...   \n",
       "1  [0.0, 0.0, 0.0, 0.0, 0.0, 0.0, 0.0, 0.0, 0.0, ...   \n",
       "2  [0.0, 0.0, 0.0, 0.0, 0.0, 0.0, 0.0, 0.0, 0.0, ...   \n",
       "3  [0.0, 0.0, 0.0, 0.0, 0.0, 0.0, 0.0, 0.0, 0.0, ...   \n",
       "4  [0.0, 0.0, 0.0, 0.0, 0.0, 0.0, 0.0, 0.0, 0.0, ...   \n",
       "\n",
       "                                  combined_embedding  \n",
       "0  [0.025194695219397545, -0.0498928539454937, 0....  \n",
       "1  [0.030324745923280716, -0.04773099720478058, 0...  \n",
       "2  [-0.02458713948726654, 0.1007927656173706, 0.0...  \n",
       "3  [0.04369356483221054, -0.01632516458630562, -0...  \n",
       "4  [0.02213430404663086, -0.07334991544485092, -0...  "
      ]
     },
     "execution_count": 24,
     "metadata": {},
     "output_type": "execute_result"
    }
   ],
   "source": [
    "final_df.head()"
   ]
  },
  {
   "cell_type": "markdown",
   "metadata": {},
   "source": [
    "## Linking Images"
   ]
  },
  {
   "cell_type": "code",
   "execution_count": 25,
   "metadata": {
    "ExecuteTime": {
     "end_time": "2025-02-09T19:31:51.323238Z",
     "start_time": "2025-02-09T19:31:25.135084Z"
    }
   },
   "outputs": [
    {
     "name": "stderr",
     "output_type": "stream",
     "text": [
      "100%|██████████| 4298/4298 [00:26<00:00, 164.16it/s]\n"
     ]
    }
   ],
   "source": [
    "# Define paths\n",
    "processed_image_path = \"../data/tensor_images/\"\n",
    "brands = [\"GoogleEmoji\", \"JoyPixelsEmoji\", \"OpenMojiEmoji\", \"TwitterEmoji\"]\n",
    "\n",
    "# Function to get image paths for a given hexcode\n",
    "def get_image_paths(hexcode):\n",
    "    image_paths = {}\n",
    "\n",
    "    for brand in brands:\n",
    "        brand_path = os.path.join(processed_image_path, brand)\n",
    "        if not os.path.exists(brand_path):\n",
    "            continue  # Skip if folder doesn't exist\n",
    "\n",
    "        # List all files in the category\n",
    "        matching_files = [f for f in os.listdir(brand_path) if hexcode in f]  # Match anywhere in the filename\n",
    "        \n",
    "        if matching_files:\n",
    "            # Take the first match (if multiple exist)\n",
    "            image_paths[brand] = os.path.join(brand_path, matching_files[0])\n",
    "        else:\n",
    "            image_paths[brand] = None  # No matching file found\n",
    "\n",
    "    return image_paths\n",
    "\n",
    "df_images = final_df.copy()  # Work on a copy to be safe\n",
    "\n",
    "# Apply the function to get image paths for each row\n",
    "df_images[['google_image_path', 'joypixels_image_path', 'openmoji_image_path', 'twitter_image_path']] = df_images['hexcode'].progress_apply(lambda x: pd.Series(get_image_paths(x)))"
   ]
  },
  {
   "cell_type": "code",
   "execution_count": 26,
   "metadata": {
    "ExecuteTime": {
     "end_time": "2025-02-09T19:31:51.342475Z",
     "start_time": "2025-02-09T19:31:51.324044Z"
    }
   },
   "outputs": [
    {
     "data": {
      "text/html": [
       "<div>\n",
       "<style scoped>\n",
       "    .dataframe tbody tr th:only-of-type {\n",
       "        vertical-align: middle;\n",
       "    }\n",
       "\n",
       "    .dataframe tbody tr th {\n",
       "        vertical-align: top;\n",
       "    }\n",
       "\n",
       "    .dataframe thead th {\n",
       "        text-align: right;\n",
       "    }\n",
       "</style>\n",
       "<table border=\"1\" class=\"dataframe\">\n",
       "  <thead>\n",
       "    <tr style=\"text-align: right;\">\n",
       "      <th></th>\n",
       "      <th>emoji</th>\n",
       "      <th>hexcode</th>\n",
       "      <th>openmoji_annotation</th>\n",
       "      <th>openmoji_tags_1</th>\n",
       "      <th>openmoji_tags_2</th>\n",
       "      <th>emojipedia_description</th>\n",
       "      <th>llm_tags</th>\n",
       "      <th>llm_description</th>\n",
       "      <th>cleaned_annotations</th>\n",
       "      <th>cleaned_llm_tags</th>\n",
       "      <th>merged_tags</th>\n",
       "      <th>final_tags</th>\n",
       "      <th>tags_embedding</th>\n",
       "      <th>emojipedia_embedding</th>\n",
       "      <th>llm_embedding</th>\n",
       "      <th>combined_embedding</th>\n",
       "      <th>google_image_path</th>\n",
       "      <th>joypixels_image_path</th>\n",
       "      <th>openmoji_image_path</th>\n",
       "      <th>twitter_image_path</th>\n",
       "    </tr>\n",
       "  </thead>\n",
       "  <tbody>\n",
       "    <tr>\n",
       "      <th>0</th>\n",
       "      <td>#️⃣</td>\n",
       "      <td>0023-20e3</td>\n",
       "      <td>keycap: #</td>\n",
       "      <td>keycap</td>\n",
       "      <td>NaN</td>\n",
       "      <td>NaN</td>\n",
       "      <td>NaN</td>\n",
       "      <td>NaN</td>\n",
       "      <td>keycap, #</td>\n",
       "      <td></td>\n",
       "      <td>keycap, #, keycap</td>\n",
       "      <td>#, keycap</td>\n",
       "      <td>[0.025194695, -0.049892854, 0.049407814, -0.01...</td>\n",
       "      <td>[0.0, 0.0, 0.0, 0.0, 0.0, 0.0, 0.0, 0.0, 0.0, ...</td>\n",
       "      <td>[0.0, 0.0, 0.0, 0.0, 0.0, 0.0, 0.0, 0.0, 0.0, ...</td>\n",
       "      <td>[0.025194695219397545, -0.0498928539454937, 0....</td>\n",
       "      <td>../data/tensor_images/GoogleEmoji/0023-20e3.pt</td>\n",
       "      <td>../data/tensor_images/JoyPixelsEmoji/0023-20e3.pt</td>\n",
       "      <td>../data/tensor_images/OpenMojiEmoji/0023-20e3.pt</td>\n",
       "      <td>None</td>\n",
       "    </tr>\n",
       "    <tr>\n",
       "      <th>1</th>\n",
       "      <td>*️⃣</td>\n",
       "      <td>002a-20e3</td>\n",
       "      <td>keycap: *</td>\n",
       "      <td>keycap</td>\n",
       "      <td>NaN</td>\n",
       "      <td>NaN</td>\n",
       "      <td>NaN</td>\n",
       "      <td>NaN</td>\n",
       "      <td>keycap, *</td>\n",
       "      <td></td>\n",
       "      <td>keycap, *, keycap</td>\n",
       "      <td>*, keycap</td>\n",
       "      <td>[0.030324746, -0.047730997, 0.04585727, -0.008...</td>\n",
       "      <td>[0.0, 0.0, 0.0, 0.0, 0.0, 0.0, 0.0, 0.0, 0.0, ...</td>\n",
       "      <td>[0.0, 0.0, 0.0, 0.0, 0.0, 0.0, 0.0, 0.0, 0.0, ...</td>\n",
       "      <td>[0.030324745923280716, -0.04773099720478058, 0...</td>\n",
       "      <td>../data/tensor_images/GoogleEmoji/002a-20e3.pt</td>\n",
       "      <td>../data/tensor_images/JoyPixelsEmoji/002a-20e3.pt</td>\n",
       "      <td>../data/tensor_images/OpenMojiEmoji/002a-20e3.pt</td>\n",
       "      <td>None</td>\n",
       "    </tr>\n",
       "    <tr>\n",
       "      <th>2</th>\n",
       "      <td>-</td>\n",
       "      <td>002d</td>\n",
       "      <td>hyphen-minus</td>\n",
       "      <td>NaN</td>\n",
       "      <td>hyphen, minus, dash, line</td>\n",
       "      <td>NaN</td>\n",
       "      <td>NaN</td>\n",
       "      <td>NaN</td>\n",
       "      <td>hyphenminus</td>\n",
       "      <td></td>\n",
       "      <td>hyphenminus, hyphen, minus, dash, line</td>\n",
       "      <td>dash, hyphen, hyphenminus, line, minus</td>\n",
       "      <td>[-0.02458714, 0.100792766, 0.011220712, -0.040...</td>\n",
       "      <td>[0.0, 0.0, 0.0, 0.0, 0.0, 0.0, 0.0, 0.0, 0.0, ...</td>\n",
       "      <td>[0.0, 0.0, 0.0, 0.0, 0.0, 0.0, 0.0, 0.0, 0.0, ...</td>\n",
       "      <td>[-0.02458713948726654, 0.1007927656173706, 0.0...</td>\n",
       "      <td>None</td>\n",
       "      <td>None</td>\n",
       "      <td>../data/tensor_images/OpenMojiEmoji/002d.pt</td>\n",
       "      <td>None</td>\n",
       "    </tr>\n",
       "    <tr>\n",
       "      <th>3</th>\n",
       "      <td>0️⃣</td>\n",
       "      <td>0030-20e3</td>\n",
       "      <td>keycap: 0</td>\n",
       "      <td>keycap</td>\n",
       "      <td>NaN</td>\n",
       "      <td>NaN</td>\n",
       "      <td>NaN</td>\n",
       "      <td>NaN</td>\n",
       "      <td>keycap, 0</td>\n",
       "      <td></td>\n",
       "      <td>keycap, 0, keycap</td>\n",
       "      <td>0, keycap</td>\n",
       "      <td>[0.043693565, -0.016325165, -0.030014912, 0.02...</td>\n",
       "      <td>[0.0, 0.0, 0.0, 0.0, 0.0, 0.0, 0.0, 0.0, 0.0, ...</td>\n",
       "      <td>[0.0, 0.0, 0.0, 0.0, 0.0, 0.0, 0.0, 0.0, 0.0, ...</td>\n",
       "      <td>[0.04369356483221054, -0.01632516458630562, -0...</td>\n",
       "      <td>../data/tensor_images/GoogleEmoji/0030-20e3.pt</td>\n",
       "      <td>../data/tensor_images/JoyPixelsEmoji/0030-20e3.pt</td>\n",
       "      <td>../data/tensor_images/OpenMojiEmoji/0030-20e3.pt</td>\n",
       "      <td>../data/tensor_images/TwitterEmoji/0030-20e3.pt</td>\n",
       "    </tr>\n",
       "    <tr>\n",
       "      <th>4</th>\n",
       "      <td>1️⃣</td>\n",
       "      <td>0031-20e3</td>\n",
       "      <td>keycap: 1</td>\n",
       "      <td>keycap</td>\n",
       "      <td>NaN</td>\n",
       "      <td>NaN</td>\n",
       "      <td>NaN</td>\n",
       "      <td>NaN</td>\n",
       "      <td>keycap, 1</td>\n",
       "      <td></td>\n",
       "      <td>keycap, 1, keycap</td>\n",
       "      <td>1, keycap</td>\n",
       "      <td>[0.022134304, -0.073349915, -0.005648197, -0.0...</td>\n",
       "      <td>[0.0, 0.0, 0.0, 0.0, 0.0, 0.0, 0.0, 0.0, 0.0, ...</td>\n",
       "      <td>[0.0, 0.0, 0.0, 0.0, 0.0, 0.0, 0.0, 0.0, 0.0, ...</td>\n",
       "      <td>[0.02213430404663086, -0.07334991544485092, -0...</td>\n",
       "      <td>../data/tensor_images/GoogleEmoji/0031-20e3.pt</td>\n",
       "      <td>../data/tensor_images/JoyPixelsEmoji/0031-20e3.pt</td>\n",
       "      <td>../data/tensor_images/OpenMojiEmoji/0031-20e3.pt</td>\n",
       "      <td>../data/tensor_images/TwitterEmoji/0031-20e3.pt</td>\n",
       "    </tr>\n",
       "    <tr>\n",
       "      <th>...</th>\n",
       "      <td>...</td>\n",
       "      <td>...</td>\n",
       "      <td>...</td>\n",
       "      <td>...</td>\n",
       "      <td>...</td>\n",
       "      <td>...</td>\n",
       "      <td>...</td>\n",
       "      <td>...</td>\n",
       "      <td>...</td>\n",
       "      <td>...</td>\n",
       "      <td>...</td>\n",
       "      <td>...</td>\n",
       "      <td>...</td>\n",
       "      <td>...</td>\n",
       "      <td>...</td>\n",
       "      <td>...</td>\n",
       "      <td>...</td>\n",
       "      <td>...</td>\n",
       "      <td>...</td>\n",
       "      <td>...</td>\n",
       "    </tr>\n",
       "    <tr>\n",
       "      <th>4293</th>\n",
       "      <td></td>\n",
       "      <td>e380</td>\n",
       "      <td>no handshaking</td>\n",
       "      <td>NaN</td>\n",
       "      <td>hygiene, agreement, virus, meeting, spread, germs</td>\n",
       "      <td>NaN</td>\n",
       "      <td>NaN</td>\n",
       "      <td>NaN</td>\n",
       "      <td>handshaking</td>\n",
       "      <td></td>\n",
       "      <td>handshaking, hygiene, agreement, virus, meetin...</td>\n",
       "      <td>agreement, germs, handshaking, hygiene, meetin...</td>\n",
       "      <td>[0.026375717, 0.06624771, -0.0017016609, -0.02...</td>\n",
       "      <td>[0.0, 0.0, 0.0, 0.0, 0.0, 0.0, 0.0, 0.0, 0.0, ...</td>\n",
       "      <td>[0.0, 0.0, 0.0, 0.0, 0.0, 0.0, 0.0, 0.0, 0.0, ...</td>\n",
       "      <td>[0.02637571655213833, 0.06624770909547806, -0....</td>\n",
       "      <td>None</td>\n",
       "      <td>None</td>\n",
       "      <td>../data/tensor_images/OpenMojiEmoji/e380.pt</td>\n",
       "      <td>None</td>\n",
       "    </tr>\n",
       "    <tr>\n",
       "      <th>4294</th>\n",
       "      <td></td>\n",
       "      <td>e381</td>\n",
       "      <td>web syndication</td>\n",
       "      <td>NaN</td>\n",
       "      <td>feed, RSS, atom feed, podcast, subscribe, web ...</td>\n",
       "      <td>NaN</td>\n",
       "      <td>NaN</td>\n",
       "      <td>NaN</td>\n",
       "      <td>web, syndication</td>\n",
       "      <td></td>\n",
       "      <td>web, syndication, feed, RSS, atom feed, podcas...</td>\n",
       "      <td>RSS, atom feed, feed, podcast, subscribe, synd...</td>\n",
       "      <td>[0.025086869, -0.12783335, -0.050925728, -0.03...</td>\n",
       "      <td>[0.0, 0.0, 0.0, 0.0, 0.0, 0.0, 0.0, 0.0, 0.0, ...</td>\n",
       "      <td>[0.0, 0.0, 0.0, 0.0, 0.0, 0.0, 0.0, 0.0, 0.0, ...</td>\n",
       "      <td>[0.025086868554353714, -0.12783335149288177, -...</td>\n",
       "      <td>None</td>\n",
       "      <td>None</td>\n",
       "      <td>../data/tensor_images/OpenMojiEmoji/e381.pt</td>\n",
       "      <td>None</td>\n",
       "    </tr>\n",
       "    <tr>\n",
       "      <th>4295</th>\n",
       "      <td></td>\n",
       "      <td>f000</td>\n",
       "      <td>windows</td>\n",
       "      <td>NaN</td>\n",
       "      <td>Microsoft</td>\n",
       "      <td>NaN</td>\n",
       "      <td>NaN</td>\n",
       "      <td>NaN</td>\n",
       "      <td>windows</td>\n",
       "      <td></td>\n",
       "      <td>windows, Microsoft</td>\n",
       "      <td>Microsoft, windows</td>\n",
       "      <td>[-0.0010178814, -0.0152808055, -0.03865491, 0....</td>\n",
       "      <td>[0.0, 0.0, 0.0, 0.0, 0.0, 0.0, 0.0, 0.0, 0.0, ...</td>\n",
       "      <td>[0.0, 0.0, 0.0, 0.0, 0.0, 0.0, 0.0, 0.0, 0.0, ...</td>\n",
       "      <td>[-0.0010178814409300685, -0.01528080552816391,...</td>\n",
       "      <td>None</td>\n",
       "      <td>None</td>\n",
       "      <td>../data/tensor_images/OpenMojiEmoji/f000.pt</td>\n",
       "      <td>None</td>\n",
       "    </tr>\n",
       "    <tr>\n",
       "      <th>4296</th>\n",
       "      <td></td>\n",
       "      <td>f77a</td>\n",
       "      <td>artstation</td>\n",
       "      <td>NaN</td>\n",
       "      <td>art, brand</td>\n",
       "      <td>NaN</td>\n",
       "      <td>NaN</td>\n",
       "      <td>NaN</td>\n",
       "      <td>artstation</td>\n",
       "      <td></td>\n",
       "      <td>artstation, art, brand</td>\n",
       "      <td>art, artstation, brand</td>\n",
       "      <td>[0.026021695, -0.005451175, 0.024167946, -0.07...</td>\n",
       "      <td>[0.0, 0.0, 0.0, 0.0, 0.0, 0.0, 0.0, 0.0, 0.0, ...</td>\n",
       "      <td>[0.0, 0.0, 0.0, 0.0, 0.0, 0.0, 0.0, 0.0, 0.0, ...</td>\n",
       "      <td>[0.026021694764494896, -0.005451174918562174, ...</td>\n",
       "      <td>None</td>\n",
       "      <td>None</td>\n",
       "      <td>../data/tensor_images/OpenMojiEmoji/f77a.pt</td>\n",
       "      <td>None</td>\n",
       "    </tr>\n",
       "    <tr>\n",
       "      <th>4297</th>\n",
       "      <td></td>\n",
       "      <td>f8ff</td>\n",
       "      <td>apple</td>\n",
       "      <td>NaN</td>\n",
       "      <td>iOS, OSX</td>\n",
       "      <td>NaN</td>\n",
       "      <td>NaN</td>\n",
       "      <td>NaN</td>\n",
       "      <td>apple</td>\n",
       "      <td></td>\n",
       "      <td>apple, iOS, OSX</td>\n",
       "      <td>OSX, apple, iOS</td>\n",
       "      <td>[0.022747384, -0.07578452, 0.07421439, -0.0618...</td>\n",
       "      <td>[0.0, 0.0, 0.0, 0.0, 0.0, 0.0, 0.0, 0.0, 0.0, ...</td>\n",
       "      <td>[0.0, 0.0, 0.0, 0.0, 0.0, 0.0, 0.0, 0.0, 0.0, ...</td>\n",
       "      <td>[0.022747384384274483, -0.07578451931476593, 0...</td>\n",
       "      <td>None</td>\n",
       "      <td>None</td>\n",
       "      <td>../data/tensor_images/OpenMojiEmoji/f8ff.pt</td>\n",
       "      <td>None</td>\n",
       "    </tr>\n",
       "  </tbody>\n",
       "</table>\n",
       "<p>4298 rows × 20 columns</p>\n",
       "</div>"
      ],
      "text/plain": [
       "     emoji    hexcode openmoji_annotation openmoji_tags_1  \\\n",
       "0      #️⃣  0023-20e3           keycap: #          keycap   \n",
       "1      *️⃣  002a-20e3           keycap: *          keycap   \n",
       "2        -       002d        hyphen-minus             NaN   \n",
       "3      0️⃣  0030-20e3           keycap: 0          keycap   \n",
       "4      1️⃣  0031-20e3           keycap: 1          keycap   \n",
       "...    ...        ...                 ...             ...   \n",
       "4293            e380      no handshaking             NaN   \n",
       "4294            e381     web syndication             NaN   \n",
       "4295            f000             windows             NaN   \n",
       "4296            f77a          artstation             NaN   \n",
       "4297            f8ff               apple             NaN   \n",
       "\n",
       "                                        openmoji_tags_2  \\\n",
       "0                                                   NaN   \n",
       "1                                                   NaN   \n",
       "2                             hyphen, minus, dash, line   \n",
       "3                                                   NaN   \n",
       "4                                                   NaN   \n",
       "...                                                 ...   \n",
       "4293  hygiene, agreement, virus, meeting, spread, germs   \n",
       "4294  feed, RSS, atom feed, podcast, subscribe, web ...   \n",
       "4295                                          Microsoft   \n",
       "4296                                         art, brand   \n",
       "4297                                           iOS, OSX   \n",
       "\n",
       "     emojipedia_description llm_tags llm_description cleaned_annotations  \\\n",
       "0                       NaN      NaN             NaN           keycap, #   \n",
       "1                       NaN      NaN             NaN           keycap, *   \n",
       "2                       NaN      NaN             NaN         hyphenminus   \n",
       "3                       NaN      NaN             NaN           keycap, 0   \n",
       "4                       NaN      NaN             NaN           keycap, 1   \n",
       "...                     ...      ...             ...                 ...   \n",
       "4293                    NaN      NaN             NaN         handshaking   \n",
       "4294                    NaN      NaN             NaN    web, syndication   \n",
       "4295                    NaN      NaN             NaN             windows   \n",
       "4296                    NaN      NaN             NaN          artstation   \n",
       "4297                    NaN      NaN             NaN               apple   \n",
       "\n",
       "     cleaned_llm_tags                                        merged_tags  \\\n",
       "0                                                      keycap, #, keycap   \n",
       "1                                                      keycap, *, keycap   \n",
       "2                                 hyphenminus, hyphen, minus, dash, line   \n",
       "3                                                      keycap, 0, keycap   \n",
       "4                                                      keycap, 1, keycap   \n",
       "...               ...                                                ...   \n",
       "4293                   handshaking, hygiene, agreement, virus, meetin...   \n",
       "4294                   web, syndication, feed, RSS, atom feed, podcas...   \n",
       "4295                                                  windows, Microsoft   \n",
       "4296                                              artstation, art, brand   \n",
       "4297                                                     apple, iOS, OSX   \n",
       "\n",
       "                                             final_tags  \\\n",
       "0                                             #, keycap   \n",
       "1                                             *, keycap   \n",
       "2                dash, hyphen, hyphenminus, line, minus   \n",
       "3                                             0, keycap   \n",
       "4                                             1, keycap   \n",
       "...                                                 ...   \n",
       "4293  agreement, germs, handshaking, hygiene, meetin...   \n",
       "4294  RSS, atom feed, feed, podcast, subscribe, synd...   \n",
       "4295                                 Microsoft, windows   \n",
       "4296                             art, artstation, brand   \n",
       "4297                                    OSX, apple, iOS   \n",
       "\n",
       "                                         tags_embedding  \\\n",
       "0     [0.025194695, -0.049892854, 0.049407814, -0.01...   \n",
       "1     [0.030324746, -0.047730997, 0.04585727, -0.008...   \n",
       "2     [-0.02458714, 0.100792766, 0.011220712, -0.040...   \n",
       "3     [0.043693565, -0.016325165, -0.030014912, 0.02...   \n",
       "4     [0.022134304, -0.073349915, -0.005648197, -0.0...   \n",
       "...                                                 ...   \n",
       "4293  [0.026375717, 0.06624771, -0.0017016609, -0.02...   \n",
       "4294  [0.025086869, -0.12783335, -0.050925728, -0.03...   \n",
       "4295  [-0.0010178814, -0.0152808055, -0.03865491, 0....   \n",
       "4296  [0.026021695, -0.005451175, 0.024167946, -0.07...   \n",
       "4297  [0.022747384, -0.07578452, 0.07421439, -0.0618...   \n",
       "\n",
       "                                   emojipedia_embedding  \\\n",
       "0     [0.0, 0.0, 0.0, 0.0, 0.0, 0.0, 0.0, 0.0, 0.0, ...   \n",
       "1     [0.0, 0.0, 0.0, 0.0, 0.0, 0.0, 0.0, 0.0, 0.0, ...   \n",
       "2     [0.0, 0.0, 0.0, 0.0, 0.0, 0.0, 0.0, 0.0, 0.0, ...   \n",
       "3     [0.0, 0.0, 0.0, 0.0, 0.0, 0.0, 0.0, 0.0, 0.0, ...   \n",
       "4     [0.0, 0.0, 0.0, 0.0, 0.0, 0.0, 0.0, 0.0, 0.0, ...   \n",
       "...                                                 ...   \n",
       "4293  [0.0, 0.0, 0.0, 0.0, 0.0, 0.0, 0.0, 0.0, 0.0, ...   \n",
       "4294  [0.0, 0.0, 0.0, 0.0, 0.0, 0.0, 0.0, 0.0, 0.0, ...   \n",
       "4295  [0.0, 0.0, 0.0, 0.0, 0.0, 0.0, 0.0, 0.0, 0.0, ...   \n",
       "4296  [0.0, 0.0, 0.0, 0.0, 0.0, 0.0, 0.0, 0.0, 0.0, ...   \n",
       "4297  [0.0, 0.0, 0.0, 0.0, 0.0, 0.0, 0.0, 0.0, 0.0, ...   \n",
       "\n",
       "                                          llm_embedding  \\\n",
       "0     [0.0, 0.0, 0.0, 0.0, 0.0, 0.0, 0.0, 0.0, 0.0, ...   \n",
       "1     [0.0, 0.0, 0.0, 0.0, 0.0, 0.0, 0.0, 0.0, 0.0, ...   \n",
       "2     [0.0, 0.0, 0.0, 0.0, 0.0, 0.0, 0.0, 0.0, 0.0, ...   \n",
       "3     [0.0, 0.0, 0.0, 0.0, 0.0, 0.0, 0.0, 0.0, 0.0, ...   \n",
       "4     [0.0, 0.0, 0.0, 0.0, 0.0, 0.0, 0.0, 0.0, 0.0, ...   \n",
       "...                                                 ...   \n",
       "4293  [0.0, 0.0, 0.0, 0.0, 0.0, 0.0, 0.0, 0.0, 0.0, ...   \n",
       "4294  [0.0, 0.0, 0.0, 0.0, 0.0, 0.0, 0.0, 0.0, 0.0, ...   \n",
       "4295  [0.0, 0.0, 0.0, 0.0, 0.0, 0.0, 0.0, 0.0, 0.0, ...   \n",
       "4296  [0.0, 0.0, 0.0, 0.0, 0.0, 0.0, 0.0, 0.0, 0.0, ...   \n",
       "4297  [0.0, 0.0, 0.0, 0.0, 0.0, 0.0, 0.0, 0.0, 0.0, ...   \n",
       "\n",
       "                                     combined_embedding  \\\n",
       "0     [0.025194695219397545, -0.0498928539454937, 0....   \n",
       "1     [0.030324745923280716, -0.04773099720478058, 0...   \n",
       "2     [-0.02458713948726654, 0.1007927656173706, 0.0...   \n",
       "3     [0.04369356483221054, -0.01632516458630562, -0...   \n",
       "4     [0.02213430404663086, -0.07334991544485092, -0...   \n",
       "...                                                 ...   \n",
       "4293  [0.02637571655213833, 0.06624770909547806, -0....   \n",
       "4294  [0.025086868554353714, -0.12783335149288177, -...   \n",
       "4295  [-0.0010178814409300685, -0.01528080552816391,...   \n",
       "4296  [0.026021694764494896, -0.005451174918562174, ...   \n",
       "4297  [0.022747384384274483, -0.07578451931476593, 0...   \n",
       "\n",
       "                                   google_image_path  \\\n",
       "0     ../data/tensor_images/GoogleEmoji/0023-20e3.pt   \n",
       "1     ../data/tensor_images/GoogleEmoji/002a-20e3.pt   \n",
       "2                                               None   \n",
       "3     ../data/tensor_images/GoogleEmoji/0030-20e3.pt   \n",
       "4     ../data/tensor_images/GoogleEmoji/0031-20e3.pt   \n",
       "...                                              ...   \n",
       "4293                                            None   \n",
       "4294                                            None   \n",
       "4295                                            None   \n",
       "4296                                            None   \n",
       "4297                                            None   \n",
       "\n",
       "                                   joypixels_image_path  \\\n",
       "0     ../data/tensor_images/JoyPixelsEmoji/0023-20e3.pt   \n",
       "1     ../data/tensor_images/JoyPixelsEmoji/002a-20e3.pt   \n",
       "2                                                  None   \n",
       "3     ../data/tensor_images/JoyPixelsEmoji/0030-20e3.pt   \n",
       "4     ../data/tensor_images/JoyPixelsEmoji/0031-20e3.pt   \n",
       "...                                                 ...   \n",
       "4293                                               None   \n",
       "4294                                               None   \n",
       "4295                                               None   \n",
       "4296                                               None   \n",
       "4297                                               None   \n",
       "\n",
       "                                   openmoji_image_path  \\\n",
       "0     ../data/tensor_images/OpenMojiEmoji/0023-20e3.pt   \n",
       "1     ../data/tensor_images/OpenMojiEmoji/002a-20e3.pt   \n",
       "2          ../data/tensor_images/OpenMojiEmoji/002d.pt   \n",
       "3     ../data/tensor_images/OpenMojiEmoji/0030-20e3.pt   \n",
       "4     ../data/tensor_images/OpenMojiEmoji/0031-20e3.pt   \n",
       "...                                                ...   \n",
       "4293       ../data/tensor_images/OpenMojiEmoji/e380.pt   \n",
       "4294       ../data/tensor_images/OpenMojiEmoji/e381.pt   \n",
       "4295       ../data/tensor_images/OpenMojiEmoji/f000.pt   \n",
       "4296       ../data/tensor_images/OpenMojiEmoji/f77a.pt   \n",
       "4297       ../data/tensor_images/OpenMojiEmoji/f8ff.pt   \n",
       "\n",
       "                                   twitter_image_path  \n",
       "0                                                None  \n",
       "1                                                None  \n",
       "2                                                None  \n",
       "3     ../data/tensor_images/TwitterEmoji/0030-20e3.pt  \n",
       "4     ../data/tensor_images/TwitterEmoji/0031-20e3.pt  \n",
       "...                                               ...  \n",
       "4293                                             None  \n",
       "4294                                             None  \n",
       "4295                                             None  \n",
       "4296                                             None  \n",
       "4297                                             None  \n",
       "\n",
       "[4298 rows x 20 columns]"
      ]
     },
     "execution_count": 26,
     "metadata": {},
     "output_type": "execute_result"
    }
   ],
   "source": [
    "df_images"
   ]
  },
  {
   "cell_type": "code",
   "execution_count": 27,
   "metadata": {
    "ExecuteTime": {
     "end_time": "2025-02-09T19:31:51.350109Z",
     "start_time": "2025-02-09T19:31:51.343396Z"
    }
   },
   "outputs": [
    {
     "name": "stdout",
     "output_type": "stream",
     "text": [
      "<class 'pandas.core.frame.DataFrame'>\n",
      "RangeIndex: 4298 entries, 0 to 4297\n",
      "Data columns (total 20 columns):\n",
      " #   Column                  Non-Null Count  Dtype \n",
      "---  ------                  --------------  ----- \n",
      " 0   emoji                   4282 non-null   object\n",
      " 1   hexcode                 4298 non-null   object\n",
      " 2   openmoji_annotation     4282 non-null   object\n",
      " 3   openmoji_tags_1         1906 non-null   object\n",
      " 4   openmoji_tags_2         391 non-null    object\n",
      " 5   emojipedia_description  1885 non-null   object\n",
      " 6   llm_tags                2622 non-null   object\n",
      " 7   llm_description         2622 non-null   object\n",
      " 8   cleaned_annotations     4298 non-null   object\n",
      " 9   cleaned_llm_tags        4298 non-null   object\n",
      " 10  merged_tags             4298 non-null   object\n",
      " 11  final_tags              4298 non-null   object\n",
      " 12  tags_embedding          4298 non-null   object\n",
      " 13  emojipedia_embedding    4298 non-null   object\n",
      " 14  llm_embedding           4298 non-null   object\n",
      " 15  combined_embedding      4298 non-null   object\n",
      " 16  google_image_path       3562 non-null   object\n",
      " 17  joypixels_image_path    3824 non-null   object\n",
      " 18  openmoji_image_path     4297 non-null   object\n",
      " 19  twitter_image_path      883 non-null    object\n",
      "dtypes: object(20)\n",
      "memory usage: 671.7+ KB\n"
     ]
    }
   ],
   "source": [
    "df_images.info()"
   ]
  },
  {
   "cell_type": "code",
   "execution_count": 27,
   "metadata": {
    "ExecuteTime": {
     "end_time": "2025-02-09T19:31:51.355674Z",
     "start_time": "2025-02-09T19:31:51.354216Z"
    }
   },
   "outputs": [],
   "source": []
  }
 ],
 "metadata": {
  "kernelspec": {
   "display_name": "Python 3",
   "language": "python",
   "name": "python3"
  },
  "language_info": {
   "codemirror_mode": {
    "name": "ipython",
    "version": 3
   },
   "file_extension": ".py",
   "mimetype": "text/x-python",
   "name": "python",
   "nbconvert_exporter": "python",
   "pygments_lexer": "ipython3",
   "version": "3.11.4"
  }
 },
 "nbformat": 4,
 "nbformat_minor": 2
}
