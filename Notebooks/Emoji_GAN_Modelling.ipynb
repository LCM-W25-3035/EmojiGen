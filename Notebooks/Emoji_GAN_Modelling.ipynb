{
 "cells": [
  {
   "cell_type": "code",
   "id": "initial_id",
   "metadata": {
    "collapsed": true,
    "ExecuteTime": {
     "end_time": "2025-02-13T14:09:09.541160Z",
     "start_time": "2025-02-13T14:09:09.538536Z"
    }
   },
   "source": [
    "import pandas as pd\n",
    "import numpy as np"
   ],
   "outputs": [],
   "execution_count": 6
  },
  {
   "metadata": {
    "ExecuteTime": {
     "end_time": "2025-02-13T14:09:09.650475Z",
     "start_time": "2025-02-13T14:09:09.542476Z"
    }
   },
   "cell_type": "code",
   "source": [
    "# Load the saved file\n",
    "df = pd.read_parquet('../data/processed_emoji_dataset.parquet')\n",
    "\n",
    "# Convert lists back to Numpy arrays of float32\n",
    "df[\"combined_embedding\"] = df[\"combined_embedding\"].apply(lambda x: np.array(x, dtype=np.float32))"
   ],
   "id": "a6d6b20083ebe855",
   "outputs": [],
   "execution_count": 7
  },
  {
   "metadata": {
    "ExecuteTime": {
     "end_time": "2025-02-13T14:09:09.659757Z",
     "start_time": "2025-02-13T14:09:09.652477Z"
    }
   },
   "cell_type": "code",
   "source": "df.head()",
   "id": "509b4b55b1a551e",
   "outputs": [
    {
     "data": {
      "text/plain": [
       "                                  combined_embedding  \\\n",
       "0  [0.02519471, -0.04989285, 0.04940779, -0.01256...   \n",
       "1  [0.02519471, -0.04989285, 0.04940779, -0.01256...   \n",
       "2  [0.02519471, -0.04989285, 0.04940779, -0.01256...   \n",
       "3  [0.030324753, -0.047731012, 0.04585727, -0.008...   \n",
       "4  [0.030324753, -0.047731012, 0.04585727, -0.008...   \n",
       "\n",
       "                                          image_path  \n",
       "0     ../data/tensor_images/GoogleEmoji/0023-20e3.pt  \n",
       "1  ../data/tensor_images/JoyPixelsEmoji/0023-20e3.pt  \n",
       "2   ../data/tensor_images/OpenMojiEmoji/0023-20e3.pt  \n",
       "3     ../data/tensor_images/GoogleEmoji/002a-20e3.pt  \n",
       "4  ../data/tensor_images/JoyPixelsEmoji/002a-20e3.pt  "
      ],
      "text/html": [
       "<div>\n",
       "<style scoped>\n",
       "    .dataframe tbody tr th:only-of-type {\n",
       "        vertical-align: middle;\n",
       "    }\n",
       "\n",
       "    .dataframe tbody tr th {\n",
       "        vertical-align: top;\n",
       "    }\n",
       "\n",
       "    .dataframe thead th {\n",
       "        text-align: right;\n",
       "    }\n",
       "</style>\n",
       "<table border=\"1\" class=\"dataframe\">\n",
       "  <thead>\n",
       "    <tr style=\"text-align: right;\">\n",
       "      <th></th>\n",
       "      <th>combined_embedding</th>\n",
       "      <th>image_path</th>\n",
       "    </tr>\n",
       "  </thead>\n",
       "  <tbody>\n",
       "    <tr>\n",
       "      <th>0</th>\n",
       "      <td>[0.02519471, -0.04989285, 0.04940779, -0.01256...</td>\n",
       "      <td>../data/tensor_images/GoogleEmoji/0023-20e3.pt</td>\n",
       "    </tr>\n",
       "    <tr>\n",
       "      <th>1</th>\n",
       "      <td>[0.02519471, -0.04989285, 0.04940779, -0.01256...</td>\n",
       "      <td>../data/tensor_images/JoyPixelsEmoji/0023-20e3.pt</td>\n",
       "    </tr>\n",
       "    <tr>\n",
       "      <th>2</th>\n",
       "      <td>[0.02519471, -0.04989285, 0.04940779, -0.01256...</td>\n",
       "      <td>../data/tensor_images/OpenMojiEmoji/0023-20e3.pt</td>\n",
       "    </tr>\n",
       "    <tr>\n",
       "      <th>3</th>\n",
       "      <td>[0.030324753, -0.047731012, 0.04585727, -0.008...</td>\n",
       "      <td>../data/tensor_images/GoogleEmoji/002a-20e3.pt</td>\n",
       "    </tr>\n",
       "    <tr>\n",
       "      <th>4</th>\n",
       "      <td>[0.030324753, -0.047731012, 0.04585727, -0.008...</td>\n",
       "      <td>../data/tensor_images/JoyPixelsEmoji/002a-20e3.pt</td>\n",
       "    </tr>\n",
       "  </tbody>\n",
       "</table>\n",
       "</div>"
      ]
     },
     "execution_count": 8,
     "metadata": {},
     "output_type": "execute_result"
    }
   ],
   "execution_count": 8
  }
 ],
 "metadata": {
  "kernelspec": {
   "display_name": "Python 3",
   "language": "python",
   "name": "python3"
  },
  "language_info": {
   "codemirror_mode": {
    "name": "ipython",
    "version": 2
   },
   "file_extension": ".py",
   "mimetype": "text/x-python",
   "name": "python",
   "nbconvert_exporter": "python",
   "pygments_lexer": "ipython2",
   "version": "2.7.6"
  }
 },
 "nbformat": 4,
 "nbformat_minor": 5
}
