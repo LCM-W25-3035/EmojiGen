{
 "cells": [
  {
   "cell_type": "code",
   "execution_count": null,
   "metadata": {},
   "outputs": [],
   "source": [
    "# ChatGPT4o \n",
    "# prompt:   How to Finetune Stable difdusion with LoRA"
   ]
  },
  {
   "cell_type": "code",
   "execution_count": null,
   "metadata": {},
   "outputs": [],
   "source": [
    "# Step 1: Install Dependencies\n",
    "!pip install torch torchvision torchaudio --index-url https://download.pytorch.org/whl/cu118\n",
    "!pip install diffusers transformers accelerate safetensors\n",
    "!pip install bitsandbytes peft datasets omegaconf xformers rembg gradio"
   ]
  },
  {
   "cell_type": "code",
   "execution_count": null,
   "metadata": {},
   "outputs": [],
   "source": [
    "# Step 2: Download Base Stable Diffusion Model\n",
    "from diffusers import StableDiffusionPipeline\n",
    "pipe = StableDiffusionPipeline.from_pretrained(\"runwayml/stable-diffusion-v1-5\")\n",
    "pipe.save_pretrained(\"./sd_model\")"
   ]
  },
  {
   "cell_type": "code",
   "execution_count": null,
   "metadata": {},
   "outputs": [],
   "source": [
    "import os\n",
    "import json\n",
    "\n",
    "dataset_path = \"./sticker_dataset\"\n",
    "os.makedirs(dataset_path, exist_ok=True)"
   ]
  },
  {
   "cell_type": "code",
   "execution_count": null,
   "metadata": {},
   "outputs": [],
   "source": [
    "# Step 4: Clone and Setup QLoRA Training Scripts\n",
    "!git clone https://github.com/kohya-ss/sd-scripts.git\n",
    "%cd sd-scripts\n",
    "!pip install -r requirements.txt"
   ]
  },
  {
   "cell_type": "code",
   "execution_count": null,
   "metadata": {},
   "outputs": [],
   "source": [
    "# Step 5: Fine-Tune with QLoRA\n",
    "# Edit the --output_dir and filenames as needed\n",
    "!accelerate launch train_network.py \\\n",
    "  --pretrained_model_name_or_path=\"../sd_model\" \\\n",
    "  --train_data_dir=\"../sticker_dataset\" \\\n",
    "  --output_dir=\"../qlora_fine_tuned\" \\\n",
    "  --network_module=lycoris.kohya \\\n",
    "  --network_dim=16 \\\n",
    "  --resolution=512 \\\n",
    "  --train_batch_size=2 \\\n",
    "  --learning_rate=1e-4 \\\n",
    "  --max_train_steps=1000 \\\n",
    "  --use_8bit_adam \\\n",
    "  --use_4bit"
   ]
  },
  {
   "cell_type": "code",
   "execution_count": null,
   "metadata": {},
   "outputs": [],
   "source": [
    "# Step 6: Generate Sticker Images with Fine-Tuned Model\n",
    "from diffusers import StableDiffusionPipeline\n",
    "import torch\n",
    "\n",
    "pipe = StableDiffusionPipeline.from_pretrained(\"runwayml/stable-diffusion-v1-5\").to(\"cuda\")\n",
    "pipe.load_lora_weights(\"../qlora_fine_tuned/sticker_style_qlora.safetensors\")\n",
    "\n",
    "prompt = \"sticker-style anime dog, glossy, colorful, outlined\"\n",
    "image = pipe(prompt).images[0]\n",
    "image.save(\"generated_sticker.png\")\n",
    "image.show()"
   ]
  },
  {
   "cell_type": "code",
   "execution_count": null,
   "metadata": {},
   "outputs": [],
   "source": []
  }
 ],
 "metadata": {
  "kernelspec": {
   "display_name": "emoji_env",
   "language": "python",
   "name": "python3"
  },
  "language_info": {
   "name": "python",
   "version": "3.11.9"
  }
 },
 "nbformat": 4,
 "nbformat_minor": 2
}
