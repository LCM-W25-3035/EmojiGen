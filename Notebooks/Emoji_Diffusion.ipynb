{
 "cells": [
  {
   "cell_type": "code",
   "execution_count": null,
   "metadata": {},
   "outputs": [],
   "source": [
    "import os\n",
    "import torch\n",
    "import pandas as pd\n",
    "import torch.nn as nn\n",
    "import torch.optim as optim\n",
    "import numpy as np\n",
    "import torchvision.transforms as transforms\n",
    "import torchvision.datasets as datasets\n",
    "import matplotlib.pyplot as plt\n",
    "from torch.utils.data import DataLoader, Dataset\n",
    "from tqdm import tqdm"
   ]
  },
  {
   "cell_type": "code",
   "execution_count": null,
   "metadata": {},
   "outputs": [
    {
     "name": "stdout",
     "output_type": "stream",
     "text": [
      "Using device: cuda\n"
     ]
    }
   ],
   "source": [
    "# Check if CUDA is available\n",
    "device = torch.device(\"cuda\" if torch.cuda.is_available() else \"cpu\")\n",
    "print(f\"Using device: {device}\")"
   ]
  },
  {
   "cell_type": "code",
   "execution_count": null,
   "metadata": {},
   "outputs": [],
   "source": [
    "# Load preprocessed dataset\n",
    "df = pd.read_parquet(\"../data/processed_emoji_dataset.parquet\")\n",
    "\n",
    "# Convert embeddings to float32 numpy arrays\n",
    "df[\"combined_embedding\"] = df[\"combined_embedding\"].apply(lambda x: np.array(x, dtype=np.float32))"
   ]
  },
  {
   "cell_type": "code",
   "execution_count": null,
   "metadata": {},
   "outputs": [],
   "source": [
    "# Custom Dataset Class\n",
    "class EmojiDataset(Dataset):\n",
    "    def __init__(self, dataframe):\n",
    "        self.dataframe = dataframe\n",
    "\n",
    "    def __len__(self):\n",
    "        return len(self.dataframe)\n",
    "\n",
    "    def __getitem__(self, idx):\n",
    "        embedding = torch.tensor(self.dataframe.iloc[idx][\"combined_embedding\"]).float()\n",
    "        image_tensor = torch.load(self.dataframe.iloc[idx][\"image_path\"]).float()\n",
    "        return embedding, image_tensor"
   ]
  },
  {
   "cell_type": "code",
   "execution_count": null,
   "metadata": {},
   "outputs": [
    {
     "name": "stdout",
     "output_type": "stream",
     "text": [
      "Dataset loaded successfully!\n"
     ]
    }
   ],
   "source": [
    "# Create DataLoader\n",
    "dataset = EmojiDataset(df)\n",
    "dataloader = DataLoader(dataset, batch_size=64, shuffle=True)\n",
    "print(\"Dataset loaded successfully!\")"
   ]
  },
  {
   "cell_type": "code",
   "execution_count": null,
   "metadata": {},
   "outputs": [
    {
     "name": "stdout",
     "output_type": "stream",
     "text": [
      "torch.Size([64, 384]) torch.Size([64, 3, 16, 16])\n"
     ]
    }
   ],
   "source": [
    "for embeddings, images in dataloader:\n",
    "    print(embeddings.shape, images.shape)\n",
    "    break\n"
   ]
  },
  {
   "cell_type": "code",
   "execution_count": null,
   "metadata": {},
   "outputs": [],
   "source": [
    "# Define U-Net Model for 16×16 Images\n",
    "class UNet(nn.Module):\n",
    "    def __init__(self):\n",
    "        super(UNet, self).__init__()\n",
    "        self.encoder = nn.Sequential(\n",
    "            nn.Conv2d(3, 64, 3, stride=1, padding=1),\n",
    "            nn.ReLU(),\n",
    "            nn.Conv2d(64, 128, 3, stride=2, padding=1),\n",
    "            nn.ReLU(),\n",
    "            nn.Conv2d(128, 256, 3, stride=2, padding=1),\n",
    "            nn.ReLU(),\n",
    "        )\n",
    "\n",
    "        self.decoder = nn.Sequential(\n",
    "            nn.ConvTranspose2d(256, 128, 4, stride=2, padding=1),\n",
    "            nn.ReLU(),\n",
    "            nn.ConvTranspose2d(128, 64, 4, stride=2, padding=1),\n",
    "            nn.ReLU(),\n",
    "            nn.Conv2d(64, 3, 3, stride=1, padding=1),\n",
    "            nn.Tanh(),\n",
    "        )\n",
    "        \n",
    "\n",
    "    def forward(self, x):\n",
    "        x = self.encoder(x)\n",
    "        x = self.decoder(x)\n",
    "        return x"
   ]
  },
  {
   "cell_type": "code",
   "execution_count": null,
   "metadata": {},
   "outputs": [
    {
     "name": "stdout",
     "output_type": "stream",
     "text": [
      "U-Net Model Created!\n",
      "Diffusion Process Initialized!\n"
     ]
    }
   ],
   "source": [
    "# Initialize Model\n",
    "model = UNet().to(device)\n",
    "print(\"U-Net Model Created!\")\n",
    "# Diffusion Process\n",
    "class Diffusion:\n",
    "    def __init__(self, num_timesteps=1000, beta_start=1e-4, beta_end=0.02):\n",
    "        self.num_timesteps = num_timesteps\n",
    "        self.beta = torch.linspace(beta_start, beta_end, num_timesteps).to(device)\n",
    "        self.alpha = 1 - self.beta\n",
    "        self.alpha_cumprod = torch.cumprod(self.alpha, dim=0)\n",
    "\n",
    "    def add_noise(self, x0, t):\n",
    "        noise = torch.randn_like(x0).to(device)\n",
    "\n",
    "        # Compute the max value per image correctly\n",
    "        max_noise, _ = torch.max(torch.abs(noise.view(noise.shape[0], -1)), dim=1)\n",
    "        max_noise = max_noise.view(-1, 1, 1, 1)  # Reshape for broadcasting\n",
    "        max_noise[max_noise == 0] = 1e-8  # Avoid division by zero\n",
    "\n",
    "        noise = noise / max_noise  # Normalize noise to [-1, 1]\n",
    "\n",
    "        alpha_t = self.alpha_cumprod[t].view(-1, 1, 1, 1).to(device)\n",
    "        noisy_x = torch.sqrt(alpha_t) * x0 + torch.sqrt(1 - alpha_t) * noise\n",
    "        noisy_x = torch.clamp(noisy_x, -1, 1)\n",
    "\n",
    "        return noisy_x, noise\n",
    "\n",
    "diffusion = Diffusion()\n",
    "print(\"Diffusion Process Initialized!\")"
   ]
  },
  {
   "cell_type": "code",
   "execution_count": null,
   "metadata": {},
   "outputs": [
    {
     "name": "stdout",
     "output_type": "stream",
     "text": [
      "Checking model outputs before training...\n",
      "Model output - Min: -0.0233506727963686 Max: 0.02689378708600998\n"
     ]
    }
   ],
   "source": [
    "print(\"Checking model outputs before training...\")\n",
    "test_noise = torch.randn(1, 3, 16, 16).to(device)\n",
    "test_output = model(test_noise)\n",
    "print(\"Model output - Min:\", test_output.min().item(), \"Max:\", test_output.max().item())\n"
   ]
  },
  {
   "cell_type": "code",
   "execution_count": null,
   "metadata": {},
   "outputs": [
    {
     "name": "stderr",
     "output_type": "stream",
     "text": [
      "Epoch [1/5]: 100%|██████████| 196/196 [00:06<00:00, 28.92it/s, loss=0.0518]\n",
      "Epoch [2/5]: 100%|██████████| 196/196 [00:08<00:00, 23.79it/s, loss=0.0273]\n",
      "Epoch [3/5]: 100%|██████████| 196/196 [00:08<00:00, 22.42it/s, loss=0.0216]\n",
      "Epoch [4/5]: 100%|██████████| 196/196 [00:08<00:00, 23.11it/s, loss=0.0192]\n",
      "Epoch [5/5]: 100%|██████████| 196/196 [00:08<00:00, 22.65it/s, loss=0.0257]"
     ]
    },
    {
     "name": "stdout",
     "output_type": "stream",
     "text": [
      "Training Completed!\n"
     ]
    },
    {
     "name": "stderr",
     "output_type": "stream",
     "text": [
      "\n"
     ]
    }
   ],
   "source": [
    "# Training Loop\n",
    "optimizer = optim.Adam(model.parameters(), lr=2e-4)\n",
    "loss_fn = nn.MSELoss()\n",
    "loss_values = []\n",
    "epochs = 30\n",
    "\n",
    "for epoch in range(epochs):\n",
    "    loop = tqdm(dataloader, desc=f\"Epoch [{epoch+1}/{epochs}]\")\n",
    "\n",
    "    for embeddings, images in loop:\n",
    "        images = images.to(device)\n",
    "\n",
    "        t = torch.randint(0, 1000, (images.shape[0],)).to(device)\n",
    "        noisy_images, noise = diffusion.add_noise(images, t)\n",
    "\n",
    "        predicted_noise = model(noisy_images)\n",
    "        loss = loss_fn(predicted_noise, noise)\n",
    "\n",
    "        optimizer.zero_grad()\n",
    "        loss.backward()\n",
    "        optimizer.step()\n",
    "\n",
    "        loop.set_postfix(loss=loss.item())\n",
    "        loss_values.append(loss.item())\n",
    "print(\"Training Completed!\")\n",
    "\n",
    "# for epoch in range(epochs):\n",
    "#     loop = tqdm(dataloader, desc=f\"Epoch [{epoch+1}/{epochs}]\")\n",
    "\n",
    "#     for embeddings, images in loop:\n",
    "#         images = images.to(device)\n",
    "\n",
    "#         t = torch.randint(0, 1000, (images.shape[0],)).to(device)\n",
    "#         noisy_images, noise = diffusion.add_noise(images, t)\n",
    "\n",
    "#         predicted_noise = model(noisy_images)\n",
    "#         predicted_noise = torch.clamp(predicted_noise, -1, 1)\n",
    "\n",
    "#         loss = loss_fn(predicted_noise, noise)\n",
    "\n",
    "#         # Print debug information\n",
    "#         if torch.isnan(loss):\n",
    "#             print(\"⚠️ NaN detected! Debugging...\")\n",
    "#         print(f\"Noisy Images - Min: {noisy_images.min()} Max: {noisy_images.max()}\")\n",
    "#         print(f\"Noise - Min: {noise.min()} Max: {noise.max()}\")\n",
    "#         print(f\"Predicted Noise - Min: {predicted_noise.min()} Max: {predicted_noise.max()}\")\n",
    "\n",
    "#         optimizer.zero_grad()\n",
    "#         loss.backward()\n",
    "#         optimizer.step()\n",
    "\n",
    "#         loop.set_postfix(loss=loss.item())\n",
    "        \n"
   ]
  },
  {
   "cell_type": "code",
   "execution_count": null,
   "metadata": {},
   "outputs": [
    {
     "data": {
      "image/png": "[encoded data removed]",
      "text/plain": [
       "<Figure size 800x500 with 1 Axes>"
      ]
     },
     "metadata": {},
     "output_type": "display_data"
    }
   ],
   "source": [
    "import matplotlib.pyplot as plt\n",
    "\n",
    "# Plot training loss\n",
    "plt.figure(figsize=(8, 5))\n",
    "plt.plot(range(1, len(loss_values) + 1), loss_values, marker='o', linestyle='-', color='b', label='Training Loss')\n",
    "plt.xlabel(\"Epochs\")\n",
    "plt.ylabel(\"Loss\")\n",
    "plt.title(\"Training Loss Over Epochs\")\n",
    "plt.legend()\n",
    "plt.grid(True)\n",
    "plt.show()\n"
   ]
  },
  {
   "cell_type": "code",
   "execution_count": null,
   "metadata": {},
   "outputs": [],
   "source": [
    "@torch.no_grad()\n",
    "def sample(num_images=5):\n",
    "    model.eval()\n",
    "    images = torch.randn(num_images, 3, 16, 16).to(device)  # Start from noise\n",
    "\n",
    "    for t in reversed(range(1000)):  # Reverse diffusion\n",
    "        alpha_t = diffusion.alpha_cumprod[t].view(-1, 1, 1, 1).to(device)\n",
    "        beta_t = diffusion.beta[t].view(-1, 1, 1, 1).to(device)\n",
    "\n",
    "        noise_pred = model(images)  # Predict noise\n",
    "\n",
    "        # Correct denoising step\n",
    "        images = (images - (1 - alpha_t).sqrt() * noise_pred) / alpha_t.sqrt()\n",
    "\n",
    "        if t > 0:\n",
    "            images += beta_t.sqrt() * torch.randn_like(images)  # Add noise\n",
    "\n",
    "        # Debug: Visualize steps\n",
    "        if t % 200 == 0:\n",
    "            plt.imshow(images[0].cpu().permute(1, 2, 0).numpy())\n",
    "            plt.title(f\"Step {t}\")\n",
    "            plt.axis(\"off\")\n",
    "            plt.show()\n",
    "\n",
    "    return images\n",
    "\n",
    "\n"
   ]
  },
  {
   "cell_type": "code",
   "execution_count": null,
   "metadata": {},
   "outputs": [],
   "source": []
  },
  {
   "cell_type": "code",
   "execution_count": null,
   "metadata": {},
   "outputs": [
    {
     "data": {
      "image/png": "[encoded data removed]",
      "text/plain": [
       "<Figure size 640x480 with 1 Axes>"
      ]
     },
     "metadata": {},
     "output_type": "display_data"
    },
    {
     "data": {
      "image/png": "[encoded data removed]",
      "text/plain": [
       "<Figure size 640x480 with 1 Axes>"
      ]
     },
     "metadata": {},
     "output_type": "display_data"
    },
    {
     "data": {
      "image/png": "[encoded data removed]",
      "text/plain": [
       "<Figure size 640x480 with 1 Axes>"
      ]
     },
     "metadata": {},
     "output_type": "display_data"
    },
    {
     "data": {
      "image/png": "[encoded data removed]",
      "text/plain": [
       "<Figure size 640x480 with 1 Axes>"
      ]
     },
     "metadata": {},
     "output_type": "display_data"
    },
    {
     "data": {
      "image/png": "[encoded data removed]",
      "text/plain": [
       "<Figure size 640x480 with 1 Axes>"
      ]
     },
     "metadata": {},
     "output_type": "display_data"
    },
    {
     "data": {
      "image/png": "[encoded data removed]",
      "text/plain": [
       "<Figure size 1000x200 with 5 Axes>"
      ]
     },
     "metadata": {},
     "output_type": "display_data"
    }
   ],
   "source": [
    "# Generate images\n",
    "generated_images = sample(5).cpu().permute(0, 2, 3, 1)\n",
    "generated_images = (generated_images + 1) / 2  # Convert from [-1,1] to [0,1]\n",
    "\n",
    "# Display output\n",
    "fig, axes = plt.subplots(1, 5, figsize=(10, 2))\n",
    "for i, ax in enumerate(axes):\n",
    "    ax.imshow(generated_images[i])\n",
    "    ax.axis(\"off\")\n",
    "plt.show()"
   ]
  },
  {
   "cell_type": "code",
   "execution_count": null,
   "metadata": {},
   "outputs": [],
   "source": [
    "@torch.no_grad()\n",
    "def sample(num_images=5):\n",
    "    model.eval()\n",
    "    images = torch.randn(num_images, 3, 16, 16).to(device)  # 16×16 image size\n",
    "\n",
    "    for t in reversed(range(1000)):  # Reverse process\n",
    "        alpha_t = diffusion.alpha_cumprod[t].view(-1, 1, 1, 1).to(device)\n",
    "        noise_pred = model(images)\n",
    "\n",
    "        # Add epsilon to prevent NaN errors\n",
    "        images = (images - torch.sqrt(1 - alpha_t + 1e-8) * noise_pred) / torch.sqrt(alpha_t + 1e-8)\n",
    "\n",
    "        if t > 0:\n",
    "            images += torch.sqrt(diffusion.beta[t]) * torch.randn_like(images)\n",
    "\n",
    "    return images\n"
   ]
  },
  {
   "cell_type": "code",
   "execution_count": null,
   "metadata": {},
   "outputs": [
    {
     "name": "stdout",
     "output_type": "stream",
     "text": [
      "Min: tensor(nan) Max: tensor(nan)\n"
     ]
    }
   ],
   "source": [
    "images = sample(5).cpu().permute(0, 2, 3, 1)\n",
    "print(\"Min:\", images.min(), \"Max:\", images.max())  # Check if the values are meaningful\n"
   ]
  },
  {
   "cell_type": "code",
   "execution_count": null,
   "metadata": {},
   "outputs": [
    {
     "data": {
      "image/png": "[encoded data removed]",
      "text/plain": [
       "<Figure size 640x480 with 1 Axes>"
      ]
     },
     "metadata": {},
     "output_type": "display_data"
    }
   ],
   "source": [
    "generated_images = sample(5).cpu().permute(0, 2, 3, 1)\n",
    "generated_images = torch.clamp(generated_images, 0, 1)  # Ensure pixel values are in [0,1]\n",
    "plt.imshow(generated_images[0])  # Display a single image\n",
    "plt.show()\n"
   ]
  },
  {
   "cell_type": "code",
   "execution_count": null,
   "metadata": {},
   "outputs": [
    {
     "data": {
      "image/png": "[encoded data removed]",
      "text/plain": [
       "<Figure size 1000x200 with 5 Axes>"
      ]
     },
     "metadata": {},
     "output_type": "display_data"
    }
   ],
   "source": [
    "# Generate emojis\n",
    "generated_images = sample(5).cpu().permute(0, 2, 3, 1) * 0.5 + 0.5  # Normalize back\n",
    "\n",
    "# Display generated emojis\n",
    "fig, axes = plt.subplots(1, 5, figsize=(10, 2))\n",
    "for i, ax in enumerate(axes):\n",
    "    ax.imshow(generated_images[i])\n",
    "    ax.axis(\"off\")\n",
    "plt.show()"
   ]
  },
  {
   "cell_type": "code",
   "execution_count": null,
   "metadata": {},
   "outputs": [],
   "source": []
  }
 ],
 "metadata": {
  "kernelspec": {
   "display_name": "myvenv",
   "language": "python",
   "name": "python3"
  },
  "language_info": {
   "codemirror_mode": {
    "name": "ipython",
    "version": 3
   },
   "file_extension": ".py",
   "mimetype": "text/x-python",
   "name": "python",
   "nbconvert_exporter": "python",
   "pygments_lexer": "ipython3",
   "version": "3.13.2"
  }
 },
 "nbformat": 4,
 "nbformat_minor": 2
}
