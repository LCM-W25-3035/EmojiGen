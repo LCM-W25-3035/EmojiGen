{
 "cells": [
  {
   "cell_type": "code",
   "execution_count": 1,
   "metadata": {},
   "outputs": [],
   "source": [
    "import os\n",
    "import torch\n",
    "import pandas as pd\n",
    "import torch.nn as nn\n",
    "import torch.optim as optim\n",
    "import numpy as np\n",
    "import torchvision.transforms as transforms\n",
    "import torchvision.datasets as datasets\n",
    "import matplotlib.pyplot as plt\n",
    "from torch.utils.data import DataLoader, Dataset\n",
    "from tqdm import tqdm\n",
    "import torch\n",
    "import torch.nn as nn\n",
    "import torch.nn.functional as F"
   ]
  },
  {
   "cell_type": "code",
   "execution_count": 2,
   "metadata": {},
   "outputs": [
    {
     "name": "stdout",
     "output_type": "stream",
     "text": [
      "Using device: cuda\n"
     ]
    }
   ],
   "source": [
    "device = torch.device(\"cuda\" if torch.cuda.is_available() else \"cpu\")\n",
    "print(f\"Using device: {device}\")"
   ]
  },
  {
   "cell_type": "code",
   "execution_count": 3,
   "metadata": {},
   "outputs": [],
   "source": [
    "# Load preprocessed dataset\n",
    "df = pd.read_parquet(\"../data/processed_emoji_dataset.parquet\")\n",
    "\n",
    "# Convert embeddings to float32 numpy arrays\n",
    "df[\"combined_embedding\"] = df[\"combined_embedding\"].apply(lambda x: np.array(x, dtype=np.float32))"
   ]
  },
  {
   "cell_type": "code",
   "execution_count": 4,
   "metadata": {},
   "outputs": [],
   "source": [
    "class EmojiDataset(Dataset):\n",
    "    def __init__(self, dataframe):\n",
    "        self.dataframe = dataframe\n",
    "\n",
    "    def __len__(self):\n",
    "        return len(self.dataframe)\n",
    "\n",
    "    def __getitem__(self, idx):\n",
    "        text_embedding = torch.tensor(self.dataframe.iloc[idx][\"combined_embedding\"]).float()\n",
    "        image_tensor = torch.load(self.dataframe.iloc[idx][\"image_path\"]).float()\n",
    "        return text_embedding, image_tensor\n"
   ]
  },
  {
   "cell_type": "code",
   "execution_count": 5,
   "metadata": {},
   "outputs": [
    {
     "name": "stdout",
     "output_type": "stream",
     "text": [
      "Dataset loaded successfully!\n"
     ]
    }
   ],
   "source": [
    "# Create DataLoader\n",
    "dataset = EmojiDataset(df)\n",
    "dataloader = DataLoader(dataset, batch_size=64, shuffle=True)\n",
    "print(\"Dataset loaded successfully!\")"
   ]
  },
  {
   "cell_type": "code",
   "execution_count": 6,
   "metadata": {},
   "outputs": [
    {
     "name": "stdout",
     "output_type": "stream",
     "text": [
      "torch.Size([64, 384]) torch.Size([64, 3, 32, 32])\n"
     ]
    }
   ],
   "source": [
    "for embeddings, images in dataloader:\n",
    "    print(embeddings.shape, images.shape)\n",
    "    break"
   ]
  },
  {
   "cell_type": "code",
   "execution_count": 7,
   "metadata": {},
   "outputs": [],
   "source": [
    "class UNet(nn.Module):\n",
    "    def __init__(self):\n",
    "        super(UNet, self).__init__()\n",
    "\n",
    "        def conv_block(in_channels, out_channels):\n",
    "            return nn.Sequential(\n",
    "                nn.Conv2d(in_channels, out_channels, kernel_size=3, padding=1),\n",
    "                nn.ReLU(),\n",
    "                nn.Conv2d(out_channels, out_channels, kernel_size=3, padding=1),\n",
    "                nn.ReLU()\n",
    "            )\n",
    "\n",
    "        self.encoder1 = conv_block(3, 64)\n",
    "        self.pool1 = nn.MaxPool2d(2)\n",
    "\n",
    "        self.encoder2 = conv_block(64, 128)\n",
    "        self.pool2 = nn.MaxPool2d(2)\n",
    "\n",
    "        self.bottleneck = conv_block(128, 256)\n",
    "\n",
    "        self.up2 = nn.ConvTranspose2d(256, 128, kernel_size=2, stride=2)\n",
    "        self.decoder2 = conv_block(128 + 128, 128)\n",
    "\n",
    "        self.up1 = nn.ConvTranspose2d(128, 64, kernel_size=2, stride=2)\n",
    "        self.decoder1 = conv_block(64 + 64, 64)\n",
    "\n",
    "        self.final_conv = nn.Conv2d(64, 3, kernel_size=1)\n",
    "\n",
    "    def forward(self, x):\n",
    "        enc1 = self.encoder1(x)\n",
    "        x = self.pool1(enc1)\n",
    "\n",
    "        enc2 = self.encoder2(x)\n",
    "        x = self.pool2(enc2)\n",
    "\n",
    "        x = self.bottleneck(x)\n",
    "\n",
    "        x = self.up2(x)\n",
    "        x = torch.cat([x, enc2], dim=1)\n",
    "        x = self.decoder2(x)\n",
    "\n",
    "        x = self.up1(x)\n",
    "        x = torch.cat([x, enc1], dim=1)\n",
    "        x = self.decoder1(x)\n",
    "\n",
    "        return self.final_conv(x)\n"
   ]
  },
  {
   "cell_type": "code",
   "execution_count": 8,
   "metadata": {},
   "outputs": [],
   "source": [
    "class DiffusionModel:\n",
    "    def __init__(self, timesteps=1000):\n",
    "        self.timesteps = timesteps\n",
    "        self.beta = torch.linspace(1e-4, 0.02, timesteps).to(device)\n",
    "        self.alpha = 1.0 - self.beta\n",
    "        self.alpha_bar = torch.cumprod(self.alpha, dim=0)\n",
    "\n",
    "    def add_noise(self, images, t):\n",
    "        noise = torch.randn_like(images)\n",
    "        alpha_bar_t = self.alpha_bar[t].view(-1, 1, 1, 1)\n",
    "        noisy_images = torch.sqrt(alpha_bar_t) * images + torch.sqrt(1 - alpha_bar_t) * noise\n",
    "        return noisy_images, noise\n",
    "\n",
    "    def sample(self, model, shape):\n",
    "        x = torch.randn(shape).to(device)\n",
    "        for t in reversed(range(self.timesteps)):\n",
    "            with torch.no_grad():\n",
    "                noise_pred = model(x)\n",
    "                beta_t = self.beta[t].view(1, 1, 1, 1)\n",
    "                alpha_t = self.alpha[t].view(1, 1, 1, 1)\n",
    "                alpha_bar_t = self.alpha_bar[t].view(1, 1, 1, 1)\n",
    "\n",
    "                if t > 0:\n",
    "                    z = torch.randn_like(x)  \n",
    "                else:\n",
    "                    z = 0  # No noise at final step\n",
    "\n",
    "                x = (1 / torch.sqrt(alpha_t)) * (x - ((1 - alpha_t) / torch.sqrt(1 - alpha_bar_t)) * noise_pred) + torch.sqrt(beta_t) * z\n",
    "        return x\n"
   ]
  },
  {
   "cell_type": "code",
   "execution_count": 9,
   "metadata": {},
   "outputs": [],
   "source": [
    "# Initialize Model, Diffusion, and Training Setup\n",
    "model = UNet().to(device)\n",
    "diffusion = DiffusionModel()\n",
    "optimizer = optim.Adam(model.parameters(), lr=2e-4)\n",
    "loss_fn = nn.MSELoss()"
   ]
  },
  {
   "cell_type": "code",
   "execution_count": 10,
   "metadata": {},
   "outputs": [
    {
     "data": {
      "image/png": "[encoded data removed]",
      "text/plain": [
       "<Figure size 1500x300 with 5 Axes>"
      ]
     },
     "metadata": {},
     "output_type": "display_data"
    }
   ],
   "source": [
    "# Select a real image from the dataset\n",
    "_, real_image = dataset[11]  # Get an image (ignore text embedding)\n",
    "real_image = real_image.unsqueeze(0).to(device)  # Add batch dim & move to GPU\n",
    "\n",
    "# Define timesteps to visualize\n",
    "timesteps = [0, 100, 500, 900, 999]  # 0 (original), 999 (maximum noise)\n",
    "noisy_images = []\n",
    "\n",
    "# Apply noise using the DiffusionModel class\n",
    "diffusion = DiffusionModel(timesteps=1000)  # Ensure it matches your training setup\n",
    "\n",
    "for t in timesteps:\n",
    "    t_tensor = torch.tensor([t], dtype=torch.long, device=device)  # Convert t to tensor\n",
    "    xt, _ = diffusion.add_noise(real_image, t_tensor)\n",
    "\n",
    "    # Convert to CPU & normalize for visualization\n",
    "    img_np = xt.cpu().squeeze(0).permute(1, 2, 0).numpy()\n",
    "\n",
    "    # Normalize image to [0,1] to prevent display issues\n",
    "    img_min, img_max = img_np.min(), img_np.max()\n",
    "    if img_max > img_min:  # Avoid division by zero\n",
    "        img_np = (img_np - img_min) / (img_max - img_min)\n",
    "    \n",
    "    noisy_images.append(img_np)\n",
    "\n",
    "# Plot the images\n",
    "fig, axes = plt.subplots(1, len(timesteps), figsize=(15, 3))\n",
    "\n",
    "for i, ax in enumerate(axes):\n",
    "    ax.imshow(noisy_images[i])\n",
    "    ax.set_title(f\"t = {timesteps[i]}\")\n",
    "    ax.axis(\"off\")\n",
    "\n",
    "plt.tight_layout()\n",
    "plt.show()"
   ]
  },
  {
   "cell_type": "code",
   "execution_count": null,
   "metadata": {},
   "outputs": [
    {
     "name": "stderr",
     "output_type": "stream",
     "text": [
      "Epoch [1/100]:  63%|██████▎   | 123/196 [00:06<00:03, 19.77it/s, loss=0.222]"
     ]
    }
   ],
   "source": [
    "# Initialize model, loss function, and optimizer\n",
    "model = UNet().to(device)\n",
    "loss_fn = nn.MSELoss()  # Use appropriate loss function\n",
    "optimizer = torch.optim.Adam(model.parameters(), lr=1e-4)\n",
    "\n",
    "epochs = 100\n",
    "epoch_loss_values = []  # Store average loss per epoch\n",
    "\n",
    "for epoch in range(epochs):\n",
    "    total_loss = 0  # Accumulate loss for the epoch\n",
    "    loop = tqdm(dataloader, desc=f\"Epoch [{epoch+1}/{epochs}]\")\n",
    "    \n",
    "    for embeddings, images in loop:\n",
    "        images = images.to(device)\n",
    "        t = torch.randint(0, 1000, (images.shape[0],), dtype=torch.long).to(device)\n",
    "        noisy_images, noise = diffusion.add_noise(images, t)\n",
    "\n",
    "        predicted_noise = model(noisy_images)\n",
    "        loss = loss_fn(predicted_noise, noise)\n",
    "\n",
    "        optimizer.zero_grad()\n",
    "        loss.backward()\n",
    "        optimizer.step()\n",
    "\n",
    "        loop.set_postfix(loss=loss.item())\n",
    "        total_loss += loss.item()\n",
    "\n",
    "    # Compute average loss for the epoch\n",
    "    avg_loss = total_loss / len(dataloader)\n",
    "    epoch_loss_values.append(avg_loss)\n",
    "\n",
    "print(\"Training Completed!\")\n"
   ]
  },
  {
   "cell_type": "code",
   "execution_count": null,
   "metadata": {},
   "outputs": [
    {
     "name": "stdout",
     "output_type": "stream",
     "text": [
      "Model saved successfully!\n"
     ]
    }
   ],
   "source": [
    "# Save the trained model\n",
    "torch.save(model.state_dict(), \"diffusion_emoji.pth\")\n",
    "print(\"Model saved successfully!\")\n"
   ]
  },
  {
   "cell_type": "code",
   "execution_count": null,
   "metadata": {},
   "outputs": [],
   "source": [
    "# 🔹 Plot the Loss per Epoch\n",
    "import matplotlib.pyplot as plt\n",
    "\n",
    "plt.figure(figsize=(10, 5))\n",
    "plt.plot(range(1, epochs + 1), epoch_loss_values, marker=\"o\", linestyle=\"-\", color=\"red\", label=\"Epoch Loss\")\n",
    "plt.xlabel(\"Epochs\")\n",
    "plt.ylabel(\"Loss\")\n",
    "plt.title(\"Training Loss Per Epoch\")\n",
    "plt.legend()\n",
    "plt.grid(True)\n",
    "plt.show()"
   ]
  },
  {
   "cell_type": "code",
   "execution_count": null,
   "metadata": {},
   "outputs": [
    {
     "name": "stdout",
     "output_type": "stream",
     "text": [
      "Model loaded successfully!\n"
     ]
    }
   ],
   "source": [
    "# Load the trained model\n",
    "model = UNet().to(device)  # Initialize model architecture\n",
    "model.load_state_dict(torch.load(\"diffusion_emoji.pth\", map_location=device))\n",
    "model.eval()  # Set model to evaluation mode\n",
    "print(\"Model loaded successfully!\")\n"
   ]
  },
  {
   "cell_type": "code",
   "execution_count": null,
   "metadata": {},
   "outputs": [
    {
     "ename": "NameError",
     "evalue": "name 'UNet' is not defined",
     "output_type": "error",
     "traceback": [
      "\u001b[1;31m---------------------------------------------------------------------------\u001b[0m",
      "\u001b[1;31mNameError\u001b[0m                                 Traceback (most recent call last)",
      "Cell \u001b[1;32mIn[1], line 15\u001b[0m\n\u001b[0;32m     12\u001b[0m     \u001b[38;5;28;01mreturn\u001b[39;00m sampled_images\u001b[38;5;241m.\u001b[39mcpu()\n\u001b[0;32m     14\u001b[0m \u001b[38;5;66;03m# Load trained model\u001b[39;00m\n\u001b[1;32m---> 15\u001b[0m model \u001b[38;5;241m=\u001b[39m \u001b[43mUNet\u001b[49m()\u001b[38;5;241m.\u001b[39mto(device)\n\u001b[0;32m     16\u001b[0m model\u001b[38;5;241m.\u001b[39mload_state_dict(torch\u001b[38;5;241m.\u001b[39mload(\u001b[38;5;124m\"\u001b[39m\u001b[38;5;124mbest_model.pth\u001b[39m\u001b[38;5;124m\"\u001b[39m, map_location\u001b[38;5;241m=\u001b[39mdevice))\n\u001b[0;32m     17\u001b[0m model\u001b[38;5;241m.\u001b[39meval()\n",
      "\u001b[1;31mNameError\u001b[0m: name 'UNet' is not defined"
     ]
    }
   ],
   "source": [
    "import matplotlib.pyplot as plt\n",
    "\n",
    "def sample_emoji(model, diffusion, num_samples=50):\n",
    "    model.eval()\n",
    "    with torch.no_grad():\n",
    "        sampled_images = diffusion.sample(model, (num_samples, 3, 32, 32))\n",
    "    return sampled_images.cpu()\n",
    "\n",
    "# Load trained model\n",
    "model = UNet().to(device)\n",
    "model.load_state_dict(torch.load(\"diffusion_emoji.pth\", map_location=device))\n",
    "model.eval()\n",
    "\n",
    "# Generate 50 images\n",
    "num_samples = 50\n",
    "sampled_emojis = sample_emoji(model, diffusion, num_samples)\n",
    "\n",
    "# Define grid size (e.g., 10 rows, 5 columns)\n",
    "rows, cols = 10, 5\n",
    "fig, axes = plt.subplots(rows, cols, figsize=(cols * 2, rows * 2))\n",
    "\n",
    "# Plot images in grid\n",
    "for i, ax in enumerate(axes.flat):\n",
    "    if i < num_samples:\n",
    "        img = sampled_emojis[i].permute(1, 2, 0).clamp(0, 1)  # Convert to (H, W, C)\n",
    "        ax.imshow(img)\n",
    "    ax.axis(\"off\")\n",
    "\n",
    "plt.tight_layout()\n",
    "plt.show()\n"
   ]
  },
  {
   "cell_type": "code",
   "execution_count": null,
   "metadata": {},
   "outputs": [],
   "source": []
  }
 ],
 "metadata": {
  "kernelspec": {
   "display_name": "myvenv",
   "language": "python",
   "name": "python3"
  },
  "language_info": {
   "codemirror_mode": {
    "name": "ipython",
    "version": 3
   },
   "file_extension": ".py",
   "mimetype": "text/x-python",
   "name": "python",
   "nbconvert_exporter": "python",
   "pygments_lexer": "ipython3",
   "version": "3.13.2"
  }
 },
 "nbformat": 4,
 "nbformat_minor": 2
}
