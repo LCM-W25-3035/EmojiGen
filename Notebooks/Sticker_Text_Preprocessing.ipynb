{
 "cells": [
  {
   "cell_type": "code",
   "id": "initial_id",
   "metadata": {
    "collapsed": true,
    "ExecuteTime": {
     "end_time": "2025-02-16T06:48:28.503414Z",
     "start_time": "2025-02-16T06:48:22.018656Z"
    }
   },
   "source": [
    "import pandas as pd\n",
    "import numpy as np\n",
    "import os\n",
    "import re\n",
    "from tqdm import tqdm\n",
    "import torch\n",
    "from sentence_transformers import SentenceTransformer\n",
    "\n",
    "# Apply tqdm to all .apply() functions by using progress_apply\n",
    "tqdm.pandas()"
   ],
   "outputs": [],
   "execution_count": 1
  },
  {
   "metadata": {
    "ExecuteTime": {
     "end_time": "2025-02-16T06:48:28.529028Z",
     "start_time": "2025-02-16T06:48:28.504454Z"
    }
   },
   "cell_type": "code",
   "source": [
    "# Use GPU if available\n",
    "\"\"\"\n",
    "Reference: https://pytorch.org/get-started/locally/\n",
    "\"\"\"\n",
    "\n",
    "# Check for NVIDIA GPU\n",
    "if torch.cuda.is_available():\n",
    "    device = torch.device(\"cuda\")  # Use CUDA (NVIDIA GPU)\n",
    "    print(\"Using NVIDIA GPU (CUDA)\")\n",
    "\n",
    "# Check for Mac Silicon GPU (MPS)\n",
    "elif torch.backends.mps.is_available():\n",
    "    device = torch.device(\"mps\")  # Use Metal Performance Shaders (Mac Silicon GPU)\n",
    "    print(\"Using Mac GPU (MPS)\")\n",
    "\n",
    "# Default to CPU if no GPU is available\n",
    "else:\n",
    "    device = torch.device(\"cpu\")\n",
    "    print(\"Using CPU\")"
   ],
   "id": "e5b5b3d459d9c4e0",
   "outputs": [
    {
     "name": "stdout",
     "output_type": "stream",
     "text": [
      "Using Mac GPU (MPS)\n"
     ]
    }
   ],
   "execution_count": 2
  },
  {
   "metadata": {
    "ExecuteTime": {
     "end_time": "2025-02-16T06:48:28.623472Z",
     "start_time": "2025-02-16T06:48:28.529619Z"
    }
   },
   "cell_type": "code",
   "source": [
    "# Reading the dataset\n",
    "alexator_df = pd.read_csv('../data/alexator_stickers_desc.csv')\n",
    "flaticon_df = pd.read_csv('../data/flaticon_stickers_desc.csv')\n",
    "freepik_df = pd.read_csv('../data/freepik_stickers_desc.csv')"
   ],
   "id": "3243e2d8217b127c",
   "outputs": [],
   "execution_count": 3
  },
  {
   "metadata": {
    "ExecuteTime": {
     "end_time": "2025-02-16T06:48:28.630083Z",
     "start_time": "2025-02-16T06:48:28.624012Z"
    }
   },
   "cell_type": "code",
   "source": "alexator_df.info()",
   "id": "eaca7f30e6a351c5",
   "outputs": [
    {
     "name": "stdout",
     "output_type": "stream",
     "text": [
      "<class 'pandas.core.frame.DataFrame'>\n",
      "RangeIndex: 4331 entries, 0 to 4330\n",
      "Data columns (total 2 columns):\n",
      " #   Column       Non-Null Count  Dtype \n",
      "---  ------       --------------  ----- \n",
      " 0   filename     4331 non-null   object\n",
      " 1   description  4331 non-null   object\n",
      "dtypes: object(2)\n",
      "memory usage: 67.8+ KB\n"
     ]
    }
   ],
   "execution_count": 4
  },
  {
   "metadata": {
    "ExecuteTime": {
     "end_time": "2025-02-16T06:48:28.637830Z",
     "start_time": "2025-02-16T06:48:28.631282Z"
    }
   },
   "cell_type": "code",
   "source": "flaticon_df.info()",
   "id": "eaa42cff99080a21",
   "outputs": [
    {
     "name": "stdout",
     "output_type": "stream",
     "text": [
      "<class 'pandas.core.frame.DataFrame'>\n",
      "RangeIndex: 30402 entries, 0 to 30401\n",
      "Data columns (total 5 columns):\n",
      " #   Column       Non-Null Count  Dtype \n",
      "---  ------       --------------  ----- \n",
      " 0   image        30402 non-null  object\n",
      " 1   title        30402 non-null  object\n",
      " 2   tags         30402 non-null  object\n",
      " 3   filename     30402 non-null  object\n",
      " 4   description  30402 non-null  object\n",
      "dtypes: object(5)\n",
      "memory usage: 1.2+ MB\n"
     ]
    }
   ],
   "execution_count": 5
  },
  {
   "metadata": {
    "ExecuteTime": {
     "end_time": "2025-02-16T06:48:28.642825Z",
     "start_time": "2025-02-16T06:48:28.638416Z"
    }
   },
   "cell_type": "code",
   "source": "freepik_df.info()",
   "id": "212569a49f67fe6b",
   "outputs": [
    {
     "name": "stdout",
     "output_type": "stream",
     "text": [
      "<class 'pandas.core.frame.DataFrame'>\n",
      "RangeIndex: 9844 entries, 0 to 9843\n",
      "Data columns (total 5 columns):\n",
      " #   Column       Non-Null Count  Dtype  \n",
      "---  ------       --------------  -----  \n",
      " 0   title        0 non-null      float64\n",
      " 1   tags         9814 non-null   object \n",
      " 2   image        9844 non-null   object \n",
      " 3   filename     9844 non-null   object \n",
      " 4   description  9844 non-null   object \n",
      "dtypes: float64(1), object(4)\n",
      "memory usage: 384.7+ KB\n"
     ]
    }
   ],
   "execution_count": 6
  },
  {
   "metadata": {
    "ExecuteTime": {
     "end_time": "2025-02-16T06:48:31.864646Z",
     "start_time": "2025-02-16T06:48:31.849159Z"
    }
   },
   "cell_type": "code",
   "source": [
    "# Concatenate the DataFrames row-wise\n",
    "merged_df = pd.concat([alexator_df, flaticon_df, freepik_df], ignore_index=True)\n",
    "\n",
    "# Display the concatenated DataFrame\n",
    "merged_df.info()"
   ],
   "id": "eacf52d9582f0f7d",
   "outputs": [
    {
     "name": "stdout",
     "output_type": "stream",
     "text": [
      "<class 'pandas.core.frame.DataFrame'>\n",
      "RangeIndex: 44577 entries, 0 to 44576\n",
      "Data columns (total 5 columns):\n",
      " #   Column       Non-Null Count  Dtype \n",
      "---  ------       --------------  ----- \n",
      " 0   filename     44577 non-null  object\n",
      " 1   description  44577 non-null  object\n",
      " 2   image        40246 non-null  object\n",
      " 3   title        30402 non-null  object\n",
      " 4   tags         40216 non-null  object\n",
      "dtypes: object(5)\n",
      "memory usage: 1.7+ MB\n"
     ]
    }
   ],
   "execution_count": 7
  },
  {
   "metadata": {},
   "cell_type": "markdown",
   "source": "## Handling duplicates in description and tags combination\n",
   "id": "720bf77b66e3e2e1"
  },
  {
   "metadata": {
    "ExecuteTime": {
     "end_time": "2025-02-16T06:48:33.981010Z",
     "start_time": "2025-02-16T06:48:33.892553Z"
    }
   },
   "cell_type": "code",
   "source": [
    "# Replace duplicate descriptions with Null (Because most of them don't make sense and are incorrect)\n",
    "duplicate_descriptions = merged_df['description'].duplicated(keep=False)\n",
    "merged_df.loc[duplicate_descriptions, 'description'] = None\n",
    "\n",
    "\"\"\"Some generated descriptions have errors such as \"a big boy boy boy boy boy....\"\n",
    "So, we want to remove such descriptions that have incorrect descriptions\n",
    "\"\"\"\n",
    "\n",
    "\"\"\"\n",
    "Reference: ChatGPT-4o\n",
    "Prompt:  I need to check for a certain type of error and remove those rows in my dataframe. The error is that in some description, certain words are repeated multiple time consecutively. Example: \"happy man with two polar polar polar polar polar polar polar polar polar polar polar polar polar polar polar polar polar\"\n",
    "\"\"\"\n",
    "# Replace descriptions with repeated words with Null\n",
    "def has_repeated_words(text):\n",
    "    if not text or pd.isna(text):  # Skip null or empty strings\n",
    "        return False\n",
    "    \n",
    "    # Regex to find words repeated consecutively at least 3 times (case insensitive)\n",
    "    pattern = r'\\b(\\w+)(?:\\s+\\1){2,}\\b'\n",
    "    return bool(re.search(pattern, text, re.IGNORECASE))\n",
    "\n",
    "merged_df.loc[merged_df['description'].apply(has_repeated_words), 'description'] = None\n",
    "\n",
    "# Remove rows with exact same tags AND description, keeping the first occurrence (We don't want different immages with same details)\n",
    "cleaned_df = merged_df.drop_duplicates(subset=['tags', 'description'], keep='first')\n",
    "\n",
    "# Check the new number of rows\n",
    "print(f\"Number of rows after removing rows with exact same tags and descriptions: {cleaned_df.shape[0]}\")"
   ],
   "id": "aaa3105afa9166ba",
   "outputs": [
    {
     "name": "stdout",
     "output_type": "stream",
     "text": [
      "Number of rows after removing rows with exact same tags and descriptions: 38807\n"
     ]
    }
   ],
   "execution_count": 8
  },
  {
   "metadata": {
    "ExecuteTime": {
     "end_time": "2025-02-16T06:49:56.910081Z",
     "start_time": "2025-02-16T06:49:56.891707Z"
    }
   },
   "cell_type": "code",
   "source": "cleaned_df.info()",
   "id": "d97176fdcec6e41a",
   "outputs": [
    {
     "name": "stdout",
     "output_type": "stream",
     "text": [
      "<class 'pandas.core.frame.DataFrame'>\n",
      "Index: 38807 entries, 0 to 44576\n",
      "Data columns (total 5 columns):\n",
      " #   Column       Non-Null Count  Dtype \n",
      "---  ------       --------------  ----- \n",
      " 0   filename     38807 non-null  object\n",
      " 1   description  26858 non-null  object\n",
      " 2   image        35101 non-null  object\n",
      " 3   title        27135 non-null  object\n",
      " 4   tags         35091 non-null  object\n",
      "dtypes: object(5)\n",
      "memory usage: 1.8+ MB\n"
     ]
    }
   ],
   "execution_count": 15
  },
  {
   "metadata": {},
   "cell_type": "markdown",
   "source": "## Handling Tags and Descriptions",
   "id": "1dab23f567f3cc3"
  },
  {
   "metadata": {
    "ExecuteTime": {
     "end_time": "2025-02-16T06:49:58.023717Z",
     "start_time": "2025-02-16T06:49:58.021075Z"
    }
   },
   "cell_type": "code",
   "source": [
    "def remove_duplicates(text):\n",
    "    if not isinstance(text, str) or pd.isna(text) or text.strip().lower() == \"nan\":  \n",
    "        return \"\"  # Return empty string for NaN or \"nan\" strings\n",
    "    words = [word.strip() for word in text.split(\",\")]  # Split by commas and strip spaces\n",
    "    unique_words = sorted(set(word.strip() for word in text.split(\",\")))\n",
    "    return ', '.join(unique_words)  # Join back into a string"
   ],
   "id": "79e0e24323ced210",
   "outputs": [],
   "execution_count": 16
  },
  {
   "metadata": {
    "ExecuteTime": {
     "end_time": "2025-02-16T06:49:58.851318Z",
     "start_time": "2025-02-16T06:49:58.738520Z"
    }
   },
   "cell_type": "code",
   "source": [
    "# Remove duplicates\n",
    "final_df = cleaned_df.copy()\n",
    "final_df[\"tags\"] = final_df[\"tags\"].progress_apply(remove_duplicates)"
   ],
   "id": "ab567bbf0bba6630",
   "outputs": [
    {
     "name": "stderr",
     "output_type": "stream",
     "text": [
      "100%|██████████| 38807/38807 [00:00<00:00, 389694.45it/s]\n"
     ]
    }
   ],
   "execution_count": 17
  },
  {
   "metadata": {
    "ExecuteTime": {
     "end_time": "2025-02-16T06:49:59.432534Z",
     "start_time": "2025-02-16T06:49:59.430723Z"
    }
   },
   "cell_type": "code",
   "source": "### Need to conduct spelling correction in description column here as well",
   "id": "621316ad705b04a",
   "outputs": [],
   "execution_count": 18
  },
  {
   "metadata": {
    "ExecuteTime": {
     "end_time": "2025-02-16T06:50:00.200925Z",
     "start_time": "2025-02-16T06:49:59.976297Z"
    }
   },
   "cell_type": "code",
   "source": [
    "# Function to handle concatenation with empty strings and NaN values\n",
    "def merge_descriptions(row):\n",
    "    parts = []\n",
    "    if pd.notna(row['description']) and row['description'].strip():\n",
    "        parts.append(row['description'].strip())\n",
    "    if pd.notna(row['tags']) and row['tags'].strip():\n",
    "        parts.append(\"Tags: \" + row['tags'].strip())\n",
    "    \n",
    "    return \" \".join(parts)\n",
    "\n",
    "# Apply the function to each row\n",
    "final_df['merged_description'] = final_df.apply(merge_descriptions, axis=1)"
   ],
   "id": "56d7d5b45309149a",
   "outputs": [],
   "execution_count": 19
  },
  {
   "metadata": {},
   "cell_type": "markdown",
   "source": "## Embedding using Sentence BERT",
   "id": "3fe49ea25a063e30"
  },
  {
   "metadata": {
    "ExecuteTime": {
     "end_time": "2025-02-16T06:50:03.387409Z",
     "start_time": "2025-02-16T06:50:02.263336Z"
    }
   },
   "cell_type": "code",
   "source": [
    "# Load SBERT model\n",
    "sbert_model = SentenceTransformer('all-MiniLM-L6-v2')\n",
    "sbert_model = sbert_model.to(device)\n",
    "\n",
    "# Return SBERT embedding for a given text.\n",
    "def embed_text(text):\n",
    "    if pd.isna(text) or text.strip() == \"\":\n",
    "        return np.zeros(384, dtype=np.float32)  # Return zero vector for missing values (SBERT output size = 384)\n",
    "    return sbert_model.encode(text).astype(np.float32)"
   ],
   "id": "730ea9d04cda84e5",
   "outputs": [],
   "execution_count": 20
  },
  {
   "metadata": {
    "ExecuteTime": {
     "end_time": "2025-02-16T06:55:59.010272Z",
     "start_time": "2025-02-16T06:50:05.185380Z"
    }
   },
   "cell_type": "code",
   "source": [
    "\"\"\"\n",
    "Reference: https://sbert.net/\n",
    "\"\"\"\n",
    "\n",
    "# Apply SBERT embeddings to each columns\n",
    "# print(\"Embedding tags...\")\n",
    "# final_df[\"tags_embedding\"] = final_df[\"tags\"].progress_apply(embed_text)\n",
    "# \n",
    "# print(\"Embedding llm_description...\")\n",
    "# final_df[\"description_embedding\"] = final_df[\"description\"].progress_apply(embed_text)\n",
    "print(\"Embedding text...\")\n",
    "final_df[\"combined_embedding\"] = final_df[\"merged_description\"].progress_apply(embed_text)"
   ],
   "id": "af47bf3aa4b70804",
   "outputs": [
    {
     "name": "stdout",
     "output_type": "stream",
     "text": [
      "Embedding text...\n"
     ]
    },
    {
     "name": "stderr",
     "output_type": "stream",
     "text": [
      "100%|██████████| 38807/38807 [05:53<00:00, 109.68it/s]\n"
     ]
    }
   ],
   "execution_count": 21
  },
  {
   "metadata": {
    "ExecuteTime": {
     "end_time": "2025-02-16T06:57:16.421335Z",
     "start_time": "2025-02-16T06:57:16.418220Z"
    }
   },
   "cell_type": "code",
   "source": [
    "# # Combining the embeddings\n",
    "# final_df[\"combined_embedding\"] = final_df.apply(\n",
    "#     lambda row: np.concatenate([row[\"tags_embedding\"], row[\"description_embedding\"]]), axis=1\n",
    "# )"
   ],
   "id": "e9743d59ccb651dd",
   "outputs": [],
   "execution_count": 22
  },
  {
   "metadata": {},
   "cell_type": "markdown",
   "source": "## Linking Images",
   "id": "767036b823678f24"
  },
  {
   "metadata": {
    "ExecuteTime": {
     "end_time": "2025-02-16T06:57:17.496767Z",
     "start_time": "2025-02-16T06:57:17.469262Z"
    }
   },
   "cell_type": "code",
   "source": "final_df.head()",
   "id": "6ef2e77f11faf36",
   "outputs": [
    {
     "data": {
      "text/plain": [
       "                     filename                                    description  \\\n",
       "0     cartoonized_image_0.png          a red mailbox with a white background   \n",
       "1     cartoonized_image_1.png                             an old car sticker   \n",
       "2    cartoonized_image_10.png                                           None   \n",
       "3   cartoonized_image_100.png  a sticker with a cartoon pine wearing glasses   \n",
       "4  cartoonized_image_1000.png  a stained stained glass window with a humming   \n",
       "\n",
       "  image title tags                             merged_description  \\\n",
       "0   NaN   NaN               a red mailbox with a white background   \n",
       "1   NaN   NaN                                  an old car sticker   \n",
       "2   NaN   NaN                                                       \n",
       "3   NaN   NaN       a sticker with a cartoon pine wearing glasses   \n",
       "4   NaN   NaN       a stained stained glass window with a humming   \n",
       "\n",
       "                                  combined_embedding  \n",
       "0  [0.056150362, 0.06784807, -0.03342954, 0.03755...  \n",
       "1  [-0.124234304, 0.07463952, -0.011985379, 0.004...  \n",
       "2  [0.0, 0.0, 0.0, 0.0, 0.0, 0.0, 0.0, 0.0, 0.0, ...  \n",
       "3  [-0.06495427, -0.04292715, 0.013164389, 0.0220...  \n",
       "4  [0.02791825, 0.075559355, 0.036227103, -0.0181...  "
      ],
      "text/html": [
       "<div>\n",
       "<style scoped>\n",
       "    .dataframe tbody tr th:only-of-type {\n",
       "        vertical-align: middle;\n",
       "    }\n",
       "\n",
       "    .dataframe tbody tr th {\n",
       "        vertical-align: top;\n",
       "    }\n",
       "\n",
       "    .dataframe thead th {\n",
       "        text-align: right;\n",
       "    }\n",
       "</style>\n",
       "<table border=\"1\" class=\"dataframe\">\n",
       "  <thead>\n",
       "    <tr style=\"text-align: right;\">\n",
       "      <th></th>\n",
       "      <th>filename</th>\n",
       "      <th>description</th>\n",
       "      <th>image</th>\n",
       "      <th>title</th>\n",
       "      <th>tags</th>\n",
       "      <th>merged_description</th>\n",
       "      <th>combined_embedding</th>\n",
       "    </tr>\n",
       "  </thead>\n",
       "  <tbody>\n",
       "    <tr>\n",
       "      <th>0</th>\n",
       "      <td>cartoonized_image_0.png</td>\n",
       "      <td>a red mailbox with a white background</td>\n",
       "      <td>NaN</td>\n",
       "      <td>NaN</td>\n",
       "      <td></td>\n",
       "      <td>a red mailbox with a white background</td>\n",
       "      <td>[0.056150362, 0.06784807, -0.03342954, 0.03755...</td>\n",
       "    </tr>\n",
       "    <tr>\n",
       "      <th>1</th>\n",
       "      <td>cartoonized_image_1.png</td>\n",
       "      <td>an old car sticker</td>\n",
       "      <td>NaN</td>\n",
       "      <td>NaN</td>\n",
       "      <td></td>\n",
       "      <td>an old car sticker</td>\n",
       "      <td>[-0.124234304, 0.07463952, -0.011985379, 0.004...</td>\n",
       "    </tr>\n",
       "    <tr>\n",
       "      <th>2</th>\n",
       "      <td>cartoonized_image_10.png</td>\n",
       "      <td>None</td>\n",
       "      <td>NaN</td>\n",
       "      <td>NaN</td>\n",
       "      <td></td>\n",
       "      <td></td>\n",
       "      <td>[0.0, 0.0, 0.0, 0.0, 0.0, 0.0, 0.0, 0.0, 0.0, ...</td>\n",
       "    </tr>\n",
       "    <tr>\n",
       "      <th>3</th>\n",
       "      <td>cartoonized_image_100.png</td>\n",
       "      <td>a sticker with a cartoon pine wearing glasses</td>\n",
       "      <td>NaN</td>\n",
       "      <td>NaN</td>\n",
       "      <td></td>\n",
       "      <td>a sticker with a cartoon pine wearing glasses</td>\n",
       "      <td>[-0.06495427, -0.04292715, 0.013164389, 0.0220...</td>\n",
       "    </tr>\n",
       "    <tr>\n",
       "      <th>4</th>\n",
       "      <td>cartoonized_image_1000.png</td>\n",
       "      <td>a stained stained glass window with a humming</td>\n",
       "      <td>NaN</td>\n",
       "      <td>NaN</td>\n",
       "      <td></td>\n",
       "      <td>a stained stained glass window with a humming</td>\n",
       "      <td>[0.02791825, 0.075559355, 0.036227103, -0.0181...</td>\n",
       "    </tr>\n",
       "  </tbody>\n",
       "</table>\n",
       "</div>"
      ]
     },
     "execution_count": 23,
     "metadata": {},
     "output_type": "execute_result"
    }
   ],
   "execution_count": 23
  },
  {
   "metadata": {
    "ExecuteTime": {
     "end_time": "2025-02-16T06:57:31.002936Z",
     "start_time": "2025-02-16T06:57:30.983918Z"
    }
   },
   "cell_type": "code",
   "source": [
    "# Change file extensions from .png to .pt in the 'filename' column\n",
    "final_df['filename'] = final_df['filename'].str.replace('.png', '.pt', regex=False)\n",
    "\n",
    "# Display the first few rows to verify changes\n",
    "final_df['filename'].head()"
   ],
   "id": "e55aa20576cee0e",
   "outputs": [
    {
     "data": {
      "text/plain": [
       "0       cartoonized_image_0.pt\n",
       "1       cartoonized_image_1.pt\n",
       "2      cartoonized_image_10.pt\n",
       "3     cartoonized_image_100.pt\n",
       "4    cartoonized_image_1000.pt\n",
       "Name: filename, dtype: object"
      ]
     },
     "execution_count": 24,
     "metadata": {},
     "output_type": "execute_result"
    }
   ],
   "execution_count": 24
  },
  {
   "metadata": {
    "ExecuteTime": {
     "end_time": "2025-02-16T06:57:52.695259Z",
     "start_time": "2025-02-16T06:57:52.233516Z"
    }
   },
   "cell_type": "code",
   "source": [
    "# Define the base directory and folders to search in\n",
    "base_dir = \"../data/tensor_images/\"\n",
    "folders = [\"AlexatorStickers\", \"FlaticonStickers\", \"FreepikStickers\"]\n",
    "\n",
    "# Function to find the file path for a given filename\n",
    "def find_image_path(filename):\n",
    "    # Loop through each folder\n",
    "    for folder in folders:\n",
    "        # Construct full path\n",
    "        full_path = os.path.join(base_dir, folder, filename)\n",
    "        # Check if file exists at this path\n",
    "        if os.path.exists(full_path):\n",
    "            return full_path\n",
    "    # Return None if file not found in any folder\n",
    "    return None\n",
    "\n",
    "# Create the new column by applying the function to the filename column\n",
    "final_df['image_path'] = final_df['filename'].progress_apply(find_image_path)\n",
    "\n",
    "# Display a sample of the DataFrame to verify\n",
    "final_df.head()"
   ],
   "id": "65cea0714e1cd7bf",
   "outputs": [
    {
     "name": "stderr",
     "output_type": "stream",
     "text": [
      "100%|██████████| 38807/38807 [00:00<00:00, 86046.98it/s] \n"
     ]
    },
    {
     "data": {
      "text/plain": [
       "                    filename                                    description  \\\n",
       "0     cartoonized_image_0.pt          a red mailbox with a white background   \n",
       "1     cartoonized_image_1.pt                             an old car sticker   \n",
       "2    cartoonized_image_10.pt                                           None   \n",
       "3   cartoonized_image_100.pt  a sticker with a cartoon pine wearing glasses   \n",
       "4  cartoonized_image_1000.pt  a stained stained glass window with a humming   \n",
       "\n",
       "  image title tags                             merged_description  \\\n",
       "0   NaN   NaN               a red mailbox with a white background   \n",
       "1   NaN   NaN                                  an old car sticker   \n",
       "2   NaN   NaN                                                       \n",
       "3   NaN   NaN       a sticker with a cartoon pine wearing glasses   \n",
       "4   NaN   NaN       a stained stained glass window with a humming   \n",
       "\n",
       "                                  combined_embedding  \\\n",
       "0  [0.056150362, 0.06784807, -0.03342954, 0.03755...   \n",
       "1  [-0.124234304, 0.07463952, -0.011985379, 0.004...   \n",
       "2  [0.0, 0.0, 0.0, 0.0, 0.0, 0.0, 0.0, 0.0, 0.0, ...   \n",
       "3  [-0.06495427, -0.04292715, 0.013164389, 0.0220...   \n",
       "4  [0.02791825, 0.075559355, 0.036227103, -0.0181...   \n",
       "\n",
       "                                          image_path  \n",
       "0  ../data/tensor_images/AlexatorStickers/cartoon...  \n",
       "1  ../data/tensor_images/AlexatorStickers/cartoon...  \n",
       "2  ../data/tensor_images/AlexatorStickers/cartoon...  \n",
       "3  ../data/tensor_images/AlexatorStickers/cartoon...  \n",
       "4  ../data/tensor_images/AlexatorStickers/cartoon...  "
      ],
      "text/html": [
       "<div>\n",
       "<style scoped>\n",
       "    .dataframe tbody tr th:only-of-type {\n",
       "        vertical-align: middle;\n",
       "    }\n",
       "\n",
       "    .dataframe tbody tr th {\n",
       "        vertical-align: top;\n",
       "    }\n",
       "\n",
       "    .dataframe thead th {\n",
       "        text-align: right;\n",
       "    }\n",
       "</style>\n",
       "<table border=\"1\" class=\"dataframe\">\n",
       "  <thead>\n",
       "    <tr style=\"text-align: right;\">\n",
       "      <th></th>\n",
       "      <th>filename</th>\n",
       "      <th>description</th>\n",
       "      <th>image</th>\n",
       "      <th>title</th>\n",
       "      <th>tags</th>\n",
       "      <th>merged_description</th>\n",
       "      <th>combined_embedding</th>\n",
       "      <th>image_path</th>\n",
       "    </tr>\n",
       "  </thead>\n",
       "  <tbody>\n",
       "    <tr>\n",
       "      <th>0</th>\n",
       "      <td>cartoonized_image_0.pt</td>\n",
       "      <td>a red mailbox with a white background</td>\n",
       "      <td>NaN</td>\n",
       "      <td>NaN</td>\n",
       "      <td></td>\n",
       "      <td>a red mailbox with a white background</td>\n",
       "      <td>[0.056150362, 0.06784807, -0.03342954, 0.03755...</td>\n",
       "      <td>../data/tensor_images/AlexatorStickers/cartoon...</td>\n",
       "    </tr>\n",
       "    <tr>\n",
       "      <th>1</th>\n",
       "      <td>cartoonized_image_1.pt</td>\n",
       "      <td>an old car sticker</td>\n",
       "      <td>NaN</td>\n",
       "      <td>NaN</td>\n",
       "      <td></td>\n",
       "      <td>an old car sticker</td>\n",
       "      <td>[-0.124234304, 0.07463952, -0.011985379, 0.004...</td>\n",
       "      <td>../data/tensor_images/AlexatorStickers/cartoon...</td>\n",
       "    </tr>\n",
       "    <tr>\n",
       "      <th>2</th>\n",
       "      <td>cartoonized_image_10.pt</td>\n",
       "      <td>None</td>\n",
       "      <td>NaN</td>\n",
       "      <td>NaN</td>\n",
       "      <td></td>\n",
       "      <td></td>\n",
       "      <td>[0.0, 0.0, 0.0, 0.0, 0.0, 0.0, 0.0, 0.0, 0.0, ...</td>\n",
       "      <td>../data/tensor_images/AlexatorStickers/cartoon...</td>\n",
       "    </tr>\n",
       "    <tr>\n",
       "      <th>3</th>\n",
       "      <td>cartoonized_image_100.pt</td>\n",
       "      <td>a sticker with a cartoon pine wearing glasses</td>\n",
       "      <td>NaN</td>\n",
       "      <td>NaN</td>\n",
       "      <td></td>\n",
       "      <td>a sticker with a cartoon pine wearing glasses</td>\n",
       "      <td>[-0.06495427, -0.04292715, 0.013164389, 0.0220...</td>\n",
       "      <td>../data/tensor_images/AlexatorStickers/cartoon...</td>\n",
       "    </tr>\n",
       "    <tr>\n",
       "      <th>4</th>\n",
       "      <td>cartoonized_image_1000.pt</td>\n",
       "      <td>a stained stained glass window with a humming</td>\n",
       "      <td>NaN</td>\n",
       "      <td>NaN</td>\n",
       "      <td></td>\n",
       "      <td>a stained stained glass window with a humming</td>\n",
       "      <td>[0.02791825, 0.075559355, 0.036227103, -0.0181...</td>\n",
       "      <td>../data/tensor_images/AlexatorStickers/cartoon...</td>\n",
       "    </tr>\n",
       "  </tbody>\n",
       "</table>\n",
       "</div>"
      ]
     },
     "execution_count": 25,
     "metadata": {},
     "output_type": "execute_result"
    }
   ],
   "execution_count": 25
  },
  {
   "metadata": {
    "ExecuteTime": {
     "end_time": "2025-02-16T06:58:08.752990Z",
     "start_time": "2025-02-16T06:58:08.743621Z"
    }
   },
   "cell_type": "code",
   "source": "final_df.tail()",
   "id": "d602dddd4c890b81",
   "outputs": [
    {
     "data": {
      "text/plain": [
       "                                  filename               description  \\\n",
       "44568  e774c692161b72d9aec20c3fbf428cd3.pt                      None   \n",
       "44572  45315ce4e6c47ea63d48cc2803c3b573.pt                      None   \n",
       "44573  45490b44eab46e6c55b9db2e2fddebba.pt  you got this by thepaper   \n",
       "44575  6416c3089f405d5ff3ef13d329d56694.pt                      None   \n",
       "44576  39ba1481c3d87a7feaf269ab5b2166c5.pt                      None   \n",
       "\n",
       "                                                   image title  \\\n",
       "44568  https://cdn-icons-png.freepik.com/512/5265/526...   NaN   \n",
       "44572  https://cdn-icons-png.freepik.com/512/9237/923...   NaN   \n",
       "44573  https://cdn-icons-png.freepik.com/512/7234/723...   NaN   \n",
       "44575  https://cdn-icons-png.freepik.com/512/13560/13...   NaN   \n",
       "44576  https://cdn-icons-png.freepik.com/512/5700/570...   NaN   \n",
       "\n",
       "                                                    tags  \\\n",
       "44568     1+ tags, acorn, autumn, fall, nature, nut, oak   \n",
       "44572  forgiveness, lettering, miscellaneous, text, t...   \n",
       "44573  1+ tags, letter, lettering, sticker, stickers,...   \n",
       "44575  chef, cooking, kitchen utensils, kitchenware, ...   \n",
       "44576  1+ tags, dress, fashion, follower, marketing, ...   \n",
       "\n",
       "                                      merged_description  \\\n",
       "44568  Tags: 1+ tags, acorn, autumn, fall, nature, nu...   \n",
       "44572  Tags: forgiveness, lettering, miscellaneous, t...   \n",
       "44573  you got this by thepaper Tags: 1+ tags, letter...   \n",
       "44575  Tags: chef, cooking, kitchen utensils, kitchen...   \n",
       "44576  Tags: 1+ tags, dress, fashion, follower, marke...   \n",
       "\n",
       "                                      combined_embedding  \\\n",
       "44568  [0.016550789, -0.01920497, 0.02788188, 0.01634...   \n",
       "44572  [-0.010662382, 0.06505608, 0.0015260449, -0.04...   \n",
       "44573  [-0.06165752, 0.03242149, -0.033661354, 0.0193...   \n",
       "44575  [-0.02658946, -0.0327129, -0.044376384, 0.0242...   \n",
       "44576  [0.0001645737, -0.07497659, -0.041260988, 0.00...   \n",
       "\n",
       "                                              image_path  \n",
       "44568  ../data/tensor_images/FreepikStickers/e774c692...  \n",
       "44572  ../data/tensor_images/FreepikStickers/45315ce4...  \n",
       "44573  ../data/tensor_images/FreepikStickers/45490b44...  \n",
       "44575  ../data/tensor_images/FreepikStickers/6416c308...  \n",
       "44576  ../data/tensor_images/FreepikStickers/39ba1481...  "
      ],
      "text/html": [
       "<div>\n",
       "<style scoped>\n",
       "    .dataframe tbody tr th:only-of-type {\n",
       "        vertical-align: middle;\n",
       "    }\n",
       "\n",
       "    .dataframe tbody tr th {\n",
       "        vertical-align: top;\n",
       "    }\n",
       "\n",
       "    .dataframe thead th {\n",
       "        text-align: right;\n",
       "    }\n",
       "</style>\n",
       "<table border=\"1\" class=\"dataframe\">\n",
       "  <thead>\n",
       "    <tr style=\"text-align: right;\">\n",
       "      <th></th>\n",
       "      <th>filename</th>\n",
       "      <th>description</th>\n",
       "      <th>image</th>\n",
       "      <th>title</th>\n",
       "      <th>tags</th>\n",
       "      <th>merged_description</th>\n",
       "      <th>combined_embedding</th>\n",
       "      <th>image_path</th>\n",
       "    </tr>\n",
       "  </thead>\n",
       "  <tbody>\n",
       "    <tr>\n",
       "      <th>44568</th>\n",
       "      <td>e774c692161b72d9aec20c3fbf428cd3.pt</td>\n",
       "      <td>None</td>\n",
       "      <td>https://cdn-icons-png.freepik.com/512/5265/526...</td>\n",
       "      <td>NaN</td>\n",
       "      <td>1+ tags, acorn, autumn, fall, nature, nut, oak</td>\n",
       "      <td>Tags: 1+ tags, acorn, autumn, fall, nature, nu...</td>\n",
       "      <td>[0.016550789, -0.01920497, 0.02788188, 0.01634...</td>\n",
       "      <td>../data/tensor_images/FreepikStickers/e774c692...</td>\n",
       "    </tr>\n",
       "    <tr>\n",
       "      <th>44572</th>\n",
       "      <td>45315ce4e6c47ea63d48cc2803c3b573.pt</td>\n",
       "      <td>None</td>\n",
       "      <td>https://cdn-icons-png.freepik.com/512/9237/923...</td>\n",
       "      <td>NaN</td>\n",
       "      <td>forgiveness, lettering, miscellaneous, text, t...</td>\n",
       "      <td>Tags: forgiveness, lettering, miscellaneous, t...</td>\n",
       "      <td>[-0.010662382, 0.06505608, 0.0015260449, -0.04...</td>\n",
       "      <td>../data/tensor_images/FreepikStickers/45315ce4...</td>\n",
       "    </tr>\n",
       "    <tr>\n",
       "      <th>44573</th>\n",
       "      <td>45490b44eab46e6c55b9db2e2fddebba.pt</td>\n",
       "      <td>you got this by thepaper</td>\n",
       "      <td>https://cdn-icons-png.freepik.com/512/7234/723...</td>\n",
       "      <td>NaN</td>\n",
       "      <td>1+ tags, letter, lettering, sticker, stickers,...</td>\n",
       "      <td>you got this by thepaper Tags: 1+ tags, letter...</td>\n",
       "      <td>[-0.06165752, 0.03242149, -0.033661354, 0.0193...</td>\n",
       "      <td>../data/tensor_images/FreepikStickers/45490b44...</td>\n",
       "    </tr>\n",
       "    <tr>\n",
       "      <th>44575</th>\n",
       "      <td>6416c3089f405d5ff3ef13d329d56694.pt</td>\n",
       "      <td>None</td>\n",
       "      <td>https://cdn-icons-png.freepik.com/512/13560/13...</td>\n",
       "      <td>NaN</td>\n",
       "      <td>chef, cooking, kitchen utensils, kitchenware, ...</td>\n",
       "      <td>Tags: chef, cooking, kitchen utensils, kitchen...</td>\n",
       "      <td>[-0.02658946, -0.0327129, -0.044376384, 0.0242...</td>\n",
       "      <td>../data/tensor_images/FreepikStickers/6416c308...</td>\n",
       "    </tr>\n",
       "    <tr>\n",
       "      <th>44576</th>\n",
       "      <td>39ba1481c3d87a7feaf269ab5b2166c5.pt</td>\n",
       "      <td>None</td>\n",
       "      <td>https://cdn-icons-png.freepik.com/512/5700/570...</td>\n",
       "      <td>NaN</td>\n",
       "      <td>1+ tags, dress, fashion, follower, marketing, ...</td>\n",
       "      <td>Tags: 1+ tags, dress, fashion, follower, marke...</td>\n",
       "      <td>[0.0001645737, -0.07497659, -0.041260988, 0.00...</td>\n",
       "      <td>../data/tensor_images/FreepikStickers/39ba1481...</td>\n",
       "    </tr>\n",
       "  </tbody>\n",
       "</table>\n",
       "</div>"
      ]
     },
     "execution_count": 26,
     "metadata": {},
     "output_type": "execute_result"
    }
   ],
   "execution_count": 26
  },
  {
   "metadata": {
    "ExecuteTime": {
     "end_time": "2025-02-16T06:58:36.348483Z",
     "start_time": "2025-02-16T06:58:36.318889Z"
    }
   },
   "cell_type": "code",
   "source": "final_df.info()",
   "id": "1a4c12aa4d406c33",
   "outputs": [
    {
     "name": "stdout",
     "output_type": "stream",
     "text": [
      "<class 'pandas.core.frame.DataFrame'>\n",
      "Index: 38807 entries, 0 to 44576\n",
      "Data columns (total 8 columns):\n",
      " #   Column              Non-Null Count  Dtype \n",
      "---  ------              --------------  ----- \n",
      " 0   filename            38807 non-null  object\n",
      " 1   description         26858 non-null  object\n",
      " 2   image               35101 non-null  object\n",
      " 3   title               27135 non-null  object\n",
      " 4   tags                38807 non-null  object\n",
      " 5   merged_description  38807 non-null  object\n",
      " 6   combined_embedding  38807 non-null  object\n",
      " 7   image_path          38807 non-null  object\n",
      "dtypes: object(8)\n",
      "memory usage: 2.7+ MB\n"
     ]
    }
   ],
   "execution_count": 27
  },
  {
   "metadata": {
    "ExecuteTime": {
     "end_time": "2025-02-16T06:58:38.794806Z",
     "start_time": "2025-02-16T06:58:38.498209Z"
    }
   },
   "cell_type": "code",
   "source": "final_df[['combined_embedding', 'image_path']].to_parquet('../data/processed_sticker_dataset.parquet', index=False)",
   "id": "908903dc82f72663",
   "outputs": [],
   "execution_count": 28
  },
  {
   "metadata": {},
   "cell_type": "code",
   "outputs": [],
   "execution_count": null,
   "source": "",
   "id": "f6df88f9d460d390"
  }
 ],
 "metadata": {
  "kernelspec": {
   "display_name": "Python 3",
   "language": "python",
   "name": "python3"
  },
  "language_info": {
   "codemirror_mode": {
    "name": "ipython",
    "version": 2
   },
   "file_extension": ".py",
   "mimetype": "text/x-python",
   "name": "python",
   "nbconvert_exporter": "python",
   "pygments_lexer": "ipython2",
   "version": "2.7.6"
  }
 },
 "nbformat": 4,
 "nbformat_minor": 5
}
