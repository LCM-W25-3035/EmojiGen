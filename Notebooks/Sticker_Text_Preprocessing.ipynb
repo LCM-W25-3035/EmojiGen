{
 "cells": [
  {
   "cell_type": "code",
   "id": "initial_id",
   "metadata": {
    "collapsed": true,
    "ExecuteTime": {
     "end_time": "2025-02-13T13:48:50.404735Z",
     "start_time": "2025-02-13T13:48:44.406052Z"
    }
   },
   "source": [
    "import pandas as pd\n",
    "import numpy as np\n",
    "import os\n",
    "import re\n",
    "from tqdm import tqdm\n",
    "import torch\n",
    "from sentence_transformers import SentenceTransformer\n",
    "\n",
    "# Apply tqdm to all .apply() functions by using progress_apply\n",
    "tqdm.pandas()"
   ],
   "outputs": [],
   "execution_count": 1
  },
  {
   "metadata": {
    "ExecuteTime": {
     "end_time": "2025-02-13T13:49:08.159030Z",
     "start_time": "2025-02-13T13:49:08.135812Z"
    }
   },
   "cell_type": "code",
   "source": [
    "# Use GPU if available\n",
    "\"\"\"\n",
    "Reference: https://pytorch.org/get-started/locally/\n",
    "\"\"\"\n",
    "\n",
    "# Check for NVIDIA GPU\n",
    "if torch.cuda.is_available():\n",
    "    device = torch.device(\"cuda\")  # Use CUDA (NVIDIA GPU)\n",
    "    print(\"Using NVIDIA GPU (CUDA)\")\n",
    "\n",
    "# Check for Mac Silicon GPU (MPS)\n",
    "elif torch.backends.mps.is_available():\n",
    "    device = torch.device(\"mps\")  # Use Metal Performance Shaders (Mac Silicon GPU)\n",
    "    print(\"Using Mac GPU (MPS)\")\n",
    "\n",
    "# Default to CPU if no GPU is available\n",
    "else:\n",
    "    device = torch.device(\"cpu\")\n",
    "    print(\"Using CPU\")"
   ],
   "id": "e5b5b3d459d9c4e0",
   "outputs": [
    {
     "name": "stdout",
     "output_type": "stream",
     "text": [
      "Using Mac GPU (MPS)\n"
     ]
    }
   ],
   "execution_count": 2
  },
  {
   "metadata": {
    "ExecuteTime": {
     "end_time": "2025-02-13T13:51:23.825842Z",
     "start_time": "2025-02-13T13:51:23.743046Z"
    }
   },
   "cell_type": "code",
   "source": [
    "# Reading the dataset\n",
    "alexator_df = pd.read_csv('../data/Alexator/alexator_stickers_desc.csv')\n",
    "flaticon_df = pd.read_csv('../data/flaticon/flaticon_stickers_desc.csv')\n",
    "freepik_df = pd.read_csv('../data/freepik/freepik_stickers_desc.csv')"
   ],
   "id": "3243e2d8217b127c",
   "outputs": [],
   "execution_count": 6
  },
  {
   "metadata": {
    "ExecuteTime": {
     "end_time": "2025-02-13T13:52:37.583390Z",
     "start_time": "2025-02-13T13:52:37.573251Z"
    }
   },
   "cell_type": "code",
   "source": "alexator_df.info()",
   "id": "eaca7f30e6a351c5",
   "outputs": [
    {
     "name": "stdout",
     "output_type": "stream",
     "text": [
      "<class 'pandas.core.frame.DataFrame'>\n",
      "RangeIndex: 4331 entries, 0 to 4330\n",
      "Data columns (total 2 columns):\n",
      " #   Column       Non-Null Count  Dtype \n",
      "---  ------       --------------  ----- \n",
      " 0   filename     4331 non-null   object\n",
      " 1   description  4331 non-null   object\n",
      "dtypes: object(2)\n",
      "memory usage: 67.8+ KB\n"
     ]
    }
   ],
   "execution_count": 7
  },
  {
   "metadata": {
    "ExecuteTime": {
     "end_time": "2025-02-13T13:52:58.660275Z",
     "start_time": "2025-02-13T13:52:58.651755Z"
    }
   },
   "cell_type": "code",
   "source": "flaticon_df.info()",
   "id": "eaa42cff99080a21",
   "outputs": [
    {
     "name": "stdout",
     "output_type": "stream",
     "text": [
      "<class 'pandas.core.frame.DataFrame'>\n",
      "RangeIndex: 30402 entries, 0 to 30401\n",
      "Data columns (total 5 columns):\n",
      " #   Column       Non-Null Count  Dtype \n",
      "---  ------       --------------  ----- \n",
      " 0   image        30402 non-null  object\n",
      " 1   title        30402 non-null  object\n",
      " 2   tags         30402 non-null  object\n",
      " 3   filename     30402 non-null  object\n",
      " 4   description  30402 non-null  object\n",
      "dtypes: object(5)\n",
      "memory usage: 1.2+ MB\n"
     ]
    }
   ],
   "execution_count": 8
  },
  {
   "metadata": {
    "ExecuteTime": {
     "end_time": "2025-02-13T13:53:01.403453Z",
     "start_time": "2025-02-13T13:53:01.393666Z"
    }
   },
   "cell_type": "code",
   "source": "freepik_df.info()",
   "id": "212569a49f67fe6b",
   "outputs": [
    {
     "name": "stdout",
     "output_type": "stream",
     "text": [
      "<class 'pandas.core.frame.DataFrame'>\n",
      "RangeIndex: 9844 entries, 0 to 9843\n",
      "Data columns (total 5 columns):\n",
      " #   Column       Non-Null Count  Dtype  \n",
      "---  ------       --------------  -----  \n",
      " 0   title        0 non-null      float64\n",
      " 1   tags         9814 non-null   object \n",
      " 2   image        9844 non-null   object \n",
      " 3   filename     9844 non-null   object \n",
      " 4   description  9844 non-null   object \n",
      "dtypes: float64(1), object(4)\n",
      "memory usage: 384.7+ KB\n"
     ]
    }
   ],
   "execution_count": 9
  },
  {
   "metadata": {
    "ExecuteTime": {
     "end_time": "2025-02-13T13:53:16.484240Z",
     "start_time": "2025-02-13T13:53:16.471252Z"
    }
   },
   "cell_type": "code",
   "source": [
    "# Concatenate the DataFrames row-wise\n",
    "merged_df = pd.concat([alexator_df, flaticon_df, freepik_df], ignore_index=True)\n",
    "\n",
    "# Display the concatenated DataFrame\n",
    "merged_df.info()"
   ],
   "id": "eacf52d9582f0f7d",
   "outputs": [
    {
     "name": "stdout",
     "output_type": "stream",
     "text": [
      "<class 'pandas.core.frame.DataFrame'>\n",
      "RangeIndex: 44577 entries, 0 to 44576\n",
      "Data columns (total 5 columns):\n",
      " #   Column       Non-Null Count  Dtype \n",
      "---  ------       --------------  ----- \n",
      " 0   filename     44577 non-null  object\n",
      " 1   description  44577 non-null  object\n",
      " 2   image        40246 non-null  object\n",
      " 3   title        30402 non-null  object\n",
      " 4   tags         40216 non-null  object\n",
      "dtypes: object(5)\n",
      "memory usage: 1.7+ MB\n"
     ]
    }
   ],
   "execution_count": 10
  },
  {
   "metadata": {},
   "cell_type": "markdown",
   "source": "## Handling duplicates in description and tags combination\n",
   "id": "720bf77b66e3e2e1"
  },
  {
   "metadata": {
    "ExecuteTime": {
     "end_time": "2025-02-13T13:54:01.360600Z",
     "start_time": "2025-02-13T13:54:01.285422Z"
    }
   },
   "cell_type": "code",
   "source": [
    "# Replace duplicate descriptions with Null (Because most of them don't make sense and are incorrect)\n",
    "duplicate_descriptions = merged_df['description'].duplicated(keep=False)\n",
    "merged_df.loc[duplicate_descriptions, 'description'] = None\n",
    "\n",
    "\"\"\"Some generated descriptions have errors such as \"a big boy boy boy boy boy....\"\n",
    "So, we want to remove such descriptions that have incorrect descriptions\n",
    "\"\"\"\n",
    "\n",
    "\"\"\"\n",
    "Reference: ChatGPT-4o\n",
    "Prompt:  I need to check for a certain type of error and remove those rows in my dataframe. The error is that in some description, certain words are repeated multiple time consecutively. Example: \"happy man with two polar polar polar polar polar polar polar polar polar polar polar polar polar polar polar polar polar\"\n",
    "\"\"\"\n",
    "# Replace descriptions with repeated words with Null\n",
    "def has_repeated_words(text):\n",
    "    if not text or pd.isna(text):  # Skip null or empty strings\n",
    "        return False\n",
    "    \n",
    "    # Regex to find words repeated consecutively at least 3 times (case insensitive)\n",
    "    pattern = r'\\b(\\w+)(?:\\s+\\1){2,}\\b'\n",
    "    return bool(re.search(pattern, text, re.IGNORECASE))\n",
    "\n",
    "merged_df.loc[merged_df['description'].apply(has_repeated_words), 'description'] = None\n",
    "\n",
    "# Remove rows with exact same tags AND description, keeping the first occurrence (We don't want different immages with same details)\n",
    "cleaned_df = merged_df.drop_duplicates(subset=['tags', 'description'], keep='first')\n",
    "\n",
    "# Check the new number of rows\n",
    "print(f\"Number of rows after removing rows with exact same tags and descriptions: {cleaned_df.shape[0]}\")"
   ],
   "id": "aaa3105afa9166ba",
   "outputs": [
    {
     "name": "stdout",
     "output_type": "stream",
     "text": [
      "Number of rows after removing rows with exact same tags and descriptions: 38807\n"
     ]
    }
   ],
   "execution_count": 11
  },
  {
   "metadata": {
    "ExecuteTime": {
     "end_time": "2025-02-13T13:55:06.942513Z",
     "start_time": "2025-02-13T13:55:06.933085Z"
    }
   },
   "cell_type": "code",
   "source": "cleaned_df.info()",
   "id": "d97176fdcec6e41a",
   "outputs": [
    {
     "name": "stdout",
     "output_type": "stream",
     "text": [
      "<class 'pandas.core.frame.DataFrame'>\n",
      "Index: 38807 entries, 0 to 44576\n",
      "Data columns (total 5 columns):\n",
      " #   Column       Non-Null Count  Dtype \n",
      "---  ------       --------------  ----- \n",
      " 0   filename     38807 non-null  object\n",
      " 1   description  26858 non-null  object\n",
      " 2   image        35101 non-null  object\n",
      " 3   title        27135 non-null  object\n",
      " 4   tags         35091 non-null  object\n",
      "dtypes: object(5)\n",
      "memory usage: 1.8+ MB\n"
     ]
    }
   ],
   "execution_count": 12
  },
  {
   "metadata": {},
   "cell_type": "markdown",
   "source": "## Handling Tags and Descriptions",
   "id": "1dab23f567f3cc3"
  },
  {
   "metadata": {
    "ExecuteTime": {
     "end_time": "2025-02-13T13:55:43.477067Z",
     "start_time": "2025-02-13T13:55:43.473276Z"
    }
   },
   "cell_type": "code",
   "source": [
    "def remove_duplicates(text):\n",
    "    if not isinstance(text, str) or pd.isna(text) or text.strip().lower() == \"nan\":  \n",
    "        return \"\"  # Return empty string for NaN or \"nan\" strings\n",
    "    words = [word.strip() for word in text.split(\",\")]  # Split by commas and strip spaces\n",
    "    unique_words = sorted(set(word.strip() for word in text.split(\",\")))\n",
    "    return ', '.join(unique_words)  # Join back into a string"
   ],
   "id": "79e0e24323ced210",
   "outputs": [],
   "execution_count": 13
  },
  {
   "metadata": {
    "ExecuteTime": {
     "end_time": "2025-02-13T13:55:47.912270Z",
     "start_time": "2025-02-13T13:55:47.813904Z"
    }
   },
   "cell_type": "code",
   "source": [
    "# Remove duplicates\n",
    "final_df = cleaned_df.copy()\n",
    "final_df[\"tags\"] = final_df[\"tags\"].progress_apply(remove_duplicates)"
   ],
   "id": "ab567bbf0bba6630",
   "outputs": [
    {
     "name": "stderr",
     "output_type": "stream",
     "text": [
      "100%|██████████| 38807/38807 [00:00<00:00, 502343.56it/s]\n"
     ]
    }
   ],
   "execution_count": 14
  },
  {
   "metadata": {},
   "cell_type": "code",
   "outputs": [],
   "execution_count": null,
   "source": "### Need to conduct spelling correction in description column here as well",
   "id": "621316ad705b04a"
  },
  {
   "metadata": {},
   "cell_type": "markdown",
   "source": "## Embedding using Sentence BERT",
   "id": "3fe49ea25a063e30"
  },
  {
   "metadata": {
    "ExecuteTime": {
     "end_time": "2025-02-13T13:57:20.663966Z",
     "start_time": "2025-02-13T13:57:19.167619Z"
    }
   },
   "cell_type": "code",
   "source": [
    "# Load SBERT model\n",
    "sbert_model = SentenceTransformer('all-MiniLM-L6-v2')\n",
    "sbert_model = sbert_model.to(device)\n",
    "\n",
    "# Return SBERT embedding for a given text.\n",
    "def embed_text(text):\n",
    "    if pd.isna(text) or text.strip() == \"\":\n",
    "        return np.zeros(384)  # Return zero vector for missing values (SBERT output size = 384)\n",
    "    return sbert_model.encode(text)"
   ],
   "id": "730ea9d04cda84e5",
   "outputs": [],
   "execution_count": 15
  },
  {
   "metadata": {
    "ExecuteTime": {
     "end_time": "2025-02-13T14:06:53.936588Z",
     "start_time": "2025-02-13T13:57:33.441151Z"
    }
   },
   "cell_type": "code",
   "source": [
    "\"\"\"\n",
    "Reference: https://sbert.net/\n",
    "\"\"\"\n",
    "\n",
    "# Apply SBERT embeddings to each columns\n",
    "print(\"Embedding tags...\")\n",
    "final_df[\"tags_embedding\"] = final_df[\"tags\"].progress_apply(embed_text)\n",
    "\n",
    "print(\"Embedding llm_description...\")\n",
    "final_df[\"description_embedding\"] = final_df[\"description\"].progress_apply(embed_text)"
   ],
   "id": "af47bf3aa4b70804",
   "outputs": [
    {
     "name": "stdout",
     "output_type": "stream",
     "text": [
      "Embedding tags...\n"
     ]
    },
    {
     "name": "stderr",
     "output_type": "stream",
     "text": [
      "100%|██████████| 38807/38807 [05:29<00:00, 117.73it/s]\n"
     ]
    },
    {
     "name": "stdout",
     "output_type": "stream",
     "text": [
      "Embedding llm_description...\n"
     ]
    },
    {
     "name": "stderr",
     "output_type": "stream",
     "text": [
      "100%|██████████| 38807/38807 [03:50<00:00, 168.09it/s]\n"
     ]
    }
   ],
   "execution_count": 16
  },
  {
   "metadata": {
    "ExecuteTime": {
     "end_time": "2025-02-13T14:07:08.022021Z",
     "start_time": "2025-02-13T14:07:07.819939Z"
    }
   },
   "cell_type": "code",
   "source": [
    "# Combining the embeddings\n",
    "final_df[\"combined_embedding\"] = final_df.apply(\n",
    "    lambda row: np.concatenate([row[\"tags_embedding\"], row[\"description_embedding\"]]), axis=1\n",
    ")"
   ],
   "id": "e9743d59ccb651dd",
   "outputs": [],
   "execution_count": 17
  },
  {
   "metadata": {},
   "cell_type": "markdown",
   "source": "## Linking Images",
   "id": "767036b823678f24"
  },
  {
   "metadata": {
    "ExecuteTime": {
     "end_time": "2025-02-13T14:08:37.926008Z",
     "start_time": "2025-02-13T14:08:37.893524Z"
    }
   },
   "cell_type": "code",
   "source": "final_df.head()",
   "id": "6ef2e77f11faf36",
   "outputs": [
    {
     "data": {
      "text/plain": [
       "                     filename                                    description  \\\n",
       "0     cartoonized_image_0.png          a red mailbox with a white background   \n",
       "1     cartoonized_image_1.png                             an old car sticker   \n",
       "2    cartoonized_image_10.png                                           None   \n",
       "3   cartoonized_image_100.png  a sticker with a cartoon pine wearing glasses   \n",
       "4  cartoonized_image_1000.png  a stained stained glass window with a humming   \n",
       "\n",
       "  image title tags                                     tags_embedding  \\\n",
       "0   NaN   NaN       [0.0, 0.0, 0.0, 0.0, 0.0, 0.0, 0.0, 0.0, 0.0, ...   \n",
       "1   NaN   NaN       [0.0, 0.0, 0.0, 0.0, 0.0, 0.0, 0.0, 0.0, 0.0, ...   \n",
       "2   NaN   NaN       [0.0, 0.0, 0.0, 0.0, 0.0, 0.0, 0.0, 0.0, 0.0, ...   \n",
       "3   NaN   NaN       [0.0, 0.0, 0.0, 0.0, 0.0, 0.0, 0.0, 0.0, 0.0, ...   \n",
       "4   NaN   NaN       [0.0, 0.0, 0.0, 0.0, 0.0, 0.0, 0.0, 0.0, 0.0, ...   \n",
       "\n",
       "                               description_embedding  \\\n",
       "0  [0.0561504, 0.067848064, -0.033429544, 0.03755...   \n",
       "1  [-0.124234326, 0.07463956, -0.011985364, 0.004...   \n",
       "2  [0.0, 0.0, 0.0, 0.0, 0.0, 0.0, 0.0, 0.0, 0.0, ...   \n",
       "3  [-0.0649543, -0.042927157, 0.01316438, 0.02203...   \n",
       "4  [0.027918248, 0.075559385, 0.036227107, -0.018...   \n",
       "\n",
       "                                  combined_embedding  \n",
       "0  [0.0, 0.0, 0.0, 0.0, 0.0, 0.0, 0.0, 0.0, 0.0, ...  \n",
       "1  [0.0, 0.0, 0.0, 0.0, 0.0, 0.0, 0.0, 0.0, 0.0, ...  \n",
       "2  [0.0, 0.0, 0.0, 0.0, 0.0, 0.0, 0.0, 0.0, 0.0, ...  \n",
       "3  [0.0, 0.0, 0.0, 0.0, 0.0, 0.0, 0.0, 0.0, 0.0, ...  \n",
       "4  [0.0, 0.0, 0.0, 0.0, 0.0, 0.0, 0.0, 0.0, 0.0, ...  "
      ],
      "text/html": [
       "<div>\n",
       "<style scoped>\n",
       "    .dataframe tbody tr th:only-of-type {\n",
       "        vertical-align: middle;\n",
       "    }\n",
       "\n",
       "    .dataframe tbody tr th {\n",
       "        vertical-align: top;\n",
       "    }\n",
       "\n",
       "    .dataframe thead th {\n",
       "        text-align: right;\n",
       "    }\n",
       "</style>\n",
       "<table border=\"1\" class=\"dataframe\">\n",
       "  <thead>\n",
       "    <tr style=\"text-align: right;\">\n",
       "      <th></th>\n",
       "      <th>filename</th>\n",
       "      <th>description</th>\n",
       "      <th>image</th>\n",
       "      <th>title</th>\n",
       "      <th>tags</th>\n",
       "      <th>tags_embedding</th>\n",
       "      <th>description_embedding</th>\n",
       "      <th>combined_embedding</th>\n",
       "    </tr>\n",
       "  </thead>\n",
       "  <tbody>\n",
       "    <tr>\n",
       "      <th>0</th>\n",
       "      <td>cartoonized_image_0.png</td>\n",
       "      <td>a red mailbox with a white background</td>\n",
       "      <td>NaN</td>\n",
       "      <td>NaN</td>\n",
       "      <td></td>\n",
       "      <td>[0.0, 0.0, 0.0, 0.0, 0.0, 0.0, 0.0, 0.0, 0.0, ...</td>\n",
       "      <td>[0.0561504, 0.067848064, -0.033429544, 0.03755...</td>\n",
       "      <td>[0.0, 0.0, 0.0, 0.0, 0.0, 0.0, 0.0, 0.0, 0.0, ...</td>\n",
       "    </tr>\n",
       "    <tr>\n",
       "      <th>1</th>\n",
       "      <td>cartoonized_image_1.png</td>\n",
       "      <td>an old car sticker</td>\n",
       "      <td>NaN</td>\n",
       "      <td>NaN</td>\n",
       "      <td></td>\n",
       "      <td>[0.0, 0.0, 0.0, 0.0, 0.0, 0.0, 0.0, 0.0, 0.0, ...</td>\n",
       "      <td>[-0.124234326, 0.07463956, -0.011985364, 0.004...</td>\n",
       "      <td>[0.0, 0.0, 0.0, 0.0, 0.0, 0.0, 0.0, 0.0, 0.0, ...</td>\n",
       "    </tr>\n",
       "    <tr>\n",
       "      <th>2</th>\n",
       "      <td>cartoonized_image_10.png</td>\n",
       "      <td>None</td>\n",
       "      <td>NaN</td>\n",
       "      <td>NaN</td>\n",
       "      <td></td>\n",
       "      <td>[0.0, 0.0, 0.0, 0.0, 0.0, 0.0, 0.0, 0.0, 0.0, ...</td>\n",
       "      <td>[0.0, 0.0, 0.0, 0.0, 0.0, 0.0, 0.0, 0.0, 0.0, ...</td>\n",
       "      <td>[0.0, 0.0, 0.0, 0.0, 0.0, 0.0, 0.0, 0.0, 0.0, ...</td>\n",
       "    </tr>\n",
       "    <tr>\n",
       "      <th>3</th>\n",
       "      <td>cartoonized_image_100.png</td>\n",
       "      <td>a sticker with a cartoon pine wearing glasses</td>\n",
       "      <td>NaN</td>\n",
       "      <td>NaN</td>\n",
       "      <td></td>\n",
       "      <td>[0.0, 0.0, 0.0, 0.0, 0.0, 0.0, 0.0, 0.0, 0.0, ...</td>\n",
       "      <td>[-0.0649543, -0.042927157, 0.01316438, 0.02203...</td>\n",
       "      <td>[0.0, 0.0, 0.0, 0.0, 0.0, 0.0, 0.0, 0.0, 0.0, ...</td>\n",
       "    </tr>\n",
       "    <tr>\n",
       "      <th>4</th>\n",
       "      <td>cartoonized_image_1000.png</td>\n",
       "      <td>a stained stained glass window with a humming</td>\n",
       "      <td>NaN</td>\n",
       "      <td>NaN</td>\n",
       "      <td></td>\n",
       "      <td>[0.0, 0.0, 0.0, 0.0, 0.0, 0.0, 0.0, 0.0, 0.0, ...</td>\n",
       "      <td>[0.027918248, 0.075559385, 0.036227107, -0.018...</td>\n",
       "      <td>[0.0, 0.0, 0.0, 0.0, 0.0, 0.0, 0.0, 0.0, 0.0, ...</td>\n",
       "    </tr>\n",
       "  </tbody>\n",
       "</table>\n",
       "</div>"
      ]
     },
     "execution_count": 18,
     "metadata": {},
     "output_type": "execute_result"
    }
   ],
   "execution_count": 18
  },
  {
   "metadata": {
    "ExecuteTime": {
     "end_time": "2025-02-13T14:09:17.818187Z",
     "start_time": "2025-02-13T14:09:17.805382Z"
    }
   },
   "cell_type": "code",
   "source": [
    "# Change file extensions from .png to .pt in the 'filename' column\n",
    "final_df['filename'] = final_df['filename'].str.replace('.png', '.pt', regex=False)\n",
    "\n",
    "# Display the first few rows to verify changes\n",
    "final_df['filename'].head()"
   ],
   "id": "e55aa20576cee0e",
   "outputs": [
    {
     "data": {
      "text/plain": [
       "0       cartoonized_image_0.pt\n",
       "1       cartoonized_image_1.pt\n",
       "2      cartoonized_image_10.pt\n",
       "3     cartoonized_image_100.pt\n",
       "4    cartoonized_image_1000.pt\n",
       "Name: filename, dtype: object"
      ]
     },
     "execution_count": 19,
     "metadata": {},
     "output_type": "execute_result"
    }
   ],
   "execution_count": 19
  },
  {
   "metadata": {
    "ExecuteTime": {
     "end_time": "2025-02-13T14:09:23.990956Z",
     "start_time": "2025-02-13T14:09:23.809837Z"
    }
   },
   "cell_type": "code",
   "source": [
    "# Define the base directory and folders to search in\n",
    "base_dir = \"../data/tensor_images/\"\n",
    "folders = [\"AlexatorStickers\", \"FlaticonStickers\", \"FreepikStickers\"]\n",
    "\n",
    "# Function to find the file path for a given filename\n",
    "def find_image_path(filename):\n",
    "    # Loop through each folder\n",
    "    for folder in folders:\n",
    "        # Construct full path\n",
    "        full_path = os.path.join(base_dir, folder, filename)\n",
    "        # Check if file exists at this path\n",
    "        if os.path.exists(full_path):\n",
    "            return full_path\n",
    "    # Return None if file not found in any folder\n",
    "    return None\n",
    "\n",
    "# Create the new column by applying the function to the filename column\n",
    "final_df['image_path'] = final_df['filename'].progress_apply(find_image_path)\n",
    "\n",
    "# Display a sample of the DataFrame to verify\n",
    "final_df.head()"
   ],
   "id": "65cea0714e1cd7bf",
   "outputs": [
    {
     "name": "stderr",
     "output_type": "stream",
     "text": [
      "100%|██████████| 38807/38807 [00:00<00:00, 228222.60it/s]\n"
     ]
    },
    {
     "data": {
      "text/plain": [
       "                    filename                                    description  \\\n",
       "0     cartoonized_image_0.pt          a red mailbox with a white background   \n",
       "1     cartoonized_image_1.pt                             an old car sticker   \n",
       "2    cartoonized_image_10.pt                                           None   \n",
       "3   cartoonized_image_100.pt  a sticker with a cartoon pine wearing glasses   \n",
       "4  cartoonized_image_1000.pt  a stained stained glass window with a humming   \n",
       "\n",
       "  image title tags                                     tags_embedding  \\\n",
       "0   NaN   NaN       [0.0, 0.0, 0.0, 0.0, 0.0, 0.0, 0.0, 0.0, 0.0, ...   \n",
       "1   NaN   NaN       [0.0, 0.0, 0.0, 0.0, 0.0, 0.0, 0.0, 0.0, 0.0, ...   \n",
       "2   NaN   NaN       [0.0, 0.0, 0.0, 0.0, 0.0, 0.0, 0.0, 0.0, 0.0, ...   \n",
       "3   NaN   NaN       [0.0, 0.0, 0.0, 0.0, 0.0, 0.0, 0.0, 0.0, 0.0, ...   \n",
       "4   NaN   NaN       [0.0, 0.0, 0.0, 0.0, 0.0, 0.0, 0.0, 0.0, 0.0, ...   \n",
       "\n",
       "                               description_embedding  \\\n",
       "0  [0.0561504, 0.067848064, -0.033429544, 0.03755...   \n",
       "1  [-0.124234326, 0.07463956, -0.011985364, 0.004...   \n",
       "2  [0.0, 0.0, 0.0, 0.0, 0.0, 0.0, 0.0, 0.0, 0.0, ...   \n",
       "3  [-0.0649543, -0.042927157, 0.01316438, 0.02203...   \n",
       "4  [0.027918248, 0.075559385, 0.036227107, -0.018...   \n",
       "\n",
       "                                  combined_embedding image_path  \n",
       "0  [0.0, 0.0, 0.0, 0.0, 0.0, 0.0, 0.0, 0.0, 0.0, ...       None  \n",
       "1  [0.0, 0.0, 0.0, 0.0, 0.0, 0.0, 0.0, 0.0, 0.0, ...       None  \n",
       "2  [0.0, 0.0, 0.0, 0.0, 0.0, 0.0, 0.0, 0.0, 0.0, ...       None  \n",
       "3  [0.0, 0.0, 0.0, 0.0, 0.0, 0.0, 0.0, 0.0, 0.0, ...       None  \n",
       "4  [0.0, 0.0, 0.0, 0.0, 0.0, 0.0, 0.0, 0.0, 0.0, ...       None  "
      ],
      "text/html": [
       "<div>\n",
       "<style scoped>\n",
       "    .dataframe tbody tr th:only-of-type {\n",
       "        vertical-align: middle;\n",
       "    }\n",
       "\n",
       "    .dataframe tbody tr th {\n",
       "        vertical-align: top;\n",
       "    }\n",
       "\n",
       "    .dataframe thead th {\n",
       "        text-align: right;\n",
       "    }\n",
       "</style>\n",
       "<table border=\"1\" class=\"dataframe\">\n",
       "  <thead>\n",
       "    <tr style=\"text-align: right;\">\n",
       "      <th></th>\n",
       "      <th>filename</th>\n",
       "      <th>description</th>\n",
       "      <th>image</th>\n",
       "      <th>title</th>\n",
       "      <th>tags</th>\n",
       "      <th>tags_embedding</th>\n",
       "      <th>description_embedding</th>\n",
       "      <th>combined_embedding</th>\n",
       "      <th>image_path</th>\n",
       "    </tr>\n",
       "  </thead>\n",
       "  <tbody>\n",
       "    <tr>\n",
       "      <th>0</th>\n",
       "      <td>cartoonized_image_0.pt</td>\n",
       "      <td>a red mailbox with a white background</td>\n",
       "      <td>NaN</td>\n",
       "      <td>NaN</td>\n",
       "      <td></td>\n",
       "      <td>[0.0, 0.0, 0.0, 0.0, 0.0, 0.0, 0.0, 0.0, 0.0, ...</td>\n",
       "      <td>[0.0561504, 0.067848064, -0.033429544, 0.03755...</td>\n",
       "      <td>[0.0, 0.0, 0.0, 0.0, 0.0, 0.0, 0.0, 0.0, 0.0, ...</td>\n",
       "      <td>None</td>\n",
       "    </tr>\n",
       "    <tr>\n",
       "      <th>1</th>\n",
       "      <td>cartoonized_image_1.pt</td>\n",
       "      <td>an old car sticker</td>\n",
       "      <td>NaN</td>\n",
       "      <td>NaN</td>\n",
       "      <td></td>\n",
       "      <td>[0.0, 0.0, 0.0, 0.0, 0.0, 0.0, 0.0, 0.0, 0.0, ...</td>\n",
       "      <td>[-0.124234326, 0.07463956, -0.011985364, 0.004...</td>\n",
       "      <td>[0.0, 0.0, 0.0, 0.0, 0.0, 0.0, 0.0, 0.0, 0.0, ...</td>\n",
       "      <td>None</td>\n",
       "    </tr>\n",
       "    <tr>\n",
       "      <th>2</th>\n",
       "      <td>cartoonized_image_10.pt</td>\n",
       "      <td>None</td>\n",
       "      <td>NaN</td>\n",
       "      <td>NaN</td>\n",
       "      <td></td>\n",
       "      <td>[0.0, 0.0, 0.0, 0.0, 0.0, 0.0, 0.0, 0.0, 0.0, ...</td>\n",
       "      <td>[0.0, 0.0, 0.0, 0.0, 0.0, 0.0, 0.0, 0.0, 0.0, ...</td>\n",
       "      <td>[0.0, 0.0, 0.0, 0.0, 0.0, 0.0, 0.0, 0.0, 0.0, ...</td>\n",
       "      <td>None</td>\n",
       "    </tr>\n",
       "    <tr>\n",
       "      <th>3</th>\n",
       "      <td>cartoonized_image_100.pt</td>\n",
       "      <td>a sticker with a cartoon pine wearing glasses</td>\n",
       "      <td>NaN</td>\n",
       "      <td>NaN</td>\n",
       "      <td></td>\n",
       "      <td>[0.0, 0.0, 0.0, 0.0, 0.0, 0.0, 0.0, 0.0, 0.0, ...</td>\n",
       "      <td>[-0.0649543, -0.042927157, 0.01316438, 0.02203...</td>\n",
       "      <td>[0.0, 0.0, 0.0, 0.0, 0.0, 0.0, 0.0, 0.0, 0.0, ...</td>\n",
       "      <td>None</td>\n",
       "    </tr>\n",
       "    <tr>\n",
       "      <th>4</th>\n",
       "      <td>cartoonized_image_1000.pt</td>\n",
       "      <td>a stained stained glass window with a humming</td>\n",
       "      <td>NaN</td>\n",
       "      <td>NaN</td>\n",
       "      <td></td>\n",
       "      <td>[0.0, 0.0, 0.0, 0.0, 0.0, 0.0, 0.0, 0.0, 0.0, ...</td>\n",
       "      <td>[0.027918248, 0.075559385, 0.036227107, -0.018...</td>\n",
       "      <td>[0.0, 0.0, 0.0, 0.0, 0.0, 0.0, 0.0, 0.0, 0.0, ...</td>\n",
       "      <td>None</td>\n",
       "    </tr>\n",
       "  </tbody>\n",
       "</table>\n",
       "</div>"
      ]
     },
     "execution_count": 20,
     "metadata": {},
     "output_type": "execute_result"
    }
   ],
   "execution_count": 20
  },
  {
   "metadata": {
    "ExecuteTime": {
     "end_time": "2025-02-13T14:09:30.093820Z",
     "start_time": "2025-02-13T14:09:30.068754Z"
    }
   },
   "cell_type": "code",
   "source": "final_df.info()",
   "id": "1a4c12aa4d406c33",
   "outputs": [
    {
     "name": "stdout",
     "output_type": "stream",
     "text": [
      "<class 'pandas.core.frame.DataFrame'>\n",
      "Index: 38807 entries, 0 to 44576\n",
      "Data columns (total 9 columns):\n",
      " #   Column                 Non-Null Count  Dtype \n",
      "---  ------                 --------------  ----- \n",
      " 0   filename               38807 non-null  object\n",
      " 1   description            26858 non-null  object\n",
      " 2   image                  35101 non-null  object\n",
      " 3   title                  27135 non-null  object\n",
      " 4   tags                   38807 non-null  object\n",
      " 5   tags_embedding         38807 non-null  object\n",
      " 6   description_embedding  38807 non-null  object\n",
      " 7   combined_embedding     38807 non-null  object\n",
      " 8   image_path             0 non-null      object\n",
      "dtypes: object(9)\n",
      "memory usage: 3.0+ MB\n"
     ]
    }
   ],
   "execution_count": 21
  },
  {
   "metadata": {},
   "cell_type": "code",
   "outputs": [],
   "execution_count": null,
   "source": "",
   "id": "908903dc82f72663"
  }
 ],
 "metadata": {
  "kernelspec": {
   "display_name": "Python 3",
   "language": "python",
   "name": "python3"
  },
  "language_info": {
   "codemirror_mode": {
    "name": "ipython",
    "version": 2
   },
   "file_extension": ".py",
   "mimetype": "text/x-python",
   "name": "python",
   "nbconvert_exporter": "python",
   "pygments_lexer": "ipython2",
   "version": "2.7.6"
  }
 },
 "nbformat": 4,
 "nbformat_minor": 5
}
